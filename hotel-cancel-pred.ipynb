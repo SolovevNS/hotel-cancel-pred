{
 "cells": [
  {
   "cell_type": "markdown",
   "metadata": {},
   "source": [
    "# Прогнозирование оттока клиентов в сети отелей."
   ]
  },
  {
   "cell_type": "markdown",
   "metadata": {},
   "source": [
    "Задача - разработать модель, которая предсказывает отказ от брони. Уложиться в бюджет. \n",
    "\n",
    "ход работы:\n",
    "\n",
    "- загрузка библиотек\n",
    "- загрузка данных\n",
    "- обзор данных\n",
    "- подготовка и анализ данных\n",
    "- оценка прибыли до внедрения модели\n",
    "- подготовка признаков для ml\n",
    "- построение моделей ml\n",
    "- выбор лучшей модели\n",
    "- выбор признаков не надежного клиента\n",
    "- общий вывод и рекомендации"
   ]
  },
  {
   "cell_type": "markdown",
   "metadata": {},
   "source": [
    "### Импорт и загрузка данных"
   ]
  },
  {
   "cell_type": "code",
   "execution_count": 1,
   "metadata": {
    "scrolled": true
   },
   "outputs": [
    {
     "name": "stdout",
     "output_type": "stream",
     "text": [
      "Requirement already satisfied: scikit-learn in /opt/conda/lib/python3.9/site-packages (1.2.1)\n",
      "Requirement already satisfied: scipy>=1.3.2 in /opt/conda/lib/python3.9/site-packages (from scikit-learn) (1.9.1)\n",
      "Requirement already satisfied: threadpoolctl>=2.0.0 in /opt/conda/lib/python3.9/site-packages (from scikit-learn) (3.1.0)\n",
      "Requirement already satisfied: joblib>=1.1.1 in /opt/conda/lib/python3.9/site-packages (from scikit-learn) (1.2.0)\n",
      "Requirement already satisfied: numpy>=1.17.3 in /opt/conda/lib/python3.9/site-packages (from scikit-learn) (1.21.1)\n",
      "Requirement already satisfied: imbalanced-learn in /opt/conda/lib/python3.9/site-packages (0.10.1)\n",
      "Requirement already satisfied: numpy>=1.17.3 in /opt/conda/lib/python3.9/site-packages (from imbalanced-learn) (1.21.1)\n",
      "Requirement already satisfied: joblib>=1.1.1 in /opt/conda/lib/python3.9/site-packages (from imbalanced-learn) (1.2.0)\n",
      "Requirement already satisfied: scipy>=1.3.2 in /opt/conda/lib/python3.9/site-packages (from imbalanced-learn) (1.9.1)\n",
      "Requirement already satisfied: scikit-learn>=1.0.2 in /opt/conda/lib/python3.9/site-packages (from imbalanced-learn) (1.2.1)\n",
      "Requirement already satisfied: threadpoolctl>=2.0.0 in /opt/conda/lib/python3.9/site-packages (from imbalanced-learn) (3.1.0)\n"
     ]
    }
   ],
   "source": [
    "!pip install scikit-learn --upgrade\n",
    "!pip install -U imbalanced-learn\n",
    "\n",
    "import pandas as pd\n",
    "import numpy as np\n",
    "import seaborn as sns\n",
    "import matplotlib.pyplot as plt\n",
    "import math\n",
    "import warnings\n",
    "\n",
    "from imblearn.pipeline import Pipeline, make_pipeline\n",
    "from imblearn.over_sampling import SMOTE\n",
    "from sklearn.tree import DecisionTreeClassifier\n",
    "from sklearn.ensemble import RandomForestClassifier\n",
    "from sklearn.linear_model import LogisticRegression\n",
    "from sklearn.model_selection import GridSearchCV, StratifiedKFold\n",
    "from sklearn.preprocessing import OneHotEncoder, RobustScaler\n",
    "from sklearn.metrics import recall_score,f1_score\n",
    "from sklearn.utils import shuffle"
   ]
  },
  {
   "cell_type": "code",
   "execution_count": 3,
   "metadata": {},
   "outputs": [],
   "source": [
    "df_train = pd.read_csv('/datasets/hotel_train.csv')\n",
    "\n",
    "df_test = pd.read_csv('/datasets/hotel_test.csv')"
   ]
  },
  {
   "cell_type": "code",
   "execution_count": 4,
   "metadata": {
    "scrolled": false
   },
   "outputs": [
    {
     "data": {
      "text/html": [
       "<div>\n",
       "<style scoped>\n",
       "    .dataframe tbody tr th:only-of-type {\n",
       "        vertical-align: middle;\n",
       "    }\n",
       "\n",
       "    .dataframe tbody tr th {\n",
       "        vertical-align: top;\n",
       "    }\n",
       "\n",
       "    .dataframe thead th {\n",
       "        text-align: right;\n",
       "    }\n",
       "</style>\n",
       "<table border=\"1\" class=\"dataframe\">\n",
       "  <thead>\n",
       "    <tr style=\"text-align: right;\">\n",
       "      <th></th>\n",
       "      <th>id</th>\n",
       "      <th>is_canceled</th>\n",
       "      <th>lead_time</th>\n",
       "      <th>arrival_date_year</th>\n",
       "      <th>arrival_date_month</th>\n",
       "      <th>arrival_date_week_number</th>\n",
       "      <th>arrival_date_day_of_month</th>\n",
       "      <th>stays_in_weekend_nights</th>\n",
       "      <th>stays_in_week_nights</th>\n",
       "      <th>adults</th>\n",
       "      <th>children</th>\n",
       "      <th>babies</th>\n",
       "      <th>meal</th>\n",
       "      <th>country</th>\n",
       "      <th>distribution_channel</th>\n",
       "      <th>is_repeated_guest</th>\n",
       "      <th>previous_cancellations</th>\n",
       "      <th>previous_bookings_not_canceled</th>\n",
       "      <th>reserved_room_type</th>\n",
       "      <th>booking_changes</th>\n",
       "      <th>days_in_waiting_list</th>\n",
       "      <th>customer_type</th>\n",
       "      <th>required_car_parking_spaces</th>\n",
       "      <th>total_of_special_requests</th>\n",
       "      <th>total_nights</th>\n",
       "    </tr>\n",
       "  </thead>\n",
       "  <tbody>\n",
       "    <tr>\n",
       "      <th>3021</th>\n",
       "      <td>3051</td>\n",
       "      <td>1</td>\n",
       "      <td>79.0</td>\n",
       "      <td>2016</td>\n",
       "      <td>March</td>\n",
       "      <td>14</td>\n",
       "      <td>28</td>\n",
       "      <td>1</td>\n",
       "      <td>3</td>\n",
       "      <td>2.0</td>\n",
       "      <td>0.0</td>\n",
       "      <td>0.0</td>\n",
       "      <td>BB</td>\n",
       "      <td>PRT</td>\n",
       "      <td>TA/TO</td>\n",
       "      <td>0</td>\n",
       "      <td>0</td>\n",
       "      <td>0</td>\n",
       "      <td>A</td>\n",
       "      <td>0</td>\n",
       "      <td>0</td>\n",
       "      <td>Transient</td>\n",
       "      <td>0</td>\n",
       "      <td>1</td>\n",
       "      <td>4</td>\n",
       "    </tr>\n",
       "    <tr>\n",
       "      <th>10538</th>\n",
       "      <td>13082</td>\n",
       "      <td>0</td>\n",
       "      <td>5.0</td>\n",
       "      <td>2016</td>\n",
       "      <td>February</td>\n",
       "      <td>9</td>\n",
       "      <td>27</td>\n",
       "      <td>1</td>\n",
       "      <td>1</td>\n",
       "      <td>2.0</td>\n",
       "      <td>0.0</td>\n",
       "      <td>0.0</td>\n",
       "      <td>BB</td>\n",
       "      <td>PRT</td>\n",
       "      <td>TA/TO</td>\n",
       "      <td>0</td>\n",
       "      <td>0</td>\n",
       "      <td>0</td>\n",
       "      <td>A</td>\n",
       "      <td>0</td>\n",
       "      <td>0</td>\n",
       "      <td>Transient</td>\n",
       "      <td>0</td>\n",
       "      <td>1</td>\n",
       "      <td>2</td>\n",
       "    </tr>\n",
       "    <tr>\n",
       "      <th>19250</th>\n",
       "      <td>27190</td>\n",
       "      <td>1</td>\n",
       "      <td>6.0</td>\n",
       "      <td>2015</td>\n",
       "      <td>September</td>\n",
       "      <td>37</td>\n",
       "      <td>10</td>\n",
       "      <td>0</td>\n",
       "      <td>1</td>\n",
       "      <td>2.0</td>\n",
       "      <td>0.0</td>\n",
       "      <td>0.0</td>\n",
       "      <td>BB</td>\n",
       "      <td>PRT</td>\n",
       "      <td>Direct</td>\n",
       "      <td>0</td>\n",
       "      <td>0</td>\n",
       "      <td>0</td>\n",
       "      <td>A</td>\n",
       "      <td>0</td>\n",
       "      <td>0</td>\n",
       "      <td>Transient</td>\n",
       "      <td>0</td>\n",
       "      <td>0</td>\n",
       "      <td>1</td>\n",
       "    </tr>\n",
       "    <tr>\n",
       "      <th>23773</th>\n",
       "      <td>31713</td>\n",
       "      <td>1</td>\n",
       "      <td>7.0</td>\n",
       "      <td>2016</td>\n",
       "      <td>February</td>\n",
       "      <td>9</td>\n",
       "      <td>22</td>\n",
       "      <td>1</td>\n",
       "      <td>0</td>\n",
       "      <td>1.0</td>\n",
       "      <td>0.0</td>\n",
       "      <td>0.0</td>\n",
       "      <td>BB</td>\n",
       "      <td>PRT</td>\n",
       "      <td>TA/TO</td>\n",
       "      <td>0</td>\n",
       "      <td>0</td>\n",
       "      <td>0</td>\n",
       "      <td>A</td>\n",
       "      <td>0</td>\n",
       "      <td>0</td>\n",
       "      <td>Transient</td>\n",
       "      <td>0</td>\n",
       "      <td>0</td>\n",
       "      <td>1</td>\n",
       "    </tr>\n",
       "    <tr>\n",
       "      <th>2968</th>\n",
       "      <td>2998</td>\n",
       "      <td>1</td>\n",
       "      <td>106.0</td>\n",
       "      <td>2016</td>\n",
       "      <td>March</td>\n",
       "      <td>13</td>\n",
       "      <td>24</td>\n",
       "      <td>1</td>\n",
       "      <td>3</td>\n",
       "      <td>2.0</td>\n",
       "      <td>0.0</td>\n",
       "      <td>0.0</td>\n",
       "      <td>FB</td>\n",
       "      <td>PRT</td>\n",
       "      <td>Direct</td>\n",
       "      <td>0</td>\n",
       "      <td>0</td>\n",
       "      <td>0</td>\n",
       "      <td>A</td>\n",
       "      <td>0</td>\n",
       "      <td>0</td>\n",
       "      <td>Transient</td>\n",
       "      <td>0</td>\n",
       "      <td>0</td>\n",
       "      <td>4</td>\n",
       "    </tr>\n",
       "  </tbody>\n",
       "</table>\n",
       "</div>"
      ],
      "text/plain": [
       "          id  is_canceled  lead_time  arrival_date_year arrival_date_month  \\\n",
       "3021    3051            1       79.0               2016              March   \n",
       "10538  13082            0        5.0               2016           February   \n",
       "19250  27190            1        6.0               2015          September   \n",
       "23773  31713            1        7.0               2016           February   \n",
       "2968    2998            1      106.0               2016              March   \n",
       "\n",
       "       arrival_date_week_number  arrival_date_day_of_month  \\\n",
       "3021                         14                         28   \n",
       "10538                         9                         27   \n",
       "19250                        37                         10   \n",
       "23773                         9                         22   \n",
       "2968                         13                         24   \n",
       "\n",
       "       stays_in_weekend_nights  stays_in_week_nights  adults  children  \\\n",
       "3021                         1                     3     2.0       0.0   \n",
       "10538                        1                     1     2.0       0.0   \n",
       "19250                        0                     1     2.0       0.0   \n",
       "23773                        1                     0     1.0       0.0   \n",
       "2968                         1                     3     2.0       0.0   \n",
       "\n",
       "       babies       meal country distribution_channel  is_repeated_guest  \\\n",
       "3021      0.0  BB            PRT                TA/TO                  0   \n",
       "10538     0.0  BB            PRT                TA/TO                  0   \n",
       "19250     0.0  BB            PRT               Direct                  0   \n",
       "23773     0.0  BB            PRT                TA/TO                  0   \n",
       "2968      0.0  FB            PRT               Direct                  0   \n",
       "\n",
       "       previous_cancellations  previous_bookings_not_canceled  \\\n",
       "3021                        0                               0   \n",
       "10538                       0                               0   \n",
       "19250                       0                               0   \n",
       "23773                       0                               0   \n",
       "2968                        0                               0   \n",
       "\n",
       "      reserved_room_type  booking_changes  days_in_waiting_list customer_type  \\\n",
       "3021    A                               0                     0     Transient   \n",
       "10538   A                               0                     0     Transient   \n",
       "19250   A                               0                     0     Transient   \n",
       "23773   A                               0                     0     Transient   \n",
       "2968    A                               0                     0     Transient   \n",
       "\n",
       "       required_car_parking_spaces  total_of_special_requests  total_nights  \n",
       "3021                             0                          1             4  \n",
       "10538                            0                          1             2  \n",
       "19250                            0                          0             1  \n",
       "23773                            0                          0             1  \n",
       "2968                             0                          0             4  "
      ]
     },
     "execution_count": 4,
     "metadata": {},
     "output_type": "execute_result"
    }
   ],
   "source": [
    "df_train.sample(5)"
   ]
  },
  {
   "cell_type": "code",
   "execution_count": 5,
   "metadata": {},
   "outputs": [
    {
     "name": "stdout",
     "output_type": "stream",
     "text": [
      "<class 'pandas.core.frame.DataFrame'>\n",
      "RangeIndex: 65229 entries, 0 to 65228\n",
      "Data columns (total 25 columns):\n",
      " #   Column                          Non-Null Count  Dtype  \n",
      "---  ------                          --------------  -----  \n",
      " 0   id                              65229 non-null  int64  \n",
      " 1   is_canceled                     65229 non-null  int64  \n",
      " 2   lead_time                       65229 non-null  float64\n",
      " 3   arrival_date_year               65229 non-null  int64  \n",
      " 4   arrival_date_month              65229 non-null  object \n",
      " 5   arrival_date_week_number        65229 non-null  int64  \n",
      " 6   arrival_date_day_of_month       65229 non-null  int64  \n",
      " 7   stays_in_weekend_nights         65229 non-null  int64  \n",
      " 8   stays_in_week_nights            65229 non-null  int64  \n",
      " 9   adults                          65229 non-null  float64\n",
      " 10  children                        65229 non-null  float64\n",
      " 11  babies                          65229 non-null  float64\n",
      " 12  meal                            65229 non-null  object \n",
      " 13  country                         65229 non-null  object \n",
      " 14  distribution_channel            65229 non-null  object \n",
      " 15  is_repeated_guest               65229 non-null  int64  \n",
      " 16  previous_cancellations          65229 non-null  int64  \n",
      " 17  previous_bookings_not_canceled  65229 non-null  int64  \n",
      " 18  reserved_room_type              65229 non-null  object \n",
      " 19  booking_changes                 65229 non-null  int64  \n",
      " 20  days_in_waiting_list            65229 non-null  int64  \n",
      " 21  customer_type                   65229 non-null  object \n",
      " 22  required_car_parking_spaces     65229 non-null  int64  \n",
      " 23  total_of_special_requests       65229 non-null  int64  \n",
      " 24  total_nights                    65229 non-null  int64  \n",
      "dtypes: float64(4), int64(15), object(6)\n",
      "memory usage: 12.4+ MB\n"
     ]
    }
   ],
   "source": [
    "df_train.info()"
   ]
  },
  {
   "cell_type": "code",
   "execution_count": 6,
   "metadata": {},
   "outputs": [
    {
     "data": {
      "text/html": [
       "<div>\n",
       "<style scoped>\n",
       "    .dataframe tbody tr th:only-of-type {\n",
       "        vertical-align: middle;\n",
       "    }\n",
       "\n",
       "    .dataframe tbody tr th {\n",
       "        vertical-align: top;\n",
       "    }\n",
       "\n",
       "    .dataframe thead th {\n",
       "        text-align: right;\n",
       "    }\n",
       "</style>\n",
       "<table border=\"1\" class=\"dataframe\">\n",
       "  <thead>\n",
       "    <tr style=\"text-align: right;\">\n",
       "      <th></th>\n",
       "      <th>id</th>\n",
       "      <th>is_canceled</th>\n",
       "      <th>lead_time</th>\n",
       "      <th>arrival_date_year</th>\n",
       "      <th>arrival_date_month</th>\n",
       "      <th>arrival_date_week_number</th>\n",
       "      <th>arrival_date_day_of_month</th>\n",
       "      <th>stays_in_weekend_nights</th>\n",
       "      <th>stays_in_week_nights</th>\n",
       "      <th>adults</th>\n",
       "      <th>children</th>\n",
       "      <th>babies</th>\n",
       "      <th>meal</th>\n",
       "      <th>country</th>\n",
       "      <th>distribution_channel</th>\n",
       "      <th>is_repeated_guest</th>\n",
       "      <th>previous_cancellations</th>\n",
       "      <th>previous_bookings_not_canceled</th>\n",
       "      <th>reserved_room_type</th>\n",
       "      <th>booking_changes</th>\n",
       "      <th>days_in_waiting_list</th>\n",
       "      <th>customer_type</th>\n",
       "      <th>required_car_parking_spaces</th>\n",
       "      <th>total_of_special_requests</th>\n",
       "      <th>total_nights</th>\n",
       "    </tr>\n",
       "  </thead>\n",
       "  <tbody>\n",
       "    <tr>\n",
       "      <th>16691</th>\n",
       "      <td>53880</td>\n",
       "      <td>1</td>\n",
       "      <td>159.0</td>\n",
       "      <td>2017</td>\n",
       "      <td>July</td>\n",
       "      <td>29</td>\n",
       "      <td>17</td>\n",
       "      <td>1</td>\n",
       "      <td>0</td>\n",
       "      <td>1.0</td>\n",
       "      <td>0.0</td>\n",
       "      <td>0.0</td>\n",
       "      <td>SC</td>\n",
       "      <td>AUS</td>\n",
       "      <td>TA/TO</td>\n",
       "      <td>0</td>\n",
       "      <td>0</td>\n",
       "      <td>0</td>\n",
       "      <td>A</td>\n",
       "      <td>0</td>\n",
       "      <td>0</td>\n",
       "      <td>Transient</td>\n",
       "      <td>0</td>\n",
       "      <td>0</td>\n",
       "      <td>1</td>\n",
       "    </tr>\n",
       "    <tr>\n",
       "      <th>2404</th>\n",
       "      <td>12785</td>\n",
       "      <td>0</td>\n",
       "      <td>123.0</td>\n",
       "      <td>2017</td>\n",
       "      <td>February</td>\n",
       "      <td>7</td>\n",
       "      <td>12</td>\n",
       "      <td>2</td>\n",
       "      <td>2</td>\n",
       "      <td>2.0</td>\n",
       "      <td>0.0</td>\n",
       "      <td>0.0</td>\n",
       "      <td>HB</td>\n",
       "      <td>PRT</td>\n",
       "      <td>TA/TO</td>\n",
       "      <td>1</td>\n",
       "      <td>0</td>\n",
       "      <td>1</td>\n",
       "      <td>D</td>\n",
       "      <td>0</td>\n",
       "      <td>0</td>\n",
       "      <td>Transient</td>\n",
       "      <td>0</td>\n",
       "      <td>3</td>\n",
       "      <td>4</td>\n",
       "    </tr>\n",
       "    <tr>\n",
       "      <th>6548</th>\n",
       "      <td>23501</td>\n",
       "      <td>0</td>\n",
       "      <td>210.0</td>\n",
       "      <td>2017</td>\n",
       "      <td>June</td>\n",
       "      <td>24</td>\n",
       "      <td>12</td>\n",
       "      <td>1</td>\n",
       "      <td>2</td>\n",
       "      <td>2.0</td>\n",
       "      <td>0.0</td>\n",
       "      <td>0.0</td>\n",
       "      <td>HB</td>\n",
       "      <td>POL</td>\n",
       "      <td>TA/TO</td>\n",
       "      <td>0</td>\n",
       "      <td>0</td>\n",
       "      <td>0</td>\n",
       "      <td>A</td>\n",
       "      <td>0</td>\n",
       "      <td>0</td>\n",
       "      <td>Contract</td>\n",
       "      <td>0</td>\n",
       "      <td>3</td>\n",
       "      <td>3</td>\n",
       "    </tr>\n",
       "    <tr>\n",
       "      <th>19687</th>\n",
       "      <td>85179</td>\n",
       "      <td>0</td>\n",
       "      <td>1.0</td>\n",
       "      <td>2017</td>\n",
       "      <td>February</td>\n",
       "      <td>5</td>\n",
       "      <td>2</td>\n",
       "      <td>0</td>\n",
       "      <td>1</td>\n",
       "      <td>1.0</td>\n",
       "      <td>0.0</td>\n",
       "      <td>0.0</td>\n",
       "      <td>BB</td>\n",
       "      <td>PRT</td>\n",
       "      <td>Direct</td>\n",
       "      <td>0</td>\n",
       "      <td>0</td>\n",
       "      <td>0</td>\n",
       "      <td>A</td>\n",
       "      <td>0</td>\n",
       "      <td>0</td>\n",
       "      <td>Transient</td>\n",
       "      <td>0</td>\n",
       "      <td>0</td>\n",
       "      <td>1</td>\n",
       "    </tr>\n",
       "    <tr>\n",
       "      <th>27799</th>\n",
       "      <td>93291</td>\n",
       "      <td>0</td>\n",
       "      <td>4.0</td>\n",
       "      <td>2017</td>\n",
       "      <td>June</td>\n",
       "      <td>23</td>\n",
       "      <td>10</td>\n",
       "      <td>1</td>\n",
       "      <td>1</td>\n",
       "      <td>1.0</td>\n",
       "      <td>0.0</td>\n",
       "      <td>0.0</td>\n",
       "      <td>BB</td>\n",
       "      <td>BEL</td>\n",
       "      <td>Corporate</td>\n",
       "      <td>0</td>\n",
       "      <td>0</td>\n",
       "      <td>0</td>\n",
       "      <td>D</td>\n",
       "      <td>1</td>\n",
       "      <td>0</td>\n",
       "      <td>Transient</td>\n",
       "      <td>0</td>\n",
       "      <td>0</td>\n",
       "      <td>2</td>\n",
       "    </tr>\n",
       "  </tbody>\n",
       "</table>\n",
       "</div>"
      ],
      "text/plain": [
       "          id  is_canceled  lead_time  arrival_date_year arrival_date_month  \\\n",
       "16691  53880            1      159.0               2017               July   \n",
       "2404   12785            0      123.0               2017           February   \n",
       "6548   23501            0      210.0               2017               June   \n",
       "19687  85179            0        1.0               2017           February   \n",
       "27799  93291            0        4.0               2017               June   \n",
       "\n",
       "       arrival_date_week_number  arrival_date_day_of_month  \\\n",
       "16691                        29                         17   \n",
       "2404                          7                         12   \n",
       "6548                         24                         12   \n",
       "19687                         5                          2   \n",
       "27799                        23                         10   \n",
       "\n",
       "       stays_in_weekend_nights  stays_in_week_nights  adults  children  \\\n",
       "16691                        1                     0     1.0       0.0   \n",
       "2404                         2                     2     2.0       0.0   \n",
       "6548                         1                     2     2.0       0.0   \n",
       "19687                        0                     1     1.0       0.0   \n",
       "27799                        1                     1     1.0       0.0   \n",
       "\n",
       "       babies       meal country distribution_channel  is_repeated_guest  \\\n",
       "16691     0.0  SC            AUS                TA/TO                  0   \n",
       "2404      0.0  HB            PRT                TA/TO                  1   \n",
       "6548      0.0  HB            POL                TA/TO                  0   \n",
       "19687     0.0  BB            PRT               Direct                  0   \n",
       "27799     0.0  BB            BEL            Corporate                  0   \n",
       "\n",
       "       previous_cancellations  previous_bookings_not_canceled  \\\n",
       "16691                       0                               0   \n",
       "2404                        0                               1   \n",
       "6548                        0                               0   \n",
       "19687                       0                               0   \n",
       "27799                       0                               0   \n",
       "\n",
       "      reserved_room_type  booking_changes  days_in_waiting_list customer_type  \\\n",
       "16691   A                               0                     0     Transient   \n",
       "2404    D                               0                     0     Transient   \n",
       "6548    A                               0                     0      Contract   \n",
       "19687   A                               0                     0     Transient   \n",
       "27799   D                               1                     0     Transient   \n",
       "\n",
       "       required_car_parking_spaces  total_of_special_requests  total_nights  \n",
       "16691                            0                          0             1  \n",
       "2404                             0                          3             4  \n",
       "6548                             0                          3             3  \n",
       "19687                            0                          0             1  \n",
       "27799                            0                          0             2  "
      ]
     },
     "execution_count": 6,
     "metadata": {},
     "output_type": "execute_result"
    }
   ],
   "source": [
    "df_test.sample(5)"
   ]
  },
  {
   "cell_type": "code",
   "execution_count": 7,
   "metadata": {
    "scrolled": false
   },
   "outputs": [
    {
     "name": "stdout",
     "output_type": "stream",
     "text": [
      "<class 'pandas.core.frame.DataFrame'>\n",
      "RangeIndex: 32412 entries, 0 to 32411\n",
      "Data columns (total 25 columns):\n",
      " #   Column                          Non-Null Count  Dtype  \n",
      "---  ------                          --------------  -----  \n",
      " 0   id                              32412 non-null  int64  \n",
      " 1   is_canceled                     32412 non-null  int64  \n",
      " 2   lead_time                       32412 non-null  float64\n",
      " 3   arrival_date_year               32412 non-null  int64  \n",
      " 4   arrival_date_month              32412 non-null  object \n",
      " 5   arrival_date_week_number        32412 non-null  int64  \n",
      " 6   arrival_date_day_of_month       32412 non-null  int64  \n",
      " 7   stays_in_weekend_nights         32412 non-null  int64  \n",
      " 8   stays_in_week_nights            32412 non-null  int64  \n",
      " 9   adults                          32412 non-null  float64\n",
      " 10  children                        32412 non-null  float64\n",
      " 11  babies                          32412 non-null  float64\n",
      " 12  meal                            32412 non-null  object \n",
      " 13  country                         32412 non-null  object \n",
      " 14  distribution_channel            32412 non-null  object \n",
      " 15  is_repeated_guest               32412 non-null  int64  \n",
      " 16  previous_cancellations          32412 non-null  int64  \n",
      " 17  previous_bookings_not_canceled  32412 non-null  int64  \n",
      " 18  reserved_room_type              32412 non-null  object \n",
      " 19  booking_changes                 32412 non-null  int64  \n",
      " 20  days_in_waiting_list            32412 non-null  int64  \n",
      " 21  customer_type                   32412 non-null  object \n",
      " 22  required_car_parking_spaces     32412 non-null  int64  \n",
      " 23  total_of_special_requests       32412 non-null  int64  \n",
      " 24  total_nights                    32412 non-null  int64  \n",
      "dtypes: float64(4), int64(15), object(6)\n",
      "memory usage: 6.2+ MB\n"
     ]
    }
   ],
   "source": [
    "df_test.info()"
   ]
  },
  {
   "cell_type": "markdown",
   "metadata": {},
   "source": [
    "Данные на месте. Тренировочный фрем в 2раза больше тестого: 65229 строк и 25 колонок и 32412 и 25 колонок соотвествнно. Категореальных столбцов 14, колличественных 11. Целевой столбец is_canceled. \n",
    "Сохраним оригинальные ДФ."
   ]
  },
  {
   "cell_type": "code",
   "execution_count": 8,
   "metadata": {},
   "outputs": [],
   "source": [
    "old_train_df = df_train.copy()\n",
    "old_test_df = df_test.copy()"
   ]
  },
  {
   "cell_type": "markdown",
   "metadata": {},
   "source": [
    "###  Предобработка и исследовательский анализ данных"
   ]
  },
  {
   "cell_type": "markdown",
   "metadata": {},
   "source": [
    "Есть предположение судя по выборкам что в дф разные года. Проверим.Если это так - объеденим в один дф что бы проще было провести предобработку, а после разделить по году. "
   ]
  },
  {
   "cell_type": "code",
   "execution_count": 9,
   "metadata": {},
   "outputs": [
    {
     "name": "stdout",
     "output_type": "stream",
     "text": [
      "[2015 2016]\n",
      "[2017]\n"
     ]
    }
   ],
   "source": [
    "print (df_train['arrival_date_year'].unique())\n",
    "print (df_test['arrival_date_year'].unique())"
   ]
  },
  {
   "cell_type": "code",
   "execution_count": 10,
   "metadata": {},
   "outputs": [],
   "source": [
    "df = pd.concat([df_test, df_train], ignore_index=True, sort= False)"
   ]
  },
  {
   "cell_type": "markdown",
   "metadata": {},
   "source": [
    "с помощью корреляции оценим мультиколллинеарность"
   ]
  },
  {
   "cell_type": "code",
   "execution_count": 11,
   "metadata": {
    "scrolled": true
   },
   "outputs": [
    {
     "data": {
      "text/plain": [
       "<AxesSubplot:>"
      ]
     },
     "execution_count": 11,
     "metadata": {},
     "output_type": "execute_result"
    },
    {
     "data": {
      "image/png": "[encoded data removed]",
      "text/plain": [
       "<Figure size 1440x864 with 2 Axes>"
      ]
     },
     "metadata": {},
     "output_type": "display_data"
    }
   ],
   "source": [
    "spearman = df.corr(method='spearman')\n",
    "sns.set(rc = {'figure.figsize':(20,12)})\n",
    "sns.heatmap(data=spearman,annot=True)"
   ]
  },
  {
   "cell_type": "markdown",
   "metadata": {},
   "source": [
    "присутвует мультиколлинеарность в arrival_date_month - arrival_date_week_number, total_night - stays_in_weekend_nighhts - stays_in_week_nights,is_repeated_guest-previous_bookings_not_canceled. Удалим мультиколлинеарные и малоинформативные столбцы . Отметим также что с признаками нет высокой кореляции целевой переменной. "
   ]
  },
  {
   "cell_type": "code",
   "execution_count": 14,
   "metadata": {
    "scrolled": true
   },
   "outputs": [],
   "source": [
    "df = df.drop([\"arrival_date_week_number\",\"id\",\"babies\",\"arrival_date_day_of_month\",\"is_repeated_guest\",\"stays_in_weekend_nights\",\"stays_in_week_nights\"], axis = 1)"
   ]
  },
  {
   "cell_type": "markdown",
   "metadata": {},
   "source": [
    "изменим тип данных на целочисленный в столбцах где это соотвествует логике"
   ]
  },
  {
   "cell_type": "code",
   "execution_count": 15,
   "metadata": {},
   "outputs": [],
   "source": [
    "df[['lead_time', 'adults', 'children']] = df[['lead_time', 'adults', 'children']].astype('int')"
   ]
  },
  {
   "cell_type": "markdown",
   "metadata": {},
   "source": [
    "проверим на пропуски"
   ]
  },
  {
   "cell_type": "code",
   "execution_count": 16,
   "metadata": {},
   "outputs": [
    {
     "data": {
      "text/html": [
       "<style  type=\"text/css\" >\n",
       "#T_5d229_row0_col0,#T_5d229_row1_col0,#T_5d229_row2_col0,#T_5d229_row3_col0,#T_5d229_row4_col0,#T_5d229_row5_col0,#T_5d229_row6_col0,#T_5d229_row7_col0,#T_5d229_row8_col0,#T_5d229_row9_col0,#T_5d229_row10_col0,#T_5d229_row11_col0,#T_5d229_row12_col0,#T_5d229_row13_col0,#T_5d229_row14_col0,#T_5d229_row15_col0,#T_5d229_row16_col0,#T_5d229_row17_col0{\n",
       "            background-color:  #3b4cc0;\n",
       "            color:  #f1f1f1;\n",
       "        }</style><table id=\"T_5d229_\" ><thead>    <tr>        <th class=\"blank level0\" ></th>        <th class=\"col_heading level0 col0\" >0</th>    </tr></thead><tbody>\n",
       "                <tr>\n",
       "                        <th id=\"T_5d229_level0_row0\" class=\"row_heading level0 row0\" >is_canceled</th>\n",
       "                        <td id=\"T_5d229_row0_col0\" class=\"data row0 col0\" >0.000000</td>\n",
       "            </tr>\n",
       "            <tr>\n",
       "                        <th id=\"T_5d229_level0_row1\" class=\"row_heading level0 row1\" >lead_time</th>\n",
       "                        <td id=\"T_5d229_row1_col0\" class=\"data row1 col0\" >0.000000</td>\n",
       "            </tr>\n",
       "            <tr>\n",
       "                        <th id=\"T_5d229_level0_row2\" class=\"row_heading level0 row2\" >arrival_date_year</th>\n",
       "                        <td id=\"T_5d229_row2_col0\" class=\"data row2 col0\" >0.000000</td>\n",
       "            </tr>\n",
       "            <tr>\n",
       "                        <th id=\"T_5d229_level0_row3\" class=\"row_heading level0 row3\" >arrival_date_month</th>\n",
       "                        <td id=\"T_5d229_row3_col0\" class=\"data row3 col0\" >0.000000</td>\n",
       "            </tr>\n",
       "            <tr>\n",
       "                        <th id=\"T_5d229_level0_row4\" class=\"row_heading level0 row4\" >adults</th>\n",
       "                        <td id=\"T_5d229_row4_col0\" class=\"data row4 col0\" >0.000000</td>\n",
       "            </tr>\n",
       "            <tr>\n",
       "                        <th id=\"T_5d229_level0_row5\" class=\"row_heading level0 row5\" >children</th>\n",
       "                        <td id=\"T_5d229_row5_col0\" class=\"data row5 col0\" >0.000000</td>\n",
       "            </tr>\n",
       "            <tr>\n",
       "                        <th id=\"T_5d229_level0_row6\" class=\"row_heading level0 row6\" >meal</th>\n",
       "                        <td id=\"T_5d229_row6_col0\" class=\"data row6 col0\" >0.000000</td>\n",
       "            </tr>\n",
       "            <tr>\n",
       "                        <th id=\"T_5d229_level0_row7\" class=\"row_heading level0 row7\" >country</th>\n",
       "                        <td id=\"T_5d229_row7_col0\" class=\"data row7 col0\" >0.000000</td>\n",
       "            </tr>\n",
       "            <tr>\n",
       "                        <th id=\"T_5d229_level0_row8\" class=\"row_heading level0 row8\" >distribution_channel</th>\n",
       "                        <td id=\"T_5d229_row8_col0\" class=\"data row8 col0\" >0.000000</td>\n",
       "            </tr>\n",
       "            <tr>\n",
       "                        <th id=\"T_5d229_level0_row9\" class=\"row_heading level0 row9\" >previous_cancellations</th>\n",
       "                        <td id=\"T_5d229_row9_col0\" class=\"data row9 col0\" >0.000000</td>\n",
       "            </tr>\n",
       "            <tr>\n",
       "                        <th id=\"T_5d229_level0_row10\" class=\"row_heading level0 row10\" >previous_bookings_not_canceled</th>\n",
       "                        <td id=\"T_5d229_row10_col0\" class=\"data row10 col0\" >0.000000</td>\n",
       "            </tr>\n",
       "            <tr>\n",
       "                        <th id=\"T_5d229_level0_row11\" class=\"row_heading level0 row11\" >reserved_room_type</th>\n",
       "                        <td id=\"T_5d229_row11_col0\" class=\"data row11 col0\" >0.000000</td>\n",
       "            </tr>\n",
       "            <tr>\n",
       "                        <th id=\"T_5d229_level0_row12\" class=\"row_heading level0 row12\" >booking_changes</th>\n",
       "                        <td id=\"T_5d229_row12_col0\" class=\"data row12 col0\" >0.000000</td>\n",
       "            </tr>\n",
       "            <tr>\n",
       "                        <th id=\"T_5d229_level0_row13\" class=\"row_heading level0 row13\" >days_in_waiting_list</th>\n",
       "                        <td id=\"T_5d229_row13_col0\" class=\"data row13 col0\" >0.000000</td>\n",
       "            </tr>\n",
       "            <tr>\n",
       "                        <th id=\"T_5d229_level0_row14\" class=\"row_heading level0 row14\" >customer_type</th>\n",
       "                        <td id=\"T_5d229_row14_col0\" class=\"data row14 col0\" >0.000000</td>\n",
       "            </tr>\n",
       "            <tr>\n",
       "                        <th id=\"T_5d229_level0_row15\" class=\"row_heading level0 row15\" >required_car_parking_spaces</th>\n",
       "                        <td id=\"T_5d229_row15_col0\" class=\"data row15 col0\" >0.000000</td>\n",
       "            </tr>\n",
       "            <tr>\n",
       "                        <th id=\"T_5d229_level0_row16\" class=\"row_heading level0 row16\" >total_of_special_requests</th>\n",
       "                        <td id=\"T_5d229_row16_col0\" class=\"data row16 col0\" >0.000000</td>\n",
       "            </tr>\n",
       "            <tr>\n",
       "                        <th id=\"T_5d229_level0_row17\" class=\"row_heading level0 row17\" >total_nights</th>\n",
       "                        <td id=\"T_5d229_row17_col0\" class=\"data row17 col0\" >0.000000</td>\n",
       "            </tr>\n",
       "    </tbody></table>"
      ],
      "text/plain": [
       "<pandas.io.formats.style.Styler at 0x7f4018177580>"
      ]
     },
     "execution_count": 16,
     "metadata": {},
     "output_type": "execute_result"
    }
   ],
   "source": [
    "pd.DataFrame(round(df.isna().mean()*100,)).style.background_gradient('coolwarm')"
   ]
  },
  {
   "cell_type": "markdown",
   "metadata": {},
   "source": [
    "Отлично! Пропусков - нет.\n",
    "Проверим на дубликаты. "
   ]
  },
  {
   "cell_type": "code",
   "execution_count": 17,
   "metadata": {},
   "outputs": [
    {
     "data": {
      "text/plain": [
       "30393"
      ]
     },
     "execution_count": 17,
     "metadata": {},
     "output_type": "execute_result"
    }
   ],
   "source": [
    "df.duplicated().sum()"
   ]
  },
  {
   "cell_type": "markdown",
   "metadata": {},
   "source": [
    "Считаю что не смотря на то что дубликатов много - их стоит удалить. В дф много признаков и врятли есть какое то логическое объяснение дубликатам - кроме ошибки.  "
   ]
  },
  {
   "cell_type": "code",
   "execution_count": 18,
   "metadata": {},
   "outputs": [],
   "source": [
    "df = df.drop_duplicates().reset_index(drop=True) "
   ]
  },
  {
   "cell_type": "markdown",
   "metadata": {},
   "source": [
    "Проверим категориальные столбцы на неявные дубликаты и ошибки."
   ]
  },
  {
   "cell_type": "code",
   "execution_count": 19,
   "metadata": {
    "scrolled": false
   },
   "outputs": [
    {
     "data": {
      "text/plain": [
       "is_canceled                         2\n",
       "lead_time                         372\n",
       "arrival_date_year                   3\n",
       "arrival_date_month                 12\n",
       "adults                              5\n",
       "children                            4\n",
       "meal                                5\n",
       "country                           174\n",
       "distribution_channel                4\n",
       "previous_cancellations             15\n",
       "previous_bookings_not_canceled     72\n",
       "reserved_room_type                  7\n",
       "booking_changes                    18\n",
       "days_in_waiting_list              120\n",
       "customer_type                       4\n",
       "required_car_parking_spaces         5\n",
       "total_of_special_requests           6\n",
       "total_nights                       10\n",
       "dtype: int64"
      ]
     },
     "execution_count": 19,
     "metadata": {},
     "output_type": "execute_result"
    }
   ],
   "source": [
    "df.nunique()"
   ]
  },
  {
   "cell_type": "code",
   "execution_count": 20,
   "metadata": {
    "scrolled": true
   },
   "outputs": [
    {
     "data": {
      "text/plain": [
       "array(['PRT', 'AUT', 'BEL', 'DEU', 'BRA', 'GBR', 'ESP', 'FRA', 'ITA',\n",
       "       'LUX', 'CHE', 'EST', 'NGA', 'IRL', 'CN', 'POL', 'AUS', 'NLD',\n",
       "       'KOR', 'ROU', 'USA', 'CHL', 'DNK', 'FIN', 'RUS', 'SWE', 'HUN',\n",
       "       'HRV', 'MDV', 'ZAF', 'ISR', 'NOR', 'CHN', 'ARE', 'MAR', 'COL',\n",
       "       'FJI', 'LVA', 'LBN', 'PHL', 'HKG', 'SYC', 'GIB', 'AGO', 'MYS',\n",
       "       'MDG', 'IDN', 'LTU', 'ISL', 'TUR', 'ARG', 'JPN', 'SVN', 'SVK',\n",
       "       'BGR', 'CAF', 'JAM', 'UZB', 'UKR', 'IND', 'CZE', 'URY', 'NZL',\n",
       "       'NPL', 'SRB', 'CPV', 'IRN', 'KAZ', 'BHS', 'SUR', 'CUB', 'PAK',\n",
       "       'MAC', 'CYP', 'JOR', 'GRC', 'KWT', 'TWN', 'VNM', 'SGP', 'DOM',\n",
       "       'VEN', 'SEN', 'BLR', 'TZA', 'LIE', 'GNB', 'SAU', 'DZA', 'PER',\n",
       "       'AZE', 'EGY', 'ETH', 'KEN', 'THA', 'MLT', 'ECU', 'AND', 'IMN',\n",
       "       'BHR', 'TUN', 'MNE', 'MEX', 'BEN', 'MOZ', 'UMI', 'JEY', 'MYT',\n",
       "       'QAT', 'BGD', 'GAB', 'CIV', 'ZWE', 'GTM', 'ALB', 'GHA', 'ATA',\n",
       "       'ASM', 'PAN', 'CRI', 'MCO', 'MUS', 'SYR', 'TGO', 'IRQ', 'LKA',\n",
       "       'BIH', 'PRY', 'MRT', 'ABW', 'NCL', 'STP', 'KIR', 'SDN', 'PRI',\n",
       "       'ATF', 'CMR', 'TJK', 'LBY', 'SLE', 'SLV', 'LAO', 'FRO', 'BWA',\n",
       "       'SMR', 'CYM', 'GGY', 'ARM', 'OMN', 'BDI', 'PLW', 'MWI', 'KNA',\n",
       "       'HND', 'GEO', 'ZMB', 'KHM', 'NIC', 'VGB', 'MKD', 'TMP', 'GLP',\n",
       "       'MMR', 'BFA', 'MLI', 'NAM', 'BOL', 'BRB', 'DMA', 'PYF', 'UGA',\n",
       "       'GUY', 'LCA', 'RWA'], dtype=object)"
      ]
     },
     "execution_count": 20,
     "metadata": {},
     "output_type": "execute_result"
    }
   ],
   "source": [
    "df['country'].unique()"
   ]
  },
  {
   "cell_type": "markdown",
   "metadata": {},
   "source": [
    "Признак явно перегружен знчениями. "
   ]
  },
  {
   "cell_type": "code",
   "execution_count": 21,
   "metadata": {},
   "outputs": [
    {
     "data": {
      "text/plain": [
       "PRT    0.281614\n",
       "FRA    0.114055\n",
       "GBR    0.112791\n",
       "ESP    0.081430\n",
       "DEU    0.069861\n",
       "ITA    0.040135\n",
       "IRL    0.032135\n",
       "BEL    0.027614\n",
       "BRA    0.025592\n",
       "NLD    0.024759\n",
       "USA    0.023153\n",
       "CHE    0.019569\n",
       "AUT    0.012313\n",
       "CN     0.012015\n",
       "CHN    0.010885\n",
       "SWE    0.009933\n",
       "POL    0.009279\n",
       "RUS    0.006558\n",
       "NOR    0.006052\n",
       "ROU    0.005502\n",
       "FIN    0.005324\n",
       "ISR    0.005309\n",
       "DNK    0.004863\n",
       "AUS    0.004416\n",
       "LUX    0.003123\n",
       "TUR    0.002885\n",
       "AGO    0.002751\n",
       "HUN    0.002602\n",
       "ARG    0.002587\n",
       "JPN    0.002513\n",
       "MAR    0.002439\n",
       "IND    0.001799\n",
       "CZE    0.001784\n",
       "KOR    0.001680\n",
       "GRC    0.001606\n",
       "HRV    0.001264\n",
       "IRN    0.001071\n",
       "ZAF    0.001011\n",
       "BGR    0.000952\n",
       "COL    0.000952\n",
       "MEX    0.000952\n",
       "DZA    0.000952\n",
       "EST    0.000922\n",
       "LTU    0.000803\n",
       "UKR    0.000788\n",
       "CHL    0.000788\n",
       "NZL    0.000758\n",
       "MOZ    0.000654\n",
       "SRB    0.000654\n",
       "SVK    0.000639\n",
       "TWN    0.000625\n",
       "LVA    0.000610\n",
       "SVN    0.000580\n",
       "CYP    0.000580\n",
       "TUN    0.000520\n",
       "ARE    0.000506\n",
       "SGP    0.000491\n",
       "THA    0.000476\n",
       "SAU    0.000416\n",
       "PHL    0.000416\n",
       "LBN    0.000416\n",
       "EGY    0.000401\n",
       "NGA    0.000387\n",
       "URY    0.000357\n",
       "MYS    0.000327\n",
       "PER    0.000327\n",
       "HKG    0.000327\n",
       "IDN    0.000312\n",
       "VEN    0.000297\n",
       "BLR    0.000283\n",
       "CPV    0.000283\n",
       "JOR    0.000268\n",
       "ISL    0.000268\n",
       "MLT    0.000253\n",
       "ECU    0.000253\n",
       "CRI    0.000253\n",
       "KAZ    0.000238\n",
       "AZE    0.000208\n",
       "KWT    0.000208\n",
       "BIH    0.000178\n",
       "IRQ    0.000164\n",
       "ALB    0.000149\n",
       "MAC    0.000149\n",
       "DOM    0.000149\n",
       "PAK    0.000149\n",
       "GIB    0.000149\n",
       "GEO    0.000149\n",
       "QAT    0.000149\n",
       "OMN    0.000149\n",
       "MDV    0.000134\n",
       "VNM    0.000119\n",
       "BGD    0.000119\n",
       "PRI    0.000119\n",
       "CMR    0.000119\n",
       "LBY    0.000104\n",
       "MKD    0.000104\n",
       "MUS    0.000104\n",
       "PAN    0.000104\n",
       "ARM    0.000089\n",
       "KEN    0.000089\n",
       "JEY    0.000089\n",
       "GNB    0.000089\n",
       "SEN    0.000074\n",
       "SUR    0.000074\n",
       "LKA    0.000074\n",
       "MNE    0.000074\n",
       "PRY    0.000059\n",
       "BHR    0.000059\n",
       "UZB    0.000059\n",
       "JAM    0.000059\n",
       "CUB    0.000059\n",
       "MCO    0.000059\n",
       "TZA    0.000059\n",
       "GAB    0.000059\n",
       "LIE    0.000045\n",
       "BEN    0.000045\n",
       "TMP    0.000045\n",
       "SYR    0.000045\n",
       "CIV    0.000045\n",
       "ZWE    0.000045\n",
       "ETH    0.000045\n",
       "CAF    0.000045\n",
       "MWI    0.000030\n",
       "GHA    0.000030\n",
       "ATA    0.000030\n",
       "LAO    0.000030\n",
       "BOL    0.000030\n",
       "STP    0.000030\n",
       "GTM    0.000030\n",
       "SLV    0.000030\n",
       "ABW    0.000030\n",
       "SYC    0.000030\n",
       "GGY    0.000030\n",
       "TJK    0.000030\n",
       "AND    0.000030\n",
       "IMN    0.000030\n",
       "SMR    0.000015\n",
       "BFA    0.000015\n",
       "ZMB    0.000015\n",
       "KHM    0.000015\n",
       "NAM    0.000015\n",
       "HND    0.000015\n",
       "LCA    0.000015\n",
       "BDI    0.000015\n",
       "NIC    0.000015\n",
       "MDG    0.000015\n",
       "ATF    0.000015\n",
       "KNA    0.000015\n",
       "MMR    0.000015\n",
       "SLE    0.000015\n",
       "NCL    0.000015\n",
       "UMI    0.000015\n",
       "MLI    0.000015\n",
       "RWA    0.000015\n",
       "SDN    0.000015\n",
       "GLP    0.000015\n",
       "ASM    0.000015\n",
       "UGA    0.000015\n",
       "VGB    0.000015\n",
       "PYF    0.000015\n",
       "BHS    0.000015\n",
       "GUY    0.000015\n",
       "PLW    0.000015\n",
       "FRO    0.000015\n",
       "BWA    0.000015\n",
       "KIR    0.000015\n",
       "CYM    0.000015\n",
       "FJI    0.000015\n",
       "MYT    0.000015\n",
       "TGO    0.000015\n",
       "MRT    0.000015\n",
       "BRB    0.000015\n",
       "DMA    0.000015\n",
       "NPL    0.000015\n",
       "Name: country, dtype: float64"
      ]
     },
     "execution_count": 21,
     "metadata": {},
     "output_type": "execute_result"
    }
   ],
   "source": [
    "df['country'].value_counts(normalize=True)"
   ]
  },
  {
   "cell_type": "markdown",
   "metadata": {},
   "source": [
    "почти 30% постояльцев - португальцы. Все страны где меньше 1% заменим на others.  "
   ]
  },
  {
   "cell_type": "code",
   "execution_count": 22,
   "metadata": {},
   "outputs": [],
   "source": [
    "country = ['PRT', 'FRA', 'GBR', 'ESP', 'DEU', 'ITA', 'IRL', 'BEL', 'BRA', 'NLD', 'USA', 'CHE', 'AUT', 'CN', 'CHN']\n",
    "df['country'] = df['country'].apply(lambda x: 'others' if x not in country else x)"
   ]
  },
  {
   "cell_type": "code",
   "execution_count": 23,
   "metadata": {},
   "outputs": [
    {
     "data": {
      "text/plain": [
       "array(['Transient', 'Transient-Party', 'Contract', 'Group'], dtype=object)"
      ]
     },
     "execution_count": 23,
     "metadata": {},
     "output_type": "execute_result"
    }
   ],
   "source": [
    "df['customer_type'].unique()"
   ]
  },
  {
   "cell_type": "code",
   "execution_count": 24,
   "metadata": {},
   "outputs": [
    {
     "data": {
      "text/plain": [
       "array(['BB       ', 'HB       ', 'SC', 'FB       ', 'SC       '],\n",
       "      dtype=object)"
      ]
     },
     "execution_count": 24,
     "metadata": {},
     "output_type": "execute_result"
    }
   ],
   "source": [
    "df['meal'].unique()"
   ]
  },
  {
   "cell_type": "code",
   "execution_count": 25,
   "metadata": {},
   "outputs": [],
   "source": [
    "df['meal'] = df['meal'].str.strip()"
   ]
  },
  {
   "cell_type": "code",
   "execution_count": 26,
   "metadata": {},
   "outputs": [
    {
     "data": {
      "text/plain": [
       "array(['TA/TO', 'Direct', 'Corporate', 'GDS'], dtype=object)"
      ]
     },
     "execution_count": 26,
     "metadata": {},
     "output_type": "execute_result"
    }
   ],
   "source": [
    "df['distribution_channel'].unique()"
   ]
  },
  {
   "cell_type": "code",
   "execution_count": 27,
   "metadata": {},
   "outputs": [
    {
     "data": {
      "text/plain": [
       "array(['A               ', 'E               ', 'G               ',\n",
       "       'D               ', 'F               ', 'C               ',\n",
       "       'B               '], dtype=object)"
      ]
     },
     "execution_count": 27,
     "metadata": {},
     "output_type": "execute_result"
    }
   ],
   "source": [
    "df['reserved_room_type'].unique()"
   ]
  },
  {
   "cell_type": "code",
   "execution_count": 28,
   "metadata": {},
   "outputs": [],
   "source": [
    "df['reserved_room_type'] = df['reserved_room_type'].str.strip()"
   ]
  },
  {
   "cell_type": "code",
   "execution_count": 29,
   "metadata": {},
   "outputs": [
    {
     "data": {
      "text/plain": [
       "array(['Transient', 'Transient-Party', 'Contract', 'Group'], dtype=object)"
      ]
     },
     "execution_count": 29,
     "metadata": {},
     "output_type": "execute_result"
    }
   ],
   "source": [
    "df['customer_type'].unique()"
   ]
  },
  {
   "cell_type": "markdown",
   "metadata": {},
   "source": [
    "Данные впорядке за исключением лишних пробелов в 'meal' и 'reserved_room_type'. \n",
    "\n",
    "Проверим количественные переменные на выбросы"
   ]
  },
  {
   "cell_type": "code",
   "execution_count": 30,
   "metadata": {
    "scrolled": false
   },
   "outputs": [
    {
     "name": "stdout",
     "output_type": "stream",
     "text": [
      "booking_changes :выбросов нет\n",
      "children :выбросов нет\n",
      "lead_time :выбросов нет\n",
      "days_in_waiting_list :выбросов нет\n",
      "total_nights :выбросов нет\n",
      "total_of_special_requests :выбросов нет\n"
     ]
    }
   ],
   "source": [
    "for row in df[['booking_changes', 'children', 'lead_time','days_in_waiting_list','total_nights','total_of_special_requests']]:\n",
    "    Q1 = df[row].quantile(0.25)\n",
    "    Q3 = df[row].quantile(0.75)\n",
    "    IQR = Q3-Q1\n",
    "    lower = Q1 - 1.5*IQR\n",
    "    upper = Q3 + 1.5*IQR\n",
    "    if (df[(df[row] > upper)].any(axis=None)) & (df[(df[row] < lower)].any(axis=None)):\n",
    "        print(row, \":выбросы есть\")\n",
    "    else:\n",
    "        print(row, \":выбросов нет\")"
   ]
  },
  {
   "cell_type": "markdown",
   "metadata": {},
   "source": [
    "общая гистограмма распределения. "
   ]
  },
  {
   "cell_type": "code",
   "execution_count": 31,
   "metadata": {
    "scrolled": false
   },
   "outputs": [
    {
     "data": {
      "image/png": "[encoded data removed]",
      "text/plain": [
       "<Figure size 1080x2160 with 12 Axes>"
      ]
     },
     "metadata": {},
     "output_type": "display_data"
    }
   ],
   "source": [
    "df.hist(figsize=(15, 30))\n",
    "plt.show()"
   ]
  },
  {
   "cell_type": "markdown",
   "metadata": {},
   "source": [
    "распределение соответсвует логике.\n",
    "\n",
    "посмотрим общие статистические параметры. "
   ]
  },
  {
   "cell_type": "code",
   "execution_count": 32,
   "metadata": {
    "scrolled": true
   },
   "outputs": [
    {
     "data": {
      "text/html": [
       "<div>\n",
       "<style scoped>\n",
       "    .dataframe tbody tr th:only-of-type {\n",
       "        vertical-align: middle;\n",
       "    }\n",
       "\n",
       "    .dataframe tbody tr th {\n",
       "        vertical-align: top;\n",
       "    }\n",
       "\n",
       "    .dataframe thead th {\n",
       "        text-align: right;\n",
       "    }\n",
       "</style>\n",
       "<table border=\"1\" class=\"dataframe\">\n",
       "  <thead>\n",
       "    <tr style=\"text-align: right;\">\n",
       "      <th></th>\n",
       "      <th>count</th>\n",
       "      <th>unique</th>\n",
       "      <th>top</th>\n",
       "      <th>freq</th>\n",
       "      <th>mean</th>\n",
       "      <th>std</th>\n",
       "      <th>min</th>\n",
       "      <th>25%</th>\n",
       "      <th>50%</th>\n",
       "      <th>75%</th>\n",
       "      <th>max</th>\n",
       "    </tr>\n",
       "  </thead>\n",
       "  <tbody>\n",
       "    <tr>\n",
       "      <th>is_canceled</th>\n",
       "      <td>67,248.00</td>\n",
       "      <td>NaN</td>\n",
       "      <td>NaN</td>\n",
       "      <td>NaN</td>\n",
       "      <td>0.28</td>\n",
       "      <td>0.45</td>\n",
       "      <td>0.00</td>\n",
       "      <td>0.00</td>\n",
       "      <td>0.00</td>\n",
       "      <td>1.00</td>\n",
       "      <td>1.00</td>\n",
       "    </tr>\n",
       "    <tr>\n",
       "      <th>lead_time</th>\n",
       "      <td>67,248.00</td>\n",
       "      <td>NaN</td>\n",
       "      <td>NaN</td>\n",
       "      <td>NaN</td>\n",
       "      <td>76.60</td>\n",
       "      <td>79.09</td>\n",
       "      <td>0.00</td>\n",
       "      <td>12.00</td>\n",
       "      <td>49.00</td>\n",
       "      <td>120.00</td>\n",
       "      <td>374.00</td>\n",
       "    </tr>\n",
       "    <tr>\n",
       "      <th>arrival_date_year</th>\n",
       "      <td>67,248.00</td>\n",
       "      <td>NaN</td>\n",
       "      <td>NaN</td>\n",
       "      <td>NaN</td>\n",
       "      <td>2,016.22</td>\n",
       "      <td>0.68</td>\n",
       "      <td>2,015.00</td>\n",
       "      <td>2,016.00</td>\n",
       "      <td>2,016.00</td>\n",
       "      <td>2,017.00</td>\n",
       "      <td>2,017.00</td>\n",
       "    </tr>\n",
       "    <tr>\n",
       "      <th>arrival_date_month</th>\n",
       "      <td>67248</td>\n",
       "      <td>12</td>\n",
       "      <td>August</td>\n",
       "      <td>7351</td>\n",
       "      <td>NaN</td>\n",
       "      <td>NaN</td>\n",
       "      <td>NaN</td>\n",
       "      <td>NaN</td>\n",
       "      <td>NaN</td>\n",
       "      <td>NaN</td>\n",
       "      <td>NaN</td>\n",
       "    </tr>\n",
       "    <tr>\n",
       "      <th>adults</th>\n",
       "      <td>67,248.00</td>\n",
       "      <td>NaN</td>\n",
       "      <td>NaN</td>\n",
       "      <td>NaN</td>\n",
       "      <td>1.87</td>\n",
       "      <td>0.50</td>\n",
       "      <td>0.00</td>\n",
       "      <td>2.00</td>\n",
       "      <td>2.00</td>\n",
       "      <td>2.00</td>\n",
       "      <td>4.00</td>\n",
       "    </tr>\n",
       "    <tr>\n",
       "      <th>children</th>\n",
       "      <td>67,248.00</td>\n",
       "      <td>NaN</td>\n",
       "      <td>NaN</td>\n",
       "      <td>NaN</td>\n",
       "      <td>0.11</td>\n",
       "      <td>0.40</td>\n",
       "      <td>0.00</td>\n",
       "      <td>0.00</td>\n",
       "      <td>0.00</td>\n",
       "      <td>0.00</td>\n",
       "      <td>3.00</td>\n",
       "    </tr>\n",
       "    <tr>\n",
       "      <th>meal</th>\n",
       "      <td>67248</td>\n",
       "      <td>4</td>\n",
       "      <td>BB</td>\n",
       "      <td>52693</td>\n",
       "      <td>NaN</td>\n",
       "      <td>NaN</td>\n",
       "      <td>NaN</td>\n",
       "      <td>NaN</td>\n",
       "      <td>NaN</td>\n",
       "      <td>NaN</td>\n",
       "      <td>NaN</td>\n",
       "    </tr>\n",
       "    <tr>\n",
       "      <th>country</th>\n",
       "      <td>67248</td>\n",
       "      <td>16</td>\n",
       "      <td>PRT</td>\n",
       "      <td>18938</td>\n",
       "      <td>NaN</td>\n",
       "      <td>NaN</td>\n",
       "      <td>NaN</td>\n",
       "      <td>NaN</td>\n",
       "      <td>NaN</td>\n",
       "      <td>NaN</td>\n",
       "      <td>NaN</td>\n",
       "    </tr>\n",
       "    <tr>\n",
       "      <th>distribution_channel</th>\n",
       "      <td>67248</td>\n",
       "      <td>4</td>\n",
       "      <td>TA/TO</td>\n",
       "      <td>54732</td>\n",
       "      <td>NaN</td>\n",
       "      <td>NaN</td>\n",
       "      <td>NaN</td>\n",
       "      <td>NaN</td>\n",
       "      <td>NaN</td>\n",
       "      <td>NaN</td>\n",
       "      <td>NaN</td>\n",
       "    </tr>\n",
       "    <tr>\n",
       "      <th>previous_cancellations</th>\n",
       "      <td>67,248.00</td>\n",
       "      <td>NaN</td>\n",
       "      <td>NaN</td>\n",
       "      <td>NaN</td>\n",
       "      <td>0.03</td>\n",
       "      <td>0.39</td>\n",
       "      <td>0.00</td>\n",
       "      <td>0.00</td>\n",
       "      <td>0.00</td>\n",
       "      <td>0.00</td>\n",
       "      <td>26.00</td>\n",
       "    </tr>\n",
       "    <tr>\n",
       "      <th>previous_bookings_not_canceled</th>\n",
       "      <td>67,248.00</td>\n",
       "      <td>NaN</td>\n",
       "      <td>NaN</td>\n",
       "      <td>NaN</td>\n",
       "      <td>0.18</td>\n",
       "      <td>1.82</td>\n",
       "      <td>0.00</td>\n",
       "      <td>0.00</td>\n",
       "      <td>0.00</td>\n",
       "      <td>0.00</td>\n",
       "      <td>72.00</td>\n",
       "    </tr>\n",
       "    <tr>\n",
       "      <th>reserved_room_type</th>\n",
       "      <td>67248</td>\n",
       "      <td>7</td>\n",
       "      <td>A</td>\n",
       "      <td>45909</td>\n",
       "      <td>NaN</td>\n",
       "      <td>NaN</td>\n",
       "      <td>NaN</td>\n",
       "      <td>NaN</td>\n",
       "      <td>NaN</td>\n",
       "      <td>NaN</td>\n",
       "      <td>NaN</td>\n",
       "    </tr>\n",
       "    <tr>\n",
       "      <th>booking_changes</th>\n",
       "      <td>67,248.00</td>\n",
       "      <td>NaN</td>\n",
       "      <td>NaN</td>\n",
       "      <td>NaN</td>\n",
       "      <td>0.26</td>\n",
       "      <td>0.69</td>\n",
       "      <td>0.00</td>\n",
       "      <td>0.00</td>\n",
       "      <td>0.00</td>\n",
       "      <td>0.00</td>\n",
       "      <td>18.00</td>\n",
       "    </tr>\n",
       "    <tr>\n",
       "      <th>days_in_waiting_list</th>\n",
       "      <td>67,248.00</td>\n",
       "      <td>NaN</td>\n",
       "      <td>NaN</td>\n",
       "      <td>NaN</td>\n",
       "      <td>0.66</td>\n",
       "      <td>8.64</td>\n",
       "      <td>0.00</td>\n",
       "      <td>0.00</td>\n",
       "      <td>0.00</td>\n",
       "      <td>0.00</td>\n",
       "      <td>259.00</td>\n",
       "    </tr>\n",
       "    <tr>\n",
       "      <th>customer_type</th>\n",
       "      <td>67248</td>\n",
       "      <td>4</td>\n",
       "      <td>Transient</td>\n",
       "      <td>56074</td>\n",
       "      <td>NaN</td>\n",
       "      <td>NaN</td>\n",
       "      <td>NaN</td>\n",
       "      <td>NaN</td>\n",
       "      <td>NaN</td>\n",
       "      <td>NaN</td>\n",
       "      <td>NaN</td>\n",
       "    </tr>\n",
       "    <tr>\n",
       "      <th>required_car_parking_spaces</th>\n",
       "      <td>67,248.00</td>\n",
       "      <td>NaN</td>\n",
       "      <td>NaN</td>\n",
       "      <td>NaN</td>\n",
       "      <td>0.07</td>\n",
       "      <td>0.27</td>\n",
       "      <td>0.00</td>\n",
       "      <td>0.00</td>\n",
       "      <td>0.00</td>\n",
       "      <td>0.00</td>\n",
       "      <td>8.00</td>\n",
       "    </tr>\n",
       "    <tr>\n",
       "      <th>total_of_special_requests</th>\n",
       "      <td>67,248.00</td>\n",
       "      <td>NaN</td>\n",
       "      <td>NaN</td>\n",
       "      <td>NaN</td>\n",
       "      <td>0.71</td>\n",
       "      <td>0.83</td>\n",
       "      <td>0.00</td>\n",
       "      <td>0.00</td>\n",
       "      <td>1.00</td>\n",
       "      <td>1.00</td>\n",
       "      <td>5.00</td>\n",
       "    </tr>\n",
       "    <tr>\n",
       "      <th>total_nights</th>\n",
       "      <td>67,248.00</td>\n",
       "      <td>NaN</td>\n",
       "      <td>NaN</td>\n",
       "      <td>NaN</td>\n",
       "      <td>3.27</td>\n",
       "      <td>1.85</td>\n",
       "      <td>1.00</td>\n",
       "      <td>2.00</td>\n",
       "      <td>3.00</td>\n",
       "      <td>4.00</td>\n",
       "      <td>10.00</td>\n",
       "    </tr>\n",
       "  </tbody>\n",
       "</table>\n",
       "</div>"
      ],
      "text/plain": [
       "                                   count unique        top   freq     mean  \\\n",
       "is_canceled                    67,248.00    NaN        NaN    NaN     0.28   \n",
       "lead_time                      67,248.00    NaN        NaN    NaN    76.60   \n",
       "arrival_date_year              67,248.00    NaN        NaN    NaN 2,016.22   \n",
       "arrival_date_month                 67248     12     August   7351      NaN   \n",
       "adults                         67,248.00    NaN        NaN    NaN     1.87   \n",
       "children                       67,248.00    NaN        NaN    NaN     0.11   \n",
       "meal                               67248      4         BB  52693      NaN   \n",
       "country                            67248     16        PRT  18938      NaN   \n",
       "distribution_channel               67248      4      TA/TO  54732      NaN   \n",
       "previous_cancellations         67,248.00    NaN        NaN    NaN     0.03   \n",
       "previous_bookings_not_canceled 67,248.00    NaN        NaN    NaN     0.18   \n",
       "reserved_room_type                 67248      7          A  45909      NaN   \n",
       "booking_changes                67,248.00    NaN        NaN    NaN     0.26   \n",
       "days_in_waiting_list           67,248.00    NaN        NaN    NaN     0.66   \n",
       "customer_type                      67248      4  Transient  56074      NaN   \n",
       "required_car_parking_spaces    67,248.00    NaN        NaN    NaN     0.07   \n",
       "total_of_special_requests      67,248.00    NaN        NaN    NaN     0.71   \n",
       "total_nights                   67,248.00    NaN        NaN    NaN     3.27   \n",
       "\n",
       "                                 std      min      25%      50%      75%  \\\n",
       "is_canceled                     0.45     0.00     0.00     0.00     1.00   \n",
       "lead_time                      79.09     0.00    12.00    49.00   120.00   \n",
       "arrival_date_year               0.68 2,015.00 2,016.00 2,016.00 2,017.00   \n",
       "arrival_date_month               NaN      NaN      NaN      NaN      NaN   \n",
       "adults                          0.50     0.00     2.00     2.00     2.00   \n",
       "children                        0.40     0.00     0.00     0.00     0.00   \n",
       "meal                             NaN      NaN      NaN      NaN      NaN   \n",
       "country                          NaN      NaN      NaN      NaN      NaN   \n",
       "distribution_channel             NaN      NaN      NaN      NaN      NaN   \n",
       "previous_cancellations          0.39     0.00     0.00     0.00     0.00   \n",
       "previous_bookings_not_canceled  1.82     0.00     0.00     0.00     0.00   \n",
       "reserved_room_type               NaN      NaN      NaN      NaN      NaN   \n",
       "booking_changes                 0.69     0.00     0.00     0.00     0.00   \n",
       "days_in_waiting_list            8.64     0.00     0.00     0.00     0.00   \n",
       "customer_type                    NaN      NaN      NaN      NaN      NaN   \n",
       "required_car_parking_spaces     0.27     0.00     0.00     0.00     0.00   \n",
       "total_of_special_requests       0.83     0.00     0.00     1.00     1.00   \n",
       "total_nights                    1.85     1.00     2.00     3.00     4.00   \n",
       "\n",
       "                                    max  \n",
       "is_canceled                        1.00  \n",
       "lead_time                        374.00  \n",
       "arrival_date_year              2,017.00  \n",
       "arrival_date_month                  NaN  \n",
       "adults                             4.00  \n",
       "children                           3.00  \n",
       "meal                                NaN  \n",
       "country                             NaN  \n",
       "distribution_channel                NaN  \n",
       "previous_cancellations            26.00  \n",
       "previous_bookings_not_canceled    72.00  \n",
       "reserved_room_type                  NaN  \n",
       "booking_changes                   18.00  \n",
       "days_in_waiting_list             259.00  \n",
       "customer_type                       NaN  \n",
       "required_car_parking_spaces        8.00  \n",
       "total_of_special_requests          5.00  \n",
       "total_nights                      10.00  "
      ]
     },
     "execution_count": 32,
     "metadata": {},
     "output_type": "execute_result"
    }
   ],
   "source": [
    "warnings.simplefilter(action='ignore', category=FutureWarning)\n",
    "pd.options.display.float_format = '{:,.2f}'.format\n",
    "pd.options.mode.chained_assignment = None\n",
    "df.describe(include='all').T"
   ]
  },
  {
   "cell_type": "markdown",
   "metadata": {},
   "source": [
    "Самое большое число заселений в 2016 году, месяц - июнь, в середине месяца. Чаще всего постояльцы из португалии. Номер чаще всего заказвают категории А,  с завтраком,без парковки, на 4 ночи и заказчик не связан с групповым заездом или компанией. Параметры заказа реддко меняют.  Почти два месяца медиально проходит между датой бронирования и датой прибытия. В среднем колличество взрослых постояльцев 2 и без детей, 0 взрослых - видимо когда бронируют отдельный номер для детей, 4 - это явно в большой номер. "
   ]
  },
  {
   "cell_type": "markdown",
   "metadata": {},
   "source": [
    "изучим целевую переменную"
   ]
  },
  {
   "cell_type": "code",
   "execution_count": 33,
   "metadata": {},
   "outputs": [
    {
     "data": {
      "image/png": "[encoded data removed]",
      "text/plain": [
       "<Figure size 864x576 with 1 Axes>"
      ]
     },
     "metadata": {},
     "output_type": "display_data"
    }
   ],
   "source": [
    "figure, ax=plt.subplots(figsize=(12,8))\n",
    "labels = 'бронь не отменили' , 'бронь отменили'\n",
    "colors = 'Green', 'Red'\n",
    "df['is_canceled'].value_counts().plot.pie(explode=[0,0.1], colors = colors, labels = labels, autopct='%1.1f%%',ax=ax)\n",
    "ax.set_title('процентное соотношения целевой переменнной')\n",
    "plt.show()"
   ]
  },
  {
   "cell_type": "markdown",
   "metadata": {},
   "source": [
    "Дисбаланс целевой переменной почти в 3 раза меньше положительных значений. Нужно будет исправлять. "
   ]
  },
  {
   "cell_type": "markdown",
   "metadata": {},
   "source": [
    "### Формулировка ML-задачи на основе бизнес-задачи"
   ]
  },
  {
   "cell_type": "markdown",
   "metadata": {},
   "source": [
    "Необходимо что бы модель окупилась за тестовый период те условно за 2017 год. Разделим df "
   ]
  },
  {
   "cell_type": "code",
   "execution_count": 34,
   "metadata": {},
   "outputs": [],
   "source": [
    "df_train = df[df['arrival_date_year'] != 2017]\n",
    "df_test = df[df['arrival_date_year'] == 2017]\n",
    "df_test = df_test.reset_index(drop=True) \n",
    "df_train = df_train.reset_index(drop=True)"
   ]
  },
  {
   "cell_type": "markdown",
   "metadata": {},
   "source": [
    "Для определения прибыли - создадим столбцы с данными по ценам"
   ]
  },
  {
   "cell_type": "code",
   "execution_count": 35,
   "metadata": {},
   "outputs": [],
   "source": [
    "clean_price = {'A': 400, 'B': 350, 'C': 350,'D': 150, 'E': 150, 'F': 150, 'G': 150}\n",
    "\n",
    "room_price = {'A': 1000, 'B': 800, 'C': 600,'D': 550, 'E': 500, 'F': 450, 'G': 350}\n",
    "\n",
    "season_coeff = {'January': 1.0, 'February': 1.0, 'March': 1.2, 'April': 1.2, 'May': 1.2, 'June': 1.4,'July': 1.4, 'August': 1.4, 'September': 1.2, 'October': 1.2, 'November': 1.2, 'December': 1.0}\n",
    "\n",
    "df_test['clean_price'] = df_test['reserved_room_type'].map(clean_price)\n",
    "df_test['room_price'] = df_test['reserved_room_type'].map(room_price)\n",
    "df_test['season_coeff'] = df_test['arrival_date_month'].map(season_coeff)"
   ]
  },
  {
   "cell_type": "markdown",
   "metadata": {},
   "source": [
    "напишем функцию для подсчета прибыли и создадим столбец income"
   ]
  },
  {
   "cell_type": "code",
   "execution_count": 36,
   "metadata": {},
   "outputs": [],
   "source": [
    "def income (i):\n",
    "    if i['is_canceled'] == 0:\n",
    "        return ((i['total_nights'] * i['room_price']*i['season_coeff']) - ((i['total_nights']//2 + 1) * i['clean_price']))\n",
    "    else:\n",
    "        return 0 - (i['room_price']*i['season_coeff']+i['clean_price'])"
   ]
  },
  {
   "cell_type": "code",
   "execution_count": 37,
   "metadata": {},
   "outputs": [],
   "source": [
    "df_test['income'] = df_test.apply(income, axis=1)"
   ]
  },
  {
   "cell_type": "code",
   "execution_count": 38,
   "metadata": {
    "scrolled": true
   },
   "outputs": [
    {
     "data": {
      "text/html": [
       "<div>\n",
       "<style scoped>\n",
       "    .dataframe tbody tr th:only-of-type {\n",
       "        vertical-align: middle;\n",
       "    }\n",
       "\n",
       "    .dataframe tbody tr th {\n",
       "        vertical-align: top;\n",
       "    }\n",
       "\n",
       "    .dataframe thead th {\n",
       "        text-align: right;\n",
       "    }\n",
       "</style>\n",
       "<table border=\"1\" class=\"dataframe\">\n",
       "  <thead>\n",
       "    <tr style=\"text-align: right;\">\n",
       "      <th></th>\n",
       "      <th>is_canceled</th>\n",
       "      <th>lead_time</th>\n",
       "      <th>arrival_date_year</th>\n",
       "      <th>arrival_date_month</th>\n",
       "      <th>adults</th>\n",
       "      <th>children</th>\n",
       "      <th>meal</th>\n",
       "      <th>country</th>\n",
       "      <th>distribution_channel</th>\n",
       "      <th>previous_cancellations</th>\n",
       "      <th>previous_bookings_not_canceled</th>\n",
       "      <th>reserved_room_type</th>\n",
       "      <th>booking_changes</th>\n",
       "      <th>days_in_waiting_list</th>\n",
       "      <th>customer_type</th>\n",
       "      <th>required_car_parking_spaces</th>\n",
       "      <th>total_of_special_requests</th>\n",
       "      <th>total_nights</th>\n",
       "      <th>clean_price</th>\n",
       "      <th>room_price</th>\n",
       "      <th>season_coeff</th>\n",
       "      <th>income</th>\n",
       "    </tr>\n",
       "  </thead>\n",
       "  <tbody>\n",
       "    <tr>\n",
       "      <th>2680</th>\n",
       "      <td>0</td>\n",
       "      <td>112</td>\n",
       "      <td>2017</td>\n",
       "      <td>January</td>\n",
       "      <td>2</td>\n",
       "      <td>0</td>\n",
       "      <td>BB</td>\n",
       "      <td>BEL</td>\n",
       "      <td>TA/TO</td>\n",
       "      <td>0</td>\n",
       "      <td>0</td>\n",
       "      <td>A</td>\n",
       "      <td>0</td>\n",
       "      <td>0</td>\n",
       "      <td>Transient</td>\n",
       "      <td>0</td>\n",
       "      <td>2</td>\n",
       "      <td>3</td>\n",
       "      <td>400</td>\n",
       "      <td>1000</td>\n",
       "      <td>1.00</td>\n",
       "      <td>2,200.00</td>\n",
       "    </tr>\n",
       "    <tr>\n",
       "      <th>22489</th>\n",
       "      <td>0</td>\n",
       "      <td>63</td>\n",
       "      <td>2017</td>\n",
       "      <td>July</td>\n",
       "      <td>1</td>\n",
       "      <td>0</td>\n",
       "      <td>BB</td>\n",
       "      <td>ESP</td>\n",
       "      <td>TA/TO</td>\n",
       "      <td>0</td>\n",
       "      <td>0</td>\n",
       "      <td>A</td>\n",
       "      <td>0</td>\n",
       "      <td>0</td>\n",
       "      <td>Transient</td>\n",
       "      <td>0</td>\n",
       "      <td>0</td>\n",
       "      <td>1</td>\n",
       "      <td>400</td>\n",
       "      <td>1000</td>\n",
       "      <td>1.40</td>\n",
       "      <td>1,000.00</td>\n",
       "    </tr>\n",
       "    <tr>\n",
       "      <th>20709</th>\n",
       "      <td>0</td>\n",
       "      <td>169</td>\n",
       "      <td>2017</td>\n",
       "      <td>June</td>\n",
       "      <td>2</td>\n",
       "      <td>0</td>\n",
       "      <td>BB</td>\n",
       "      <td>DEU</td>\n",
       "      <td>TA/TO</td>\n",
       "      <td>0</td>\n",
       "      <td>0</td>\n",
       "      <td>D</td>\n",
       "      <td>0</td>\n",
       "      <td>0</td>\n",
       "      <td>Transient</td>\n",
       "      <td>0</td>\n",
       "      <td>0</td>\n",
       "      <td>4</td>\n",
       "      <td>150</td>\n",
       "      <td>550</td>\n",
       "      <td>1.40</td>\n",
       "      <td>2,630.00</td>\n",
       "    </tr>\n",
       "  </tbody>\n",
       "</table>\n",
       "</div>"
      ],
      "text/plain": [
       "       is_canceled  lead_time  arrival_date_year arrival_date_month  adults  \\\n",
       "2680             0        112               2017            January       2   \n",
       "22489            0         63               2017               July       1   \n",
       "20709            0        169               2017               June       2   \n",
       "\n",
       "       children meal country distribution_channel  previous_cancellations  \\\n",
       "2680          0   BB     BEL                TA/TO                       0   \n",
       "22489         0   BB     ESP                TA/TO                       0   \n",
       "20709         0   BB     DEU                TA/TO                       0   \n",
       "\n",
       "       previous_bookings_not_canceled reserved_room_type  booking_changes  \\\n",
       "2680                                0                  A                0   \n",
       "22489                               0                  A                0   \n",
       "20709                               0                  D                0   \n",
       "\n",
       "       days_in_waiting_list customer_type  required_car_parking_spaces  \\\n",
       "2680                      0     Transient                            0   \n",
       "22489                     0     Transient                            0   \n",
       "20709                     0     Transient                            0   \n",
       "\n",
       "       total_of_special_requests  total_nights  clean_price  room_price  \\\n",
       "2680                           2             3          400        1000   \n",
       "22489                          0             1          400        1000   \n",
       "20709                          0             4          150         550   \n",
       "\n",
       "       season_coeff   income  \n",
       "2680           1.00 2,200.00  \n",
       "22489          1.40 1,000.00  \n",
       "20709          1.40 2,630.00  "
      ]
     },
     "execution_count": 38,
     "metadata": {},
     "output_type": "execute_result"
    }
   ],
   "source": [
    "df_test.sample(3)"
   ]
  },
  {
   "cell_type": "code",
   "execution_count": 39,
   "metadata": {},
   "outputs": [
    {
     "name": "stdout",
     "output_type": "stream",
     "text": [
      "Прибыль отеля за тестовый период до внедрения модели = 32438510.0 у.е.\n"
     ]
    }
   ],
   "source": [
    "print ('Прибыль отеля за тестовый период до внедрения модели =',df_test['income'].sum(),'у.е.')"
   ]
  },
  {
   "cell_type": "markdown",
   "metadata": {},
   "source": [
    "###  ML"
   ]
  },
  {
   "cell_type": "markdown",
   "metadata": {},
   "source": [
    "подготовим признаки."
   ]
  },
  {
   "cell_type": "code",
   "execution_count": 40,
   "metadata": {},
   "outputs": [],
   "source": [
    "features_train = df_train.drop(['is_canceled','arrival_date_year','arrival_date_month'], axis=1)\n",
    "target_train = df_train['is_canceled']\n",
    "features_test = df_test.drop(['is_canceled','arrival_date_year','arrival_date_month','clean_price', 'room_price', 'season_coeff', 'income'], axis=1)\n",
    "target_test = df_test['is_canceled']"
   ]
  },
  {
   "cell_type": "code",
   "execution_count": 41,
   "metadata": {
    "scrolled": true
   },
   "outputs": [
    {
     "name": "stdout",
     "output_type": "stream",
     "text": [
      "(42876, 15)\n",
      "(42876,)\n",
      "(24372, 15)\n",
      "(24372,)\n"
     ]
    }
   ],
   "source": [
    "print(features_train.shape)\n",
    "print (target_train.shape)\n",
    "print(features_test.shape)\n",
    "print (target_test.shape)"
   ]
  },
  {
   "cell_type": "markdown",
   "metadata": {},
   "source": [
    "скалируем количественные столбцы"
   ]
  },
  {
   "cell_type": "code",
   "execution_count": 42,
   "metadata": {},
   "outputs": [],
   "source": [
    "numeric = ['lead_time','adults', 'children', 'previous_cancellations','previous_bookings_not_canceled', 'booking_changes','days_in_waiting_list', 'required_car_parking_spaces', 'total_of_special_requests','total_nights']\n",
    "scaler = RobustScaler()\n",
    "scaler.fit(features_train[numeric]) \n",
    "features_train[numeric] = scaler.transform(features_train[numeric])\n",
    "features_test[numeric] = scaler.transform(features_test[numeric])"
   ]
  },
  {
   "cell_type": "markdown",
   "metadata": {},
   "source": [
    "кодируем категориальные"
   ]
  },
  {
   "cell_type": "code",
   "execution_count": 43,
   "metadata": {},
   "outputs": [],
   "source": [
    "categorical = ['meal','country', 'distribution_channel', 'reserved_room_type','customer_type']\n",
    "\n",
    "encoder = OneHotEncoder(drop='first', handle_unknown='ignore')\n",
    "encoder.fit(features_train[categorical])\n",
    "\n",
    "features_train_encoded = pd.DataFrame(encoder.transform(features_train[categorical]).toarray(),columns=encoder.get_feature_names_out(categorical),index=features_train.index)\n",
    "features_train = pd.concat((features_train[numeric], features_train_encoded), axis=1)\n",
    "\n",
    "features_test_encoded = pd.DataFrame(encoder.transform(features_test[categorical]).toarray(),columns=encoder.get_feature_names_out(categorical),index=features_test.index)\n",
    "features_test = pd.concat((features_test[numeric], features_test_encoded), axis=1)"
   ]
  },
  {
   "cell_type": "markdown",
   "metadata": {},
   "source": [
    "проверим баланс целевой переменной"
   ]
  },
  {
   "cell_type": "code",
   "execution_count": 44,
   "metadata": {},
   "outputs": [
    {
     "data": {
      "text/plain": [
       "0   0.74\n",
       "1   0.26\n",
       "Name: is_canceled, dtype: float64"
      ]
     },
     "execution_count": 44,
     "metadata": {},
     "output_type": "execute_result"
    }
   ],
   "source": [
    "target_train.value_counts(normalize = True)"
   ]
  },
  {
   "cell_type": "code",
   "execution_count": 45,
   "metadata": {},
   "outputs": [],
   "source": [
    "RANDOM_STATE = 12345"
   ]
  },
  {
   "cell_type": "markdown",
   "metadata": {},
   "source": [
    "выбор модели. Для подбора гиперпараметров будем использовать GridSearchCV. Для оценки recall_score - нам важна именно полнота что бы не получить убытки. Вычисления закоментирую, вычислялось достаточно долго."
   ]
  },
  {
   "cell_type": "code",
   "execution_count": 46,
   "metadata": {},
   "outputs": [],
   "source": [
    "model = Pipeline([\n",
    "        ('sampling', SMOTE()),\n",
    "        ('classifier', LogisticRegression())\n",
    "    ])\n",
    "param_grid = [\n",
    "    {'classifier' : [LogisticRegression()],\n",
    "     'classifier__penalty' : ['l1', 'l2'],\n",
    "    'classifier__C' : np.logspace(-4, 4, 20),\n",
    "    'classifier__solver' : ['liblinear']}\n",
    "]\n",
    "cv = StratifiedKFold(n_splits=5, shuffle=True, random_state=RANDOM_STATE)\n",
    "grid = GridSearchCV(model, param_grid, cv= cv,scoring='recall')\n",
    "grid.fit(features_train, target_train)\n",
    "print(\"Лучшая модель: \", grid.best_params_)\n",
    "print(\"Лучший результат recall: \", grid.best_score_)"
   ]
  },
  {
   "cell_type": "code",
   "execution_count": 47,
   "metadata": {},
   "outputs": [],
   "source": [
    "model2 = Pipeline([\n",
    "        ('sampling', SMOTE()),\n",
    "        ('classifier', RandomForestClassifier())\n",
    "    ])\n",
    "param_grid2 = [\n",
    "     {'classifier' : [RandomForestClassifier()],\n",
    "    'classifier__n_estimators' : list(range(100,200,10)),\n",
    "    'classifier__max_depth' : list(range(2,20)),\n",
    "    'classifier__criterion' :['gini', 'entropy']}\n",
    "]\n",
    "cv2 = StratifiedKFold(n_splits=5, shuffle=True, random_state=RANDOM_STATE)\n",
    "grid2 = GridSearchCV(model2, param_grid2, cv=cv2,scoring='recall')\n",
    "grid.fit(features_train, target_train)\n",
    "\n",
    "print(\"Лучшая модель: \", grid.best_params_)\n",
    "print(\"Лучший результат recall: \", grid.best_score_)"
   ]
  },
  {
   "cell_type": "code",
   "execution_count": 48,
   "metadata": {},
   "outputs": [
    {
     "name": "stdout",
     "output_type": "stream",
     "text": [
      "Лучшая модель:  {'classifier': DecisionTreeClassifier(criterion='entropy', max_depth=2), 'classifier__criterion': 'entropy', 'classifier__max_depth': 2}\n",
      "Лучший результат recall:  0.9147418047936116\n"
     ]
    }
   ],
   "source": [
    "model3 = Pipeline([\n",
    "        ('sampling', SMOTE()),\n",
    "        ('classifier', DecisionTreeClassifier())\n",
    "    ])\n",
    "param_grid3 = [\n",
    "     {'classifier' : [DecisionTreeClassifier()],\n",
    "    'classifier__max_depth' : list(range(2,10)),\n",
    "    'classifier__criterion' :['gini', 'entropy']}\n",
    "]\n",
    "cv3 = StratifiedKFold(n_splits=5, shuffle=True, random_state=RANDOM_STATE)\n",
    "grid3 = GridSearchCV(model3, param_grid3, cv= cv3,scoring='recall')\n",
    "grid.fit(features_train, target_train)\n",
    "\n",
    "print(\"Лучшая модель: \", grid.best_params_)\n",
    "print(\"Лучший результат recall: \", grid.best_score_)"
   ]
  },
  {
   "cell_type": "code",
   "execution_count": 49,
   "metadata": {
    "scrolled": true
   },
   "outputs": [
    {
     "name": "stdout",
     "output_type": "stream",
     "text": [
      "                   модель  recall\n",
      "0      LogisticRegression    0.78\n",
      "1  RandomForestClassifier    0.78\n",
      "2  DecisionTreeClassifier    0.92\n"
     ]
    }
   ],
   "source": [
    "data =  {'модель':['LogisticRegression', 'RandomForestClassifier', 'DecisionTreeClassifier'], 'recall':[ 0.7841908765382042, 0.7841908765382042,0.9173585226726851]} \n",
    "df_model = pd.DataFrame(data) \n",
    "print (df_model)"
   ]
  },
  {
   "cell_type": "markdown",
   "metadata": {},
   "source": [
    "Удивительно! Модель дерева решений - лучшая! \n",
    "\n",
    "проверим  на тестовых данных."
   ]
  },
  {
   "cell_type": "code",
   "execution_count": 50,
   "metadata": {},
   "outputs": [
    {
     "data": {
      "text/plain": [
       "0.9528362837575914"
      ]
     },
     "execution_count": 50,
     "metadata": {},
     "output_type": "execute_result"
    }
   ],
   "source": [
    "target_test_predict = grid.predict(features_test)\n",
    "recall_score(target_test, target_test_predict)"
   ]
  },
  {
   "cell_type": "markdown",
   "metadata": {},
   "source": [
    "Отличный результат. \n",
    "\n",
    "Посчитаем прибыль. "
   ]
  },
  {
   "cell_type": "code",
   "execution_count": 51,
   "metadata": {},
   "outputs": [],
   "source": [
    "df_test['pred_canceled'] = target_test_predict"
   ]
  },
  {
   "cell_type": "code",
   "execution_count": 52,
   "metadata": {
    "scrolled": true
   },
   "outputs": [
    {
     "data": {
      "text/html": [
       "<div>\n",
       "<style scoped>\n",
       "    .dataframe tbody tr th:only-of-type {\n",
       "        vertical-align: middle;\n",
       "    }\n",
       "\n",
       "    .dataframe tbody tr th {\n",
       "        vertical-align: top;\n",
       "    }\n",
       "\n",
       "    .dataframe thead th {\n",
       "        text-align: right;\n",
       "    }\n",
       "</style>\n",
       "<table border=\"1\" class=\"dataframe\">\n",
       "  <thead>\n",
       "    <tr style=\"text-align: right;\">\n",
       "      <th></th>\n",
       "      <th>is_canceled</th>\n",
       "      <th>lead_time</th>\n",
       "      <th>arrival_date_year</th>\n",
       "      <th>arrival_date_month</th>\n",
       "      <th>adults</th>\n",
       "      <th>children</th>\n",
       "      <th>meal</th>\n",
       "      <th>country</th>\n",
       "      <th>distribution_channel</th>\n",
       "      <th>previous_cancellations</th>\n",
       "      <th>previous_bookings_not_canceled</th>\n",
       "      <th>reserved_room_type</th>\n",
       "      <th>booking_changes</th>\n",
       "      <th>days_in_waiting_list</th>\n",
       "      <th>customer_type</th>\n",
       "      <th>required_car_parking_spaces</th>\n",
       "      <th>total_of_special_requests</th>\n",
       "      <th>total_nights</th>\n",
       "      <th>clean_price</th>\n",
       "      <th>room_price</th>\n",
       "      <th>season_coeff</th>\n",
       "      <th>income</th>\n",
       "      <th>pred_canceled</th>\n",
       "    </tr>\n",
       "  </thead>\n",
       "  <tbody>\n",
       "    <tr>\n",
       "      <th>9696</th>\n",
       "      <td>1</td>\n",
       "      <td>173</td>\n",
       "      <td>2017</td>\n",
       "      <td>May</td>\n",
       "      <td>2</td>\n",
       "      <td>0</td>\n",
       "      <td>BB</td>\n",
       "      <td>DEU</td>\n",
       "      <td>TA/TO</td>\n",
       "      <td>0</td>\n",
       "      <td>0</td>\n",
       "      <td>D</td>\n",
       "      <td>0</td>\n",
       "      <td>0</td>\n",
       "      <td>Transient</td>\n",
       "      <td>0</td>\n",
       "      <td>2</td>\n",
       "      <td>3</td>\n",
       "      <td>150</td>\n",
       "      <td>550</td>\n",
       "      <td>1.20</td>\n",
       "      <td>-810.00</td>\n",
       "      <td>1</td>\n",
       "    </tr>\n",
       "    <tr>\n",
       "      <th>13609</th>\n",
       "      <td>0</td>\n",
       "      <td>9</td>\n",
       "      <td>2017</td>\n",
       "      <td>January</td>\n",
       "      <td>2</td>\n",
       "      <td>0</td>\n",
       "      <td>BB</td>\n",
       "      <td>FRA</td>\n",
       "      <td>TA/TO</td>\n",
       "      <td>0</td>\n",
       "      <td>0</td>\n",
       "      <td>D</td>\n",
       "      <td>0</td>\n",
       "      <td>0</td>\n",
       "      <td>Transient</td>\n",
       "      <td>0</td>\n",
       "      <td>2</td>\n",
       "      <td>3</td>\n",
       "      <td>150</td>\n",
       "      <td>550</td>\n",
       "      <td>1.00</td>\n",
       "      <td>1,350.00</td>\n",
       "      <td>1</td>\n",
       "    </tr>\n",
       "    <tr>\n",
       "      <th>6984</th>\n",
       "      <td>1</td>\n",
       "      <td>231</td>\n",
       "      <td>2017</td>\n",
       "      <td>February</td>\n",
       "      <td>2</td>\n",
       "      <td>1</td>\n",
       "      <td>BB</td>\n",
       "      <td>GBR</td>\n",
       "      <td>TA/TO</td>\n",
       "      <td>0</td>\n",
       "      <td>0</td>\n",
       "      <td>A</td>\n",
       "      <td>0</td>\n",
       "      <td>0</td>\n",
       "      <td>Transient</td>\n",
       "      <td>0</td>\n",
       "      <td>0</td>\n",
       "      <td>6</td>\n",
       "      <td>400</td>\n",
       "      <td>1000</td>\n",
       "      <td>1.00</td>\n",
       "      <td>-1,400.00</td>\n",
       "      <td>1</td>\n",
       "    </tr>\n",
       "  </tbody>\n",
       "</table>\n",
       "</div>"
      ],
      "text/plain": [
       "       is_canceled  lead_time  arrival_date_year arrival_date_month  adults  \\\n",
       "9696             1        173               2017                May       2   \n",
       "13609            0          9               2017            January       2   \n",
       "6984             1        231               2017           February       2   \n",
       "\n",
       "       children meal country distribution_channel  previous_cancellations  \\\n",
       "9696          0   BB     DEU                TA/TO                       0   \n",
       "13609         0   BB     FRA                TA/TO                       0   \n",
       "6984          1   BB     GBR                TA/TO                       0   \n",
       "\n",
       "       previous_bookings_not_canceled reserved_room_type  booking_changes  \\\n",
       "9696                                0                  D                0   \n",
       "13609                               0                  D                0   \n",
       "6984                                0                  A                0   \n",
       "\n",
       "       days_in_waiting_list customer_type  required_car_parking_spaces  \\\n",
       "9696                      0     Transient                            0   \n",
       "13609                     0     Transient                            0   \n",
       "6984                      0     Transient                            0   \n",
       "\n",
       "       total_of_special_requests  total_nights  clean_price  room_price  \\\n",
       "9696                           2             3          150         550   \n",
       "13609                          2             3          150         550   \n",
       "6984                           0             6          400        1000   \n",
       "\n",
       "       season_coeff    income  pred_canceled  \n",
       "9696           1.20   -810.00              1  \n",
       "13609          1.00  1,350.00              1  \n",
       "6984           1.00 -1,400.00              1  "
      ]
     },
     "execution_count": 52,
     "metadata": {},
     "output_type": "execute_result"
    }
   ],
   "source": [
    "df_test.sample(3)"
   ]
  },
  {
   "cell_type": "code",
   "execution_count": 53,
   "metadata": {},
   "outputs": [],
   "source": [
    "def profit (i):\n",
    "    if i['is_canceled'] == 0:\n",
    "        return ((i['total_nights'] * i['room_price']*i['season_coeff']) - ((i['total_nights']//2 + 1) * i['clean_price']))\n",
    "    elif i['is_canceled'] == 1 and i['pred_canceled'] == 1:\n",
    "        return (0-i['room_price']*i['season_coeff']+i['clean_price'])*0.2\n",
    "    else:\n",
    "        return 0 - (i['room_price']*i['season_coeff']+i['clean_price'])"
   ]
  },
  {
   "cell_type": "code",
   "execution_count": 54,
   "metadata": {},
   "outputs": [],
   "source": [
    "def p_profit (i):\n",
    "    if i['is_canceled'] == 0 and i['pred_canceled'] == 0:\n",
    "        return ((i['total_nights'] * i['room_price']*i['season_coeff']) - ((i['total_nights']//2 + 1) * i['clean_price']))\n",
    "    elif i['is_canceled'] == 0 and i['pred_canceled'] == 1:\n",
    "        return (i['room_price']*i['season_coeff']+i['clean_price'])*0.5\n",
    "    elif i['is_canceled'] == 1 and i['pred_canceled'] == 1:\n",
    "        return 0-(i['room_price']*i['season_coeff']+i['clean_price'])*0.2\n",
    "    else:\n",
    "        return 0 - (i['room_price']*i['season_coeff']+i['clean_price'])"
   ]
  },
  {
   "cell_type": "code",
   "execution_count": 55,
   "metadata": {},
   "outputs": [],
   "source": [
    "df_test['profit'] = df_test.apply(profit, axis=1)"
   ]
  },
  {
   "cell_type": "code",
   "execution_count": 56,
   "metadata": {},
   "outputs": [],
   "source": [
    "df_test['p_profit'] = df_test.apply(p_profit, axis=1)"
   ]
  },
  {
   "cell_type": "code",
   "execution_count": 57,
   "metadata": {
    "scrolled": true
   },
   "outputs": [
    {
     "name": "stdout",
     "output_type": "stream",
     "text": [
      "Оптимистичный сценарий. Общая ожидаемая прибыль за год после внедрения модели: 8933136.0 у.е.\n"
     ]
    }
   ],
   "source": [
    "print ('Оптимистичный сценарий. Общая ожидаемая прибыль за год после внедрения модели:',df_test['profit'].sum() - df_test['income'].sum(),'у.е.')"
   ]
  },
  {
   "cell_type": "code",
   "execution_count": 58,
   "metadata": {},
   "outputs": [
    {
     "name": "stdout",
     "output_type": "stream",
     "text": [
      "Пессимистичный сценарий. Общая ожидаемая прибыль за год после внедрения модели: -18864719.0 у.е.\n"
     ]
    }
   ],
   "source": [
    "print ('Пессимистичный сценарий. Общая ожидаемая прибыль за год после внедрения модели:',df_test['p_profit'].sum() - df_test['income'].sum(),'у.е.')"
   ]
  },
  {
   "cell_type": "markdown",
   "metadata": {},
   "source": [
    "Очень неожиданно (может быть только для меня) модель решающего дерева с подобранными гиперпараметрами оказалась лучше в оценке полноты чем лог. регрессия и случайный лес!\n",
    "Модель явно окупается. Общая ожидаемая прибыль за год после внедрения модели сотавляет 8млн. и превышает затраты в 400.000. Но есть пессимимстичный сценарий когда 50% откажутся от брони на раннм этапе из за депозита и тогда отель понесет убытки. "
   ]
  },
  {
   "cell_type": "markdown",
   "metadata": {},
   "source": [
    "###  Портрет «ненадёжного» клиента"
   ]
  },
  {
   "cell_type": "markdown",
   "metadata": {},
   "source": [
    "Опишем признаки не надежного клиента"
   ]
  },
  {
   "cell_type": "code",
   "execution_count": 59,
   "metadata": {
    "scrolled": true
   },
   "outputs": [
    {
     "name": "stdout",
     "output_type": "stream",
     "text": [
      "      mean  count\n",
      "meal             \n",
      "SC    0.35   9197\n",
      "FB    0.30    165\n",
      "HB    0.27   5193\n",
      "         mean  count\n",
      "country             \n",
      "CHN      0.49    732\n",
      "BRA      0.37   1721\n",
      "PRT      0.37  18938\n",
      "                      mean  count\n",
      "distribution_channel             \n",
      "TA/TO                 0.31  54732\n",
      "GDS                   0.18    168\n",
      "Direct                0.15   8553\n",
      "                    mean  count\n",
      "reserved_room_type             \n",
      "G                   0.34    849\n",
      "B                   0.32    921\n",
      "D                   0.31  13765\n",
      "                 mean  count\n",
      "customer_type               \n",
      "Transient        0.30  56074\n",
      "Contract         0.19   2199\n",
      "Transient-Party  0.16   8560\n"
     ]
    }
   ],
   "source": [
    "print (df.groupby('meal')['is_canceled'].agg(['mean', 'count']).sort_values('mean', ascending=False).head(3))\n",
    "print (df.groupby('country')['is_canceled'].agg(['mean', 'count']).sort_values('mean', ascending=False).head(3))\n",
    "print (df.groupby('distribution_channel')['is_canceled'].agg(['mean', 'count']).sort_values('mean', ascending=False).head(3))\n",
    "print (df.groupby('reserved_room_type')['is_canceled'].agg(['mean', 'count']).sort_values('mean', ascending=False).head(3))\n",
    "print (df.groupby('customer_type')['is_canceled'].agg(['mean', 'count']).sort_values('mean', ascending=False).head(3))"
   ]
  },
  {
   "cell_type": "code",
   "execution_count": 60,
   "metadata": {},
   "outputs": [],
   "source": [
    "df_canceled=df[df['is_canceled']==1]"
   ]
  },
  {
   "cell_type": "code",
   "execution_count": 61,
   "metadata": {
    "scrolled": true
   },
   "outputs": [
    {
     "data": {
      "text/html": [
       "<div>\n",
       "<style scoped>\n",
       "    .dataframe tbody tr th:only-of-type {\n",
       "        vertical-align: middle;\n",
       "    }\n",
       "\n",
       "    .dataframe tbody tr th {\n",
       "        vertical-align: top;\n",
       "    }\n",
       "\n",
       "    .dataframe thead th {\n",
       "        text-align: right;\n",
       "    }\n",
       "</style>\n",
       "<table border=\"1\" class=\"dataframe\">\n",
       "  <thead>\n",
       "    <tr style=\"text-align: right;\">\n",
       "      <th></th>\n",
       "      <th>count</th>\n",
       "      <th>mean</th>\n",
       "      <th>std</th>\n",
       "      <th>min</th>\n",
       "      <th>25%</th>\n",
       "      <th>50%</th>\n",
       "      <th>75%</th>\n",
       "      <th>max</th>\n",
       "    </tr>\n",
       "  </thead>\n",
       "  <tbody>\n",
       "    <tr>\n",
       "      <th>is_canceled</th>\n",
       "      <td>18,823.00</td>\n",
       "      <td>1.00</td>\n",
       "      <td>0.00</td>\n",
       "      <td>1.00</td>\n",
       "      <td>1.00</td>\n",
       "      <td>1.00</td>\n",
       "      <td>1.00</td>\n",
       "      <td>1.00</td>\n",
       "    </tr>\n",
       "    <tr>\n",
       "      <th>lead_time</th>\n",
       "      <td>18,823.00</td>\n",
       "      <td>101.42</td>\n",
       "      <td>84.64</td>\n",
       "      <td>0.00</td>\n",
       "      <td>32.00</td>\n",
       "      <td>78.00</td>\n",
       "      <td>154.00</td>\n",
       "      <td>374.00</td>\n",
       "    </tr>\n",
       "    <tr>\n",
       "      <th>arrival_date_year</th>\n",
       "      <td>18,823.00</td>\n",
       "      <td>2,016.30</td>\n",
       "      <td>0.65</td>\n",
       "      <td>2,015.00</td>\n",
       "      <td>2,016.00</td>\n",
       "      <td>2,016.00</td>\n",
       "      <td>2,017.00</td>\n",
       "      <td>2,017.00</td>\n",
       "    </tr>\n",
       "    <tr>\n",
       "      <th>adults</th>\n",
       "      <td>18,823.00</td>\n",
       "      <td>1.94</td>\n",
       "      <td>0.48</td>\n",
       "      <td>0.00</td>\n",
       "      <td>2.00</td>\n",
       "      <td>2.00</td>\n",
       "      <td>2.00</td>\n",
       "      <td>4.00</td>\n",
       "    </tr>\n",
       "    <tr>\n",
       "      <th>children</th>\n",
       "      <td>18,823.00</td>\n",
       "      <td>0.14</td>\n",
       "      <td>0.45</td>\n",
       "      <td>0.00</td>\n",
       "      <td>0.00</td>\n",
       "      <td>0.00</td>\n",
       "      <td>0.00</td>\n",
       "      <td>3.00</td>\n",
       "    </tr>\n",
       "    <tr>\n",
       "      <th>previous_cancellations</th>\n",
       "      <td>18,823.00</td>\n",
       "      <td>0.06</td>\n",
       "      <td>0.53</td>\n",
       "      <td>0.00</td>\n",
       "      <td>0.00</td>\n",
       "      <td>0.00</td>\n",
       "      <td>0.00</td>\n",
       "      <td>26.00</td>\n",
       "    </tr>\n",
       "    <tr>\n",
       "      <th>previous_bookings_not_canceled</th>\n",
       "      <td>18,823.00</td>\n",
       "      <td>0.04</td>\n",
       "      <td>0.86</td>\n",
       "      <td>0.00</td>\n",
       "      <td>0.00</td>\n",
       "      <td>0.00</td>\n",
       "      <td>0.00</td>\n",
       "      <td>58.00</td>\n",
       "    </tr>\n",
       "    <tr>\n",
       "      <th>booking_changes</th>\n",
       "      <td>18,823.00</td>\n",
       "      <td>0.16</td>\n",
       "      <td>0.58</td>\n",
       "      <td>0.00</td>\n",
       "      <td>0.00</td>\n",
       "      <td>0.00</td>\n",
       "      <td>0.00</td>\n",
       "      <td>16.00</td>\n",
       "    </tr>\n",
       "    <tr>\n",
       "      <th>days_in_waiting_list</th>\n",
       "      <td>18,823.00</td>\n",
       "      <td>0.76</td>\n",
       "      <td>8.42</td>\n",
       "      <td>0.00</td>\n",
       "      <td>0.00</td>\n",
       "      <td>0.00</td>\n",
       "      <td>0.00</td>\n",
       "      <td>236.00</td>\n",
       "    </tr>\n",
       "    <tr>\n",
       "      <th>required_car_parking_spaces</th>\n",
       "      <td>18,823.00</td>\n",
       "      <td>0.00</td>\n",
       "      <td>0.00</td>\n",
       "      <td>0.00</td>\n",
       "      <td>0.00</td>\n",
       "      <td>0.00</td>\n",
       "      <td>0.00</td>\n",
       "      <td>0.00</td>\n",
       "    </tr>\n",
       "    <tr>\n",
       "      <th>total_of_special_requests</th>\n",
       "      <td>18,823.00</td>\n",
       "      <td>0.54</td>\n",
       "      <td>0.76</td>\n",
       "      <td>0.00</td>\n",
       "      <td>0.00</td>\n",
       "      <td>0.00</td>\n",
       "      <td>1.00</td>\n",
       "      <td>5.00</td>\n",
       "    </tr>\n",
       "    <tr>\n",
       "      <th>total_nights</th>\n",
       "      <td>18,823.00</td>\n",
       "      <td>3.48</td>\n",
       "      <td>1.83</td>\n",
       "      <td>1.00</td>\n",
       "      <td>2.00</td>\n",
       "      <td>3.00</td>\n",
       "      <td>4.00</td>\n",
       "      <td>10.00</td>\n",
       "    </tr>\n",
       "  </tbody>\n",
       "</table>\n",
       "</div>"
      ],
      "text/plain": [
       "                                   count     mean   std      min      25%  \\\n",
       "is_canceled                    18,823.00     1.00  0.00     1.00     1.00   \n",
       "lead_time                      18,823.00   101.42 84.64     0.00    32.00   \n",
       "arrival_date_year              18,823.00 2,016.30  0.65 2,015.00 2,016.00   \n",
       "adults                         18,823.00     1.94  0.48     0.00     2.00   \n",
       "children                       18,823.00     0.14  0.45     0.00     0.00   \n",
       "previous_cancellations         18,823.00     0.06  0.53     0.00     0.00   \n",
       "previous_bookings_not_canceled 18,823.00     0.04  0.86     0.00     0.00   \n",
       "booking_changes                18,823.00     0.16  0.58     0.00     0.00   \n",
       "days_in_waiting_list           18,823.00     0.76  8.42     0.00     0.00   \n",
       "required_car_parking_spaces    18,823.00     0.00  0.00     0.00     0.00   \n",
       "total_of_special_requests      18,823.00     0.54  0.76     0.00     0.00   \n",
       "total_nights                   18,823.00     3.48  1.83     1.00     2.00   \n",
       "\n",
       "                                    50%      75%      max  \n",
       "is_canceled                        1.00     1.00     1.00  \n",
       "lead_time                         78.00   154.00   374.00  \n",
       "arrival_date_year              2,016.00 2,017.00 2,017.00  \n",
       "adults                             2.00     2.00     4.00  \n",
       "children                           0.00     0.00     3.00  \n",
       "previous_cancellations             0.00     0.00    26.00  \n",
       "previous_bookings_not_canceled     0.00     0.00    58.00  \n",
       "booking_changes                    0.00     0.00    16.00  \n",
       "days_in_waiting_list               0.00     0.00   236.00  \n",
       "required_car_parking_spaces        0.00     0.00     0.00  \n",
       "total_of_special_requests          0.00     1.00     5.00  \n",
       "total_nights                       3.00     4.00    10.00  "
      ]
     },
     "execution_count": 61,
     "metadata": {},
     "output_type": "execute_result"
    }
   ],
   "source": [
    "df_canceled.describe().T"
   ]
  },
  {
   "cell_type": "markdown",
   "metadata": {},
   "source": [
    "Не надежного клиента можно описать как гражданина Китая, Бразилии или Португалии, с дистрибьюцией заказа ТА/ТО (не знаю что это и признак не пояснен), резервирующего D,B,G типа номер и не связаного с договором или групповым заездом, имеет около 80 дней между датой бронирования и датой прибытия, бронирует впервые, на 2 взрослых, на ночи, без детей, без места для парковки, около 1 дня находится в листе ожидания."
   ]
  },
  {
   "cell_type": "markdown",
   "metadata": {},
   "source": [
    "### Общий вывод"
   ]
  },
  {
   "cell_type": "markdown",
   "metadata": {},
   "source": [
    "Мы  разрабатывали систему, которая предсказывает отказ от брони. Данные в целом были качественные но было много дубликатов. \n",
    "Каждый 4й клиент оменяет бронь. После подбора параметров лучше всего себя показала модель решающего дерева, но подбор осуществляется очень долго. Общая ожидаемая прибыль за год после внедрения модели сотавляет 8млн. и превышает затраты в 400.000. Но есть пессимимстичный сценарий когда 50% откажутся от брони на раннм этапе из за депозита и тогда отель понесет убытки..\n",
    "Сразу хочется отметить что ввод депозита лучше производить на основании A/B теста. Не известно как клиенты отреагируют на введение депозита и сколько из них в итоге откажется от брони на раннем этапе. Так же можно попробовать выборочно вводить депозит исходя из признаков не надежного клиента."
   ]
  }
 ],
 "metadata": {
  "ExecuteTimeLog": [
   {
    "duration": 22813,
    "start_time": "2023-02-21T16:32:27.052Z"
   },
   {
    "duration": 774,
    "start_time": "2023-02-21T16:34:46.923Z"
   },
   {
    "duration": 34,
    "start_time": "2023-02-21T16:35:35.809Z"
   },
   {
    "duration": 17,
    "start_time": "2023-02-21T16:36:01.273Z"
   },
   {
    "duration": 28,
    "start_time": "2023-02-21T16:36:59.710Z"
   },
   {
    "duration": 21,
    "start_time": "2023-02-21T16:43:59.234Z"
   },
   {
    "duration": 88305,
    "start_time": "2023-02-21T16:46:49.345Z"
   },
   {
    "duration": 91060,
    "start_time": "2023-02-21T16:48:17.652Z"
   },
   {
    "duration": 43,
    "start_time": "2023-02-21T16:56:27.013Z"
   },
   {
    "duration": 8,
    "start_time": "2023-02-21T16:58:15.431Z"
   },
   {
    "duration": 168,
    "start_time": "2023-02-21T16:59:10.787Z"
   },
   {
    "duration": 55,
    "start_time": "2023-02-21T16:59:24.480Z"
   },
   {
    "duration": 20,
    "start_time": "2023-02-21T17:09:12.367Z"
   },
   {
    "duration": 11,
    "start_time": "2023-02-21T17:09:57.014Z"
   },
   {
    "duration": 51,
    "start_time": "2023-02-21T17:10:02.815Z"
   },
   {
    "duration": 48,
    "start_time": "2023-02-21T17:10:17.128Z"
   },
   {
    "duration": 32,
    "start_time": "2023-02-21T17:18:11.324Z"
   },
   {
    "duration": 26,
    "start_time": "2023-02-21T17:18:19.952Z"
   },
   {
    "duration": 47,
    "start_time": "2023-02-21T17:18:28.913Z"
   },
   {
    "duration": 22705,
    "start_time": "2023-02-23T07:35:51.617Z"
   },
   {
    "duration": 480,
    "start_time": "2023-02-23T07:36:14.325Z"
   },
   {
    "duration": 204,
    "start_time": "2023-02-23T07:36:14.807Z"
   },
   {
    "duration": 0,
    "start_time": "2023-02-23T07:36:15.012Z"
   },
   {
    "duration": 0,
    "start_time": "2023-02-23T07:36:15.014Z"
   },
   {
    "duration": 0,
    "start_time": "2023-02-23T07:36:15.015Z"
   },
   {
    "duration": 0,
    "start_time": "2023-02-23T07:36:15.016Z"
   },
   {
    "duration": 4768,
    "start_time": "2023-02-23T07:38:17.223Z"
   },
   {
    "duration": 200,
    "start_time": "2023-02-23T07:38:21.994Z"
   },
   {
    "duration": 98009,
    "start_time": "2023-02-23T07:38:22.196Z"
   },
   {
    "duration": 88715,
    "start_time": "2023-02-23T07:40:00.209Z"
   },
   {
    "duration": 24,
    "start_time": "2023-02-23T07:41:28.926Z"
   },
   {
    "duration": 69,
    "start_time": "2023-02-23T07:41:28.952Z"
   },
   {
    "duration": 48,
    "start_time": "2023-02-23T07:41:29.023Z"
   },
   {
    "duration": 2635,
    "start_time": "2023-02-23T07:42:24.612Z"
   },
   {
    "duration": 202,
    "start_time": "2023-02-23T07:42:27.249Z"
   },
   {
    "duration": 23,
    "start_time": "2023-02-23T07:42:27.453Z"
   },
   {
    "duration": 37,
    "start_time": "2023-02-23T07:42:27.478Z"
   },
   {
    "duration": 18,
    "start_time": "2023-02-23T07:42:27.517Z"
   },
   {
    "duration": 29,
    "start_time": "2023-02-23T07:42:27.536Z"
   },
   {
    "duration": 21,
    "start_time": "2023-02-23T07:42:42.093Z"
   },
   {
    "duration": 939,
    "start_time": "2023-02-23T07:43:28.712Z"
   },
   {
    "duration": 196,
    "start_time": "2023-02-23T07:43:29.653Z"
   },
   {
    "duration": 28,
    "start_time": "2023-02-23T07:43:29.851Z"
   },
   {
    "duration": 35,
    "start_time": "2023-02-23T07:43:29.881Z"
   },
   {
    "duration": 17,
    "start_time": "2023-02-23T07:43:29.918Z"
   },
   {
    "duration": 22,
    "start_time": "2023-02-23T07:43:29.936Z"
   },
   {
    "duration": 20,
    "start_time": "2023-02-23T07:43:49.634Z"
   },
   {
    "duration": 112,
    "start_time": "2023-02-23T08:57:09.223Z"
   },
   {
    "duration": 3257,
    "start_time": "2023-02-23T09:04:25.739Z"
   },
   {
    "duration": 89151,
    "start_time": "2023-02-23T09:05:05.270Z"
   },
   {
    "duration": 9,
    "start_time": "2023-02-23T09:14:54.818Z"
   },
   {
    "duration": 126,
    "start_time": "2023-02-23T09:17:55.104Z"
   },
   {
    "duration": 90,
    "start_time": "2023-02-23T09:18:42.351Z"
   },
   {
    "duration": 83,
    "start_time": "2023-02-23T09:18:50.213Z"
   },
   {
    "duration": 36,
    "start_time": "2023-02-23T09:20:07.402Z"
   },
   {
    "duration": 42,
    "start_time": "2023-02-23T09:20:32.237Z"
   },
   {
    "duration": 29,
    "start_time": "2023-02-23T09:20:57.985Z"
   },
   {
    "duration": 26,
    "start_time": "2023-02-23T09:21:39.682Z"
   },
   {
    "duration": 13,
    "start_time": "2023-02-23T09:21:51.397Z"
   },
   {
    "duration": 23,
    "start_time": "2023-02-23T09:21:57.444Z"
   },
   {
    "duration": 68,
    "start_time": "2023-02-23T09:22:25.616Z"
   },
   {
    "duration": 58,
    "start_time": "2023-02-23T09:23:51.482Z"
   },
   {
    "duration": 29,
    "start_time": "2023-02-23T09:24:11.474Z"
   },
   {
    "duration": 2073,
    "start_time": "2023-02-23T09:29:25.074Z"
   },
   {
    "duration": 2466,
    "start_time": "2023-02-23T09:30:04.170Z"
   },
   {
    "duration": 2400,
    "start_time": "2023-02-23T09:30:45.713Z"
   },
   {
    "duration": 2037,
    "start_time": "2023-02-23T09:30:54.216Z"
   },
   {
    "duration": 21,
    "start_time": "2023-02-23T09:34:39.829Z"
   },
   {
    "duration": 61,
    "start_time": "2023-02-23T09:34:46.023Z"
   },
   {
    "duration": 8,
    "start_time": "2023-02-23T09:37:33.159Z"
   },
   {
    "duration": 7,
    "start_time": "2023-02-23T09:38:28.854Z"
   },
   {
    "duration": 7,
    "start_time": "2023-02-23T09:39:40.638Z"
   },
   {
    "duration": 7,
    "start_time": "2023-02-23T09:41:34.483Z"
   },
   {
    "duration": 11,
    "start_time": "2023-02-23T09:49:32.515Z"
   },
   {
    "duration": 4174,
    "start_time": "2023-02-23T10:17:43.418Z"
   },
   {
    "duration": 195,
    "start_time": "2023-02-23T10:17:47.594Z"
   },
   {
    "duration": 26,
    "start_time": "2023-02-23T10:17:47.791Z"
   },
   {
    "duration": 27,
    "start_time": "2023-02-23T10:17:47.819Z"
   },
   {
    "duration": 20,
    "start_time": "2023-02-23T10:17:47.848Z"
   },
   {
    "duration": 17,
    "start_time": "2023-02-23T10:17:47.869Z"
   },
   {
    "duration": 13,
    "start_time": "2023-02-23T10:17:47.909Z"
   },
   {
    "duration": 15,
    "start_time": "2023-02-23T10:17:47.923Z"
   },
   {
    "duration": 51,
    "start_time": "2023-02-23T10:17:47.940Z"
   },
   {
    "duration": 36,
    "start_time": "2023-02-23T10:17:47.993Z"
   },
   {
    "duration": 59,
    "start_time": "2023-02-23T10:17:48.030Z"
   },
   {
    "duration": 49,
    "start_time": "2023-02-23T10:17:48.091Z"
   },
   {
    "duration": 69,
    "start_time": "2023-02-23T10:17:48.142Z"
   },
   {
    "duration": 7,
    "start_time": "2023-02-23T10:17:48.214Z"
   },
   {
    "duration": 10,
    "start_time": "2023-02-23T10:17:48.222Z"
   },
   {
    "duration": 7,
    "start_time": "2023-02-23T10:17:48.233Z"
   },
   {
    "duration": 8,
    "start_time": "2023-02-23T10:17:48.241Z"
   },
   {
    "duration": 206,
    "start_time": "2023-02-23T10:17:48.251Z"
   },
   {
    "duration": 0,
    "start_time": "2023-02-23T10:17:48.459Z"
   },
   {
    "duration": 0,
    "start_time": "2023-02-23T10:17:48.460Z"
   },
   {
    "duration": 0,
    "start_time": "2023-02-23T10:17:48.461Z"
   },
   {
    "duration": 7,
    "start_time": "2023-02-23T10:19:21.437Z"
   },
   {
    "duration": 8,
    "start_time": "2023-02-23T11:09:08.004Z"
   },
   {
    "duration": 7,
    "start_time": "2023-02-23T11:10:04.667Z"
   },
   {
    "duration": 4,
    "start_time": "2023-02-23T11:24:29.422Z"
   },
   {
    "duration": 4,
    "start_time": "2023-02-23T11:25:20.916Z"
   },
   {
    "duration": 109,
    "start_time": "2023-02-23T11:26:09.150Z"
   },
   {
    "duration": 115,
    "start_time": "2023-02-23T11:26:37.515Z"
   },
   {
    "duration": 72,
    "start_time": "2023-02-23T11:27:51.273Z"
   },
   {
    "duration": 34,
    "start_time": "2023-02-23T11:31:42.016Z"
   },
   {
    "duration": 45,
    "start_time": "2023-02-23T11:31:53.305Z"
   },
   {
    "duration": 18,
    "start_time": "2023-02-23T11:32:04.055Z"
   },
   {
    "duration": 5,
    "start_time": "2023-02-23T11:35:59.534Z"
   },
   {
    "duration": 5,
    "start_time": "2023-02-23T11:36:08.561Z"
   },
   {
    "duration": 6,
    "start_time": "2023-02-23T11:37:28.820Z"
   },
   {
    "duration": 38,
    "start_time": "2023-02-23T11:39:34.687Z"
   },
   {
    "duration": 66,
    "start_time": "2023-02-23T11:39:52.200Z"
   },
   {
    "duration": 146,
    "start_time": "2023-02-23T11:40:02.121Z"
   },
   {
    "duration": 7,
    "start_time": "2023-02-23T11:42:28.350Z"
   },
   {
    "duration": 57,
    "start_time": "2023-02-23T11:43:01.520Z"
   },
   {
    "duration": 4262,
    "start_time": "2023-02-23T11:43:20.238Z"
   },
   {
    "duration": 200,
    "start_time": "2023-02-23T11:43:24.501Z"
   },
   {
    "duration": 24,
    "start_time": "2023-02-23T11:43:24.702Z"
   },
   {
    "duration": 25,
    "start_time": "2023-02-23T11:43:24.727Z"
   },
   {
    "duration": 19,
    "start_time": "2023-02-23T11:43:24.754Z"
   },
   {
    "duration": 41,
    "start_time": "2023-02-23T11:43:24.774Z"
   },
   {
    "duration": 13,
    "start_time": "2023-02-23T11:43:24.816Z"
   },
   {
    "duration": 4,
    "start_time": "2023-02-23T11:43:24.830Z"
   },
   {
    "duration": 32,
    "start_time": "2023-02-23T11:43:24.836Z"
   },
   {
    "duration": 58,
    "start_time": "2023-02-23T11:43:24.871Z"
   },
   {
    "duration": 52,
    "start_time": "2023-02-23T11:43:24.930Z"
   },
   {
    "duration": 81,
    "start_time": "2023-02-23T11:43:24.983Z"
   },
   {
    "duration": 97,
    "start_time": "2023-02-23T11:43:25.066Z"
   },
   {
    "duration": 8,
    "start_time": "2023-02-23T11:43:25.164Z"
   },
   {
    "duration": 10,
    "start_time": "2023-02-23T11:43:25.174Z"
   },
   {
    "duration": 25,
    "start_time": "2023-02-23T11:43:25.185Z"
   },
   {
    "duration": 8,
    "start_time": "2023-02-23T11:43:25.212Z"
   },
   {
    "duration": 9,
    "start_time": "2023-02-23T11:43:25.222Z"
   },
   {
    "duration": 9,
    "start_time": "2023-02-23T11:43:25.233Z"
   },
   {
    "duration": 8,
    "start_time": "2023-02-23T11:43:25.244Z"
   },
   {
    "duration": 88,
    "start_time": "2023-02-23T11:43:25.254Z"
   },
   {
    "duration": 0,
    "start_time": "2023-02-23T11:43:25.344Z"
   },
   {
    "duration": 0,
    "start_time": "2023-02-23T11:43:25.345Z"
   },
   {
    "duration": 0,
    "start_time": "2023-02-23T11:43:25.347Z"
   },
   {
    "duration": 0,
    "start_time": "2023-02-23T11:43:25.347Z"
   },
   {
    "duration": 2444,
    "start_time": "2023-02-23T11:43:35.414Z"
   },
   {
    "duration": 242,
    "start_time": "2023-02-23T11:43:37.861Z"
   },
   {
    "duration": 21,
    "start_time": "2023-02-23T11:43:38.105Z"
   },
   {
    "duration": 29,
    "start_time": "2023-02-23T11:43:38.129Z"
   },
   {
    "duration": 22,
    "start_time": "2023-02-23T11:43:38.160Z"
   },
   {
    "duration": 47,
    "start_time": "2023-02-23T11:43:38.184Z"
   },
   {
    "duration": 12,
    "start_time": "2023-02-23T11:43:38.233Z"
   },
   {
    "duration": 5,
    "start_time": "2023-02-23T11:43:38.247Z"
   },
   {
    "duration": 57,
    "start_time": "2023-02-23T11:43:38.253Z"
   },
   {
    "duration": 27,
    "start_time": "2023-02-23T11:43:38.313Z"
   },
   {
    "duration": 37,
    "start_time": "2023-02-23T11:43:38.342Z"
   },
   {
    "duration": 86,
    "start_time": "2023-02-23T11:43:38.381Z"
   },
   {
    "duration": 90,
    "start_time": "2023-02-23T11:43:38.469Z"
   },
   {
    "duration": 9,
    "start_time": "2023-02-23T11:43:38.561Z"
   },
   {
    "duration": 9,
    "start_time": "2023-02-23T11:43:38.572Z"
   },
   {
    "duration": 33,
    "start_time": "2023-02-23T11:43:38.583Z"
   },
   {
    "duration": 21,
    "start_time": "2023-02-23T11:43:38.618Z"
   },
   {
    "duration": 11,
    "start_time": "2023-02-23T11:43:38.642Z"
   },
   {
    "duration": 10,
    "start_time": "2023-02-23T11:43:38.655Z"
   },
   {
    "duration": 10,
    "start_time": "2023-02-23T11:43:38.667Z"
   },
   {
    "duration": 80,
    "start_time": "2023-02-23T11:43:38.680Z"
   },
   {
    "duration": 2138,
    "start_time": "2023-02-23T11:43:38.762Z"
   },
   {
    "duration": 127,
    "start_time": "2023-02-23T11:43:40.901Z"
   },
   {
    "duration": 89,
    "start_time": "2023-02-23T11:43:41.030Z"
   },
   {
    "duration": 190,
    "start_time": "2023-02-23T11:49:39.022Z"
   },
   {
    "duration": 1082,
    "start_time": "2023-02-23T11:49:55.483Z"
   },
   {
    "duration": 13,
    "start_time": "2023-02-23T11:58:38.867Z"
   },
   {
    "duration": 13,
    "start_time": "2023-02-23T11:59:55.865Z"
   },
   {
    "duration": 16,
    "start_time": "2023-02-23T12:01:54.525Z"
   },
   {
    "duration": 1009,
    "start_time": "2023-02-23T12:02:12.534Z"
   },
   {
    "duration": 11,
    "start_time": "2023-02-23T12:02:50.198Z"
   },
   {
    "duration": 6,
    "start_time": "2023-02-23T12:02:54.203Z"
   },
   {
    "duration": 946,
    "start_time": "2023-02-23T12:02:56.221Z"
   },
   {
    "duration": 955,
    "start_time": "2023-02-23T12:05:06.761Z"
   },
   {
    "duration": 937,
    "start_time": "2023-02-23T12:09:13.120Z"
   },
   {
    "duration": 4,
    "start_time": "2023-02-23T12:09:58.009Z"
   },
   {
    "duration": 76,
    "start_time": "2023-02-23T12:10:00.377Z"
   },
   {
    "duration": 3,
    "start_time": "2023-02-23T12:10:22.105Z"
   },
   {
    "duration": 22,
    "start_time": "2023-02-23T12:10:28.172Z"
   },
   {
    "duration": 7,
    "start_time": "2023-02-23T12:10:40.472Z"
   },
   {
    "duration": 1027,
    "start_time": "2023-02-23T12:10:42.089Z"
   },
   {
    "duration": 71,
    "start_time": "2023-02-23T12:14:01.088Z"
   },
   {
    "duration": 17,
    "start_time": "2023-02-23T12:14:22.148Z"
   },
   {
    "duration": 143,
    "start_time": "2023-02-23T12:14:58.651Z"
   },
   {
    "duration": 11,
    "start_time": "2023-02-23T12:15:26.636Z"
   },
   {
    "duration": 5,
    "start_time": "2023-02-23T12:15:31.273Z"
   },
   {
    "duration": 3,
    "start_time": "2023-02-23T12:15:41.539Z"
   },
   {
    "duration": 78,
    "start_time": "2023-02-23T12:16:29.734Z"
   },
   {
    "duration": 21,
    "start_time": "2023-02-23T12:32:29.021Z"
   },
   {
    "duration": 74,
    "start_time": "2023-02-23T12:33:42.398Z"
   },
   {
    "duration": 67,
    "start_time": "2023-02-23T12:37:14.184Z"
   },
   {
    "duration": 137,
    "start_time": "2023-02-23T12:37:23.374Z"
   },
   {
    "duration": 105,
    "start_time": "2023-02-23T12:52:29.334Z"
   },
   {
    "duration": 4561,
    "start_time": "2023-02-23T12:54:33.740Z"
   },
   {
    "duration": 273,
    "start_time": "2023-02-23T12:54:38.304Z"
   },
   {
    "duration": 32,
    "start_time": "2023-02-23T12:54:38.579Z"
   },
   {
    "duration": 39,
    "start_time": "2023-02-23T12:54:38.614Z"
   },
   {
    "duration": 21,
    "start_time": "2023-02-23T12:54:38.655Z"
   },
   {
    "duration": 46,
    "start_time": "2023-02-23T12:54:38.679Z"
   },
   {
    "duration": 14,
    "start_time": "2023-02-23T12:54:38.728Z"
   },
   {
    "duration": 5,
    "start_time": "2023-02-23T12:54:38.744Z"
   },
   {
    "duration": 67,
    "start_time": "2023-02-23T12:54:38.750Z"
   },
   {
    "duration": 39,
    "start_time": "2023-02-23T12:54:38.819Z"
   },
   {
    "duration": 16,
    "start_time": "2023-02-23T12:54:38.860Z"
   },
   {
    "duration": 82,
    "start_time": "2023-02-23T12:54:38.878Z"
   },
   {
    "duration": 115,
    "start_time": "2023-02-23T12:54:38.962Z"
   },
   {
    "duration": 85,
    "start_time": "2023-02-23T12:54:39.079Z"
   },
   {
    "duration": 6,
    "start_time": "2023-02-23T12:54:39.165Z"
   },
   {
    "duration": 11,
    "start_time": "2023-02-23T12:54:39.174Z"
   },
   {
    "duration": 10,
    "start_time": "2023-02-23T12:54:39.209Z"
   },
   {
    "duration": 12,
    "start_time": "2023-02-23T12:54:39.220Z"
   },
   {
    "duration": 10,
    "start_time": "2023-02-23T12:54:39.234Z"
   },
   {
    "duration": 18,
    "start_time": "2023-02-23T12:54:39.245Z"
   },
   {
    "duration": 46,
    "start_time": "2023-02-23T12:54:39.266Z"
   },
   {
    "duration": 65,
    "start_time": "2023-02-23T12:54:39.313Z"
   },
   {
    "duration": 91,
    "start_time": "2023-02-23T12:54:39.380Z"
   },
   {
    "duration": 0,
    "start_time": "2023-02-23T12:54:39.473Z"
   },
   {
    "duration": 0,
    "start_time": "2023-02-23T12:54:39.475Z"
   },
   {
    "duration": 0,
    "start_time": "2023-02-23T12:54:39.477Z"
   },
   {
    "duration": 0,
    "start_time": "2023-02-23T12:54:39.478Z"
   },
   {
    "duration": 2292,
    "start_time": "2023-02-23T12:59:43.052Z"
   },
   {
    "duration": 199,
    "start_time": "2023-02-23T12:59:45.346Z"
   },
   {
    "duration": 22,
    "start_time": "2023-02-23T12:59:45.546Z"
   },
   {
    "duration": 40,
    "start_time": "2023-02-23T12:59:45.570Z"
   },
   {
    "duration": 20,
    "start_time": "2023-02-23T12:59:45.611Z"
   },
   {
    "duration": 17,
    "start_time": "2023-02-23T12:59:45.632Z"
   },
   {
    "duration": 12,
    "start_time": "2023-02-23T12:59:45.651Z"
   },
   {
    "duration": 4,
    "start_time": "2023-02-23T12:59:45.664Z"
   },
   {
    "duration": 60,
    "start_time": "2023-02-23T12:59:45.670Z"
   },
   {
    "duration": 24,
    "start_time": "2023-02-23T12:59:45.733Z"
   },
   {
    "duration": 14,
    "start_time": "2023-02-23T12:59:45.759Z"
   },
   {
    "duration": 53,
    "start_time": "2023-02-23T12:59:45.775Z"
   },
   {
    "duration": 61,
    "start_time": "2023-02-23T12:59:45.829Z"
   },
   {
    "duration": 84,
    "start_time": "2023-02-23T12:59:45.891Z"
   },
   {
    "duration": 4,
    "start_time": "2023-02-23T12:59:45.977Z"
   },
   {
    "duration": 28,
    "start_time": "2023-02-23T12:59:45.982Z"
   },
   {
    "duration": 19,
    "start_time": "2023-02-23T12:59:46.012Z"
   },
   {
    "duration": 9,
    "start_time": "2023-02-23T12:59:46.032Z"
   },
   {
    "duration": 8,
    "start_time": "2023-02-23T12:59:46.042Z"
   },
   {
    "duration": 9,
    "start_time": "2023-02-23T12:59:46.051Z"
   },
   {
    "duration": 8,
    "start_time": "2023-02-23T12:59:46.062Z"
   },
   {
    "duration": 87,
    "start_time": "2023-02-23T12:59:46.071Z"
   },
   {
    "duration": 85,
    "start_time": "2023-02-23T12:59:46.160Z"
   },
   {
    "duration": 0,
    "start_time": "2023-02-23T12:59:46.246Z"
   },
   {
    "duration": 0,
    "start_time": "2023-02-23T12:59:46.247Z"
   },
   {
    "duration": 0,
    "start_time": "2023-02-23T12:59:46.248Z"
   },
   {
    "duration": 0,
    "start_time": "2023-02-23T12:59:46.249Z"
   },
   {
    "duration": 115,
    "start_time": "2023-02-23T13:00:15.746Z"
   },
   {
    "duration": 6,
    "start_time": "2023-02-23T13:01:11.149Z"
   },
   {
    "duration": 6,
    "start_time": "2023-02-23T13:01:35.203Z"
   },
   {
    "duration": 220,
    "start_time": "2023-02-23T13:02:26.189Z"
   },
   {
    "duration": 288,
    "start_time": "2023-02-23T13:03:09.196Z"
   },
   {
    "duration": 165,
    "start_time": "2023-02-23T13:03:16.133Z"
   },
   {
    "duration": 84,
    "start_time": "2023-02-23T13:05:56.361Z"
   },
   {
    "duration": 145,
    "start_time": "2023-02-23T13:24:03.852Z"
   },
   {
    "duration": 107,
    "start_time": "2023-02-23T13:24:49.734Z"
   },
   {
    "duration": 5,
    "start_time": "2023-02-23T13:29:32.104Z"
   },
   {
    "duration": 161,
    "start_time": "2023-02-23T13:29:49.382Z"
   },
   {
    "duration": 168,
    "start_time": "2023-02-23T13:30:01.694Z"
   },
   {
    "duration": 6,
    "start_time": "2023-02-23T13:31:11.412Z"
   },
   {
    "duration": 138,
    "start_time": "2023-02-23T13:32:55.738Z"
   },
   {
    "duration": 188,
    "start_time": "2023-02-23T13:36:09.144Z"
   },
   {
    "duration": 72,
    "start_time": "2023-02-23T13:38:07.362Z"
   },
   {
    "duration": 3,
    "start_time": "2023-02-23T13:44:35.965Z"
   },
   {
    "duration": 2352,
    "start_time": "2023-02-23T13:44:39.228Z"
   },
   {
    "duration": 3,
    "start_time": "2023-02-23T13:44:41.582Z"
   },
   {
    "duration": 210,
    "start_time": "2023-02-23T13:44:41.587Z"
   },
   {
    "duration": 19,
    "start_time": "2023-02-23T13:44:41.799Z"
   },
   {
    "duration": 25,
    "start_time": "2023-02-23T13:44:41.821Z"
   },
   {
    "duration": 18,
    "start_time": "2023-02-23T13:44:41.848Z"
   },
   {
    "duration": 20,
    "start_time": "2023-02-23T13:44:41.868Z"
   },
   {
    "duration": 29,
    "start_time": "2023-02-23T13:44:41.890Z"
   },
   {
    "duration": 4,
    "start_time": "2023-02-23T13:44:41.920Z"
   },
   {
    "duration": 34,
    "start_time": "2023-02-23T13:44:41.925Z"
   },
   {
    "duration": 26,
    "start_time": "2023-02-23T13:44:41.960Z"
   },
   {
    "duration": 33,
    "start_time": "2023-02-23T13:44:41.988Z"
   },
   {
    "duration": 31,
    "start_time": "2023-02-23T13:44:42.023Z"
   },
   {
    "duration": 84,
    "start_time": "2023-02-23T13:44:42.057Z"
   },
   {
    "duration": 84,
    "start_time": "2023-02-23T13:44:42.142Z"
   },
   {
    "duration": 4,
    "start_time": "2023-02-23T13:44:42.227Z"
   },
   {
    "duration": 11,
    "start_time": "2023-02-23T13:44:42.233Z"
   },
   {
    "duration": 10,
    "start_time": "2023-02-23T13:44:42.246Z"
   },
   {
    "duration": 10,
    "start_time": "2023-02-23T13:44:42.258Z"
   },
   {
    "duration": 10,
    "start_time": "2023-02-23T13:44:42.309Z"
   },
   {
    "duration": 12,
    "start_time": "2023-02-23T13:44:42.321Z"
   },
   {
    "duration": 10,
    "start_time": "2023-02-23T13:44:42.335Z"
   },
   {
    "duration": 97,
    "start_time": "2023-02-23T13:44:42.348Z"
   },
   {
    "duration": 119,
    "start_time": "2023-02-23T13:44:42.447Z"
   },
   {
    "duration": 5,
    "start_time": "2023-02-23T13:44:42.568Z"
   },
   {
    "duration": 7,
    "start_time": "2023-02-23T13:44:42.574Z"
   },
   {
    "duration": 213,
    "start_time": "2023-02-23T13:44:42.582Z"
   },
   {
    "duration": 123,
    "start_time": "2023-02-23T13:44:42.796Z"
   },
   {
    "duration": 171,
    "start_time": "2023-02-23T13:44:42.920Z"
   },
   {
    "duration": 80,
    "start_time": "2023-02-23T13:44:43.093Z"
   },
   {
    "duration": 71,
    "start_time": "2023-02-23T13:51:44.715Z"
   },
   {
    "duration": 123,
    "start_time": "2023-02-23T13:53:25.486Z"
   },
   {
    "duration": 71,
    "start_time": "2023-02-23T13:55:31.564Z"
   },
   {
    "duration": 223,
    "start_time": "2023-02-23T14:02:08.851Z"
   },
   {
    "duration": 91,
    "start_time": "2023-02-23T14:02:13.109Z"
   },
   {
    "duration": 80,
    "start_time": "2023-02-23T14:02:25.808Z"
   },
   {
    "duration": 70,
    "start_time": "2023-02-23T14:07:28.405Z"
   },
   {
    "duration": 12,
    "start_time": "2023-02-23T14:13:23.597Z"
   },
   {
    "duration": 6,
    "start_time": "2023-02-23T14:13:37.887Z"
   },
   {
    "duration": 2383,
    "start_time": "2023-02-23T14:15:31.812Z"
   },
   {
    "duration": 3,
    "start_time": "2023-02-23T14:15:34.198Z"
   },
   {
    "duration": 217,
    "start_time": "2023-02-23T14:15:34.202Z"
   },
   {
    "duration": 17,
    "start_time": "2023-02-23T14:15:34.421Z"
   },
   {
    "duration": 28,
    "start_time": "2023-02-23T14:15:34.440Z"
   },
   {
    "duration": 15,
    "start_time": "2023-02-23T14:15:34.470Z"
   },
   {
    "duration": 37,
    "start_time": "2023-02-23T14:15:34.486Z"
   },
   {
    "duration": 9,
    "start_time": "2023-02-23T14:15:34.525Z"
   },
   {
    "duration": 5,
    "start_time": "2023-02-23T14:15:34.535Z"
   },
   {
    "duration": 27,
    "start_time": "2023-02-23T14:15:34.542Z"
   },
   {
    "duration": 117,
    "start_time": "2023-02-23T14:15:34.571Z"
   },
   {
    "duration": 38,
    "start_time": "2023-02-23T14:15:34.690Z"
   },
   {
    "duration": 7,
    "start_time": "2023-02-23T14:15:34.730Z"
   },
   {
    "duration": 15,
    "start_time": "2023-02-23T14:15:34.739Z"
   },
   {
    "duration": 55,
    "start_time": "2023-02-23T14:15:34.756Z"
   },
   {
    "duration": 54,
    "start_time": "2023-02-23T14:15:34.813Z"
   },
   {
    "duration": 81,
    "start_time": "2023-02-23T14:15:34.869Z"
   },
   {
    "duration": 9,
    "start_time": "2023-02-23T14:15:34.952Z"
   },
   {
    "duration": 10,
    "start_time": "2023-02-23T14:15:34.963Z"
   },
   {
    "duration": 8,
    "start_time": "2023-02-23T14:15:34.975Z"
   },
   {
    "duration": 9,
    "start_time": "2023-02-23T14:15:35.010Z"
   },
   {
    "duration": 10,
    "start_time": "2023-02-23T14:15:35.021Z"
   },
   {
    "duration": 9,
    "start_time": "2023-02-23T14:15:35.032Z"
   },
   {
    "duration": 90,
    "start_time": "2023-02-23T14:15:35.042Z"
   },
   {
    "duration": 89,
    "start_time": "2023-02-23T14:15:35.134Z"
   },
   {
    "duration": 5,
    "start_time": "2023-02-23T14:15:35.224Z"
   },
   {
    "duration": 7,
    "start_time": "2023-02-23T14:15:35.231Z"
   },
   {
    "duration": 214,
    "start_time": "2023-02-23T14:15:35.241Z"
   },
   {
    "duration": 128,
    "start_time": "2023-02-23T14:15:35.458Z"
   },
   {
    "duration": 138,
    "start_time": "2023-02-23T14:15:35.589Z"
   },
   {
    "duration": 89,
    "start_time": "2023-02-23T14:15:35.729Z"
   },
   {
    "duration": 4274,
    "start_time": "2023-02-23T14:16:39.540Z"
   },
   {
    "duration": 3,
    "start_time": "2023-02-23T14:16:43.815Z"
   },
   {
    "duration": 206,
    "start_time": "2023-02-23T14:16:43.820Z"
   },
   {
    "duration": 26,
    "start_time": "2023-02-23T14:16:44.028Z"
   },
   {
    "duration": 26,
    "start_time": "2023-02-23T14:16:44.056Z"
   },
   {
    "duration": 42,
    "start_time": "2023-02-23T14:16:44.084Z"
   },
   {
    "duration": 18,
    "start_time": "2023-02-23T14:16:44.128Z"
   },
   {
    "duration": 14,
    "start_time": "2023-02-23T14:16:44.148Z"
   },
   {
    "duration": 7,
    "start_time": "2023-02-23T14:16:44.164Z"
   },
   {
    "duration": 67,
    "start_time": "2023-02-23T14:16:44.174Z"
   },
   {
    "duration": 97,
    "start_time": "2023-02-23T14:16:44.242Z"
   },
   {
    "duration": 34,
    "start_time": "2023-02-23T14:16:44.340Z"
   },
   {
    "duration": 7,
    "start_time": "2023-02-23T14:16:44.375Z"
   },
   {
    "duration": 37,
    "start_time": "2023-02-23T14:16:44.383Z"
   },
   {
    "duration": 47,
    "start_time": "2023-02-23T14:16:44.421Z"
   },
   {
    "duration": 84,
    "start_time": "2023-02-23T14:16:44.470Z"
   },
   {
    "duration": 85,
    "start_time": "2023-02-23T14:16:44.555Z"
   },
   {
    "duration": 8,
    "start_time": "2023-02-23T14:16:44.642Z"
   },
   {
    "duration": 13,
    "start_time": "2023-02-23T14:16:44.651Z"
   },
   {
    "duration": 8,
    "start_time": "2023-02-23T14:16:44.665Z"
   },
   {
    "duration": 35,
    "start_time": "2023-02-23T14:16:44.675Z"
   },
   {
    "duration": 9,
    "start_time": "2023-02-23T14:16:44.712Z"
   },
   {
    "duration": 21,
    "start_time": "2023-02-23T14:16:44.723Z"
   },
   {
    "duration": 70,
    "start_time": "2023-02-23T14:16:44.746Z"
   },
   {
    "duration": 76,
    "start_time": "2023-02-23T14:16:44.817Z"
   },
   {
    "duration": 154,
    "start_time": "2023-02-23T14:16:44.895Z"
   },
   {
    "duration": 146,
    "start_time": "2023-02-23T14:16:45.051Z"
   },
   {
    "duration": 2355,
    "start_time": "2023-02-23T14:17:27.952Z"
   },
   {
    "duration": 3,
    "start_time": "2023-02-23T14:17:30.310Z"
   },
   {
    "duration": 238,
    "start_time": "2023-02-23T14:17:30.315Z"
   },
   {
    "duration": 17,
    "start_time": "2023-02-23T14:17:30.555Z"
   },
   {
    "duration": 61,
    "start_time": "2023-02-23T14:17:30.574Z"
   },
   {
    "duration": 17,
    "start_time": "2023-02-23T14:17:30.637Z"
   },
   {
    "duration": 36,
    "start_time": "2023-02-23T14:17:30.656Z"
   },
   {
    "duration": 34,
    "start_time": "2023-02-23T14:17:30.694Z"
   },
   {
    "duration": 10,
    "start_time": "2023-02-23T14:17:30.729Z"
   },
   {
    "duration": 41,
    "start_time": "2023-02-23T14:17:30.741Z"
   },
   {
    "duration": 81,
    "start_time": "2023-02-23T14:17:30.783Z"
   },
   {
    "duration": 44,
    "start_time": "2023-02-23T14:17:30.866Z"
   },
   {
    "duration": 7,
    "start_time": "2023-02-23T14:17:30.911Z"
   },
   {
    "duration": 26,
    "start_time": "2023-02-23T14:17:30.919Z"
   },
   {
    "duration": 71,
    "start_time": "2023-02-23T14:17:30.946Z"
   },
   {
    "duration": 72,
    "start_time": "2023-02-23T14:17:31.019Z"
   },
   {
    "duration": 66,
    "start_time": "2023-02-23T14:17:31.093Z"
   },
   {
    "duration": 8,
    "start_time": "2023-02-23T14:17:31.161Z"
   },
   {
    "duration": 38,
    "start_time": "2023-02-23T14:17:31.171Z"
   },
   {
    "duration": 45,
    "start_time": "2023-02-23T14:17:31.210Z"
   },
   {
    "duration": 16,
    "start_time": "2023-02-23T14:17:31.256Z"
   },
   {
    "duration": 32,
    "start_time": "2023-02-23T14:17:31.273Z"
   },
   {
    "duration": 40,
    "start_time": "2023-02-23T14:17:31.307Z"
   },
   {
    "duration": 75,
    "start_time": "2023-02-23T14:17:31.348Z"
   },
   {
    "duration": 85,
    "start_time": "2023-02-23T14:17:31.425Z"
   },
   {
    "duration": 126,
    "start_time": "2023-02-23T14:17:31.512Z"
   },
   {
    "duration": 136,
    "start_time": "2023-02-23T14:17:31.640Z"
   },
   {
    "duration": 120,
    "start_time": "2023-02-23T14:17:49.191Z"
   },
   {
    "duration": 1646,
    "start_time": "2023-02-23T14:33:24.898Z"
   },
   {
    "duration": 1423,
    "start_time": "2023-02-23T14:41:32.500Z"
   },
   {
    "duration": 2440,
    "start_time": "2023-02-23T14:55:57.408Z"
   },
   {
    "duration": 4,
    "start_time": "2023-02-23T14:55:59.850Z"
   },
   {
    "duration": 203,
    "start_time": "2023-02-23T14:55:59.856Z"
   },
   {
    "duration": 18,
    "start_time": "2023-02-23T14:56:00.062Z"
   },
   {
    "duration": 50,
    "start_time": "2023-02-23T14:56:00.081Z"
   },
   {
    "duration": 15,
    "start_time": "2023-02-23T14:56:00.133Z"
   },
   {
    "duration": 44,
    "start_time": "2023-02-23T14:56:00.150Z"
   },
   {
    "duration": 28,
    "start_time": "2023-02-23T14:56:00.196Z"
   },
   {
    "duration": 63,
    "start_time": "2023-02-23T14:56:00.225Z"
   },
   {
    "duration": 74,
    "start_time": "2023-02-23T14:56:00.293Z"
   },
   {
    "duration": 105,
    "start_time": "2023-02-23T14:56:00.368Z"
   },
   {
    "duration": 36,
    "start_time": "2023-02-23T14:56:00.474Z"
   },
   {
    "duration": 7,
    "start_time": "2023-02-23T14:56:00.512Z"
   },
   {
    "duration": 63,
    "start_time": "2023-02-23T14:56:00.520Z"
   },
   {
    "duration": 66,
    "start_time": "2023-02-23T14:56:00.585Z"
   },
   {
    "duration": 1231,
    "start_time": "2023-02-23T14:56:00.653Z"
   },
   {
    "duration": 0,
    "start_time": "2023-02-23T14:56:01.886Z"
   },
   {
    "duration": 0,
    "start_time": "2023-02-23T14:56:01.888Z"
   },
   {
    "duration": 0,
    "start_time": "2023-02-23T14:56:01.889Z"
   },
   {
    "duration": 0,
    "start_time": "2023-02-23T14:56:01.890Z"
   },
   {
    "duration": 0,
    "start_time": "2023-02-23T14:56:01.892Z"
   },
   {
    "duration": 0,
    "start_time": "2023-02-23T14:56:01.893Z"
   },
   {
    "duration": 0,
    "start_time": "2023-02-23T14:56:01.895Z"
   },
   {
    "duration": 0,
    "start_time": "2023-02-23T14:56:01.897Z"
   },
   {
    "duration": 0,
    "start_time": "2023-02-23T14:56:01.898Z"
   },
   {
    "duration": 0,
    "start_time": "2023-02-23T14:56:01.899Z"
   },
   {
    "duration": 0,
    "start_time": "2023-02-23T14:56:01.901Z"
   },
   {
    "duration": 56,
    "start_time": "2023-02-23T14:56:18.693Z"
   },
   {
    "duration": 22,
    "start_time": "2023-02-23T14:57:07.240Z"
   },
   {
    "duration": 2326,
    "start_time": "2023-02-23T14:57:19.078Z"
   },
   {
    "duration": 3,
    "start_time": "2023-02-23T14:57:21.406Z"
   },
   {
    "duration": 181,
    "start_time": "2023-02-23T14:57:21.410Z"
   },
   {
    "duration": 17,
    "start_time": "2023-02-23T14:57:21.593Z"
   },
   {
    "duration": 35,
    "start_time": "2023-02-23T14:57:21.612Z"
   },
   {
    "duration": 16,
    "start_time": "2023-02-23T14:57:21.649Z"
   },
   {
    "duration": 26,
    "start_time": "2023-02-23T14:57:21.666Z"
   },
   {
    "duration": 24,
    "start_time": "2023-02-23T14:57:21.694Z"
   },
   {
    "duration": 4,
    "start_time": "2023-02-23T14:57:21.720Z"
   },
   {
    "duration": 21,
    "start_time": "2023-02-23T14:57:21.726Z"
   },
   {
    "duration": 102,
    "start_time": "2023-02-23T14:57:21.748Z"
   },
   {
    "duration": 24,
    "start_time": "2023-02-23T14:57:21.852Z"
   },
   {
    "duration": 7,
    "start_time": "2023-02-23T14:57:21.878Z"
   },
   {
    "duration": 35,
    "start_time": "2023-02-23T14:57:21.886Z"
   },
   {
    "duration": 32,
    "start_time": "2023-02-23T14:57:21.923Z"
   },
   {
    "duration": 79,
    "start_time": "2023-02-23T14:57:21.956Z"
   },
   {
    "duration": 74,
    "start_time": "2023-02-23T14:57:22.037Z"
   },
   {
    "duration": 9,
    "start_time": "2023-02-23T14:57:22.112Z"
   },
   {
    "duration": 21,
    "start_time": "2023-02-23T14:57:22.122Z"
   },
   {
    "duration": 20,
    "start_time": "2023-02-23T14:57:22.145Z"
   },
   {
    "duration": 11,
    "start_time": "2023-02-23T14:57:22.167Z"
   },
   {
    "duration": 15,
    "start_time": "2023-02-23T14:57:22.180Z"
   },
   {
    "duration": 10,
    "start_time": "2023-02-23T14:57:22.210Z"
   },
   {
    "duration": 62,
    "start_time": "2023-02-23T14:57:22.222Z"
   },
   {
    "duration": 94,
    "start_time": "2023-02-23T14:57:22.286Z"
   },
   {
    "duration": 1998,
    "start_time": "2023-02-23T14:57:22.382Z"
   },
   {
    "duration": 149,
    "start_time": "2023-02-23T14:57:24.381Z"
   },
   {
    "duration": 1125,
    "start_time": "2023-02-23T15:03:50.741Z"
   },
   {
    "duration": 2,
    "start_time": "2023-02-23T15:03:51.868Z"
   },
   {
    "duration": 205,
    "start_time": "2023-02-23T15:03:51.872Z"
   },
   {
    "duration": 22,
    "start_time": "2023-02-23T15:03:52.079Z"
   },
   {
    "duration": 27,
    "start_time": "2023-02-23T15:03:52.102Z"
   },
   {
    "duration": 17,
    "start_time": "2023-02-23T15:03:52.131Z"
   },
   {
    "duration": 23,
    "start_time": "2023-02-23T15:03:52.149Z"
   },
   {
    "duration": 40,
    "start_time": "2023-02-23T15:03:52.173Z"
   },
   {
    "duration": 4,
    "start_time": "2023-02-23T15:03:52.215Z"
   },
   {
    "duration": 32,
    "start_time": "2023-02-23T15:03:52.222Z"
   },
   {
    "duration": 105,
    "start_time": "2023-02-23T15:03:52.255Z"
   },
   {
    "duration": 52,
    "start_time": "2023-02-23T15:03:52.362Z"
   },
   {
    "duration": 10,
    "start_time": "2023-02-23T15:03:52.416Z"
   },
   {
    "duration": 17,
    "start_time": "2023-02-23T15:03:52.428Z"
   },
   {
    "duration": 84,
    "start_time": "2023-02-23T15:03:52.447Z"
   },
   {
    "duration": 78,
    "start_time": "2023-02-23T15:03:52.533Z"
   },
   {
    "duration": 68,
    "start_time": "2023-02-23T15:03:52.612Z"
   },
   {
    "duration": 29,
    "start_time": "2023-02-23T15:03:52.681Z"
   },
   {
    "duration": 9,
    "start_time": "2023-02-23T15:03:52.711Z"
   },
   {
    "duration": 21,
    "start_time": "2023-02-23T15:03:52.721Z"
   },
   {
    "duration": 7,
    "start_time": "2023-02-23T15:03:52.744Z"
   },
   {
    "duration": 8,
    "start_time": "2023-02-23T15:03:52.753Z"
   },
   {
    "duration": 8,
    "start_time": "2023-02-23T15:03:52.763Z"
   },
   {
    "duration": 87,
    "start_time": "2023-02-23T15:03:52.773Z"
   },
   {
    "duration": 90,
    "start_time": "2023-02-23T15:03:52.862Z"
   },
   {
    "duration": 1919,
    "start_time": "2023-02-23T15:03:52.954Z"
   },
   {
    "duration": 143,
    "start_time": "2023-02-23T15:03:54.874Z"
   },
   {
    "duration": 12,
    "start_time": "2023-02-23T16:16:10.078Z"
   },
   {
    "duration": 4,
    "start_time": "2023-02-23T16:16:15.166Z"
   },
   {
    "duration": 6,
    "start_time": "2023-02-23T16:16:15.172Z"
   },
   {
    "duration": 225,
    "start_time": "2023-02-23T16:16:15.180Z"
   },
   {
    "duration": 20,
    "start_time": "2023-02-23T16:16:15.407Z"
   },
   {
    "duration": 27,
    "start_time": "2023-02-23T16:16:15.429Z"
   },
   {
    "duration": 16,
    "start_time": "2023-02-23T16:16:15.457Z"
   },
   {
    "duration": 51,
    "start_time": "2023-02-23T16:16:15.476Z"
   },
   {
    "duration": 9,
    "start_time": "2023-02-23T16:16:15.529Z"
   },
   {
    "duration": 6,
    "start_time": "2023-02-23T16:16:15.541Z"
   },
   {
    "duration": 30,
    "start_time": "2023-02-23T16:16:15.549Z"
   },
   {
    "duration": 107,
    "start_time": "2023-02-23T16:16:15.581Z"
   },
   {
    "duration": 2,
    "start_time": "2023-02-23T16:16:15.690Z"
   },
   {
    "duration": 40,
    "start_time": "2023-02-23T16:16:15.694Z"
   },
   {
    "duration": 7,
    "start_time": "2023-02-23T16:16:15.735Z"
   },
   {
    "duration": 13,
    "start_time": "2023-02-23T16:16:15.744Z"
   },
   {
    "duration": 30,
    "start_time": "2023-02-23T16:16:15.758Z"
   },
   {
    "duration": 68,
    "start_time": "2023-02-23T16:16:15.810Z"
   },
   {
    "duration": 83,
    "start_time": "2023-02-23T16:16:15.879Z"
   },
   {
    "duration": 8,
    "start_time": "2023-02-23T16:16:15.964Z"
   },
   {
    "duration": 9,
    "start_time": "2023-02-23T16:16:15.973Z"
   },
   {
    "duration": 31,
    "start_time": "2023-02-23T16:16:15.984Z"
   },
   {
    "duration": 11,
    "start_time": "2023-02-23T16:16:16.020Z"
   },
   {
    "duration": 9,
    "start_time": "2023-02-23T16:16:16.032Z"
   },
   {
    "duration": 9,
    "start_time": "2023-02-23T16:16:16.044Z"
   },
   {
    "duration": 88,
    "start_time": "2023-02-23T16:16:16.055Z"
   },
   {
    "duration": 95,
    "start_time": "2023-02-23T16:16:16.144Z"
   },
   {
    "duration": 2115,
    "start_time": "2023-02-23T16:16:16.241Z"
   },
   {
    "duration": 157,
    "start_time": "2023-02-23T16:16:18.358Z"
   },
   {
    "duration": 17,
    "start_time": "2023-02-23T16:18:16.130Z"
   },
   {
    "duration": 3,
    "start_time": "2023-02-23T16:37:08.867Z"
   },
   {
    "duration": 5,
    "start_time": "2023-02-23T16:37:08.872Z"
   },
   {
    "duration": 210,
    "start_time": "2023-02-23T16:37:08.878Z"
   },
   {
    "duration": 16,
    "start_time": "2023-02-23T16:37:09.090Z"
   },
   {
    "duration": 31,
    "start_time": "2023-02-23T16:37:09.108Z"
   },
   {
    "duration": 17,
    "start_time": "2023-02-23T16:37:09.141Z"
   },
   {
    "duration": 20,
    "start_time": "2023-02-23T16:37:09.159Z"
   },
   {
    "duration": 39,
    "start_time": "2023-02-23T16:37:09.181Z"
   },
   {
    "duration": 17,
    "start_time": "2023-02-23T16:37:09.223Z"
   },
   {
    "duration": 8,
    "start_time": "2023-02-23T16:37:09.241Z"
   },
   {
    "duration": 24,
    "start_time": "2023-02-23T16:37:09.250Z"
   },
   {
    "duration": 106,
    "start_time": "2023-02-23T16:37:09.275Z"
   },
   {
    "duration": 3,
    "start_time": "2023-02-23T16:37:09.382Z"
   },
   {
    "duration": 40,
    "start_time": "2023-02-23T16:37:09.386Z"
   },
   {
    "duration": 7,
    "start_time": "2023-02-23T16:37:09.427Z"
   },
   {
    "duration": 14,
    "start_time": "2023-02-23T16:37:09.436Z"
   },
   {
    "duration": 36,
    "start_time": "2023-02-23T16:37:09.452Z"
   },
   {
    "duration": 88,
    "start_time": "2023-02-23T16:37:09.490Z"
   },
   {
    "duration": 84,
    "start_time": "2023-02-23T16:37:09.580Z"
   },
   {
    "duration": 8,
    "start_time": "2023-02-23T16:37:09.666Z"
   },
   {
    "duration": 16,
    "start_time": "2023-02-23T16:37:09.675Z"
   },
   {
    "duration": 35,
    "start_time": "2023-02-23T16:37:09.692Z"
   },
   {
    "duration": 7,
    "start_time": "2023-02-23T16:37:09.729Z"
   },
   {
    "duration": 9,
    "start_time": "2023-02-23T16:37:09.739Z"
   },
   {
    "duration": 10,
    "start_time": "2023-02-23T16:37:09.750Z"
   },
   {
    "duration": 78,
    "start_time": "2023-02-23T16:37:09.761Z"
   },
   {
    "duration": 83,
    "start_time": "2023-02-23T16:37:09.841Z"
   },
   {
    "duration": 2088,
    "start_time": "2023-02-23T16:37:09.926Z"
   },
   {
    "duration": 151,
    "start_time": "2023-02-23T16:37:12.016Z"
   },
   {
    "duration": 66,
    "start_time": "2023-02-23T16:37:22.187Z"
   },
   {
    "duration": 78,
    "start_time": "2023-02-23T16:37:40.377Z"
   },
   {
    "duration": 5,
    "start_time": "2023-02-23T16:39:26.304Z"
   },
   {
    "duration": 38,
    "start_time": "2023-02-23T16:39:26.316Z"
   },
   {
    "duration": 245,
    "start_time": "2023-02-23T16:39:26.356Z"
   },
   {
    "duration": 24,
    "start_time": "2023-02-23T16:39:26.603Z"
   },
   {
    "duration": 33,
    "start_time": "2023-02-23T16:39:26.628Z"
   },
   {
    "duration": 16,
    "start_time": "2023-02-23T16:39:26.663Z"
   },
   {
    "duration": 19,
    "start_time": "2023-02-23T16:39:26.681Z"
   },
   {
    "duration": 9,
    "start_time": "2023-02-23T16:39:26.710Z"
   },
   {
    "duration": 25,
    "start_time": "2023-02-23T16:39:26.720Z"
   },
   {
    "duration": 5,
    "start_time": "2023-02-23T16:39:26.749Z"
   },
   {
    "duration": 28,
    "start_time": "2023-02-23T16:39:26.756Z"
   },
   {
    "duration": 125,
    "start_time": "2023-02-23T16:39:26.787Z"
   },
   {
    "duration": 35,
    "start_time": "2023-02-23T16:39:26.913Z"
   },
   {
    "duration": 7,
    "start_time": "2023-02-23T16:39:26.949Z"
   },
   {
    "duration": 20,
    "start_time": "2023-02-23T16:39:26.958Z"
   },
   {
    "duration": 57,
    "start_time": "2023-02-23T16:39:26.981Z"
   },
   {
    "duration": 90,
    "start_time": "2023-02-23T16:39:27.040Z"
   },
   {
    "duration": 66,
    "start_time": "2023-02-23T16:39:27.132Z"
   },
   {
    "duration": 13,
    "start_time": "2023-02-23T16:39:27.219Z"
   },
   {
    "duration": 10,
    "start_time": "2023-02-23T16:39:27.234Z"
   },
   {
    "duration": 10,
    "start_time": "2023-02-23T16:39:27.246Z"
   },
   {
    "duration": 9,
    "start_time": "2023-02-23T16:39:27.258Z"
   },
   {
    "duration": 11,
    "start_time": "2023-02-23T16:39:27.269Z"
   },
   {
    "duration": 44,
    "start_time": "2023-02-23T16:39:27.281Z"
   },
   {
    "duration": 58,
    "start_time": "2023-02-23T16:39:27.326Z"
   },
   {
    "duration": 85,
    "start_time": "2023-02-23T16:39:27.386Z"
   },
   {
    "duration": 1695,
    "start_time": "2023-02-23T16:39:27.472Z"
   },
   {
    "duration": 280,
    "start_time": "2023-02-23T16:39:29.170Z"
   },
   {
    "duration": 21,
    "start_time": "2023-02-23T16:39:58.921Z"
   },
   {
    "duration": 54,
    "start_time": "2023-02-23T16:40:50.543Z"
   },
   {
    "duration": 78,
    "start_time": "2023-02-23T16:44:45.009Z"
   },
   {
    "duration": 35,
    "start_time": "2023-02-23T16:44:56.298Z"
   },
   {
    "duration": 1146,
    "start_time": "2023-02-23T16:45:44.745Z"
   },
   {
    "duration": 3,
    "start_time": "2023-02-23T16:45:45.892Z"
   },
   {
    "duration": 242,
    "start_time": "2023-02-23T16:45:45.897Z"
   },
   {
    "duration": 21,
    "start_time": "2023-02-23T16:45:46.142Z"
   },
   {
    "duration": 24,
    "start_time": "2023-02-23T16:45:46.164Z"
   },
   {
    "duration": 32,
    "start_time": "2023-02-23T16:45:46.190Z"
   },
   {
    "duration": 21,
    "start_time": "2023-02-23T16:45:46.224Z"
   },
   {
    "duration": 13,
    "start_time": "2023-02-23T16:45:46.247Z"
   },
   {
    "duration": 22,
    "start_time": "2023-02-23T16:45:46.261Z"
   },
   {
    "duration": 5,
    "start_time": "2023-02-23T16:45:46.285Z"
   },
   {
    "duration": 70,
    "start_time": "2023-02-23T16:45:46.291Z"
   },
   {
    "duration": 128,
    "start_time": "2023-02-23T16:45:46.362Z"
   },
   {
    "duration": 52,
    "start_time": "2023-02-23T16:45:46.491Z"
   },
   {
    "duration": 6,
    "start_time": "2023-02-23T16:45:46.545Z"
   },
   {
    "duration": 20,
    "start_time": "2023-02-23T16:45:46.552Z"
   },
   {
    "duration": 102,
    "start_time": "2023-02-23T16:45:46.573Z"
   },
   {
    "duration": 87,
    "start_time": "2023-02-23T16:45:46.677Z"
   },
   {
    "duration": 96,
    "start_time": "2023-02-23T16:45:46.765Z"
   },
   {
    "duration": 66,
    "start_time": "2023-02-23T16:45:46.863Z"
   },
   {
    "duration": 7,
    "start_time": "2023-02-23T16:45:46.931Z"
   },
   {
    "duration": 16,
    "start_time": "2023-02-23T16:45:46.940Z"
   },
   {
    "duration": 9,
    "start_time": "2023-02-23T16:45:46.958Z"
   },
   {
    "duration": 21,
    "start_time": "2023-02-23T16:45:46.969Z"
   },
   {
    "duration": 28,
    "start_time": "2023-02-23T16:45:46.992Z"
   },
   {
    "duration": 9,
    "start_time": "2023-02-23T16:45:47.022Z"
   },
   {
    "duration": 42,
    "start_time": "2023-02-23T16:45:47.032Z"
   },
   {
    "duration": 86,
    "start_time": "2023-02-23T16:45:47.076Z"
   },
   {
    "duration": 1876,
    "start_time": "2023-02-23T16:45:47.166Z"
   },
   {
    "duration": 119,
    "start_time": "2023-02-23T16:45:49.044Z"
   },
   {
    "duration": 1445,
    "start_time": "2023-02-24T07:14:52.934Z"
   },
   {
    "duration": 3,
    "start_time": "2023-02-24T07:14:54.381Z"
   },
   {
    "duration": 834,
    "start_time": "2023-02-24T07:14:54.385Z"
   },
   {
    "duration": 21,
    "start_time": "2023-02-24T07:14:55.221Z"
   },
   {
    "duration": 25,
    "start_time": "2023-02-24T07:14:55.243Z"
   },
   {
    "duration": 24,
    "start_time": "2023-02-24T07:14:55.270Z"
   },
   {
    "duration": 21,
    "start_time": "2023-02-24T07:14:55.296Z"
   },
   {
    "duration": 15,
    "start_time": "2023-02-24T07:14:55.318Z"
   },
   {
    "duration": 5,
    "start_time": "2023-02-24T07:14:55.334Z"
   },
   {
    "duration": 53,
    "start_time": "2023-02-24T07:14:55.343Z"
   },
   {
    "duration": 103,
    "start_time": "2023-02-24T07:14:55.398Z"
   },
   {
    "duration": 44,
    "start_time": "2023-02-24T07:14:55.502Z"
   },
   {
    "duration": 7,
    "start_time": "2023-02-24T07:14:55.548Z"
   },
   {
    "duration": 19,
    "start_time": "2023-02-24T07:14:55.557Z"
   },
   {
    "duration": 75,
    "start_time": "2023-02-24T07:14:55.578Z"
   },
   {
    "duration": 68,
    "start_time": "2023-02-24T07:14:55.655Z"
   },
   {
    "duration": 71,
    "start_time": "2023-02-24T07:14:55.725Z"
   },
   {
    "duration": 57,
    "start_time": "2023-02-24T07:14:55.798Z"
   },
   {
    "duration": 7,
    "start_time": "2023-02-24T07:14:55.856Z"
   },
   {
    "duration": 9,
    "start_time": "2023-02-24T07:14:55.865Z"
   },
   {
    "duration": 9,
    "start_time": "2023-02-24T07:14:55.892Z"
   },
   {
    "duration": 7,
    "start_time": "2023-02-24T07:14:55.903Z"
   },
   {
    "duration": 8,
    "start_time": "2023-02-24T07:14:55.912Z"
   },
   {
    "duration": 8,
    "start_time": "2023-02-24T07:14:55.922Z"
   },
   {
    "duration": 59,
    "start_time": "2023-02-24T07:14:55.932Z"
   },
   {
    "duration": 112,
    "start_time": "2023-02-24T07:14:55.993Z"
   },
   {
    "duration": 0,
    "start_time": "2023-02-24T07:14:56.107Z"
   },
   {
    "duration": 0,
    "start_time": "2023-02-24T07:14:56.108Z"
   },
   {
    "duration": 61,
    "start_time": "2023-02-24T07:15:13.325Z"
   },
   {
    "duration": 1808,
    "start_time": "2023-02-24T07:15:24.304Z"
   },
   {
    "duration": 107,
    "start_time": "2023-02-24T07:15:32.405Z"
   },
   {
    "duration": 130,
    "start_time": "2023-02-24T07:32:03.802Z"
   },
   {
    "duration": 55,
    "start_time": "2023-02-24T07:32:25.184Z"
   },
   {
    "duration": 4,
    "start_time": "2023-02-24T07:32:27.652Z"
   },
   {
    "duration": 10,
    "start_time": "2023-02-24T07:32:27.658Z"
   },
   {
    "duration": 226,
    "start_time": "2023-02-24T07:32:27.669Z"
   },
   {
    "duration": 16,
    "start_time": "2023-02-24T07:32:27.896Z"
   },
   {
    "duration": 26,
    "start_time": "2023-02-24T07:32:27.914Z"
   },
   {
    "duration": 15,
    "start_time": "2023-02-24T07:32:27.941Z"
   },
   {
    "duration": 38,
    "start_time": "2023-02-24T07:32:27.958Z"
   },
   {
    "duration": 12,
    "start_time": "2023-02-24T07:32:27.998Z"
   },
   {
    "duration": 4,
    "start_time": "2023-02-24T07:32:28.013Z"
   },
   {
    "duration": 29,
    "start_time": "2023-02-24T07:32:28.019Z"
   },
   {
    "duration": 116,
    "start_time": "2023-02-24T07:32:28.049Z"
   },
   {
    "duration": 40,
    "start_time": "2023-02-24T07:32:28.167Z"
   },
   {
    "duration": 1551,
    "start_time": "2023-02-24T07:32:28.208Z"
   },
   {
    "duration": 6,
    "start_time": "2023-02-24T07:32:29.761Z"
   },
   {
    "duration": 26,
    "start_time": "2023-02-24T07:32:29.769Z"
   },
   {
    "duration": 30,
    "start_time": "2023-02-24T07:32:29.796Z"
   },
   {
    "duration": 79,
    "start_time": "2023-02-24T07:32:29.827Z"
   },
   {
    "duration": 60,
    "start_time": "2023-02-24T07:32:29.907Z"
   },
   {
    "duration": 62,
    "start_time": "2023-02-24T07:32:29.969Z"
   },
   {
    "duration": 8,
    "start_time": "2023-02-24T07:32:30.033Z"
   },
   {
    "duration": 28,
    "start_time": "2023-02-24T07:32:30.043Z"
   },
   {
    "duration": 27,
    "start_time": "2023-02-24T07:32:30.073Z"
   },
   {
    "duration": 33,
    "start_time": "2023-02-24T07:32:30.101Z"
   },
   {
    "duration": 22,
    "start_time": "2023-02-24T07:32:30.137Z"
   },
   {
    "duration": 35,
    "start_time": "2023-02-24T07:32:30.161Z"
   },
   {
    "duration": 61,
    "start_time": "2023-02-24T07:32:30.198Z"
   },
   {
    "duration": 58,
    "start_time": "2023-02-24T07:32:30.261Z"
   },
   {
    "duration": 1767,
    "start_time": "2023-02-24T07:32:30.321Z"
   },
   {
    "duration": 125,
    "start_time": "2023-02-24T07:32:32.091Z"
   },
   {
    "duration": 232,
    "start_time": "2023-02-24T07:33:23.020Z"
   },
   {
    "duration": 223,
    "start_time": "2023-02-24T07:33:43.090Z"
   },
   {
    "duration": 129,
    "start_time": "2023-02-24T07:34:04.083Z"
   },
   {
    "duration": 1669,
    "start_time": "2023-02-24T07:36:04.536Z"
   },
   {
    "duration": 15,
    "start_time": "2023-02-24T07:44:43.084Z"
   },
   {
    "duration": 6,
    "start_time": "2023-02-24T07:45:30.039Z"
   },
   {
    "duration": 4,
    "start_time": "2023-02-24T07:45:40.530Z"
   },
   {
    "duration": 5,
    "start_time": "2023-02-24T07:45:40.536Z"
   },
   {
    "duration": 211,
    "start_time": "2023-02-24T07:45:40.543Z"
   },
   {
    "duration": 16,
    "start_time": "2023-02-24T07:45:40.756Z"
   },
   {
    "duration": 135,
    "start_time": "2023-02-24T07:45:40.773Z"
   },
   {
    "duration": 15,
    "start_time": "2023-02-24T07:45:40.909Z"
   },
   {
    "duration": 18,
    "start_time": "2023-02-24T07:45:40.926Z"
   },
   {
    "duration": 8,
    "start_time": "2023-02-24T07:45:40.946Z"
   },
   {
    "duration": 4,
    "start_time": "2023-02-24T07:45:40.957Z"
   },
   {
    "duration": 20,
    "start_time": "2023-02-24T07:45:40.991Z"
   },
   {
    "duration": 105,
    "start_time": "2023-02-24T07:45:41.013Z"
   },
   {
    "duration": 28,
    "start_time": "2023-02-24T07:45:41.119Z"
   },
   {
    "duration": 1765,
    "start_time": "2023-02-24T07:45:41.148Z"
   },
   {
    "duration": 11,
    "start_time": "2023-02-24T07:45:42.915Z"
   },
   {
    "duration": 12,
    "start_time": "2023-02-24T07:45:42.928Z"
   },
   {
    "duration": 13,
    "start_time": "2023-02-24T07:45:42.942Z"
   },
   {
    "duration": 59,
    "start_time": "2023-02-24T07:45:42.956Z"
   },
   {
    "duration": 43,
    "start_time": "2023-02-24T07:45:43.017Z"
   },
   {
    "duration": 72,
    "start_time": "2023-02-24T07:45:43.062Z"
   },
   {
    "duration": 43,
    "start_time": "2023-02-24T07:45:43.136Z"
   },
   {
    "duration": 7,
    "start_time": "2023-02-24T07:45:43.191Z"
   },
   {
    "duration": 8,
    "start_time": "2023-02-24T07:45:43.200Z"
   },
   {
    "duration": 14,
    "start_time": "2023-02-24T07:45:43.210Z"
   },
   {
    "duration": 6,
    "start_time": "2023-02-24T07:45:43.227Z"
   },
   {
    "duration": 14,
    "start_time": "2023-02-24T07:45:43.235Z"
   },
   {
    "duration": 9,
    "start_time": "2023-02-24T07:45:43.250Z"
   },
   {
    "duration": 65,
    "start_time": "2023-02-24T07:45:43.260Z"
   },
   {
    "duration": 13,
    "start_time": "2023-02-24T07:45:43.327Z"
   },
   {
    "duration": 0,
    "start_time": "2023-02-24T07:45:43.342Z"
   },
   {
    "duration": 0,
    "start_time": "2023-02-24T07:45:43.343Z"
   },
   {
    "duration": 47,
    "start_time": "2023-02-24T07:46:00.803Z"
   },
   {
    "duration": 4,
    "start_time": "2023-02-24T07:46:07.464Z"
   },
   {
    "duration": 9,
    "start_time": "2023-02-24T07:46:07.470Z"
   },
   {
    "duration": 200,
    "start_time": "2023-02-24T07:46:07.481Z"
   },
   {
    "duration": 16,
    "start_time": "2023-02-24T07:46:07.683Z"
   },
   {
    "duration": 26,
    "start_time": "2023-02-24T07:46:07.700Z"
   },
   {
    "duration": 15,
    "start_time": "2023-02-24T07:46:07.727Z"
   },
   {
    "duration": 20,
    "start_time": "2023-02-24T07:46:07.743Z"
   },
   {
    "duration": 28,
    "start_time": "2023-02-24T07:46:07.765Z"
   },
   {
    "duration": 4,
    "start_time": "2023-02-24T07:46:07.795Z"
   },
   {
    "duration": 20,
    "start_time": "2023-02-24T07:46:07.800Z"
   },
   {
    "duration": 104,
    "start_time": "2023-02-24T07:46:07.822Z"
   },
   {
    "duration": 24,
    "start_time": "2023-02-24T07:46:07.928Z"
   },
   {
    "duration": 1708,
    "start_time": "2023-02-24T07:46:07.954Z"
   },
   {
    "duration": 10,
    "start_time": "2023-02-24T07:46:09.663Z"
   },
   {
    "duration": 23,
    "start_time": "2023-02-24T07:46:09.674Z"
   },
   {
    "duration": 12,
    "start_time": "2023-02-24T07:46:09.698Z"
   },
   {
    "duration": 30,
    "start_time": "2023-02-24T07:46:09.712Z"
   },
   {
    "duration": 54,
    "start_time": "2023-02-24T07:46:09.743Z"
   },
   {
    "duration": 58,
    "start_time": "2023-02-24T07:46:09.798Z"
   },
   {
    "duration": 56,
    "start_time": "2023-02-24T07:46:09.858Z"
   },
   {
    "duration": 7,
    "start_time": "2023-02-24T07:46:09.915Z"
   },
   {
    "duration": 7,
    "start_time": "2023-02-24T07:46:09.923Z"
   },
   {
    "duration": 6,
    "start_time": "2023-02-24T07:46:09.932Z"
   },
   {
    "duration": 6,
    "start_time": "2023-02-24T07:46:09.941Z"
   },
   {
    "duration": 7,
    "start_time": "2023-02-24T07:46:09.949Z"
   },
   {
    "duration": 39,
    "start_time": "2023-02-24T07:46:09.957Z"
   },
   {
    "duration": 42,
    "start_time": "2023-02-24T07:46:09.998Z"
   },
   {
    "duration": 64,
    "start_time": "2023-02-24T07:46:10.042Z"
   },
   {
    "duration": 1733,
    "start_time": "2023-02-24T07:46:10.108Z"
   },
   {
    "duration": 106,
    "start_time": "2023-02-24T07:46:11.842Z"
   },
   {
    "duration": 57,
    "start_time": "2023-02-24T07:47:51.197Z"
   },
   {
    "duration": 48,
    "start_time": "2023-02-24T07:48:01.071Z"
   },
   {
    "duration": 18,
    "start_time": "2023-02-24T08:05:58.648Z"
   },
   {
    "duration": 12,
    "start_time": "2023-02-24T08:11:30.730Z"
   },
   {
    "duration": 7,
    "start_time": "2023-02-24T08:11:36.889Z"
   },
   {
    "duration": 7,
    "start_time": "2023-02-24T08:11:45.601Z"
   },
   {
    "duration": 11,
    "start_time": "2023-02-24T08:13:16.809Z"
   },
   {
    "duration": 18,
    "start_time": "2023-02-24T08:14:10.401Z"
   },
   {
    "duration": 228,
    "start_time": "2023-02-24T08:21:32.352Z"
   },
   {
    "duration": 17,
    "start_time": "2023-02-24T08:21:52.811Z"
   },
   {
    "duration": 10,
    "start_time": "2023-02-24T08:22:11.295Z"
   },
   {
    "duration": 9,
    "start_time": "2023-02-24T08:22:43.251Z"
   },
   {
    "duration": 6,
    "start_time": "2023-02-24T08:22:57.159Z"
   },
   {
    "duration": 5,
    "start_time": "2023-02-24T08:23:01.305Z"
   },
   {
    "duration": 35,
    "start_time": "2023-02-24T08:23:01.312Z"
   },
   {
    "duration": 247,
    "start_time": "2023-02-24T08:23:01.348Z"
   },
   {
    "duration": 17,
    "start_time": "2023-02-24T08:23:01.597Z"
   },
   {
    "duration": 42,
    "start_time": "2023-02-24T08:23:01.615Z"
   },
   {
    "duration": 42,
    "start_time": "2023-02-24T08:23:01.659Z"
   },
   {
    "duration": 54,
    "start_time": "2023-02-24T08:23:01.703Z"
   },
   {
    "duration": 14,
    "start_time": "2023-02-24T08:23:01.759Z"
   },
   {
    "duration": 6,
    "start_time": "2023-02-24T08:23:01.776Z"
   },
   {
    "duration": 36,
    "start_time": "2023-02-24T08:23:01.784Z"
   },
   {
    "duration": 113,
    "start_time": "2023-02-24T08:23:01.822Z"
   },
   {
    "duration": 26,
    "start_time": "2023-02-24T08:23:01.937Z"
   },
   {
    "duration": 1828,
    "start_time": "2023-02-24T08:23:01.964Z"
   },
   {
    "duration": 10,
    "start_time": "2023-02-24T08:23:03.793Z"
   },
   {
    "duration": 20,
    "start_time": "2023-02-24T08:23:03.805Z"
   },
   {
    "duration": 15,
    "start_time": "2023-02-24T08:23:03.826Z"
   },
   {
    "duration": 58,
    "start_time": "2023-02-24T08:23:03.843Z"
   },
   {
    "duration": 52,
    "start_time": "2023-02-24T08:23:03.903Z"
   },
   {
    "duration": 69,
    "start_time": "2023-02-24T08:23:03.956Z"
   },
   {
    "duration": 44,
    "start_time": "2023-02-24T08:23:04.027Z"
   },
   {
    "duration": 20,
    "start_time": "2023-02-24T08:23:04.073Z"
   },
   {
    "duration": 9,
    "start_time": "2023-02-24T08:23:04.095Z"
   },
   {
    "duration": 15,
    "start_time": "2023-02-24T08:23:04.105Z"
   },
   {
    "duration": 20,
    "start_time": "2023-02-24T08:23:04.122Z"
   },
   {
    "duration": 15,
    "start_time": "2023-02-24T08:23:04.144Z"
   },
   {
    "duration": 35,
    "start_time": "2023-02-24T08:23:04.161Z"
   },
   {
    "duration": 8,
    "start_time": "2023-02-24T08:23:04.197Z"
   },
   {
    "duration": 12,
    "start_time": "2023-02-24T08:23:04.206Z"
   },
   {
    "duration": 10,
    "start_time": "2023-02-24T08:23:04.219Z"
   },
   {
    "duration": 11,
    "start_time": "2023-02-24T08:23:04.231Z"
   },
   {
    "duration": 61,
    "start_time": "2023-02-24T08:23:04.243Z"
   },
   {
    "duration": 53,
    "start_time": "2023-02-24T08:23:04.305Z"
   },
   {
    "duration": 1908,
    "start_time": "2023-02-24T08:23:04.360Z"
   },
   {
    "duration": 141,
    "start_time": "2023-02-24T08:23:06.270Z"
   },
   {
    "duration": 22,
    "start_time": "2023-02-24T08:25:05.771Z"
   },
   {
    "duration": 5,
    "start_time": "2023-02-24T08:28:01.223Z"
   },
   {
    "duration": 58,
    "start_time": "2023-02-24T08:29:32.801Z"
   },
   {
    "duration": 96,
    "start_time": "2023-02-24T08:30:35.464Z"
   },
   {
    "duration": 55,
    "start_time": "2023-02-24T08:30:51.528Z"
   },
   {
    "duration": 48,
    "start_time": "2023-02-24T08:31:47.050Z"
   },
   {
    "duration": 1251,
    "start_time": "2023-02-24T08:34:55.013Z"
   },
   {
    "duration": 5,
    "start_time": "2023-02-24T08:35:05.360Z"
   },
   {
    "duration": 7,
    "start_time": "2023-02-24T08:35:05.368Z"
   },
   {
    "duration": 209,
    "start_time": "2023-02-24T08:35:05.377Z"
   },
   {
    "duration": 16,
    "start_time": "2023-02-24T08:35:05.588Z"
   },
   {
    "duration": 33,
    "start_time": "2023-02-24T08:35:05.606Z"
   },
   {
    "duration": 15,
    "start_time": "2023-02-24T08:35:05.641Z"
   },
   {
    "duration": 19,
    "start_time": "2023-02-24T08:35:05.657Z"
   },
   {
    "duration": 20,
    "start_time": "2023-02-24T08:35:05.677Z"
   },
   {
    "duration": 4,
    "start_time": "2023-02-24T08:35:05.698Z"
   },
   {
    "duration": 21,
    "start_time": "2023-02-24T08:35:05.705Z"
   },
   {
    "duration": 120,
    "start_time": "2023-02-24T08:35:05.727Z"
   },
   {
    "duration": 24,
    "start_time": "2023-02-24T08:35:05.849Z"
   },
   {
    "duration": 1687,
    "start_time": "2023-02-24T08:35:05.875Z"
   },
   {
    "duration": 9,
    "start_time": "2023-02-24T08:35:07.564Z"
   },
   {
    "duration": 20,
    "start_time": "2023-02-24T08:35:07.575Z"
   },
   {
    "duration": 12,
    "start_time": "2023-02-24T08:35:07.596Z"
   },
   {
    "duration": 29,
    "start_time": "2023-02-24T08:35:07.610Z"
   },
   {
    "duration": 64,
    "start_time": "2023-02-24T08:35:07.641Z"
   },
   {
    "duration": 54,
    "start_time": "2023-02-24T08:35:07.706Z"
   },
   {
    "duration": 57,
    "start_time": "2023-02-24T08:35:07.763Z"
   },
   {
    "duration": 7,
    "start_time": "2023-02-24T08:35:07.821Z"
   },
   {
    "duration": 11,
    "start_time": "2023-02-24T08:35:07.830Z"
   },
   {
    "duration": 18,
    "start_time": "2023-02-24T08:35:07.842Z"
   },
   {
    "duration": 33,
    "start_time": "2023-02-24T08:35:07.862Z"
   },
   {
    "duration": 7,
    "start_time": "2023-02-24T08:35:07.896Z"
   },
   {
    "duration": 8,
    "start_time": "2023-02-24T08:35:07.904Z"
   },
   {
    "duration": 6,
    "start_time": "2023-02-24T08:35:07.914Z"
   },
   {
    "duration": 7,
    "start_time": "2023-02-24T08:35:07.923Z"
   },
   {
    "duration": 8,
    "start_time": "2023-02-24T08:35:07.931Z"
   },
   {
    "duration": 71,
    "start_time": "2023-02-24T08:35:07.940Z"
   },
   {
    "duration": 51,
    "start_time": "2023-02-24T08:35:08.013Z"
   },
   {
    "duration": 1929,
    "start_time": "2023-02-24T08:35:08.066Z"
   },
   {
    "duration": 113,
    "start_time": "2023-02-24T08:35:09.996Z"
   },
   {
    "duration": 33,
    "start_time": "2023-02-24T08:35:10.110Z"
   },
   {
    "duration": 115,
    "start_time": "2023-02-24T08:35:10.144Z"
   },
   {
    "duration": 1518,
    "start_time": "2023-02-24T10:21:33.472Z"
   },
   {
    "duration": 3,
    "start_time": "2023-02-24T10:21:34.992Z"
   },
   {
    "duration": 807,
    "start_time": "2023-02-24T10:21:34.997Z"
   },
   {
    "duration": 22,
    "start_time": "2023-02-24T10:21:35.806Z"
   },
   {
    "duration": 35,
    "start_time": "2023-02-24T10:21:35.830Z"
   },
   {
    "duration": 24,
    "start_time": "2023-02-24T10:21:35.867Z"
   },
   {
    "duration": 19,
    "start_time": "2023-02-24T10:21:35.892Z"
   },
   {
    "duration": 16,
    "start_time": "2023-02-24T10:21:35.913Z"
   },
   {
    "duration": 7,
    "start_time": "2023-02-24T10:21:35.931Z"
   },
   {
    "duration": 39,
    "start_time": "2023-02-24T10:21:35.940Z"
   },
   {
    "duration": 86,
    "start_time": "2023-02-24T10:21:35.992Z"
   },
   {
    "duration": 39,
    "start_time": "2023-02-24T10:21:36.091Z"
   },
   {
    "duration": 1692,
    "start_time": "2023-02-24T10:21:36.132Z"
   },
   {
    "duration": 9,
    "start_time": "2023-02-24T10:21:37.826Z"
   },
   {
    "duration": 14,
    "start_time": "2023-02-24T10:21:37.837Z"
   },
   {
    "duration": 13,
    "start_time": "2023-02-24T10:21:37.852Z"
   },
   {
    "duration": 64,
    "start_time": "2023-02-24T10:21:37.866Z"
   },
   {
    "duration": 49,
    "start_time": "2023-02-24T10:21:37.932Z"
   },
   {
    "duration": 52,
    "start_time": "2023-02-24T10:21:37.991Z"
   },
   {
    "duration": 57,
    "start_time": "2023-02-24T10:21:38.044Z"
   },
   {
    "duration": 6,
    "start_time": "2023-02-24T10:21:38.103Z"
   },
   {
    "duration": 14,
    "start_time": "2023-02-24T10:21:38.111Z"
   },
   {
    "duration": 18,
    "start_time": "2023-02-24T10:21:38.126Z"
   },
   {
    "duration": 6,
    "start_time": "2023-02-24T10:21:38.146Z"
   },
   {
    "duration": 11,
    "start_time": "2023-02-24T10:21:38.154Z"
   },
   {
    "duration": 47,
    "start_time": "2023-02-24T10:21:38.166Z"
   },
   {
    "duration": 6,
    "start_time": "2023-02-24T10:21:38.215Z"
   },
   {
    "duration": 7,
    "start_time": "2023-02-24T10:21:38.224Z"
   },
   {
    "duration": 21,
    "start_time": "2023-02-24T10:21:38.232Z"
   },
   {
    "duration": 7,
    "start_time": "2023-02-24T10:21:38.254Z"
   },
   {
    "duration": 47,
    "start_time": "2023-02-24T10:21:38.292Z"
   },
   {
    "duration": 1770,
    "start_time": "2023-02-24T10:21:38.341Z"
   },
   {
    "duration": 105,
    "start_time": "2023-02-24T10:21:40.112Z"
   },
   {
    "duration": 97,
    "start_time": "2023-02-24T10:21:40.218Z"
   },
   {
    "duration": 2169,
    "start_time": "2023-02-25T08:21:46.952Z"
   },
   {
    "duration": 12,
    "start_time": "2023-02-25T08:21:49.127Z"
   },
   {
    "duration": 1428,
    "start_time": "2023-02-25T08:21:49.143Z"
   },
   {
    "duration": 54,
    "start_time": "2023-02-25T08:21:50.589Z"
   },
   {
    "duration": 91,
    "start_time": "2023-02-25T08:21:50.644Z"
   },
   {
    "duration": 40,
    "start_time": "2023-02-25T08:21:50.738Z"
   },
   {
    "duration": 37,
    "start_time": "2023-02-25T08:21:50.783Z"
   },
   {
    "duration": 30,
    "start_time": "2023-02-25T08:21:50.829Z"
   },
   {
    "duration": 39,
    "start_time": "2023-02-25T08:21:50.861Z"
   },
   {
    "duration": 67,
    "start_time": "2023-02-25T08:21:50.904Z"
   },
   {
    "duration": 206,
    "start_time": "2023-02-25T08:21:50.973Z"
   },
   {
    "duration": 52,
    "start_time": "2023-02-25T08:21:51.188Z"
   },
   {
    "duration": 2413,
    "start_time": "2023-02-25T08:21:51.241Z"
   },
   {
    "duration": 35,
    "start_time": "2023-02-25T08:21:53.656Z"
   },
   {
    "duration": 186,
    "start_time": "2023-02-25T08:21:53.693Z"
   },
   {
    "duration": 64,
    "start_time": "2023-02-25T08:21:53.881Z"
   },
   {
    "duration": 212,
    "start_time": "2023-02-25T08:21:53.947Z"
   },
   {
    "duration": 98,
    "start_time": "2023-02-25T08:21:54.173Z"
   },
   {
    "duration": 121,
    "start_time": "2023-02-25T08:21:54.275Z"
   },
   {
    "duration": 98,
    "start_time": "2023-02-25T08:21:54.398Z"
   },
   {
    "duration": 17,
    "start_time": "2023-02-25T08:21:54.498Z"
   },
   {
    "duration": 74,
    "start_time": "2023-02-25T08:21:54.524Z"
   },
   {
    "duration": 73,
    "start_time": "2023-02-25T08:21:54.600Z"
   },
   {
    "duration": 31,
    "start_time": "2023-02-25T08:21:54.675Z"
   },
   {
    "duration": 14,
    "start_time": "2023-02-25T08:21:54.708Z"
   },
   {
    "duration": 112,
    "start_time": "2023-02-25T08:21:54.723Z"
   },
   {
    "duration": 15,
    "start_time": "2023-02-25T08:21:54.837Z"
   },
   {
    "duration": 44,
    "start_time": "2023-02-25T08:21:54.857Z"
   },
   {
    "duration": 57,
    "start_time": "2023-02-25T08:21:54.904Z"
   },
   {
    "duration": 34,
    "start_time": "2023-02-25T08:21:54.963Z"
   },
   {
    "duration": 157,
    "start_time": "2023-02-25T08:21:54.998Z"
   },
   {
    "duration": 2753,
    "start_time": "2023-02-25T08:21:55.157Z"
   },
   {
    "duration": 157,
    "start_time": "2023-02-25T08:21:57.912Z"
   },
   {
    "duration": 122,
    "start_time": "2023-02-25T08:21:58.070Z"
   },
   {
    "duration": 235,
    "start_time": "2023-02-25T08:28:08.035Z"
   },
   {
    "duration": 17,
    "start_time": "2023-02-25T08:28:25.901Z"
   },
   {
    "duration": 2237,
    "start_time": "2023-02-25T08:28:39.294Z"
   },
   {
    "duration": 2220,
    "start_time": "2023-02-25T08:28:50.079Z"
   },
   {
    "duration": 17,
    "start_time": "2023-02-25T08:29:21.476Z"
   },
   {
    "duration": 122,
    "start_time": "2023-02-25T08:31:42.878Z"
   },
   {
    "duration": 4,
    "start_time": "2023-02-25T08:36:36.980Z"
   },
   {
    "duration": 5,
    "start_time": "2023-02-25T08:51:17.568Z"
   },
   {
    "duration": 19,
    "start_time": "2023-02-25T08:51:32.185Z"
   },
   {
    "duration": 133,
    "start_time": "2023-02-25T08:59:55.496Z"
   },
   {
    "duration": 150,
    "start_time": "2023-02-25T09:00:41.644Z"
   },
   {
    "duration": 116,
    "start_time": "2023-02-25T09:01:00.579Z"
   },
   {
    "duration": 14,
    "start_time": "2023-02-25T09:01:04.677Z"
   },
   {
    "duration": 195,
    "start_time": "2023-02-25T09:01:19.243Z"
   },
   {
    "duration": 38,
    "start_time": "2023-02-25T09:01:37.636Z"
   },
   {
    "duration": 21,
    "start_time": "2023-02-25T09:01:42.269Z"
   },
   {
    "duration": 22,
    "start_time": "2023-02-25T09:02:19.148Z"
   },
   {
    "duration": 26,
    "start_time": "2023-02-25T09:02:31.382Z"
   },
   {
    "duration": 24,
    "start_time": "2023-02-25T09:02:40.307Z"
   },
   {
    "duration": 20,
    "start_time": "2023-02-25T09:04:30.806Z"
   },
   {
    "duration": 135,
    "start_time": "2023-02-25T09:04:30.828Z"
   },
   {
    "duration": 603,
    "start_time": "2023-02-25T09:04:30.964Z"
   },
   {
    "duration": 34,
    "start_time": "2023-02-25T09:04:31.572Z"
   },
   {
    "duration": 146,
    "start_time": "2023-02-25T09:04:31.613Z"
   },
   {
    "duration": 58,
    "start_time": "2023-02-25T09:04:31.769Z"
   },
   {
    "duration": 138,
    "start_time": "2023-02-25T09:04:31.837Z"
   },
   {
    "duration": 129,
    "start_time": "2023-02-25T09:04:31.981Z"
   },
   {
    "duration": 77,
    "start_time": "2023-02-25T09:04:32.124Z"
   },
   {
    "duration": 70,
    "start_time": "2023-02-25T09:04:32.206Z"
   },
   {
    "duration": 222,
    "start_time": "2023-02-25T09:04:32.277Z"
   },
   {
    "duration": 43,
    "start_time": "2023-02-25T09:04:32.504Z"
   },
   {
    "duration": 2393,
    "start_time": "2023-02-25T09:04:32.550Z"
   },
   {
    "duration": 22,
    "start_time": "2023-02-25T09:04:34.950Z"
   },
   {
    "duration": 87,
    "start_time": "2023-02-25T09:04:34.977Z"
   },
   {
    "duration": 201,
    "start_time": "2023-02-25T09:04:35.078Z"
   },
   {
    "duration": 231,
    "start_time": "2023-02-25T09:04:35.284Z"
   },
   {
    "duration": 131,
    "start_time": "2023-02-25T09:04:35.520Z"
   },
   {
    "duration": 123,
    "start_time": "2023-02-25T09:04:35.656Z"
   },
   {
    "duration": 17,
    "start_time": "2023-02-25T09:04:35.784Z"
   },
   {
    "duration": 151,
    "start_time": "2023-02-25T09:04:35.816Z"
   },
   {
    "duration": 207,
    "start_time": "2023-02-25T09:04:35.976Z"
   },
   {
    "duration": 112,
    "start_time": "2023-02-25T09:04:36.188Z"
   },
   {
    "duration": 130,
    "start_time": "2023-02-25T09:04:36.305Z"
   },
   {
    "duration": 84,
    "start_time": "2023-02-25T09:04:36.451Z"
   },
   {
    "duration": 63,
    "start_time": "2023-02-25T09:04:36.552Z"
   },
   {
    "duration": 87,
    "start_time": "2023-02-25T09:04:36.622Z"
   },
   {
    "duration": 231,
    "start_time": "2023-02-25T09:04:36.732Z"
   },
   {
    "duration": 115,
    "start_time": "2023-02-25T09:04:36.964Z"
   },
   {
    "duration": 244,
    "start_time": "2023-02-25T09:04:37.087Z"
   },
   {
    "duration": 2279,
    "start_time": "2023-02-25T09:04:37.332Z"
   },
   {
    "duration": 161,
    "start_time": "2023-02-25T09:04:39.613Z"
   },
   {
    "duration": 129,
    "start_time": "2023-02-25T09:04:39.776Z"
   },
   {
    "duration": 31,
    "start_time": "2023-02-25T09:04:39.906Z"
   },
   {
    "duration": 67,
    "start_time": "2023-02-25T09:04:39.938Z"
   },
   {
    "duration": 85,
    "start_time": "2023-02-25T09:04:40.008Z"
   },
   {
    "duration": 152,
    "start_time": "2023-02-25T09:04:40.095Z"
   },
   {
    "duration": 5,
    "start_time": "2023-02-25T09:08:29.575Z"
   },
   {
    "duration": 25,
    "start_time": "2023-02-25T09:08:45.772Z"
   },
   {
    "duration": 32,
    "start_time": "2023-02-25T09:10:25.349Z"
   },
   {
    "duration": 12,
    "start_time": "2023-02-25T09:11:11.476Z"
   },
   {
    "duration": 5,
    "start_time": "2023-02-25T09:11:15.395Z"
   },
   {
    "duration": 4,
    "start_time": "2023-02-25T09:11:29.105Z"
   },
   {
    "duration": 32,
    "start_time": "2023-02-25T09:11:31.919Z"
   },
   {
    "duration": 113,
    "start_time": "2023-02-25T09:13:21.632Z"
   },
   {
    "duration": 4,
    "start_time": "2023-02-25T09:13:26.977Z"
   },
   {
    "duration": 8,
    "start_time": "2023-02-25T09:14:17.000Z"
   },
   {
    "duration": 135,
    "start_time": "2023-02-25T09:15:27.572Z"
   },
   {
    "duration": 13,
    "start_time": "2023-02-25T09:15:36.871Z"
   },
   {
    "duration": 31,
    "start_time": "2023-02-25T09:15:45.636Z"
   },
   {
    "duration": 20,
    "start_time": "2023-02-25T09:16:12.974Z"
   },
   {
    "duration": 4,
    "start_time": "2023-02-25T09:25:04.731Z"
   },
   {
    "duration": 22,
    "start_time": "2023-02-25T09:25:08.445Z"
   },
   {
    "duration": 6,
    "start_time": "2023-02-25T09:29:11.683Z"
   },
   {
    "duration": 5,
    "start_time": "2023-02-25T09:29:54.054Z"
   },
   {
    "duration": 32,
    "start_time": "2023-02-25T10:32:31.326Z"
   },
   {
    "duration": 5,
    "start_time": "2023-02-25T10:32:49.885Z"
   },
   {
    "duration": 30,
    "start_time": "2023-02-25T10:33:02.364Z"
   },
   {
    "duration": 4,
    "start_time": "2023-02-25T10:33:14.389Z"
   },
   {
    "duration": 6,
    "start_time": "2023-02-25T10:33:18.095Z"
   },
   {
    "duration": 10,
    "start_time": "2023-02-25T10:33:23.178Z"
   },
   {
    "duration": 169,
    "start_time": "2023-02-25T10:47:01.567Z"
   },
   {
    "duration": 141,
    "start_time": "2023-02-25T10:51:53.341Z"
   },
   {
    "duration": 5,
    "start_time": "2023-02-25T10:59:05.459Z"
   },
   {
    "duration": 75,
    "start_time": "2023-02-25T10:59:59.633Z"
   },
   {
    "duration": 125,
    "start_time": "2023-02-25T11:04:36.591Z"
   },
   {
    "duration": 108,
    "start_time": "2023-02-25T11:14:07.658Z"
   },
   {
    "duration": 170,
    "start_time": "2023-02-25T11:14:37.703Z"
   },
   {
    "duration": 114,
    "start_time": "2023-02-25T11:14:50.678Z"
   },
   {
    "duration": 117,
    "start_time": "2023-02-25T11:14:55.375Z"
   },
   {
    "duration": 7,
    "start_time": "2023-02-25T11:15:57.722Z"
   },
   {
    "duration": 9,
    "start_time": "2023-02-25T11:20:35.250Z"
   },
   {
    "duration": 12,
    "start_time": "2023-02-25T11:21:31.736Z"
   },
   {
    "duration": 11,
    "start_time": "2023-02-25T11:22:37.469Z"
   },
   {
    "duration": 8,
    "start_time": "2023-02-25T11:23:07.605Z"
   },
   {
    "duration": 18,
    "start_time": "2023-02-25T11:23:20.429Z"
   },
   {
    "duration": 16,
    "start_time": "2023-02-25T11:23:29.030Z"
   },
   {
    "duration": 6,
    "start_time": "2023-02-25T11:23:51.356Z"
   },
   {
    "duration": 24,
    "start_time": "2023-02-25T11:23:56.596Z"
   },
   {
    "duration": 6,
    "start_time": "2023-02-25T11:24:42.497Z"
   },
   {
    "duration": 16,
    "start_time": "2023-02-25T11:24:47.126Z"
   },
   {
    "duration": 12,
    "start_time": "2023-02-25T11:25:30.712Z"
   },
   {
    "duration": 43,
    "start_time": "2023-02-25T11:25:32.704Z"
   },
   {
    "duration": 14,
    "start_time": "2023-02-25T11:26:40.105Z"
   },
   {
    "duration": 13,
    "start_time": "2023-02-25T11:28:28.560Z"
   },
   {
    "duration": 4,
    "start_time": "2023-02-25T11:28:35.580Z"
   },
   {
    "duration": 19,
    "start_time": "2023-02-25T11:28:37.663Z"
   },
   {
    "duration": 9,
    "start_time": "2023-02-25T11:29:56.428Z"
   },
   {
    "duration": 14,
    "start_time": "2023-02-25T11:29:58.676Z"
   },
   {
    "duration": 5,
    "start_time": "2023-02-25T11:30:32.993Z"
   },
   {
    "duration": 27,
    "start_time": "2023-02-25T11:30:34.979Z"
   },
   {
    "duration": 180,
    "start_time": "2023-02-25T11:35:11.575Z"
   },
   {
    "duration": 6,
    "start_time": "2023-02-25T11:35:17.805Z"
   },
   {
    "duration": 4,
    "start_time": "2023-02-25T11:35:50.164Z"
   },
   {
    "duration": 33,
    "start_time": "2023-02-25T11:35:52.226Z"
   },
   {
    "duration": 5,
    "start_time": "2023-02-25T11:36:18.934Z"
   },
   {
    "duration": 1504,
    "start_time": "2023-02-25T11:36:21.034Z"
   },
   {
    "duration": 33,
    "start_time": "2023-02-25T11:36:35.866Z"
   },
   {
    "duration": 10,
    "start_time": "2023-02-25T11:41:21.739Z"
   },
   {
    "duration": 1375,
    "start_time": "2023-02-25T11:41:24.148Z"
   },
   {
    "duration": 30,
    "start_time": "2023-02-25T11:41:26.762Z"
   },
   {
    "duration": 4,
    "start_time": "2023-02-25T11:44:43.601Z"
   },
   {
    "duration": 20,
    "start_time": "2023-02-25T11:44:45.868Z"
   },
   {
    "duration": 6,
    "start_time": "2023-02-25T11:44:59.566Z"
   },
   {
    "duration": 35,
    "start_time": "2023-02-25T11:45:01.580Z"
   },
   {
    "duration": 5,
    "start_time": "2023-02-25T11:45:23.093Z"
   },
   {
    "duration": 64,
    "start_time": "2023-02-25T11:45:24.985Z"
   },
   {
    "duration": 11,
    "start_time": "2023-02-25T11:46:04.728Z"
   },
   {
    "duration": 53,
    "start_time": "2023-02-25T11:46:06.406Z"
   },
   {
    "duration": 16,
    "start_time": "2023-02-25T11:46:54.668Z"
   },
   {
    "duration": 51,
    "start_time": "2023-02-25T11:46:56.641Z"
   },
   {
    "duration": 19,
    "start_time": "2023-02-25T11:50:18.952Z"
   },
   {
    "duration": 17,
    "start_time": "2023-02-25T11:50:21.289Z"
   },
   {
    "duration": 8,
    "start_time": "2023-02-25T11:51:11.676Z"
   },
   {
    "duration": 2427,
    "start_time": "2023-02-25T11:55:03.056Z"
   },
   {
    "duration": 2,
    "start_time": "2023-02-25T11:55:05.485Z"
   },
   {
    "duration": 511,
    "start_time": "2023-02-25T11:55:05.488Z"
   },
   {
    "duration": 76,
    "start_time": "2023-02-25T11:55:06.001Z"
   },
   {
    "duration": 57,
    "start_time": "2023-02-25T11:55:06.091Z"
   },
   {
    "duration": 109,
    "start_time": "2023-02-25T11:55:06.154Z"
   },
   {
    "duration": 86,
    "start_time": "2023-02-25T11:55:06.273Z"
   },
   {
    "duration": 83,
    "start_time": "2023-02-25T11:55:06.360Z"
   },
   {
    "duration": 49,
    "start_time": "2023-02-25T11:55:06.449Z"
   },
   {
    "duration": 145,
    "start_time": "2023-02-25T11:55:06.502Z"
   },
   {
    "duration": 280,
    "start_time": "2023-02-25T11:55:06.648Z"
   },
   {
    "duration": 56,
    "start_time": "2023-02-25T11:55:06.930Z"
   },
   {
    "duration": 2402,
    "start_time": "2023-02-25T11:55:06.993Z"
   },
   {
    "duration": 49,
    "start_time": "2023-02-25T11:55:09.406Z"
   },
   {
    "duration": 51,
    "start_time": "2023-02-25T11:55:09.468Z"
   },
   {
    "duration": 214,
    "start_time": "2023-02-25T11:55:09.521Z"
   },
   {
    "duration": 83,
    "start_time": "2023-02-25T11:55:09.736Z"
   },
   {
    "duration": 93,
    "start_time": "2023-02-25T11:55:09.824Z"
   },
   {
    "duration": 130,
    "start_time": "2023-02-25T11:55:09.925Z"
   },
   {
    "duration": 12,
    "start_time": "2023-02-25T11:55:10.060Z"
   },
   {
    "duration": 31,
    "start_time": "2023-02-25T11:55:10.076Z"
   },
   {
    "duration": 162,
    "start_time": "2023-02-25T11:55:10.109Z"
   },
   {
    "duration": 21,
    "start_time": "2023-02-25T11:55:10.281Z"
   },
   {
    "duration": 30,
    "start_time": "2023-02-25T11:55:10.304Z"
   },
   {
    "duration": 99,
    "start_time": "2023-02-25T11:55:10.336Z"
   },
   {
    "duration": 26,
    "start_time": "2023-02-25T11:55:10.445Z"
   },
   {
    "duration": 22,
    "start_time": "2023-02-25T11:55:10.481Z"
   },
   {
    "duration": 84,
    "start_time": "2023-02-25T11:55:10.505Z"
   },
   {
    "duration": 10,
    "start_time": "2023-02-25T11:55:10.591Z"
   },
   {
    "duration": 153,
    "start_time": "2023-02-25T11:55:10.602Z"
   },
   {
    "duration": 2868,
    "start_time": "2023-02-25T11:55:10.768Z"
   },
   {
    "duration": 245,
    "start_time": "2023-02-25T11:55:13.638Z"
   },
   {
    "duration": 256,
    "start_time": "2023-02-25T11:55:13.904Z"
   },
   {
    "duration": 45,
    "start_time": "2023-02-25T11:55:14.162Z"
   },
   {
    "duration": 92,
    "start_time": "2023-02-25T11:55:14.227Z"
   },
   {
    "duration": 175,
    "start_time": "2023-02-25T11:55:14.321Z"
   },
   {
    "duration": 13,
    "start_time": "2023-02-25T12:58:56.875Z"
   },
   {
    "duration": 60,
    "start_time": "2023-02-25T12:59:24.744Z"
   },
   {
    "duration": 2000,
    "start_time": "2023-02-25T12:59:38.901Z"
   },
   {
    "duration": 3,
    "start_time": "2023-02-25T12:59:40.903Z"
   },
   {
    "duration": 1063,
    "start_time": "2023-02-25T12:59:40.908Z"
   },
   {
    "duration": 21,
    "start_time": "2023-02-25T12:59:41.977Z"
   },
   {
    "duration": 63,
    "start_time": "2023-02-25T12:59:42.000Z"
   },
   {
    "duration": 38,
    "start_time": "2023-02-25T12:59:42.064Z"
   },
   {
    "duration": 84,
    "start_time": "2023-02-25T12:59:42.104Z"
   },
   {
    "duration": 16,
    "start_time": "2023-02-25T12:59:42.190Z"
   },
   {
    "duration": 19,
    "start_time": "2023-02-25T12:59:42.208Z"
   },
   {
    "duration": 101,
    "start_time": "2023-02-25T12:59:42.229Z"
   },
   {
    "duration": 150,
    "start_time": "2023-02-25T12:59:42.334Z"
   },
   {
    "duration": 65,
    "start_time": "2023-02-25T12:59:42.489Z"
   },
   {
    "duration": 2041,
    "start_time": "2023-02-25T12:59:42.558Z"
   },
   {
    "duration": 25,
    "start_time": "2023-02-25T12:59:44.601Z"
   },
   {
    "duration": 31,
    "start_time": "2023-02-25T12:59:44.627Z"
   },
   {
    "duration": 186,
    "start_time": "2023-02-25T12:59:44.661Z"
   },
   {
    "duration": 91,
    "start_time": "2023-02-25T12:59:44.869Z"
   },
   {
    "duration": 86,
    "start_time": "2023-02-25T12:59:44.961Z"
   },
   {
    "duration": 119,
    "start_time": "2023-02-25T12:59:45.048Z"
   },
   {
    "duration": 18,
    "start_time": "2023-02-25T12:59:45.168Z"
   },
   {
    "duration": 22,
    "start_time": "2023-02-25T12:59:45.187Z"
   },
   {
    "duration": 66,
    "start_time": "2023-02-25T12:59:45.224Z"
   },
   {
    "duration": 8,
    "start_time": "2023-02-25T12:59:45.292Z"
   },
   {
    "duration": 26,
    "start_time": "2023-02-25T12:59:45.301Z"
   },
   {
    "duration": 94,
    "start_time": "2023-02-25T12:59:45.333Z"
   },
   {
    "duration": 41,
    "start_time": "2023-02-25T12:59:45.432Z"
   },
   {
    "duration": 11,
    "start_time": "2023-02-25T12:59:45.474Z"
   },
   {
    "duration": 48,
    "start_time": "2023-02-25T12:59:45.489Z"
   },
   {
    "duration": 26,
    "start_time": "2023-02-25T12:59:45.550Z"
   },
   {
    "duration": 72,
    "start_time": "2023-02-25T12:59:45.579Z"
   },
   {
    "duration": 2344,
    "start_time": "2023-02-25T12:59:45.652Z"
   },
   {
    "duration": 169,
    "start_time": "2023-02-25T12:59:47.998Z"
   },
   {
    "duration": 126,
    "start_time": "2023-02-25T12:59:48.175Z"
   },
   {
    "duration": 127,
    "start_time": "2023-02-25T12:59:48.303Z"
   },
   {
    "duration": 0,
    "start_time": "2023-02-25T12:59:48.432Z"
   },
   {
    "duration": 0,
    "start_time": "2023-02-25T12:59:48.433Z"
   },
   {
    "duration": 0,
    "start_time": "2023-02-25T12:59:48.433Z"
   },
   {
    "duration": 0,
    "start_time": "2023-02-25T12:59:48.434Z"
   },
   {
    "duration": 11,
    "start_time": "2023-02-25T13:00:03.472Z"
   },
   {
    "duration": 8,
    "start_time": "2023-02-25T13:00:03.487Z"
   },
   {
    "duration": 363,
    "start_time": "2023-02-25T13:00:03.496Z"
   },
   {
    "duration": 34,
    "start_time": "2023-02-25T13:00:03.860Z"
   },
   {
    "duration": 73,
    "start_time": "2023-02-25T13:00:03.898Z"
   },
   {
    "duration": 30,
    "start_time": "2023-02-25T13:00:03.975Z"
   },
   {
    "duration": 40,
    "start_time": "2023-02-25T13:00:04.007Z"
   },
   {
    "duration": 54,
    "start_time": "2023-02-25T13:00:04.052Z"
   },
   {
    "duration": 26,
    "start_time": "2023-02-25T13:00:04.108Z"
   },
   {
    "duration": 76,
    "start_time": "2023-02-25T13:00:04.140Z"
   },
   {
    "duration": 179,
    "start_time": "2023-02-25T13:00:04.218Z"
   },
   {
    "duration": 57,
    "start_time": "2023-02-25T13:00:04.399Z"
   },
   {
    "duration": 2037,
    "start_time": "2023-02-25T13:00:04.464Z"
   },
   {
    "duration": 23,
    "start_time": "2023-02-25T13:00:06.504Z"
   },
   {
    "duration": 52,
    "start_time": "2023-02-25T13:00:06.547Z"
   },
   {
    "duration": 87,
    "start_time": "2023-02-25T13:00:06.601Z"
   },
   {
    "duration": 103,
    "start_time": "2023-02-25T13:00:06.689Z"
   },
   {
    "duration": 101,
    "start_time": "2023-02-25T13:00:06.794Z"
   },
   {
    "duration": 108,
    "start_time": "2023-02-25T13:00:06.898Z"
   },
   {
    "duration": 18,
    "start_time": "2023-02-25T13:00:07.009Z"
   },
   {
    "duration": 75,
    "start_time": "2023-02-25T13:00:07.028Z"
   },
   {
    "duration": 89,
    "start_time": "2023-02-25T13:00:07.105Z"
   },
   {
    "duration": 10,
    "start_time": "2023-02-25T13:00:07.197Z"
   },
   {
    "duration": 94,
    "start_time": "2023-02-25T13:00:07.209Z"
   },
   {
    "duration": 97,
    "start_time": "2023-02-25T13:00:07.305Z"
   },
   {
    "duration": 44,
    "start_time": "2023-02-25T13:00:07.403Z"
   },
   {
    "duration": 44,
    "start_time": "2023-02-25T13:00:07.453Z"
   },
   {
    "duration": 105,
    "start_time": "2023-02-25T13:00:07.499Z"
   },
   {
    "duration": 61,
    "start_time": "2023-02-25T13:00:07.606Z"
   },
   {
    "duration": 125,
    "start_time": "2023-02-25T13:00:07.668Z"
   },
   {
    "duration": 2378,
    "start_time": "2023-02-25T13:00:07.795Z"
   },
   {
    "duration": 193,
    "start_time": "2023-02-25T13:00:10.178Z"
   },
   {
    "duration": 178,
    "start_time": "2023-02-25T13:00:10.377Z"
   },
   {
    "duration": 24,
    "start_time": "2023-02-25T13:00:10.570Z"
   },
   {
    "duration": 6,
    "start_time": "2023-02-25T13:00:10.601Z"
   },
   {
    "duration": 88,
    "start_time": "2023-02-25T13:00:10.609Z"
   },
   {
    "duration": 154,
    "start_time": "2023-02-25T13:00:10.700Z"
   },
   {
    "duration": 4,
    "start_time": "2023-02-25T13:00:10.856Z"
   },
   {
    "duration": 8,
    "start_time": "2023-02-25T13:02:37.630Z"
   },
   {
    "duration": 30,
    "start_time": "2023-02-25T13:02:44.844Z"
   },
   {
    "duration": 2200,
    "start_time": "2023-02-25T15:28:07.588Z"
   },
   {
    "duration": 4,
    "start_time": "2023-02-25T15:28:09.791Z"
   },
   {
    "duration": 996,
    "start_time": "2023-02-25T15:28:09.796Z"
   },
   {
    "duration": 35,
    "start_time": "2023-02-25T15:28:10.793Z"
   },
   {
    "duration": 105,
    "start_time": "2023-02-25T15:28:10.830Z"
   },
   {
    "duration": 34,
    "start_time": "2023-02-25T15:28:10.937Z"
   },
   {
    "duration": 32,
    "start_time": "2023-02-25T15:28:10.976Z"
   },
   {
    "duration": 34,
    "start_time": "2023-02-25T15:28:11.009Z"
   },
   {
    "duration": 44,
    "start_time": "2023-02-25T15:28:11.045Z"
   },
   {
    "duration": 53,
    "start_time": "2023-02-25T15:28:11.091Z"
   },
   {
    "duration": 176,
    "start_time": "2023-02-25T15:28:11.154Z"
   },
   {
    "duration": 53,
    "start_time": "2023-02-25T15:28:11.344Z"
   },
   {
    "duration": 2244,
    "start_time": "2023-02-25T15:28:11.399Z"
   },
   {
    "duration": 33,
    "start_time": "2023-02-25T15:28:13.646Z"
   },
   {
    "duration": 8,
    "start_time": "2023-02-25T15:28:13.682Z"
   },
   {
    "duration": 101,
    "start_time": "2023-02-25T15:28:13.692Z"
   },
   {
    "duration": 77,
    "start_time": "2023-02-25T15:28:13.795Z"
   },
   {
    "duration": 77,
    "start_time": "2023-02-25T15:28:13.874Z"
   },
   {
    "duration": 75,
    "start_time": "2023-02-25T15:28:13.956Z"
   },
   {
    "duration": 12,
    "start_time": "2023-02-25T15:28:14.036Z"
   },
   {
    "duration": 66,
    "start_time": "2023-02-25T15:28:14.053Z"
   },
   {
    "duration": 75,
    "start_time": "2023-02-25T15:28:14.127Z"
   },
   {
    "duration": 43,
    "start_time": "2023-02-25T15:28:14.204Z"
   },
   {
    "duration": 33,
    "start_time": "2023-02-25T15:28:14.257Z"
   },
   {
    "duration": 47,
    "start_time": "2023-02-25T15:28:14.292Z"
   },
   {
    "duration": 57,
    "start_time": "2023-02-25T15:28:14.340Z"
   },
   {
    "duration": 42,
    "start_time": "2023-02-25T15:28:14.399Z"
   },
   {
    "duration": 74,
    "start_time": "2023-02-25T15:28:14.453Z"
   },
   {
    "duration": 25,
    "start_time": "2023-02-25T15:28:14.534Z"
   },
   {
    "duration": 105,
    "start_time": "2023-02-25T15:28:14.565Z"
   },
   {
    "duration": 2275,
    "start_time": "2023-02-25T15:28:14.677Z"
   },
   {
    "duration": 174,
    "start_time": "2023-02-25T15:28:16.953Z"
   },
   {
    "duration": 159,
    "start_time": "2023-02-25T15:28:17.132Z"
   },
   {
    "duration": 27,
    "start_time": "2023-02-25T15:28:17.296Z"
   },
   {
    "duration": 51,
    "start_time": "2023-02-25T15:28:17.328Z"
   },
   {
    "duration": 28,
    "start_time": "2023-02-25T15:28:17.383Z"
   },
   {
    "duration": 334,
    "start_time": "2023-02-25T15:28:17.413Z"
   },
   {
    "duration": 0,
    "start_time": "2023-02-25T15:28:17.749Z"
   },
   {
    "duration": 4,
    "start_time": "2023-02-25T15:29:58.984Z"
   },
   {
    "duration": 17,
    "start_time": "2023-02-25T15:30:02.091Z"
   },
   {
    "duration": 36,
    "start_time": "2023-02-25T15:32:23.835Z"
   },
   {
    "duration": 27,
    "start_time": "2023-02-25T15:32:29.098Z"
   },
   {
    "duration": 5,
    "start_time": "2023-02-25T15:33:09.483Z"
   },
   {
    "duration": 63,
    "start_time": "2023-02-25T15:33:14.729Z"
   },
   {
    "duration": 5,
    "start_time": "2023-02-25T15:34:32.180Z"
   },
   {
    "duration": 1694,
    "start_time": "2023-02-25T15:34:38.249Z"
   },
   {
    "duration": 27,
    "start_time": "2023-02-25T15:34:45.928Z"
   },
   {
    "duration": 5,
    "start_time": "2023-02-25T15:37:50.192Z"
   },
   {
    "duration": 51,
    "start_time": "2023-02-25T15:37:54.192Z"
   },
   {
    "duration": 10,
    "start_time": "2023-02-25T15:38:09.093Z"
   },
   {
    "duration": 2059,
    "start_time": "2023-02-25T15:44:04.572Z"
   },
   {
    "duration": 7,
    "start_time": "2023-02-25T15:44:06.632Z"
   },
   {
    "duration": 468,
    "start_time": "2023-02-25T15:44:06.640Z"
   },
   {
    "duration": 63,
    "start_time": "2023-02-25T15:44:07.128Z"
   },
   {
    "duration": 64,
    "start_time": "2023-02-25T15:44:07.194Z"
   },
   {
    "duration": 27,
    "start_time": "2023-02-25T15:44:07.259Z"
   },
   {
    "duration": 154,
    "start_time": "2023-02-25T15:44:07.288Z"
   },
   {
    "duration": 164,
    "start_time": "2023-02-25T15:44:07.444Z"
   },
   {
    "duration": 71,
    "start_time": "2023-02-25T15:44:07.621Z"
   },
   {
    "duration": 91,
    "start_time": "2023-02-25T15:44:07.696Z"
   },
   {
    "duration": 284,
    "start_time": "2023-02-25T15:44:07.803Z"
   },
   {
    "duration": 49,
    "start_time": "2023-02-25T15:44:08.088Z"
   },
   {
    "duration": 2261,
    "start_time": "2023-02-25T15:44:08.139Z"
   },
   {
    "duration": 34,
    "start_time": "2023-02-25T15:44:10.402Z"
   },
   {
    "duration": 43,
    "start_time": "2023-02-25T15:44:10.450Z"
   },
   {
    "duration": 136,
    "start_time": "2023-02-25T15:44:10.495Z"
   },
   {
    "duration": 90,
    "start_time": "2023-02-25T15:44:10.632Z"
   },
   {
    "duration": 119,
    "start_time": "2023-02-25T15:44:10.724Z"
   },
   {
    "duration": 127,
    "start_time": "2023-02-25T15:44:10.860Z"
   },
   {
    "duration": 8,
    "start_time": "2023-02-25T15:44:10.992Z"
   },
   {
    "duration": 53,
    "start_time": "2023-02-25T15:44:11.002Z"
   },
   {
    "duration": 59,
    "start_time": "2023-02-25T15:44:11.056Z"
   },
   {
    "duration": 79,
    "start_time": "2023-02-25T15:44:11.116Z"
   },
   {
    "duration": 38,
    "start_time": "2023-02-25T15:44:11.198Z"
   },
   {
    "duration": 104,
    "start_time": "2023-02-25T15:44:11.239Z"
   },
   {
    "duration": 18,
    "start_time": "2023-02-25T15:44:11.359Z"
   },
   {
    "duration": 23,
    "start_time": "2023-02-25T15:44:11.379Z"
   },
   {
    "duration": 70,
    "start_time": "2023-02-25T15:44:11.405Z"
   },
   {
    "duration": 17,
    "start_time": "2023-02-25T15:44:11.483Z"
   },
   {
    "duration": 97,
    "start_time": "2023-02-25T15:44:11.501Z"
   },
   {
    "duration": 2234,
    "start_time": "2023-02-25T15:44:11.599Z"
   },
   {
    "duration": 213,
    "start_time": "2023-02-25T15:44:13.838Z"
   },
   {
    "duration": 204,
    "start_time": "2023-02-25T15:44:14.055Z"
   },
   {
    "duration": 22,
    "start_time": "2023-02-25T15:44:14.265Z"
   },
   {
    "duration": 16,
    "start_time": "2023-02-25T15:44:14.292Z"
   },
   {
    "duration": 78,
    "start_time": "2023-02-25T15:44:14.309Z"
   },
   {
    "duration": 1950,
    "start_time": "2023-02-25T15:54:58.393Z"
   },
   {
    "duration": 6,
    "start_time": "2023-02-25T15:55:00.345Z"
   },
   {
    "duration": 430,
    "start_time": "2023-02-25T15:55:00.352Z"
   },
   {
    "duration": 36,
    "start_time": "2023-02-25T15:55:00.795Z"
   },
   {
    "duration": 162,
    "start_time": "2023-02-25T15:55:00.833Z"
   },
   {
    "duration": 100,
    "start_time": "2023-02-25T15:55:00.997Z"
   },
   {
    "duration": 46,
    "start_time": "2023-02-25T15:55:01.099Z"
   },
   {
    "duration": 53,
    "start_time": "2023-02-25T15:55:01.146Z"
   },
   {
    "duration": 7,
    "start_time": "2023-02-25T15:55:01.201Z"
   },
   {
    "duration": 258,
    "start_time": "2023-02-25T15:55:01.209Z"
   },
   {
    "duration": 187,
    "start_time": "2023-02-25T15:55:01.469Z"
   },
   {
    "duration": 81,
    "start_time": "2023-02-25T15:55:01.660Z"
   },
   {
    "duration": 2156,
    "start_time": "2023-02-25T15:55:01.752Z"
   },
   {
    "duration": 23,
    "start_time": "2023-02-25T15:55:03.924Z"
   },
   {
    "duration": 75,
    "start_time": "2023-02-25T15:55:03.948Z"
   },
   {
    "duration": 160,
    "start_time": "2023-02-25T15:55:04.024Z"
   },
   {
    "duration": 106,
    "start_time": "2023-02-25T15:55:04.186Z"
   },
   {
    "duration": 93,
    "start_time": "2023-02-25T15:55:04.294Z"
   },
   {
    "duration": 76,
    "start_time": "2023-02-25T15:55:04.389Z"
   },
   {
    "duration": 10,
    "start_time": "2023-02-25T15:55:04.470Z"
   },
   {
    "duration": 31,
    "start_time": "2023-02-25T15:55:04.484Z"
   },
   {
    "duration": 79,
    "start_time": "2023-02-25T15:55:04.519Z"
   },
   {
    "duration": 8,
    "start_time": "2023-02-25T15:55:04.600Z"
   },
   {
    "duration": 34,
    "start_time": "2023-02-25T15:55:04.635Z"
   },
   {
    "duration": 69,
    "start_time": "2023-02-25T15:55:04.673Z"
   },
   {
    "duration": 34,
    "start_time": "2023-02-25T15:55:04.757Z"
   },
   {
    "duration": 9,
    "start_time": "2023-02-25T15:55:04.793Z"
   },
   {
    "duration": 79,
    "start_time": "2023-02-25T15:55:04.804Z"
   },
   {
    "duration": 12,
    "start_time": "2023-02-25T15:55:04.884Z"
   },
   {
    "duration": 100,
    "start_time": "2023-02-25T15:55:04.898Z"
   },
   {
    "duration": 2328,
    "start_time": "2023-02-25T15:55:04.999Z"
   },
   {
    "duration": 202,
    "start_time": "2023-02-25T15:55:07.333Z"
   },
   {
    "duration": 199,
    "start_time": "2023-02-25T15:55:07.540Z"
   },
   {
    "duration": 27,
    "start_time": "2023-02-25T15:55:07.744Z"
   },
   {
    "duration": 107,
    "start_time": "2023-02-25T15:55:07.776Z"
   },
   {
    "duration": 175,
    "start_time": "2023-02-25T15:55:07.888Z"
   },
   {
    "duration": 0,
    "start_time": "2023-02-25T15:55:08.071Z"
   },
   {
    "duration": 0,
    "start_time": "2023-02-25T15:55:08.072Z"
   },
   {
    "duration": 17,
    "start_time": "2023-02-25T15:55:16.966Z"
   },
   {
    "duration": 160,
    "start_time": "2023-02-25T15:55:19.491Z"
   },
   {
    "duration": 24,
    "start_time": "2023-02-25T15:55:22.207Z"
   },
   {
    "duration": 8,
    "start_time": "2023-02-25T15:57:18.395Z"
   },
   {
    "duration": 208,
    "start_time": "2023-02-25T15:57:22.051Z"
   },
   {
    "duration": 14,
    "start_time": "2023-02-25T15:57:56.671Z"
   },
   {
    "duration": 21,
    "start_time": "2023-02-25T15:57:58.220Z"
   },
   {
    "duration": 4,
    "start_time": "2023-02-25T15:58:14.481Z"
   },
   {
    "duration": 14,
    "start_time": "2023-02-25T15:58:16.784Z"
   },
   {
    "duration": 228,
    "start_time": "2023-02-25T16:01:17.755Z"
   },
   {
    "duration": 181,
    "start_time": "2023-02-25T16:01:39.050Z"
   },
   {
    "duration": 7,
    "start_time": "2023-02-25T16:01:51.831Z"
   },
   {
    "duration": 17,
    "start_time": "2023-02-25T16:04:33.012Z"
   },
   {
    "duration": 20,
    "start_time": "2023-02-25T16:04:35.185Z"
   },
   {
    "duration": 202,
    "start_time": "2023-02-25T16:12:21.368Z"
   },
   {
    "duration": 158,
    "start_time": "2023-02-25T16:13:15.336Z"
   },
   {
    "duration": 187,
    "start_time": "2023-02-25T16:13:31.304Z"
   },
   {
    "duration": 17,
    "start_time": "2023-02-25T16:13:41.598Z"
   },
   {
    "duration": 7,
    "start_time": "2023-02-25T16:13:52.388Z"
   },
   {
    "duration": 11,
    "start_time": "2023-02-25T16:15:33.336Z"
   },
   {
    "duration": 5,
    "start_time": "2023-02-25T16:15:40.997Z"
   },
   {
    "duration": 4,
    "start_time": "2023-02-25T16:16:21.002Z"
   },
   {
    "duration": 6,
    "start_time": "2023-02-25T16:16:23.529Z"
   },
   {
    "duration": 7,
    "start_time": "2023-02-25T16:16:59.788Z"
   },
   {
    "duration": 11,
    "start_time": "2023-02-25T16:17:07.672Z"
   },
   {
    "duration": 18,
    "start_time": "2023-02-25T16:17:15.184Z"
   },
   {
    "duration": 11,
    "start_time": "2023-02-25T16:19:20.461Z"
   },
   {
    "duration": 6,
    "start_time": "2023-02-25T16:19:23.568Z"
   },
   {
    "duration": 4,
    "start_time": "2023-02-25T16:19:25.320Z"
   },
   {
    "duration": 3,
    "start_time": "2023-02-25T16:19:34.802Z"
   },
   {
    "duration": 121,
    "start_time": "2023-02-25T17:02:10.747Z"
   },
   {
    "duration": 15,
    "start_time": "2023-02-25T17:02:38.921Z"
   },
   {
    "duration": 9,
    "start_time": "2023-02-25T17:02:45.563Z"
   },
   {
    "duration": 15,
    "start_time": "2023-02-25T17:04:29.166Z"
   },
   {
    "duration": 4,
    "start_time": "2023-02-25T17:04:43.080Z"
   },
   {
    "duration": 15,
    "start_time": "2023-02-25T17:04:44.744Z"
   },
   {
    "duration": 116,
    "start_time": "2023-02-25T17:04:50.037Z"
   },
   {
    "duration": 6,
    "start_time": "2023-02-25T17:04:52.567Z"
   },
   {
    "duration": 1444,
    "start_time": "2023-02-26T09:31:27.585Z"
   },
   {
    "duration": 3,
    "start_time": "2023-02-26T09:31:29.031Z"
   },
   {
    "duration": 771,
    "start_time": "2023-02-26T09:31:29.035Z"
   },
   {
    "duration": 23,
    "start_time": "2023-02-26T09:31:29.808Z"
   },
   {
    "duration": 26,
    "start_time": "2023-02-26T09:31:29.832Z"
   },
   {
    "duration": 17,
    "start_time": "2023-02-26T09:31:29.859Z"
   },
   {
    "duration": 23,
    "start_time": "2023-02-26T09:31:29.878Z"
   },
   {
    "duration": 14,
    "start_time": "2023-02-26T09:31:29.903Z"
   },
   {
    "duration": 16,
    "start_time": "2023-02-26T09:31:29.918Z"
   },
   {
    "duration": 54,
    "start_time": "2023-02-26T09:31:29.937Z"
   },
   {
    "duration": 85,
    "start_time": "2023-02-26T09:31:29.993Z"
   },
   {
    "duration": 40,
    "start_time": "2023-02-26T09:31:30.080Z"
   },
   {
    "duration": 1613,
    "start_time": "2023-02-26T09:31:30.122Z"
   },
   {
    "duration": 10,
    "start_time": "2023-02-26T09:31:31.736Z"
   },
   {
    "duration": 19,
    "start_time": "2023-02-26T09:31:31.747Z"
   },
   {
    "duration": 72,
    "start_time": "2023-02-26T09:31:31.767Z"
   },
   {
    "duration": 46,
    "start_time": "2023-02-26T09:31:31.841Z"
   },
   {
    "duration": 65,
    "start_time": "2023-02-26T09:31:31.889Z"
   },
   {
    "duration": 48,
    "start_time": "2023-02-26T09:31:31.955Z"
   },
   {
    "duration": 7,
    "start_time": "2023-02-26T09:31:32.004Z"
   },
   {
    "duration": 37,
    "start_time": "2023-02-26T09:31:32.013Z"
   },
   {
    "duration": 41,
    "start_time": "2023-02-26T09:31:32.052Z"
   },
   {
    "duration": 26,
    "start_time": "2023-02-26T09:31:32.095Z"
   },
   {
    "duration": 23,
    "start_time": "2023-02-26T09:31:32.122Z"
   },
   {
    "duration": 35,
    "start_time": "2023-02-26T09:31:32.146Z"
   },
   {
    "duration": 21,
    "start_time": "2023-02-26T09:31:32.183Z"
   },
   {
    "duration": 19,
    "start_time": "2023-02-26T09:31:32.206Z"
   },
   {
    "duration": 23,
    "start_time": "2023-02-26T09:31:32.228Z"
   },
   {
    "duration": 15,
    "start_time": "2023-02-26T09:31:32.252Z"
   },
   {
    "duration": 48,
    "start_time": "2023-02-26T09:31:32.269Z"
   },
   {
    "duration": 1587,
    "start_time": "2023-02-26T09:31:32.318Z"
   },
   {
    "duration": 112,
    "start_time": "2023-02-26T09:31:33.907Z"
   },
   {
    "duration": 109,
    "start_time": "2023-02-26T09:31:34.020Z"
   },
   {
    "duration": 19,
    "start_time": "2023-02-26T09:31:34.131Z"
   },
   {
    "duration": 4,
    "start_time": "2023-02-26T09:31:34.151Z"
   },
   {
    "duration": 28,
    "start_time": "2023-02-26T09:31:34.156Z"
   },
   {
    "duration": 93,
    "start_time": "2023-02-26T09:31:34.186Z"
   },
   {
    "duration": 4,
    "start_time": "2023-02-26T09:31:34.280Z"
   },
   {
    "duration": 112,
    "start_time": "2023-02-26T09:36:29.200Z"
   },
   {
    "duration": 12,
    "start_time": "2023-02-26T09:36:49.837Z"
   },
   {
    "duration": 4,
    "start_time": "2023-02-26T09:37:58.826Z"
   },
   {
    "duration": 5214,
    "start_time": "2023-02-26T09:39:04.744Z"
   },
   {
    "duration": 0,
    "start_time": "2023-02-26T09:39:09.960Z"
   },
   {
    "duration": 4,
    "start_time": "2023-02-26T09:40:05.077Z"
   },
   {
    "duration": 1673,
    "start_time": "2023-02-26T09:40:07.391Z"
   },
   {
    "duration": 3,
    "start_time": "2023-02-26T09:41:29.918Z"
   },
   {
    "duration": 381,
    "start_time": "2023-02-26T09:41:32.735Z"
   },
   {
    "duration": 17,
    "start_time": "2023-02-26T09:41:51.411Z"
   },
   {
    "duration": 3,
    "start_time": "2023-02-26T09:43:32.174Z"
   },
   {
    "duration": 381,
    "start_time": "2023-02-26T09:43:34.055Z"
   },
   {
    "duration": 17,
    "start_time": "2023-02-26T09:43:36.090Z"
   },
   {
    "duration": 13,
    "start_time": "2023-02-26T09:49:25.958Z"
   },
   {
    "duration": 1856,
    "start_time": "2023-02-28T17:19:45.858Z"
   },
   {
    "duration": 2,
    "start_time": "2023-02-28T17:19:47.716Z"
   },
   {
    "duration": 842,
    "start_time": "2023-02-28T17:19:47.720Z"
   },
   {
    "duration": 23,
    "start_time": "2023-02-28T17:19:48.564Z"
   },
   {
    "duration": 29,
    "start_time": "2023-02-28T17:19:48.589Z"
   },
   {
    "duration": 38,
    "start_time": "2023-02-28T17:19:48.620Z"
   },
   {
    "duration": 23,
    "start_time": "2023-02-28T17:19:48.659Z"
   },
   {
    "duration": 14,
    "start_time": "2023-02-28T17:19:48.684Z"
   },
   {
    "duration": 4,
    "start_time": "2023-02-28T17:19:48.699Z"
   },
   {
    "duration": 62,
    "start_time": "2023-02-28T17:19:48.705Z"
   },
   {
    "duration": 104,
    "start_time": "2023-02-28T17:19:48.769Z"
   },
   {
    "duration": 41,
    "start_time": "2023-02-28T17:19:48.875Z"
   },
   {
    "duration": 1966,
    "start_time": "2023-02-28T17:19:48.918Z"
   },
   {
    "duration": 9,
    "start_time": "2023-02-28T17:19:50.886Z"
   },
   {
    "duration": 15,
    "start_time": "2023-02-28T17:19:50.896Z"
   },
   {
    "duration": 117,
    "start_time": "2023-02-28T17:19:50.912Z"
   },
   {
    "duration": 63,
    "start_time": "2023-02-28T17:19:51.031Z"
   },
   {
    "duration": 77,
    "start_time": "2023-02-28T17:19:51.096Z"
   },
   {
    "duration": 66,
    "start_time": "2023-02-28T17:19:51.175Z"
   },
   {
    "duration": 12,
    "start_time": "2023-02-28T17:19:51.244Z"
   },
   {
    "duration": 18,
    "start_time": "2023-02-28T17:19:51.258Z"
   },
   {
    "duration": 24,
    "start_time": "2023-02-28T17:19:51.278Z"
   },
   {
    "duration": 36,
    "start_time": "2023-02-28T17:19:51.304Z"
   },
   {
    "duration": 12,
    "start_time": "2023-02-28T17:19:51.343Z"
   },
   {
    "duration": 35,
    "start_time": "2023-02-28T17:19:51.356Z"
   },
   {
    "duration": 7,
    "start_time": "2023-02-28T17:19:51.393Z"
   },
   {
    "duration": 11,
    "start_time": "2023-02-28T17:19:51.402Z"
   },
   {
    "duration": 46,
    "start_time": "2023-02-28T17:19:51.417Z"
   },
   {
    "duration": 7,
    "start_time": "2023-02-28T17:19:51.465Z"
   },
   {
    "duration": 65,
    "start_time": "2023-02-28T17:19:51.473Z"
   },
   {
    "duration": 2047,
    "start_time": "2023-02-28T17:19:51.539Z"
   },
   {
    "duration": 125,
    "start_time": "2023-02-28T17:19:53.588Z"
   },
   {
    "duration": 110,
    "start_time": "2023-02-28T17:19:53.715Z"
   },
   {
    "duration": 18,
    "start_time": "2023-02-28T17:19:53.826Z"
   },
   {
    "duration": 14,
    "start_time": "2023-02-28T17:19:53.847Z"
   },
   {
    "duration": 20,
    "start_time": "2023-02-28T17:19:53.862Z"
   },
   {
    "duration": 426,
    "start_time": "2023-02-28T17:19:53.884Z"
   },
   {
    "duration": 14,
    "start_time": "2023-02-28T17:19:54.311Z"
   },
   {
    "duration": 4,
    "start_time": "2023-02-28T17:22:00.705Z"
   },
   {
    "duration": 4,
    "start_time": "2023-02-28T17:23:06.372Z"
   },
   {
    "duration": 4,
    "start_time": "2023-02-28T17:23:22.000Z"
   },
   {
    "duration": 4,
    "start_time": "2023-02-28T17:23:27.530Z"
   },
   {
    "duration": 4,
    "start_time": "2023-02-28T17:23:33.321Z"
   },
   {
    "duration": 28,
    "start_time": "2023-02-28T17:51:05.958Z"
   },
   {
    "duration": 21,
    "start_time": "2023-02-28T17:52:38.050Z"
   },
   {
    "duration": 28,
    "start_time": "2023-02-28T17:52:48.411Z"
   },
   {
    "duration": 21,
    "start_time": "2023-02-28T17:52:52.175Z"
   },
   {
    "duration": 4,
    "start_time": "2023-02-28T18:22:10.210Z"
   },
   {
    "duration": 18,
    "start_time": "2023-02-28T18:22:10.216Z"
   },
   {
    "duration": 264,
    "start_time": "2023-02-28T18:22:10.236Z"
   },
   {
    "duration": 19,
    "start_time": "2023-02-28T18:22:10.502Z"
   },
   {
    "duration": 45,
    "start_time": "2023-02-28T18:22:10.522Z"
   },
   {
    "duration": 16,
    "start_time": "2023-02-28T18:22:10.569Z"
   },
   {
    "duration": 53,
    "start_time": "2023-02-28T18:22:10.586Z"
   },
   {
    "duration": 19,
    "start_time": "2023-02-28T18:22:10.641Z"
   },
   {
    "duration": 9,
    "start_time": "2023-02-28T18:22:10.663Z"
   },
   {
    "duration": 38,
    "start_time": "2023-02-28T18:22:10.674Z"
   },
   {
    "duration": 105,
    "start_time": "2023-02-28T18:22:10.715Z"
   },
   {
    "duration": 46,
    "start_time": "2023-02-28T18:22:10.822Z"
   },
   {
    "duration": 1912,
    "start_time": "2023-02-28T18:22:10.870Z"
   },
   {
    "duration": 11,
    "start_time": "2023-02-28T18:22:12.784Z"
   },
   {
    "duration": 32,
    "start_time": "2023-02-28T18:22:12.797Z"
   },
   {
    "duration": 61,
    "start_time": "2023-02-28T18:22:12.831Z"
   },
   {
    "duration": 56,
    "start_time": "2023-02-28T18:22:12.893Z"
   },
   {
    "duration": 64,
    "start_time": "2023-02-28T18:22:12.951Z"
   },
   {
    "duration": 67,
    "start_time": "2023-02-28T18:22:13.017Z"
   },
   {
    "duration": 7,
    "start_time": "2023-02-28T18:22:13.086Z"
   },
   {
    "duration": 32,
    "start_time": "2023-02-28T18:22:13.095Z"
   },
   {
    "duration": 37,
    "start_time": "2023-02-28T18:22:13.128Z"
   },
   {
    "duration": 20,
    "start_time": "2023-02-28T18:22:13.167Z"
   },
   {
    "duration": 11,
    "start_time": "2023-02-28T18:22:13.191Z"
   },
   {
    "duration": 32,
    "start_time": "2023-02-28T18:22:13.203Z"
   },
   {
    "duration": 8,
    "start_time": "2023-02-28T18:22:13.236Z"
   },
   {
    "duration": 19,
    "start_time": "2023-02-28T18:22:13.245Z"
   },
   {
    "duration": 31,
    "start_time": "2023-02-28T18:22:13.266Z"
   },
   {
    "duration": 13,
    "start_time": "2023-02-28T18:22:13.298Z"
   },
   {
    "duration": 65,
    "start_time": "2023-02-28T18:22:13.313Z"
   },
   {
    "duration": 1905,
    "start_time": "2023-02-28T18:22:13.379Z"
   },
   {
    "duration": 129,
    "start_time": "2023-02-28T18:22:15.286Z"
   },
   {
    "duration": 110,
    "start_time": "2023-02-28T18:22:15.417Z"
   },
   {
    "duration": 19,
    "start_time": "2023-02-28T18:22:15.529Z"
   },
   {
    "duration": 26,
    "start_time": "2023-02-28T18:22:15.549Z"
   },
   {
    "duration": 18,
    "start_time": "2023-02-28T18:22:15.576Z"
   },
   {
    "duration": 449,
    "start_time": "2023-02-28T18:22:15.596Z"
   },
   {
    "duration": 16,
    "start_time": "2023-02-28T18:22:16.047Z"
   },
   {
    "duration": 6,
    "start_time": "2023-02-28T18:22:16.065Z"
   },
   {
    "duration": 153,
    "start_time": "2023-02-28T18:22:16.073Z"
   },
   {
    "duration": 5,
    "start_time": "2023-02-28T18:23:52.966Z"
   },
   {
    "duration": 10,
    "start_time": "2023-02-28T18:38:25.227Z"
   },
   {
    "duration": 6,
    "start_time": "2023-02-28T18:39:23.330Z"
   },
   {
    "duration": 10,
    "start_time": "2023-02-28T18:42:00.835Z"
   },
   {
    "duration": 5,
    "start_time": "2023-02-28T18:44:42.545Z"
   },
   {
    "duration": 6784,
    "start_time": "2023-02-28T18:45:52.036Z"
   },
   {
    "duration": 17,
    "start_time": "2023-02-28T18:48:30.429Z"
   },
   {
    "duration": 60,
    "start_time": "2023-02-28T18:50:21.290Z"
   },
   {
    "duration": 19,
    "start_time": "2023-02-28T18:54:28.776Z"
   },
   {
    "duration": 19,
    "start_time": "2023-02-28T18:55:15.029Z"
   },
   {
    "duration": 14,
    "start_time": "2023-02-28T18:55:58.100Z"
   },
   {
    "duration": 127,
    "start_time": "2023-02-28T18:57:17.112Z"
   },
   {
    "duration": 107,
    "start_time": "2023-02-28T18:57:32.311Z"
   },
   {
    "duration": 4,
    "start_time": "2023-02-28T18:58:38.136Z"
   },
   {
    "duration": 11,
    "start_time": "2023-02-28T19:03:50.709Z"
   },
   {
    "duration": 2673,
    "start_time": "2023-02-28T19:04:45.615Z"
   },
   {
    "duration": 3948,
    "start_time": "2023-02-28T19:05:10.570Z"
   },
   {
    "duration": 3,
    "start_time": "2023-02-28T19:05:14.520Z"
   },
   {
    "duration": 242,
    "start_time": "2023-02-28T19:05:14.524Z"
   },
   {
    "duration": 25,
    "start_time": "2023-02-28T19:05:14.768Z"
   },
   {
    "duration": 52,
    "start_time": "2023-02-28T19:05:14.795Z"
   },
   {
    "duration": 19,
    "start_time": "2023-02-28T19:05:14.848Z"
   },
   {
    "duration": 21,
    "start_time": "2023-02-28T19:05:14.870Z"
   },
   {
    "duration": 45,
    "start_time": "2023-02-28T19:05:14.893Z"
   },
   {
    "duration": 4,
    "start_time": "2023-02-28T19:05:14.940Z"
   },
   {
    "duration": 36,
    "start_time": "2023-02-28T19:05:14.947Z"
   },
   {
    "duration": 110,
    "start_time": "2023-02-28T19:05:14.985Z"
   },
   {
    "duration": 58,
    "start_time": "2023-02-28T19:05:15.096Z"
   },
   {
    "duration": 1805,
    "start_time": "2023-02-28T19:05:15.156Z"
   },
   {
    "duration": 10,
    "start_time": "2023-02-28T19:05:16.963Z"
   },
   {
    "duration": 32,
    "start_time": "2023-02-28T19:05:16.975Z"
   },
   {
    "duration": 108,
    "start_time": "2023-02-28T19:05:17.009Z"
   },
   {
    "duration": 53,
    "start_time": "2023-02-28T19:05:17.119Z"
   },
   {
    "duration": 75,
    "start_time": "2023-02-28T19:05:17.174Z"
   },
   {
    "duration": 51,
    "start_time": "2023-02-28T19:05:17.251Z"
   },
   {
    "duration": 8,
    "start_time": "2023-02-28T19:05:17.303Z"
   },
   {
    "duration": 37,
    "start_time": "2023-02-28T19:05:17.313Z"
   },
   {
    "duration": 20,
    "start_time": "2023-02-28T19:05:17.352Z"
   },
   {
    "duration": 8,
    "start_time": "2023-02-28T19:05:17.374Z"
   },
   {
    "duration": 29,
    "start_time": "2023-02-28T19:05:17.384Z"
   },
   {
    "duration": 41,
    "start_time": "2023-02-28T19:05:17.415Z"
   },
   {
    "duration": 20,
    "start_time": "2023-02-28T19:05:17.458Z"
   },
   {
    "duration": 20,
    "start_time": "2023-02-28T19:05:17.480Z"
   },
   {
    "duration": 24,
    "start_time": "2023-02-28T19:05:17.504Z"
   },
   {
    "duration": 10,
    "start_time": "2023-02-28T19:05:17.530Z"
   },
   {
    "duration": 60,
    "start_time": "2023-02-28T19:05:17.541Z"
   },
   {
    "duration": 1838,
    "start_time": "2023-02-28T19:05:17.603Z"
   },
   {
    "duration": 126,
    "start_time": "2023-02-28T19:05:19.443Z"
   },
   {
    "duration": 115,
    "start_time": "2023-02-28T19:05:19.571Z"
   },
   {
    "duration": 13,
    "start_time": "2023-02-28T19:05:19.687Z"
   },
   {
    "duration": 12,
    "start_time": "2023-02-28T19:05:19.702Z"
   },
   {
    "duration": 22,
    "start_time": "2023-02-28T19:05:19.716Z"
   },
   {
    "duration": 451,
    "start_time": "2023-02-28T19:05:19.740Z"
   },
   {
    "duration": 16,
    "start_time": "2023-02-28T19:05:20.193Z"
   },
   {
    "duration": 12,
    "start_time": "2023-02-28T19:05:20.211Z"
   },
   {
    "duration": 21,
    "start_time": "2023-02-28T19:05:20.225Z"
   },
   {
    "duration": 16,
    "start_time": "2023-02-28T19:05:20.248Z"
   },
   {
    "duration": 33,
    "start_time": "2023-02-28T19:05:20.266Z"
   },
   {
    "duration": 74,
    "start_time": "2023-02-28T19:05:20.301Z"
   },
   {
    "duration": 125,
    "start_time": "2023-02-28T19:05:20.377Z"
   },
   {
    "duration": 4,
    "start_time": "2023-02-28T19:05:20.503Z"
   },
   {
    "duration": 314,
    "start_time": "2023-02-28T19:05:20.509Z"
   },
   {
    "duration": 19,
    "start_time": "2023-02-28T19:08:21.434Z"
   },
   {
    "duration": 28,
    "start_time": "2023-02-28T19:09:17.534Z"
   },
   {
    "duration": 15,
    "start_time": "2023-02-28T19:10:51.223Z"
   },
   {
    "duration": 2677,
    "start_time": "2023-02-28T19:10:55.474Z"
   },
   {
    "duration": 3,
    "start_time": "2023-02-28T19:10:58.153Z"
   },
   {
    "duration": 264,
    "start_time": "2023-02-28T19:10:58.158Z"
   },
   {
    "duration": 19,
    "start_time": "2023-02-28T19:10:58.424Z"
   },
   {
    "duration": 38,
    "start_time": "2023-02-28T19:10:58.445Z"
   },
   {
    "duration": 17,
    "start_time": "2023-02-28T19:10:58.485Z"
   },
   {
    "duration": 52,
    "start_time": "2023-02-28T19:10:58.504Z"
   },
   {
    "duration": 12,
    "start_time": "2023-02-28T19:10:58.559Z"
   },
   {
    "duration": 7,
    "start_time": "2023-02-28T19:10:58.572Z"
   },
   {
    "duration": 56,
    "start_time": "2023-02-28T19:10:58.582Z"
   },
   {
    "duration": 131,
    "start_time": "2023-02-28T19:10:58.640Z"
   },
   {
    "duration": 28,
    "start_time": "2023-02-28T19:10:58.772Z"
   },
   {
    "duration": 1978,
    "start_time": "2023-02-28T19:10:58.802Z"
   },
   {
    "duration": 10,
    "start_time": "2023-02-28T19:11:00.782Z"
   },
   {
    "duration": 25,
    "start_time": "2023-02-28T19:11:00.794Z"
   },
   {
    "duration": 81,
    "start_time": "2023-02-28T19:11:00.821Z"
   },
   {
    "duration": 60,
    "start_time": "2023-02-28T19:11:00.904Z"
   },
   {
    "duration": 82,
    "start_time": "2023-02-28T19:11:00.965Z"
   },
   {
    "duration": 55,
    "start_time": "2023-02-28T19:11:01.049Z"
   },
   {
    "duration": 84,
    "start_time": "2023-02-28T19:11:01.107Z"
   },
   {
    "duration": 27,
    "start_time": "2023-02-28T19:11:01.193Z"
   },
   {
    "duration": 45,
    "start_time": "2023-02-28T19:11:01.222Z"
   },
   {
    "duration": 33,
    "start_time": "2023-02-28T19:11:01.269Z"
   },
   {
    "duration": 30,
    "start_time": "2023-02-28T19:11:01.304Z"
   },
   {
    "duration": 39,
    "start_time": "2023-02-28T19:11:01.337Z"
   },
   {
    "duration": 17,
    "start_time": "2023-02-28T19:11:01.377Z"
   },
   {
    "duration": 31,
    "start_time": "2023-02-28T19:11:01.396Z"
   },
   {
    "duration": 30,
    "start_time": "2023-02-28T19:11:01.432Z"
   },
   {
    "duration": 34,
    "start_time": "2023-02-28T19:11:01.463Z"
   },
   {
    "duration": 84,
    "start_time": "2023-02-28T19:11:01.499Z"
   },
   {
    "duration": 2309,
    "start_time": "2023-02-28T19:11:01.586Z"
   },
   {
    "duration": 164,
    "start_time": "2023-02-28T19:11:03.897Z"
   },
   {
    "duration": 120,
    "start_time": "2023-02-28T19:11:04.064Z"
   },
   {
    "duration": 17,
    "start_time": "2023-02-28T19:11:04.187Z"
   },
   {
    "duration": 39,
    "start_time": "2023-02-28T19:11:04.206Z"
   },
   {
    "duration": 15,
    "start_time": "2023-02-28T19:11:04.248Z"
   },
   {
    "duration": 473,
    "start_time": "2023-02-28T19:11:04.265Z"
   },
   {
    "duration": 17,
    "start_time": "2023-02-28T19:11:04.740Z"
   },
   {
    "duration": 5,
    "start_time": "2023-02-28T19:11:04.759Z"
   },
   {
    "duration": 19,
    "start_time": "2023-02-28T19:11:04.766Z"
   },
   {
    "duration": 151,
    "start_time": "2023-02-28T19:11:04.787Z"
   },
   {
    "duration": 34,
    "start_time": "2023-02-28T19:11:04.940Z"
   },
   {
    "duration": 208,
    "start_time": "2023-02-28T19:11:04.976Z"
   },
   {
    "duration": 19,
    "start_time": "2023-02-28T19:12:32.886Z"
   },
   {
    "duration": 60,
    "start_time": "2023-02-28T19:24:58.399Z"
   },
   {
    "duration": 32,
    "start_time": "2023-02-28T19:25:10.913Z"
   },
   {
    "duration": 7,
    "start_time": "2023-02-28T19:30:27.020Z"
   },
   {
    "duration": 17,
    "start_time": "2023-02-28T19:34:27.449Z"
   },
   {
    "duration": 2779,
    "start_time": "2023-02-28T19:37:06.161Z"
   },
   {
    "duration": 4,
    "start_time": "2023-02-28T19:37:08.943Z"
   },
   {
    "duration": 233,
    "start_time": "2023-02-28T19:37:08.948Z"
   },
   {
    "duration": 20,
    "start_time": "2023-02-28T19:37:09.184Z"
   },
   {
    "duration": 50,
    "start_time": "2023-02-28T19:37:09.205Z"
   },
   {
    "duration": 23,
    "start_time": "2023-02-28T19:37:09.257Z"
   },
   {
    "duration": 24,
    "start_time": "2023-02-28T19:37:09.282Z"
   },
   {
    "duration": 36,
    "start_time": "2023-02-28T19:37:09.307Z"
   },
   {
    "duration": 4,
    "start_time": "2023-02-28T19:37:09.345Z"
   },
   {
    "duration": 25,
    "start_time": "2023-02-28T19:37:09.352Z"
   },
   {
    "duration": 127,
    "start_time": "2023-02-28T19:37:09.378Z"
   },
   {
    "duration": 37,
    "start_time": "2023-02-28T19:37:09.507Z"
   },
   {
    "duration": 1822,
    "start_time": "2023-02-28T19:37:09.546Z"
   },
   {
    "duration": 9,
    "start_time": "2023-02-28T19:37:11.370Z"
   },
   {
    "duration": 10,
    "start_time": "2023-02-28T19:37:11.381Z"
   },
   {
    "duration": 72,
    "start_time": "2023-02-28T19:37:11.393Z"
   },
   {
    "duration": 52,
    "start_time": "2023-02-28T19:37:11.468Z"
   },
   {
    "duration": 64,
    "start_time": "2023-02-28T19:37:11.538Z"
   },
   {
    "duration": 77,
    "start_time": "2023-02-28T19:37:11.603Z"
   },
   {
    "duration": 9,
    "start_time": "2023-02-28T19:37:11.683Z"
   },
   {
    "duration": 15,
    "start_time": "2023-02-28T19:37:11.694Z"
   },
   {
    "duration": 52,
    "start_time": "2023-02-28T19:37:11.711Z"
   },
   {
    "duration": 13,
    "start_time": "2023-02-28T19:37:11.765Z"
   },
   {
    "duration": 12,
    "start_time": "2023-02-28T19:37:11.779Z"
   },
   {
    "duration": 55,
    "start_time": "2023-02-28T19:37:11.793Z"
   },
   {
    "duration": 7,
    "start_time": "2023-02-28T19:37:11.850Z"
   },
   {
    "duration": 9,
    "start_time": "2023-02-28T19:37:11.859Z"
   },
   {
    "duration": 23,
    "start_time": "2023-02-28T19:37:11.874Z"
   },
   {
    "duration": 42,
    "start_time": "2023-02-28T19:37:11.898Z"
   },
   {
    "duration": 55,
    "start_time": "2023-02-28T19:37:11.942Z"
   },
   {
    "duration": 2087,
    "start_time": "2023-02-28T19:37:11.999Z"
   },
   {
    "duration": 144,
    "start_time": "2023-02-28T19:37:14.088Z"
   },
   {
    "duration": 147,
    "start_time": "2023-02-28T19:37:14.234Z"
   },
   {
    "duration": 19,
    "start_time": "2023-02-28T19:37:14.383Z"
   },
   {
    "duration": 34,
    "start_time": "2023-02-28T19:37:14.404Z"
   },
   {
    "duration": 4,
    "start_time": "2023-02-28T19:37:14.440Z"
   },
   {
    "duration": 449,
    "start_time": "2023-02-28T19:37:14.445Z"
   },
   {
    "duration": 15,
    "start_time": "2023-02-28T19:37:14.896Z"
   },
   {
    "duration": 7,
    "start_time": "2023-02-28T19:37:14.913Z"
   },
   {
    "duration": 10,
    "start_time": "2023-02-28T19:37:14.937Z"
   },
   {
    "duration": 122,
    "start_time": "2023-02-28T19:37:14.950Z"
   },
   {
    "duration": 23,
    "start_time": "2023-02-28T19:37:15.074Z"
   },
   {
    "duration": 46,
    "start_time": "2023-02-28T19:37:15.099Z"
   },
   {
    "duration": 202,
    "start_time": "2023-02-28T19:37:15.148Z"
   },
   {
    "duration": 4005,
    "start_time": "2023-02-28T19:38:42.928Z"
   },
   {
    "duration": 2,
    "start_time": "2023-02-28T19:38:46.937Z"
   },
   {
    "duration": 249,
    "start_time": "2023-02-28T19:38:46.941Z"
   },
   {
    "duration": 24,
    "start_time": "2023-02-28T19:38:47.192Z"
   },
   {
    "duration": 48,
    "start_time": "2023-02-28T19:38:47.217Z"
   },
   {
    "duration": 23,
    "start_time": "2023-02-28T19:38:47.267Z"
   },
   {
    "duration": 24,
    "start_time": "2023-02-28T19:38:47.292Z"
   },
   {
    "duration": 34,
    "start_time": "2023-02-28T19:38:47.317Z"
   },
   {
    "duration": 4,
    "start_time": "2023-02-28T19:38:47.353Z"
   },
   {
    "duration": 52,
    "start_time": "2023-02-28T19:38:47.360Z"
   },
   {
    "duration": 129,
    "start_time": "2023-02-28T19:38:47.414Z"
   },
   {
    "duration": 47,
    "start_time": "2023-02-28T19:38:47.545Z"
   },
   {
    "duration": 1792,
    "start_time": "2023-02-28T19:38:47.594Z"
   },
   {
    "duration": 12,
    "start_time": "2023-02-28T19:38:49.388Z"
   },
   {
    "duration": 36,
    "start_time": "2023-02-28T19:38:49.402Z"
   },
   {
    "duration": 83,
    "start_time": "2023-02-28T19:38:49.440Z"
   },
   {
    "duration": 60,
    "start_time": "2023-02-28T19:38:49.525Z"
   },
   {
    "duration": 83,
    "start_time": "2023-02-28T19:38:49.587Z"
   },
   {
    "duration": 56,
    "start_time": "2023-02-28T19:38:49.672Z"
   },
   {
    "duration": 8,
    "start_time": "2023-02-28T19:38:49.738Z"
   },
   {
    "duration": 22,
    "start_time": "2023-02-28T19:38:49.748Z"
   },
   {
    "duration": 26,
    "start_time": "2023-02-28T19:38:49.772Z"
   },
   {
    "duration": 16,
    "start_time": "2023-02-28T19:38:49.800Z"
   },
   {
    "duration": 30,
    "start_time": "2023-02-28T19:38:49.817Z"
   },
   {
    "duration": 35,
    "start_time": "2023-02-28T19:38:49.849Z"
   },
   {
    "duration": 9,
    "start_time": "2023-02-28T19:38:49.886Z"
   },
   {
    "duration": 42,
    "start_time": "2023-02-28T19:38:49.897Z"
   },
   {
    "duration": 25,
    "start_time": "2023-02-28T19:38:49.944Z"
   },
   {
    "duration": 9,
    "start_time": "2023-02-28T19:38:49.971Z"
   },
   {
    "duration": 82,
    "start_time": "2023-02-28T19:38:49.982Z"
   },
   {
    "duration": 1982,
    "start_time": "2023-02-28T19:38:50.066Z"
   },
   {
    "duration": 127,
    "start_time": "2023-02-28T19:38:52.051Z"
   },
   {
    "duration": 129,
    "start_time": "2023-02-28T19:38:52.179Z"
   },
   {
    "duration": 28,
    "start_time": "2023-02-28T19:38:52.310Z"
   },
   {
    "duration": 15,
    "start_time": "2023-02-28T19:38:52.339Z"
   },
   {
    "duration": 9,
    "start_time": "2023-02-28T19:38:52.355Z"
   },
   {
    "duration": 520,
    "start_time": "2023-02-28T19:38:52.366Z"
   },
   {
    "duration": 15,
    "start_time": "2023-02-28T19:38:52.888Z"
   },
   {
    "duration": 15,
    "start_time": "2023-02-28T19:38:52.905Z"
   },
   {
    "duration": 19,
    "start_time": "2023-02-28T19:38:52.922Z"
   },
   {
    "duration": 139,
    "start_time": "2023-02-28T19:38:52.942Z"
   },
   {
    "duration": 196,
    "start_time": "2023-02-28T19:38:53.083Z"
   },
   {
    "duration": 8,
    "start_time": "2023-02-28T19:41:11.093Z"
   },
   {
    "duration": 3,
    "start_time": "2023-02-28T19:45:48.693Z"
   },
   {
    "duration": 153,
    "start_time": "2023-02-28T19:45:59.828Z"
   },
   {
    "duration": 53,
    "start_time": "2023-02-28T19:46:16.321Z"
   },
   {
    "duration": 60,
    "start_time": "2023-02-28T19:49:26.664Z"
   },
   {
    "duration": 6,
    "start_time": "2023-02-28T19:49:47.176Z"
   },
   {
    "duration": 8,
    "start_time": "2023-02-28T19:50:05.632Z"
   },
   {
    "duration": 7,
    "start_time": "2023-02-28T19:50:58.462Z"
   },
   {
    "duration": 10,
    "start_time": "2023-02-28T19:51:20.867Z"
   },
   {
    "duration": 6,
    "start_time": "2023-02-28T19:51:30.330Z"
   },
   {
    "duration": 9,
    "start_time": "2023-02-28T19:52:54.490Z"
   },
   {
    "duration": 2815,
    "start_time": "2023-02-28T20:15:37.836Z"
   },
   {
    "duration": 11433,
    "start_time": "2023-03-01T16:34:15.234Z"
   },
   {
    "duration": 3,
    "start_time": "2023-03-01T16:34:26.669Z"
   },
   {
    "duration": 911,
    "start_time": "2023-03-01T16:34:26.674Z"
   },
   {
    "duration": 38,
    "start_time": "2023-03-01T16:34:27.589Z"
   },
   {
    "duration": 48,
    "start_time": "2023-03-01T16:34:27.629Z"
   },
   {
    "duration": 43,
    "start_time": "2023-03-01T16:34:27.679Z"
   },
   {
    "duration": 36,
    "start_time": "2023-03-01T16:34:27.725Z"
   },
   {
    "duration": 15,
    "start_time": "2023-03-01T16:34:27.763Z"
   },
   {
    "duration": 6,
    "start_time": "2023-03-01T16:34:27.780Z"
   },
   {
    "duration": 63,
    "start_time": "2023-03-01T16:34:27.789Z"
   },
   {
    "duration": 110,
    "start_time": "2023-03-01T16:34:27.855Z"
   },
   {
    "duration": 56,
    "start_time": "2023-03-01T16:34:27.967Z"
   },
   {
    "duration": 2024,
    "start_time": "2023-03-01T16:34:28.025Z"
   },
   {
    "duration": 10,
    "start_time": "2023-03-01T16:34:30.051Z"
   },
   {
    "duration": 20,
    "start_time": "2023-03-01T16:34:30.064Z"
   },
   {
    "duration": 103,
    "start_time": "2023-03-01T16:34:30.086Z"
   },
   {
    "duration": 58,
    "start_time": "2023-03-01T16:34:30.191Z"
   },
   {
    "duration": 77,
    "start_time": "2023-03-01T16:34:30.250Z"
   },
   {
    "duration": 58,
    "start_time": "2023-03-01T16:34:30.329Z"
   },
   {
    "duration": 11,
    "start_time": "2023-03-01T16:34:30.389Z"
   },
   {
    "duration": 31,
    "start_time": "2023-03-01T16:34:30.421Z"
   },
   {
    "duration": 49,
    "start_time": "2023-03-01T16:34:30.454Z"
   },
   {
    "duration": 20,
    "start_time": "2023-03-01T16:34:30.505Z"
   },
   {
    "duration": 27,
    "start_time": "2023-03-01T16:34:30.527Z"
   },
   {
    "duration": 50,
    "start_time": "2023-03-01T16:34:30.555Z"
   },
   {
    "duration": 16,
    "start_time": "2023-03-01T16:34:30.607Z"
   },
   {
    "duration": 36,
    "start_time": "2023-03-01T16:34:30.625Z"
   },
   {
    "duration": 56,
    "start_time": "2023-03-01T16:34:30.665Z"
   },
   {
    "duration": 12,
    "start_time": "2023-03-01T16:34:30.723Z"
   },
   {
    "duration": 94,
    "start_time": "2023-03-01T16:34:30.737Z"
   },
   {
    "duration": 2020,
    "start_time": "2023-03-01T16:34:30.833Z"
   },
   {
    "duration": 140,
    "start_time": "2023-03-01T16:34:32.855Z"
   },
   {
    "duration": 128,
    "start_time": "2023-03-01T16:34:32.997Z"
   },
   {
    "duration": 20,
    "start_time": "2023-03-01T16:34:33.128Z"
   },
   {
    "duration": 23,
    "start_time": "2023-03-01T16:34:33.151Z"
   },
   {
    "duration": 6,
    "start_time": "2023-03-01T16:34:33.176Z"
   },
   {
    "duration": 465,
    "start_time": "2023-03-01T16:34:33.184Z"
   },
   {
    "duration": 16,
    "start_time": "2023-03-01T16:34:33.653Z"
   },
   {
    "duration": 8,
    "start_time": "2023-03-01T16:34:33.671Z"
   },
   {
    "duration": 11,
    "start_time": "2023-03-01T16:34:33.681Z"
   },
   {
    "duration": 159,
    "start_time": "2023-03-01T16:34:33.693Z"
   },
   {
    "duration": 210,
    "start_time": "2023-03-01T16:34:33.854Z"
   },
   {
    "duration": 7,
    "start_time": "2023-03-01T16:34:34.065Z"
   },
   {
    "duration": 5,
    "start_time": "2023-03-01T16:34:34.073Z"
   },
   {
    "duration": 90,
    "start_time": "2023-03-01T16:34:34.080Z"
   },
   {
    "duration": 6,
    "start_time": "2023-03-01T16:34:34.172Z"
   },
   {
    "duration": 2482,
    "start_time": "2023-03-01T18:55:06.549Z"
   },
   {
    "duration": 4071,
    "start_time": "2023-03-01T18:55:20.364Z"
   },
   {
    "duration": 5,
    "start_time": "2023-03-01T18:55:24.437Z"
   },
   {
    "duration": 351,
    "start_time": "2023-03-01T18:55:24.444Z"
   },
   {
    "duration": 32,
    "start_time": "2023-03-01T18:55:24.798Z"
   },
   {
    "duration": 30,
    "start_time": "2023-03-01T18:55:24.832Z"
   },
   {
    "duration": 21,
    "start_time": "2023-03-01T18:55:24.864Z"
   },
   {
    "duration": 57,
    "start_time": "2023-03-01T18:55:24.888Z"
   },
   {
    "duration": 18,
    "start_time": "2023-03-01T18:55:24.947Z"
   },
   {
    "duration": 6,
    "start_time": "2023-03-01T18:55:24.967Z"
   },
   {
    "duration": 69,
    "start_time": "2023-03-01T18:55:24.976Z"
   },
   {
    "duration": 152,
    "start_time": "2023-03-01T18:55:25.047Z"
   },
   {
    "duration": 65,
    "start_time": "2023-03-01T18:55:25.201Z"
   },
   {
    "duration": 1980,
    "start_time": "2023-03-01T18:55:25.268Z"
   },
   {
    "duration": 11,
    "start_time": "2023-03-01T18:55:27.250Z"
   },
   {
    "duration": 15,
    "start_time": "2023-03-01T18:55:27.263Z"
   },
   {
    "duration": 80,
    "start_time": "2023-03-01T18:55:27.280Z"
   },
   {
    "duration": 61,
    "start_time": "2023-03-01T18:55:27.362Z"
   },
   {
    "duration": 80,
    "start_time": "2023-03-01T18:55:27.425Z"
   },
   {
    "duration": 71,
    "start_time": "2023-03-01T18:55:27.507Z"
   },
   {
    "duration": 8,
    "start_time": "2023-03-01T18:55:27.579Z"
   },
   {
    "duration": 36,
    "start_time": "2023-03-01T18:55:27.589Z"
   },
   {
    "duration": 26,
    "start_time": "2023-03-01T18:55:27.626Z"
   },
   {
    "duration": 9,
    "start_time": "2023-03-01T18:55:27.654Z"
   },
   {
    "duration": 12,
    "start_time": "2023-03-01T18:55:27.664Z"
   },
   {
    "duration": 49,
    "start_time": "2023-03-01T18:55:27.679Z"
   },
   {
    "duration": 8,
    "start_time": "2023-03-01T18:55:27.729Z"
   },
   {
    "duration": 13,
    "start_time": "2023-03-01T18:55:27.739Z"
   },
   {
    "duration": 23,
    "start_time": "2023-03-01T18:55:27.756Z"
   },
   {
    "duration": 10,
    "start_time": "2023-03-01T18:55:27.781Z"
   },
   {
    "duration": 79,
    "start_time": "2023-03-01T18:55:27.793Z"
   },
   {
    "duration": 2025,
    "start_time": "2023-03-01T18:55:27.874Z"
   },
   {
    "duration": 147,
    "start_time": "2023-03-01T18:55:29.901Z"
   },
   {
    "duration": 121,
    "start_time": "2023-03-01T18:55:30.050Z"
   },
   {
    "duration": 19,
    "start_time": "2023-03-01T18:55:30.173Z"
   },
   {
    "duration": 32,
    "start_time": "2023-03-01T18:55:30.194Z"
   },
   {
    "duration": 29,
    "start_time": "2023-03-01T18:55:30.228Z"
   },
   {
    "duration": 495,
    "start_time": "2023-03-01T18:55:30.259Z"
   },
   {
    "duration": 13,
    "start_time": "2023-03-01T18:55:30.756Z"
   },
   {
    "duration": 37,
    "start_time": "2023-03-01T18:55:30.771Z"
   },
   {
    "duration": 55,
    "start_time": "2023-03-01T18:55:30.810Z"
   },
   {
    "duration": 150,
    "start_time": "2023-03-01T18:55:30.866Z"
   },
   {
    "duration": 206,
    "start_time": "2023-03-01T18:55:31.019Z"
   },
   {
    "duration": 6,
    "start_time": "2023-03-01T18:55:31.226Z"
   },
   {
    "duration": 6,
    "start_time": "2023-03-01T18:55:31.234Z"
   },
   {
    "duration": 81,
    "start_time": "2023-03-01T18:55:31.242Z"
   },
   {
    "duration": 7,
    "start_time": "2023-03-01T18:55:31.325Z"
   },
   {
    "duration": 42,
    "start_time": "2023-03-01T18:55:31.334Z"
   },
   {
    "duration": 51,
    "start_time": "2023-03-01T18:56:07.547Z"
   },
   {
    "duration": 52,
    "start_time": "2023-03-01T18:56:22.693Z"
   },
   {
    "duration": 55,
    "start_time": "2023-03-01T18:57:04.323Z"
   },
   {
    "duration": 115,
    "start_time": "2023-03-01T18:57:07.947Z"
   },
   {
    "duration": 2478,
    "start_time": "2023-03-01T18:59:53.581Z"
   },
   {
    "duration": 2712,
    "start_time": "2023-03-01T19:00:02.005Z"
   },
   {
    "duration": 3,
    "start_time": "2023-03-01T19:00:04.719Z"
   },
   {
    "duration": 229,
    "start_time": "2023-03-01T19:00:04.724Z"
   },
   {
    "duration": 19,
    "start_time": "2023-03-01T19:00:04.955Z"
   },
   {
    "duration": 45,
    "start_time": "2023-03-01T19:00:04.976Z"
   },
   {
    "duration": 16,
    "start_time": "2023-03-01T19:00:05.023Z"
   },
   {
    "duration": 31,
    "start_time": "2023-03-01T19:00:05.041Z"
   },
   {
    "duration": 13,
    "start_time": "2023-03-01T19:00:05.074Z"
   },
   {
    "duration": 12,
    "start_time": "2023-03-01T19:00:05.089Z"
   },
   {
    "duration": 30,
    "start_time": "2023-03-01T19:00:05.122Z"
   },
   {
    "duration": 103,
    "start_time": "2023-03-01T19:00:05.154Z"
   },
   {
    "duration": 28,
    "start_time": "2023-03-01T19:00:05.259Z"
   },
   {
    "duration": 1766,
    "start_time": "2023-03-01T19:00:05.288Z"
   },
   {
    "duration": 10,
    "start_time": "2023-03-01T19:00:07.056Z"
   },
   {
    "duration": 12,
    "start_time": "2023-03-01T19:00:07.067Z"
   },
   {
    "duration": 49,
    "start_time": "2023-03-01T19:00:07.081Z"
   },
   {
    "duration": 48,
    "start_time": "2023-03-01T19:00:07.132Z"
   },
   {
    "duration": 81,
    "start_time": "2023-03-01T19:00:07.183Z"
   },
   {
    "duration": 56,
    "start_time": "2023-03-01T19:00:07.265Z"
   },
   {
    "duration": 8,
    "start_time": "2023-03-01T19:00:07.323Z"
   },
   {
    "duration": 18,
    "start_time": "2023-03-01T19:00:07.333Z"
   },
   {
    "duration": 24,
    "start_time": "2023-03-01T19:00:07.353Z"
   },
   {
    "duration": 8,
    "start_time": "2023-03-01T19:00:07.379Z"
   },
   {
    "duration": 38,
    "start_time": "2023-03-01T19:00:07.389Z"
   },
   {
    "duration": 25,
    "start_time": "2023-03-01T19:00:07.428Z"
   },
   {
    "duration": 7,
    "start_time": "2023-03-01T19:00:07.455Z"
   },
   {
    "duration": 8,
    "start_time": "2023-03-01T19:00:07.463Z"
   },
   {
    "duration": 47,
    "start_time": "2023-03-01T19:00:07.474Z"
   },
   {
    "duration": 7,
    "start_time": "2023-03-01T19:00:07.523Z"
   },
   {
    "duration": 53,
    "start_time": "2023-03-01T19:00:07.531Z"
   },
   {
    "duration": 1737,
    "start_time": "2023-03-01T19:00:07.587Z"
   },
   {
    "duration": 106,
    "start_time": "2023-03-01T19:00:09.326Z"
   },
   {
    "duration": 105,
    "start_time": "2023-03-01T19:00:09.434Z"
   },
   {
    "duration": 15,
    "start_time": "2023-03-01T19:00:09.541Z"
   },
   {
    "duration": 13,
    "start_time": "2023-03-01T19:00:09.558Z"
   },
   {
    "duration": 3,
    "start_time": "2023-03-01T19:00:09.573Z"
   },
   {
    "duration": 404,
    "start_time": "2023-03-01T19:00:09.578Z"
   },
   {
    "duration": 14,
    "start_time": "2023-03-01T19:00:09.983Z"
   },
   {
    "duration": 6,
    "start_time": "2023-03-01T19:00:09.999Z"
   },
   {
    "duration": 21,
    "start_time": "2023-03-01T19:00:10.006Z"
   },
   {
    "duration": 111,
    "start_time": "2023-03-01T19:00:10.029Z"
   },
   {
    "duration": 153,
    "start_time": "2023-03-01T19:00:10.142Z"
   },
   {
    "duration": 7,
    "start_time": "2023-03-01T19:00:10.297Z"
   },
   {
    "duration": 36,
    "start_time": "2023-03-01T19:00:10.305Z"
   },
   {
    "duration": 65,
    "start_time": "2023-03-01T19:00:10.343Z"
   },
   {
    "duration": 6,
    "start_time": "2023-03-01T19:00:10.410Z"
   },
   {
    "duration": 40,
    "start_time": "2023-03-01T19:00:10.417Z"
   },
   {
    "duration": 13,
    "start_time": "2023-03-01T19:05:46.857Z"
   },
   {
    "duration": 32,
    "start_time": "2023-03-01T19:07:32.613Z"
   },
   {
    "duration": 33,
    "start_time": "2023-03-01T19:10:59.237Z"
   },
   {
    "duration": 19,
    "start_time": "2023-03-01T19:49:09.155Z"
   },
   {
    "duration": 43,
    "start_time": "2023-03-01T20:21:29.108Z"
   },
   {
    "duration": 2528,
    "start_time": "2023-03-01T20:25:40.755Z"
   },
   {
    "duration": 4,
    "start_time": "2023-03-01T20:25:43.286Z"
   },
   {
    "duration": 224,
    "start_time": "2023-03-01T20:25:43.292Z"
   },
   {
    "duration": 27,
    "start_time": "2023-03-01T20:25:43.519Z"
   },
   {
    "duration": 52,
    "start_time": "2023-03-01T20:25:43.547Z"
   },
   {
    "duration": 26,
    "start_time": "2023-03-01T20:25:43.601Z"
   },
   {
    "duration": 51,
    "start_time": "2023-03-01T20:25:43.628Z"
   },
   {
    "duration": 43,
    "start_time": "2023-03-01T20:25:43.683Z"
   },
   {
    "duration": 16,
    "start_time": "2023-03-01T20:25:43.731Z"
   },
   {
    "duration": 46,
    "start_time": "2023-03-01T20:25:43.750Z"
   },
   {
    "duration": 95,
    "start_time": "2023-03-01T20:25:43.798Z"
   },
   {
    "duration": 27,
    "start_time": "2023-03-01T20:25:43.895Z"
   },
   {
    "duration": 1779,
    "start_time": "2023-03-01T20:25:43.925Z"
   },
   {
    "duration": 17,
    "start_time": "2023-03-01T20:25:45.706Z"
   },
   {
    "duration": 14,
    "start_time": "2023-03-01T20:25:45.729Z"
   },
   {
    "duration": 38,
    "start_time": "2023-03-01T20:25:45.744Z"
   },
   {
    "duration": 63,
    "start_time": "2023-03-01T20:25:45.784Z"
   },
   {
    "duration": 57,
    "start_time": "2023-03-01T20:25:45.848Z"
   },
   {
    "duration": 67,
    "start_time": "2023-03-01T20:25:45.907Z"
   },
   {
    "duration": 7,
    "start_time": "2023-03-01T20:25:45.976Z"
   },
   {
    "duration": 14,
    "start_time": "2023-03-01T20:25:45.985Z"
   },
   {
    "duration": 23,
    "start_time": "2023-03-01T20:25:46.023Z"
   },
   {
    "duration": 19,
    "start_time": "2023-03-01T20:25:46.047Z"
   },
   {
    "duration": 9,
    "start_time": "2023-03-01T20:25:46.068Z"
   },
   {
    "duration": 26,
    "start_time": "2023-03-01T20:25:46.079Z"
   },
   {
    "duration": 27,
    "start_time": "2023-03-01T20:25:46.107Z"
   },
   {
    "duration": 25,
    "start_time": "2023-03-01T20:25:46.135Z"
   },
   {
    "duration": 24,
    "start_time": "2023-03-01T20:25:46.163Z"
   },
   {
    "duration": 7,
    "start_time": "2023-03-01T20:25:46.189Z"
   },
   {
    "duration": 66,
    "start_time": "2023-03-01T20:25:46.198Z"
   },
   {
    "duration": 1777,
    "start_time": "2023-03-01T20:25:46.266Z"
   },
   {
    "duration": 109,
    "start_time": "2023-03-01T20:25:48.044Z"
   },
   {
    "duration": 104,
    "start_time": "2023-03-01T20:25:48.154Z"
   },
   {
    "duration": 13,
    "start_time": "2023-03-01T20:25:48.260Z"
   },
   {
    "duration": 11,
    "start_time": "2023-03-01T20:25:48.275Z"
   },
   {
    "duration": 6,
    "start_time": "2023-03-01T20:25:48.288Z"
   },
   {
    "duration": 431,
    "start_time": "2023-03-01T20:25:48.296Z"
   },
   {
    "duration": 18,
    "start_time": "2023-03-01T20:25:48.728Z"
   },
   {
    "duration": 23,
    "start_time": "2023-03-01T20:25:48.748Z"
   },
   {
    "duration": 29,
    "start_time": "2023-03-01T20:25:48.773Z"
   },
   {
    "duration": 142,
    "start_time": "2023-03-01T20:25:48.803Z"
   },
   {
    "duration": 136,
    "start_time": "2023-03-01T20:25:48.947Z"
   },
   {
    "duration": 5,
    "start_time": "2023-03-01T20:25:49.085Z"
   },
   {
    "duration": 20,
    "start_time": "2023-03-01T20:25:49.092Z"
   },
   {
    "duration": 85,
    "start_time": "2023-03-01T20:25:49.114Z"
   },
   {
    "duration": 7,
    "start_time": "2023-03-01T20:25:49.201Z"
   },
   {
    "duration": 49,
    "start_time": "2023-03-01T20:25:49.209Z"
   },
   {
    "duration": 33,
    "start_time": "2023-03-01T20:27:02.037Z"
   },
   {
    "duration": 66,
    "start_time": "2023-03-01T20:33:40.915Z"
   },
   {
    "duration": 5,
    "start_time": "2023-03-01T20:33:47.580Z"
   },
   {
    "duration": 0,
    "start_time": "2023-03-01T20:37:10.638Z"
   },
   {
    "duration": 183916,
    "start_time": "2023-03-01T20:37:32.518Z"
   },
   {
    "duration": 187013,
    "start_time": "2023-03-01T20:46:33.635Z"
   },
   {
    "duration": 3875,
    "start_time": "2023-03-01T20:58:20.175Z"
   },
   {
    "duration": 4,
    "start_time": "2023-03-01T20:58:24.052Z"
   },
   {
    "duration": 289,
    "start_time": "2023-03-01T20:58:24.058Z"
   },
   {
    "duration": 25,
    "start_time": "2023-03-01T20:58:24.350Z"
   },
   {
    "duration": 51,
    "start_time": "2023-03-01T20:58:24.377Z"
   },
   {
    "duration": 31,
    "start_time": "2023-03-01T20:58:24.438Z"
   },
   {
    "duration": 33,
    "start_time": "2023-03-01T20:58:24.472Z"
   },
   {
    "duration": 30,
    "start_time": "2023-03-01T20:58:24.507Z"
   },
   {
    "duration": 46,
    "start_time": "2023-03-01T20:58:24.539Z"
   },
   {
    "duration": 62,
    "start_time": "2023-03-01T20:58:24.590Z"
   },
   {
    "duration": 129,
    "start_time": "2023-03-01T20:58:24.655Z"
   },
   {
    "duration": 58,
    "start_time": "2023-03-01T20:58:24.786Z"
   },
   {
    "duration": 1954,
    "start_time": "2023-03-01T20:58:24.846Z"
   },
   {
    "duration": 15,
    "start_time": "2023-03-01T20:58:26.802Z"
   },
   {
    "duration": 31,
    "start_time": "2023-03-01T20:58:26.819Z"
   },
   {
    "duration": 89,
    "start_time": "2023-03-01T20:58:26.852Z"
   },
   {
    "duration": 54,
    "start_time": "2023-03-01T20:58:26.943Z"
   },
   {
    "duration": 88,
    "start_time": "2023-03-01T20:58:26.999Z"
   },
   {
    "duration": 82,
    "start_time": "2023-03-01T20:58:27.088Z"
   },
   {
    "duration": 9,
    "start_time": "2023-03-01T20:58:27.172Z"
   },
   {
    "duration": 17,
    "start_time": "2023-03-01T20:58:27.183Z"
   },
   {
    "duration": 51,
    "start_time": "2023-03-01T20:58:27.202Z"
   },
   {
    "duration": 9,
    "start_time": "2023-03-01T20:58:27.255Z"
   },
   {
    "duration": 9,
    "start_time": "2023-03-01T20:58:27.266Z"
   },
   {
    "duration": 62,
    "start_time": "2023-03-01T20:58:27.277Z"
   },
   {
    "duration": 15,
    "start_time": "2023-03-01T20:58:27.341Z"
   },
   {
    "duration": 14,
    "start_time": "2023-03-01T20:58:27.358Z"
   },
   {
    "duration": 30,
    "start_time": "2023-03-01T20:58:27.378Z"
   },
   {
    "duration": 15,
    "start_time": "2023-03-01T20:58:27.427Z"
   },
   {
    "duration": 63,
    "start_time": "2023-03-01T20:58:27.444Z"
   },
   {
    "duration": 2041,
    "start_time": "2023-03-01T20:58:27.508Z"
   },
   {
    "duration": 134,
    "start_time": "2023-03-01T20:58:29.551Z"
   },
   {
    "duration": 131,
    "start_time": "2023-03-01T20:58:29.686Z"
   },
   {
    "duration": 24,
    "start_time": "2023-03-01T20:58:29.820Z"
   },
   {
    "duration": 23,
    "start_time": "2023-03-01T20:58:29.846Z"
   },
   {
    "duration": 3,
    "start_time": "2023-03-01T20:58:29.872Z"
   },
   {
    "duration": 530,
    "start_time": "2023-03-01T20:58:29.877Z"
   },
   {
    "duration": 30,
    "start_time": "2023-03-01T20:58:30.409Z"
   },
   {
    "duration": 35,
    "start_time": "2023-03-01T20:58:30.441Z"
   },
   {
    "duration": 41,
    "start_time": "2023-03-01T20:58:30.478Z"
   },
   {
    "duration": 166,
    "start_time": "2023-03-01T20:58:30.522Z"
   },
   {
    "duration": 205,
    "start_time": "2023-03-01T20:58:30.689Z"
   },
   {
    "duration": 7,
    "start_time": "2023-03-01T20:58:30.895Z"
   },
   {
    "duration": 58,
    "start_time": "2023-03-01T20:58:30.904Z"
   },
   {
    "duration": 122,
    "start_time": "2023-03-01T20:58:30.964Z"
   },
   {
    "duration": 7,
    "start_time": "2023-03-01T20:58:31.088Z"
   },
   {
    "duration": 5387481,
    "start_time": "2023-03-01T20:58:31.096Z"
   },
   {
    "duration": 2424,
    "start_time": "2023-03-02T03:20:17.895Z"
   },
   {
    "duration": 16535,
    "start_time": "2023-03-02T03:20:40.960Z"
   },
   {
    "duration": 33708,
    "start_time": "2023-03-02T03:22:12.797Z"
   },
   {
    "duration": 33882,
    "start_time": "2023-03-02T03:22:51.666Z"
   },
   {
    "duration": 2540,
    "start_time": "2023-03-02T03:49:15.024Z"
   },
   {
    "duration": 4,
    "start_time": "2023-03-02T03:49:17.566Z"
   },
   {
    "duration": 240,
    "start_time": "2023-03-02T03:49:17.571Z"
   },
   {
    "duration": 17,
    "start_time": "2023-03-02T03:49:17.813Z"
   },
   {
    "duration": 29,
    "start_time": "2023-03-02T03:49:17.832Z"
   },
   {
    "duration": 15,
    "start_time": "2023-03-02T03:49:17.863Z"
   },
   {
    "duration": 21,
    "start_time": "2023-03-02T03:49:17.880Z"
   },
   {
    "duration": 31,
    "start_time": "2023-03-02T03:49:17.902Z"
   },
   {
    "duration": 4,
    "start_time": "2023-03-02T03:49:17.935Z"
   },
   {
    "duration": 26,
    "start_time": "2023-03-02T03:49:17.942Z"
   },
   {
    "duration": 106,
    "start_time": "2023-03-02T03:49:17.970Z"
   },
   {
    "duration": 27,
    "start_time": "2023-03-02T03:49:18.078Z"
   },
   {
    "duration": 1687,
    "start_time": "2023-03-02T03:49:18.107Z"
   },
   {
    "duration": 10,
    "start_time": "2023-03-02T03:49:19.796Z"
   },
   {
    "duration": 17,
    "start_time": "2023-03-02T03:49:19.808Z"
   },
   {
    "duration": 34,
    "start_time": "2023-03-02T03:49:19.827Z"
   },
   {
    "duration": 64,
    "start_time": "2023-03-02T03:49:19.862Z"
   },
   {
    "duration": 56,
    "start_time": "2023-03-02T03:49:19.928Z"
   },
   {
    "duration": 59,
    "start_time": "2023-03-02T03:49:19.986Z"
   },
   {
    "duration": 7,
    "start_time": "2023-03-02T03:49:20.046Z"
   },
   {
    "duration": 14,
    "start_time": "2023-03-02T03:49:20.054Z"
   },
   {
    "duration": 18,
    "start_time": "2023-03-02T03:49:20.069Z"
   },
   {
    "duration": 6,
    "start_time": "2023-03-02T03:49:20.089Z"
   },
   {
    "duration": 7,
    "start_time": "2023-03-02T03:49:20.121Z"
   },
   {
    "duration": 27,
    "start_time": "2023-03-02T03:49:20.130Z"
   },
   {
    "duration": 7,
    "start_time": "2023-03-02T03:49:20.158Z"
   },
   {
    "duration": 9,
    "start_time": "2023-03-02T03:49:20.167Z"
   },
   {
    "duration": 43,
    "start_time": "2023-03-02T03:49:20.179Z"
   },
   {
    "duration": 7,
    "start_time": "2023-03-02T03:49:20.224Z"
   },
   {
    "duration": 50,
    "start_time": "2023-03-02T03:49:20.233Z"
   },
   {
    "duration": 1714,
    "start_time": "2023-03-02T03:49:20.285Z"
   },
   {
    "duration": 108,
    "start_time": "2023-03-02T03:49:22.001Z"
   },
   {
    "duration": 99,
    "start_time": "2023-03-02T03:49:22.111Z"
   },
   {
    "duration": 15,
    "start_time": "2023-03-02T03:49:22.220Z"
   },
   {
    "duration": 12,
    "start_time": "2023-03-02T03:49:22.237Z"
   },
   {
    "duration": 3,
    "start_time": "2023-03-02T03:49:22.250Z"
   },
   {
    "duration": 398,
    "start_time": "2023-03-02T03:49:22.255Z"
   },
   {
    "duration": 14,
    "start_time": "2023-03-02T03:49:22.654Z"
   },
   {
    "duration": 4,
    "start_time": "2023-03-02T03:49:22.669Z"
   },
   {
    "duration": 18,
    "start_time": "2023-03-02T03:49:22.675Z"
   },
   {
    "duration": 122,
    "start_time": "2023-03-02T03:49:22.694Z"
   },
   {
    "duration": 159,
    "start_time": "2023-03-02T03:49:22.820Z"
   },
   {
    "duration": 5,
    "start_time": "2023-03-02T03:49:22.981Z"
   },
   {
    "duration": 6,
    "start_time": "2023-03-02T03:49:22.988Z"
   },
   {
    "duration": 75,
    "start_time": "2023-03-02T03:49:22.995Z"
   },
   {
    "duration": 5,
    "start_time": "2023-03-02T03:49:23.072Z"
   },
   {
    "duration": 3,
    "start_time": "2023-03-02T03:49:23.078Z"
   },
   {
    "duration": 34797,
    "start_time": "2023-03-02T03:49:23.083Z"
   },
   {
    "duration": 9,
    "start_time": "2023-03-02T07:28:21.809Z"
   },
   {
    "duration": 7398,
    "start_time": "2023-03-02T07:43:23.513Z"
   },
   {
    "duration": 3,
    "start_time": "2023-03-02T07:43:30.913Z"
   },
   {
    "duration": 496,
    "start_time": "2023-03-02T07:43:30.917Z"
   },
   {
    "duration": 22,
    "start_time": "2023-03-02T07:43:31.415Z"
   },
   {
    "duration": 56,
    "start_time": "2023-03-02T07:43:31.438Z"
   },
   {
    "duration": 34,
    "start_time": "2023-03-02T07:43:31.495Z"
   },
   {
    "duration": 66,
    "start_time": "2023-03-02T07:43:31.531Z"
   },
   {
    "duration": 31,
    "start_time": "2023-03-02T07:43:31.599Z"
   },
   {
    "duration": 11,
    "start_time": "2023-03-02T07:43:31.633Z"
   },
   {
    "duration": 49,
    "start_time": "2023-03-02T07:43:31.646Z"
   },
   {
    "duration": 97,
    "start_time": "2023-03-02T07:43:31.697Z"
   },
   {
    "duration": 38,
    "start_time": "2023-03-02T07:43:31.796Z"
   },
   {
    "duration": 1682,
    "start_time": "2023-03-02T07:43:31.836Z"
   },
   {
    "duration": 9,
    "start_time": "2023-03-02T07:43:33.520Z"
   },
   {
    "duration": 11,
    "start_time": "2023-03-02T07:43:33.531Z"
   },
   {
    "duration": 68,
    "start_time": "2023-03-02T07:43:33.544Z"
   },
   {
    "duration": 55,
    "start_time": "2023-03-02T07:43:33.614Z"
   },
   {
    "duration": 54,
    "start_time": "2023-03-02T07:43:33.671Z"
   },
   {
    "duration": 73,
    "start_time": "2023-03-02T07:43:33.727Z"
   },
   {
    "duration": 6,
    "start_time": "2023-03-02T07:43:33.802Z"
   },
   {
    "duration": 29,
    "start_time": "2023-03-02T07:43:33.810Z"
   },
   {
    "duration": 37,
    "start_time": "2023-03-02T07:43:33.840Z"
   },
   {
    "duration": 9,
    "start_time": "2023-03-02T07:43:33.879Z"
   },
   {
    "duration": 7,
    "start_time": "2023-03-02T07:43:33.890Z"
   },
   {
    "duration": 22,
    "start_time": "2023-03-02T07:43:33.898Z"
   },
   {
    "duration": 6,
    "start_time": "2023-03-02T07:43:33.922Z"
   },
   {
    "duration": 8,
    "start_time": "2023-03-02T07:43:33.930Z"
   },
   {
    "duration": 27,
    "start_time": "2023-03-02T07:43:33.941Z"
   },
   {
    "duration": 7,
    "start_time": "2023-03-02T07:43:33.970Z"
   },
   {
    "duration": 48,
    "start_time": "2023-03-02T07:43:33.979Z"
   },
   {
    "duration": 1685,
    "start_time": "2023-03-02T07:43:34.029Z"
   },
   {
    "duration": 113,
    "start_time": "2023-03-02T07:43:35.716Z"
   },
   {
    "duration": 135,
    "start_time": "2023-03-02T07:43:35.831Z"
   },
   {
    "duration": 19,
    "start_time": "2023-03-02T07:43:35.968Z"
   },
   {
    "duration": 16,
    "start_time": "2023-03-02T07:43:35.988Z"
   },
   {
    "duration": 4,
    "start_time": "2023-03-02T07:43:36.007Z"
   },
   {
    "duration": 468,
    "start_time": "2023-03-02T07:43:36.013Z"
   },
   {
    "duration": 13,
    "start_time": "2023-03-02T07:43:36.483Z"
   },
   {
    "duration": 3,
    "start_time": "2023-03-02T07:43:36.498Z"
   },
   {
    "duration": 10,
    "start_time": "2023-03-02T07:43:36.502Z"
   },
   {
    "duration": 115,
    "start_time": "2023-03-02T07:43:36.513Z"
   },
   {
    "duration": 181,
    "start_time": "2023-03-02T07:43:36.629Z"
   },
   {
    "duration": 6,
    "start_time": "2023-03-02T07:43:36.811Z"
   },
   {
    "duration": 5,
    "start_time": "2023-03-02T07:43:36.818Z"
   },
   {
    "duration": 83,
    "start_time": "2023-03-02T07:43:36.824Z"
   },
   {
    "duration": 7,
    "start_time": "2023-03-02T07:43:36.908Z"
   },
   {
    "duration": 6,
    "start_time": "2023-03-02T07:43:36.916Z"
   },
   {
    "duration": 127,
    "start_time": "2023-03-02T07:43:36.923Z"
   },
   {
    "duration": 0,
    "start_time": "2023-03-02T07:43:37.052Z"
   },
   {
    "duration": 0,
    "start_time": "2023-03-02T07:43:37.053Z"
   },
   {
    "duration": 3,
    "start_time": "2023-03-02T07:44:30.487Z"
   },
   {
    "duration": 439,
    "start_time": "2023-03-02T07:44:34.896Z"
   },
   {
    "duration": 13,
    "start_time": "2023-03-02T07:44:36.862Z"
   },
   {
    "duration": 14,
    "start_time": "2023-03-02T07:44:44.706Z"
   },
   {
    "duration": 4,
    "start_time": "2023-03-02T07:44:56.920Z"
   },
   {
    "duration": 3706,
    "start_time": "2023-03-02T07:46:58.637Z"
   },
   {
    "duration": 7,
    "start_time": "2023-03-02T07:47:02.353Z"
   },
   {
    "duration": 239,
    "start_time": "2023-03-02T07:47:02.362Z"
   },
   {
    "duration": 21,
    "start_time": "2023-03-02T07:47:02.603Z"
   },
   {
    "duration": 38,
    "start_time": "2023-03-02T07:47:02.625Z"
   },
   {
    "duration": 17,
    "start_time": "2023-03-02T07:47:02.665Z"
   },
   {
    "duration": 26,
    "start_time": "2023-03-02T07:47:02.684Z"
   },
   {
    "duration": 13,
    "start_time": "2023-03-02T07:47:02.711Z"
   },
   {
    "duration": 4,
    "start_time": "2023-03-02T07:47:02.726Z"
   },
   {
    "duration": 34,
    "start_time": "2023-03-02T07:47:02.748Z"
   },
   {
    "duration": 105,
    "start_time": "2023-03-02T07:47:02.784Z"
   },
   {
    "duration": 39,
    "start_time": "2023-03-02T07:47:02.892Z"
   },
   {
    "duration": 1713,
    "start_time": "2023-03-02T07:47:02.933Z"
   },
   {
    "duration": 23,
    "start_time": "2023-03-02T07:47:04.648Z"
   },
   {
    "duration": 10,
    "start_time": "2023-03-02T07:47:04.673Z"
   },
   {
    "duration": 82,
    "start_time": "2023-03-02T07:47:04.684Z"
   },
   {
    "duration": 48,
    "start_time": "2023-03-02T07:47:04.768Z"
   },
   {
    "duration": 86,
    "start_time": "2023-03-02T07:47:04.818Z"
   },
   {
    "duration": 60,
    "start_time": "2023-03-02T07:47:04.906Z"
   },
   {
    "duration": 7,
    "start_time": "2023-03-02T07:47:04.967Z"
   },
   {
    "duration": 14,
    "start_time": "2023-03-02T07:47:04.975Z"
   },
   {
    "duration": 18,
    "start_time": "2023-03-02T07:47:04.990Z"
   },
   {
    "duration": 6,
    "start_time": "2023-03-02T07:47:05.010Z"
   },
   {
    "duration": 10,
    "start_time": "2023-03-02T07:47:05.018Z"
   },
   {
    "duration": 43,
    "start_time": "2023-03-02T07:47:05.030Z"
   },
   {
    "duration": 6,
    "start_time": "2023-03-02T07:47:05.075Z"
   },
   {
    "duration": 9,
    "start_time": "2023-03-02T07:47:05.083Z"
   },
   {
    "duration": 25,
    "start_time": "2023-03-02T07:47:05.095Z"
   },
   {
    "duration": 6,
    "start_time": "2023-03-02T07:47:05.122Z"
   },
   {
    "duration": 60,
    "start_time": "2023-03-02T07:47:05.148Z"
   },
   {
    "duration": 1779,
    "start_time": "2023-03-02T07:47:05.209Z"
   },
   {
    "duration": 103,
    "start_time": "2023-03-02T07:47:06.990Z"
   },
   {
    "duration": 107,
    "start_time": "2023-03-02T07:47:07.095Z"
   },
   {
    "duration": 15,
    "start_time": "2023-03-02T07:47:07.203Z"
   },
   {
    "duration": 11,
    "start_time": "2023-03-02T07:47:07.220Z"
   },
   {
    "duration": 21,
    "start_time": "2023-03-02T07:47:07.248Z"
   },
   {
    "duration": 431,
    "start_time": "2023-03-02T07:47:07.271Z"
   },
   {
    "duration": 14,
    "start_time": "2023-03-02T07:47:07.703Z"
   },
   {
    "duration": 8,
    "start_time": "2023-03-02T07:47:07.718Z"
   },
   {
    "duration": 35,
    "start_time": "2023-03-02T07:47:07.727Z"
   },
   {
    "duration": 118,
    "start_time": "2023-03-02T07:47:07.765Z"
   },
   {
    "duration": 180,
    "start_time": "2023-03-02T07:47:07.885Z"
   },
   {
    "duration": 6,
    "start_time": "2023-03-02T07:47:08.068Z"
   },
   {
    "duration": 11,
    "start_time": "2023-03-02T07:47:08.075Z"
   },
   {
    "duration": 84,
    "start_time": "2023-03-02T07:47:08.088Z"
   },
   {
    "duration": 6,
    "start_time": "2023-03-02T07:47:08.175Z"
   },
   {
    "duration": 4,
    "start_time": "2023-03-02T07:47:08.183Z"
   },
   {
    "duration": 76260,
    "start_time": "2023-03-02T07:47:08.188Z"
   },
   {
    "duration": 6393163,
    "start_time": "2023-03-02T07:48:24.452Z"
   },
   {
    "duration": 29604,
    "start_time": "2023-03-02T09:34:57.616Z"
   },
   {
    "duration": 11295,
    "start_time": "2023-03-02T09:45:48.644Z"
   },
   {
    "duration": 11418,
    "start_time": "2023-03-02T09:47:48.474Z"
   },
   {
    "duration": 8434,
    "start_time": "2023-03-02T09:48:40.367Z"
   },
   {
    "duration": 8816,
    "start_time": "2023-03-02T09:49:33.407Z"
   },
   {
    "duration": 9515,
    "start_time": "2023-03-02T09:49:51.592Z"
   },
   {
    "duration": 12166,
    "start_time": "2023-03-02T09:50:07.324Z"
   },
   {
    "duration": 2817,
    "start_time": "2023-03-02T09:50:31.370Z"
   },
   {
    "duration": 4070,
    "start_time": "2023-03-02T09:50:44.319Z"
   },
   {
    "duration": 5580,
    "start_time": "2023-03-02T09:50:53.278Z"
   },
   {
    "duration": 7675,
    "start_time": "2023-03-02T09:51:03.529Z"
   },
   {
    "duration": 9636,
    "start_time": "2023-03-02T09:51:22.496Z"
   },
   {
    "duration": 7911,
    "start_time": "2023-03-02T09:51:40.588Z"
   },
   {
    "duration": 11853,
    "start_time": "2023-03-02T09:52:03.998Z"
   },
   {
    "duration": 21035,
    "start_time": "2023-03-02T09:52:21.984Z"
   },
   {
    "duration": 23008,
    "start_time": "2023-03-02T09:52:49.196Z"
   },
   {
    "duration": 7798,
    "start_time": "2023-03-02T09:53:17.812Z"
   },
   {
    "duration": 15660,
    "start_time": "2023-03-02T09:53:30.424Z"
   },
   {
    "duration": 2789,
    "start_time": "2023-03-02T09:54:01.423Z"
   },
   {
    "duration": 17325,
    "start_time": "2023-03-02T09:54:13.143Z"
   },
   {
    "duration": 6409,
    "start_time": "2023-03-02T10:19:23.430Z"
   },
   {
    "duration": 6,
    "start_time": "2023-03-02T10:19:29.846Z"
   },
   {
    "duration": 624,
    "start_time": "2023-03-02T10:19:29.858Z"
   },
   {
    "duration": 42,
    "start_time": "2023-03-02T10:19:30.489Z"
   },
   {
    "duration": 106,
    "start_time": "2023-03-02T10:19:30.539Z"
   },
   {
    "duration": 142,
    "start_time": "2023-03-02T10:19:30.655Z"
   },
   {
    "duration": 151,
    "start_time": "2023-03-02T10:19:30.805Z"
   },
   {
    "duration": 128,
    "start_time": "2023-03-02T10:19:30.968Z"
   },
   {
    "duration": 147,
    "start_time": "2023-03-02T10:19:31.107Z"
   },
   {
    "duration": 187,
    "start_time": "2023-03-02T10:19:31.260Z"
   },
   {
    "duration": 318,
    "start_time": "2023-03-02T10:19:31.454Z"
   },
   {
    "duration": 54,
    "start_time": "2023-03-02T10:19:31.774Z"
   },
   {
    "duration": 2844,
    "start_time": "2023-03-02T10:19:31.833Z"
   },
   {
    "duration": 34,
    "start_time": "2023-03-02T10:19:34.682Z"
   },
   {
    "duration": 38,
    "start_time": "2023-03-02T10:19:34.719Z"
   },
   {
    "duration": 297,
    "start_time": "2023-03-02T10:19:34.760Z"
   },
   {
    "duration": 155,
    "start_time": "2023-03-02T10:19:35.066Z"
   },
   {
    "duration": 259,
    "start_time": "2023-03-02T10:19:35.230Z"
   },
   {
    "duration": 152,
    "start_time": "2023-03-02T10:19:35.498Z"
   },
   {
    "duration": 23,
    "start_time": "2023-03-02T10:19:35.652Z"
   },
   {
    "duration": 117,
    "start_time": "2023-03-02T10:19:35.677Z"
   },
   {
    "duration": 132,
    "start_time": "2023-03-02T10:19:35.797Z"
   },
   {
    "duration": 112,
    "start_time": "2023-03-02T10:19:35.932Z"
   },
   {
    "duration": 114,
    "start_time": "2023-03-02T10:19:36.048Z"
   },
   {
    "duration": 195,
    "start_time": "2023-03-02T10:19:36.165Z"
   },
   {
    "duration": 138,
    "start_time": "2023-03-02T10:19:36.363Z"
   },
   {
    "duration": 61,
    "start_time": "2023-03-02T10:19:36.520Z"
   },
   {
    "duration": 152,
    "start_time": "2023-03-02T10:19:36.583Z"
   },
   {
    "duration": 78,
    "start_time": "2023-03-02T10:19:36.745Z"
   },
   {
    "duration": 210,
    "start_time": "2023-03-02T10:19:36.828Z"
   },
   {
    "duration": 3217,
    "start_time": "2023-03-02T10:19:37.044Z"
   },
   {
    "duration": 208,
    "start_time": "2023-03-02T10:19:40.268Z"
   },
   {
    "duration": 186,
    "start_time": "2023-03-02T10:19:40.483Z"
   },
   {
    "duration": 51,
    "start_time": "2023-03-02T10:19:40.676Z"
   },
   {
    "duration": 183,
    "start_time": "2023-03-02T10:19:40.735Z"
   },
   {
    "duration": 82,
    "start_time": "2023-03-02T10:19:40.931Z"
   },
   {
    "duration": 759,
    "start_time": "2023-03-02T10:19:41.021Z"
   },
   {
    "duration": 28,
    "start_time": "2023-03-02T10:19:41.791Z"
   },
   {
    "duration": 141,
    "start_time": "2023-03-02T10:19:41.828Z"
   },
   {
    "duration": 96,
    "start_time": "2023-03-02T10:19:41.976Z"
   },
   {
    "duration": 311,
    "start_time": "2023-03-02T10:19:42.078Z"
   },
   {
    "duration": 267,
    "start_time": "2023-03-02T10:19:42.392Z"
   },
   {
    "duration": 10,
    "start_time": "2023-03-02T10:19:42.661Z"
   },
   {
    "duration": 67,
    "start_time": "2023-03-02T10:19:42.673Z"
   },
   {
    "duration": 221,
    "start_time": "2023-03-02T10:19:42.742Z"
   },
   {
    "duration": 20,
    "start_time": "2023-03-02T10:19:42.973Z"
   },
   {
    "duration": 110,
    "start_time": "2023-03-02T10:19:43.005Z"
   },
   {
    "duration": 305956,
    "start_time": "2023-03-02T10:19:43.121Z"
   },
   {
    "duration": 5379279,
    "start_time": "2023-03-02T10:24:49.079Z"
   },
   {
    "duration": 27683,
    "start_time": "2023-03-02T11:54:28.360Z"
   },
   {
    "duration": 12593,
    "start_time": "2023-03-02T11:54:56.051Z"
   },
   {
    "duration": 1584,
    "start_time": "2023-03-02T15:19:13.093Z"
   },
   {
    "duration": 1487,
    "start_time": "2023-03-02T15:19:41.547Z"
   },
   {
    "duration": 78,
    "start_time": "2023-03-02T15:20:29.888Z"
   },
   {
    "duration": 59,
    "start_time": "2023-03-02T17:11:58.745Z"
   },
   {
    "duration": 7907,
    "start_time": "2023-03-02T17:15:19.041Z"
   },
   {
    "duration": 3,
    "start_time": "2023-03-02T17:15:26.950Z"
   },
   {
    "duration": 456,
    "start_time": "2023-03-02T17:15:26.955Z"
   },
   {
    "duration": 23,
    "start_time": "2023-03-02T17:15:27.412Z"
   },
   {
    "duration": 28,
    "start_time": "2023-03-02T17:15:27.438Z"
   },
   {
    "duration": 31,
    "start_time": "2023-03-02T17:15:27.468Z"
   },
   {
    "duration": 22,
    "start_time": "2023-03-02T17:15:27.501Z"
   },
   {
    "duration": 15,
    "start_time": "2023-03-02T17:15:27.525Z"
   },
   {
    "duration": 4,
    "start_time": "2023-03-02T17:15:27.541Z"
   },
   {
    "duration": 50,
    "start_time": "2023-03-02T17:15:27.548Z"
   },
   {
    "duration": 103,
    "start_time": "2023-03-02T17:15:27.599Z"
   },
   {
    "duration": 41,
    "start_time": "2023-03-02T17:15:27.704Z"
   },
   {
    "duration": 1741,
    "start_time": "2023-03-02T17:15:27.747Z"
   },
   {
    "duration": 9,
    "start_time": "2023-03-02T17:15:29.490Z"
   },
   {
    "duration": 13,
    "start_time": "2023-03-02T17:15:29.501Z"
   },
   {
    "duration": 85,
    "start_time": "2023-03-02T17:15:29.516Z"
   },
   {
    "duration": 62,
    "start_time": "2023-03-02T17:15:29.603Z"
   },
   {
    "duration": 73,
    "start_time": "2023-03-02T17:15:29.667Z"
   },
   {
    "duration": 68,
    "start_time": "2023-03-02T17:15:29.741Z"
   },
   {
    "duration": 7,
    "start_time": "2023-03-02T17:15:29.811Z"
   },
   {
    "duration": 15,
    "start_time": "2023-03-02T17:15:29.820Z"
   },
   {
    "duration": 22,
    "start_time": "2023-03-02T17:15:29.837Z"
   },
   {
    "duration": 32,
    "start_time": "2023-03-02T17:15:29.860Z"
   },
   {
    "duration": 7,
    "start_time": "2023-03-02T17:15:29.894Z"
   },
   {
    "duration": 26,
    "start_time": "2023-03-02T17:15:29.903Z"
   },
   {
    "duration": 7,
    "start_time": "2023-03-02T17:15:29.931Z"
   },
   {
    "duration": 9,
    "start_time": "2023-03-02T17:15:29.939Z"
   },
   {
    "duration": 50,
    "start_time": "2023-03-02T17:15:29.951Z"
   },
   {
    "duration": 7,
    "start_time": "2023-03-02T17:15:30.003Z"
   },
   {
    "duration": 75,
    "start_time": "2023-03-02T17:15:30.012Z"
   },
   {
    "duration": 1657,
    "start_time": "2023-03-02T17:15:30.089Z"
   },
   {
    "duration": 119,
    "start_time": "2023-03-02T17:15:31.747Z"
   },
   {
    "duration": 107,
    "start_time": "2023-03-02T17:15:31.867Z"
   },
   {
    "duration": 23,
    "start_time": "2023-03-02T17:15:31.976Z"
   },
   {
    "duration": 55,
    "start_time": "2023-03-02T17:15:32.001Z"
   },
   {
    "duration": 14,
    "start_time": "2023-03-02T17:15:32.058Z"
   },
   {
    "duration": 430,
    "start_time": "2023-03-02T17:15:32.074Z"
   },
   {
    "duration": 14,
    "start_time": "2023-03-02T17:15:32.506Z"
   },
   {
    "duration": 20,
    "start_time": "2023-03-02T17:15:32.521Z"
   },
   {
    "duration": 32,
    "start_time": "2023-03-02T17:15:32.542Z"
   },
   {
    "duration": 142,
    "start_time": "2023-03-02T17:15:32.576Z"
   },
   {
    "duration": 178,
    "start_time": "2023-03-02T17:15:32.720Z"
   },
   {
    "duration": 5,
    "start_time": "2023-03-02T17:15:32.900Z"
   },
   {
    "duration": 36,
    "start_time": "2023-03-02T17:15:32.906Z"
   },
   {
    "duration": 94,
    "start_time": "2023-03-02T17:15:32.943Z"
   },
   {
    "duration": 5,
    "start_time": "2023-03-02T17:15:33.038Z"
   },
   {
    "duration": 16,
    "start_time": "2023-03-02T17:15:33.045Z"
   },
   {
    "duration": 28,
    "start_time": "2023-03-02T17:15:33.062Z"
   },
   {
    "duration": 16,
    "start_time": "2023-03-02T17:15:33.091Z"
   },
   {
    "duration": 23,
    "start_time": "2023-03-02T17:15:33.108Z"
   },
   {
    "duration": 111,
    "start_time": "2023-03-02T17:15:33.132Z"
   },
   {
    "duration": 5,
    "start_time": "2023-03-02T17:16:42.333Z"
   },
   {
    "duration": 2456,
    "start_time": "2023-03-02T17:17:19.867Z"
   },
   {
    "duration": 4,
    "start_time": "2023-03-02T17:17:25.955Z"
   },
   {
    "duration": 225,
    "start_time": "2023-03-02T17:17:27.938Z"
   },
   {
    "duration": 5,
    "start_time": "2023-03-02T17:17:47.801Z"
   },
   {
    "duration": 4,
    "start_time": "2023-03-02T17:18:03.407Z"
   },
   {
    "duration": 2430,
    "start_time": "2023-03-02T17:18:36.348Z"
   },
   {
    "duration": 4,
    "start_time": "2023-03-02T17:18:38.780Z"
   },
   {
    "duration": 218,
    "start_time": "2023-03-02T17:18:38.785Z"
   },
   {
    "duration": 4,
    "start_time": "2023-03-02T17:18:39.006Z"
   },
   {
    "duration": 17,
    "start_time": "2023-03-02T17:18:39.012Z"
   },
   {
    "duration": 39,
    "start_time": "2023-03-02T17:18:39.030Z"
   },
   {
    "duration": 38,
    "start_time": "2023-03-02T17:18:39.071Z"
   },
   {
    "duration": 15,
    "start_time": "2023-03-02T17:18:39.111Z"
   },
   {
    "duration": 38,
    "start_time": "2023-03-02T17:18:39.127Z"
   },
   {
    "duration": 21,
    "start_time": "2023-03-02T17:18:39.167Z"
   },
   {
    "duration": 4,
    "start_time": "2023-03-02T17:18:39.190Z"
   },
   {
    "duration": 58,
    "start_time": "2023-03-02T17:18:39.196Z"
   },
   {
    "duration": 85,
    "start_time": "2023-03-02T17:18:39.256Z"
   },
   {
    "duration": 29,
    "start_time": "2023-03-02T17:18:39.343Z"
   },
   {
    "duration": 1692,
    "start_time": "2023-03-02T17:18:39.374Z"
   },
   {
    "duration": 9,
    "start_time": "2023-03-02T17:18:41.067Z"
   },
   {
    "duration": 19,
    "start_time": "2023-03-02T17:18:41.078Z"
   },
   {
    "duration": 41,
    "start_time": "2023-03-02T17:18:41.098Z"
   },
   {
    "duration": 45,
    "start_time": "2023-03-02T17:18:41.140Z"
   },
   {
    "duration": 63,
    "start_time": "2023-03-02T17:18:41.192Z"
   },
   {
    "duration": 60,
    "start_time": "2023-03-02T17:18:41.256Z"
   },
   {
    "duration": 7,
    "start_time": "2023-03-02T17:18:41.317Z"
   },
   {
    "duration": 11,
    "start_time": "2023-03-02T17:18:41.325Z"
   },
   {
    "duration": 17,
    "start_time": "2023-03-02T17:18:41.337Z"
   },
   {
    "duration": 6,
    "start_time": "2023-03-02T17:18:41.356Z"
   },
   {
    "duration": 32,
    "start_time": "2023-03-02T17:18:41.363Z"
   },
   {
    "duration": 27,
    "start_time": "2023-03-02T17:18:41.396Z"
   },
   {
    "duration": 7,
    "start_time": "2023-03-02T17:18:41.426Z"
   },
   {
    "duration": 10,
    "start_time": "2023-03-02T17:18:41.435Z"
   },
   {
    "duration": 48,
    "start_time": "2023-03-02T17:18:41.447Z"
   },
   {
    "duration": 7,
    "start_time": "2023-03-02T17:18:41.497Z"
   },
   {
    "duration": 48,
    "start_time": "2023-03-02T17:18:41.505Z"
   },
   {
    "duration": 1658,
    "start_time": "2023-03-02T17:18:41.555Z"
   },
   {
    "duration": 104,
    "start_time": "2023-03-02T17:18:43.215Z"
   },
   {
    "duration": 112,
    "start_time": "2023-03-02T17:18:43.320Z"
   },
   {
    "duration": 14,
    "start_time": "2023-03-02T17:18:43.434Z"
   },
   {
    "duration": 12,
    "start_time": "2023-03-02T17:18:43.450Z"
   },
   {
    "duration": 3,
    "start_time": "2023-03-02T17:18:43.464Z"
   },
   {
    "duration": 436,
    "start_time": "2023-03-02T17:18:43.469Z"
   },
   {
    "duration": 17,
    "start_time": "2023-03-02T17:18:43.907Z"
   },
   {
    "duration": 5,
    "start_time": "2023-03-02T17:18:43.926Z"
   },
   {
    "duration": 13,
    "start_time": "2023-03-02T17:18:43.932Z"
   },
   {
    "duration": 116,
    "start_time": "2023-03-02T17:18:43.946Z"
   },
   {
    "duration": 160,
    "start_time": "2023-03-02T17:18:44.064Z"
   },
   {
    "duration": 5,
    "start_time": "2023-03-02T17:18:44.226Z"
   },
   {
    "duration": 23,
    "start_time": "2023-03-02T17:18:44.232Z"
   },
   {
    "duration": 76,
    "start_time": "2023-03-02T17:18:44.257Z"
   },
   {
    "duration": 6,
    "start_time": "2023-03-02T17:18:44.335Z"
   },
   {
    "duration": 3,
    "start_time": "2023-03-02T17:18:44.342Z"
   },
   {
    "duration": 5,
    "start_time": "2023-03-02T17:18:44.347Z"
   },
   {
    "duration": 8,
    "start_time": "2023-03-02T17:18:44.353Z"
   },
   {
    "duration": 11,
    "start_time": "2023-03-02T17:18:44.362Z"
   },
   {
    "duration": 77,
    "start_time": "2023-03-02T17:18:44.375Z"
   },
   {
    "duration": 5,
    "start_time": "2023-03-02T17:19:48.512Z"
   },
   {
    "duration": 4,
    "start_time": "2023-03-02T17:20:20.312Z"
   },
   {
    "duration": 4,
    "start_time": "2023-03-02T17:21:59.553Z"
   },
   {
    "duration": 4,
    "start_time": "2023-03-02T17:22:13.987Z"
   },
   {
    "duration": 4,
    "start_time": "2023-03-02T17:24:04.252Z"
   },
   {
    "duration": 17,
    "start_time": "2023-03-02T17:24:15.694Z"
   },
   {
    "duration": 16,
    "start_time": "2023-03-02T17:24:43.911Z"
   },
   {
    "duration": 15,
    "start_time": "2023-03-02T17:24:53.799Z"
   },
   {
    "duration": 14,
    "start_time": "2023-03-02T17:24:58.754Z"
   },
   {
    "duration": 14,
    "start_time": "2023-03-02T17:25:04.658Z"
   },
   {
    "duration": 63,
    "start_time": "2023-03-02T17:31:16.959Z"
   },
   {
    "duration": 4,
    "start_time": "2023-03-02T17:31:26.844Z"
   },
   {
    "duration": 456,
    "start_time": "2023-03-02T17:32:16.714Z"
   },
   {
    "duration": 4,
    "start_time": "2023-03-02T17:32:43.653Z"
   },
   {
    "duration": 4,
    "start_time": "2023-03-02T17:33:37.074Z"
   },
   {
    "duration": 464,
    "start_time": "2023-03-02T17:33:39.080Z"
   },
   {
    "duration": 5,
    "start_time": "2023-03-02T17:33:40.798Z"
   },
   {
    "duration": 5,
    "start_time": "2023-03-02T17:36:21.179Z"
   },
   {
    "duration": 4,
    "start_time": "2023-03-02T17:37:11.353Z"
   },
   {
    "duration": 3635,
    "start_time": "2023-03-02T18:35:53.195Z"
   },
   {
    "duration": 0,
    "start_time": "2023-03-02T18:35:56.832Z"
   },
   {
    "duration": 0,
    "start_time": "2023-03-02T18:35:56.834Z"
   },
   {
    "duration": 0,
    "start_time": "2023-03-02T18:35:56.835Z"
   },
   {
    "duration": 0,
    "start_time": "2023-03-02T18:35:56.836Z"
   },
   {
    "duration": 0,
    "start_time": "2023-03-02T18:35:56.837Z"
   },
   {
    "duration": 0,
    "start_time": "2023-03-02T18:35:56.837Z"
   },
   {
    "duration": 0,
    "start_time": "2023-03-02T18:35:56.838Z"
   },
   {
    "duration": 0,
    "start_time": "2023-03-02T18:35:56.839Z"
   },
   {
    "duration": 0,
    "start_time": "2023-03-02T18:35:56.840Z"
   },
   {
    "duration": 0,
    "start_time": "2023-03-02T18:35:56.841Z"
   },
   {
    "duration": 0,
    "start_time": "2023-03-02T18:35:56.842Z"
   },
   {
    "duration": 0,
    "start_time": "2023-03-02T18:35:56.843Z"
   },
   {
    "duration": 0,
    "start_time": "2023-03-02T18:35:56.844Z"
   },
   {
    "duration": 0,
    "start_time": "2023-03-02T18:35:56.845Z"
   },
   {
    "duration": 0,
    "start_time": "2023-03-02T18:35:56.845Z"
   },
   {
    "duration": 0,
    "start_time": "2023-03-02T18:35:56.846Z"
   },
   {
    "duration": 0,
    "start_time": "2023-03-02T18:35:56.847Z"
   },
   {
    "duration": 0,
    "start_time": "2023-03-02T18:35:56.848Z"
   },
   {
    "duration": 1,
    "start_time": "2023-03-02T18:35:56.849Z"
   },
   {
    "duration": 0,
    "start_time": "2023-03-02T18:35:56.850Z"
   },
   {
    "duration": 0,
    "start_time": "2023-03-02T18:35:56.851Z"
   },
   {
    "duration": 0,
    "start_time": "2023-03-02T18:35:56.852Z"
   },
   {
    "duration": 0,
    "start_time": "2023-03-02T18:35:56.853Z"
   },
   {
    "duration": 0,
    "start_time": "2023-03-02T18:35:56.854Z"
   },
   {
    "duration": 0,
    "start_time": "2023-03-02T18:35:56.891Z"
   },
   {
    "duration": 0,
    "start_time": "2023-03-02T18:35:56.892Z"
   },
   {
    "duration": 0,
    "start_time": "2023-03-02T18:35:56.893Z"
   },
   {
    "duration": 1,
    "start_time": "2023-03-02T18:35:56.894Z"
   },
   {
    "duration": 0,
    "start_time": "2023-03-02T18:35:56.895Z"
   },
   {
    "duration": 0,
    "start_time": "2023-03-02T18:35:56.896Z"
   },
   {
    "duration": 0,
    "start_time": "2023-03-02T18:35:56.897Z"
   },
   {
    "duration": 0,
    "start_time": "2023-03-02T18:35:56.898Z"
   },
   {
    "duration": 0,
    "start_time": "2023-03-02T18:35:56.899Z"
   },
   {
    "duration": 0,
    "start_time": "2023-03-02T18:35:56.900Z"
   },
   {
    "duration": 0,
    "start_time": "2023-03-02T18:35:56.901Z"
   },
   {
    "duration": 0,
    "start_time": "2023-03-02T18:35:56.902Z"
   },
   {
    "duration": 0,
    "start_time": "2023-03-02T18:35:56.903Z"
   },
   {
    "duration": 0,
    "start_time": "2023-03-02T18:35:56.904Z"
   },
   {
    "duration": 0,
    "start_time": "2023-03-02T18:35:56.905Z"
   },
   {
    "duration": 0,
    "start_time": "2023-03-02T18:35:56.906Z"
   },
   {
    "duration": 0,
    "start_time": "2023-03-02T18:35:56.907Z"
   },
   {
    "duration": 0,
    "start_time": "2023-03-02T18:35:56.908Z"
   },
   {
    "duration": 0,
    "start_time": "2023-03-02T18:35:56.908Z"
   },
   {
    "duration": 0,
    "start_time": "2023-03-02T18:35:56.909Z"
   },
   {
    "duration": 0,
    "start_time": "2023-03-02T18:35:56.910Z"
   },
   {
    "duration": 0,
    "start_time": "2023-03-02T18:35:56.911Z"
   },
   {
    "duration": 0,
    "start_time": "2023-03-02T18:35:56.912Z"
   },
   {
    "duration": 0,
    "start_time": "2023-03-02T18:35:56.913Z"
   },
   {
    "duration": 0,
    "start_time": "2023-03-02T18:35:56.913Z"
   },
   {
    "duration": 1,
    "start_time": "2023-03-02T18:35:56.914Z"
   },
   {
    "duration": 0,
    "start_time": "2023-03-02T18:35:56.915Z"
   },
   {
    "duration": 0,
    "start_time": "2023-03-02T18:35:56.917Z"
   },
   {
    "duration": 0,
    "start_time": "2023-03-02T18:35:56.918Z"
   },
   {
    "duration": 0,
    "start_time": "2023-03-02T18:35:56.919Z"
   },
   {
    "duration": 0,
    "start_time": "2023-03-02T18:35:56.920Z"
   },
   {
    "duration": 0,
    "start_time": "2023-03-02T18:35:56.920Z"
   },
   {
    "duration": 0,
    "start_time": "2023-03-02T18:35:56.921Z"
   },
   {
    "duration": 0,
    "start_time": "2023-03-02T18:35:56.922Z"
   },
   {
    "duration": 7217,
    "start_time": "2023-03-02T18:37:33.956Z"
   },
   {
    "duration": 4455,
    "start_time": "2023-03-02T18:39:55.072Z"
   },
   {
    "duration": 6538,
    "start_time": "2023-03-02T18:41:09.199Z"
   },
   {
    "duration": 3,
    "start_time": "2023-03-02T18:41:15.739Z"
   },
   {
    "duration": 200,
    "start_time": "2023-03-02T18:41:15.743Z"
   },
   {
    "duration": 5,
    "start_time": "2023-03-02T18:41:15.945Z"
   },
   {
    "duration": 5,
    "start_time": "2023-03-02T18:41:15.952Z"
   },
   {
    "duration": 34,
    "start_time": "2023-03-02T18:41:15.958Z"
   },
   {
    "duration": 114,
    "start_time": "2023-03-02T18:41:15.994Z"
   },
   {
    "duration": 17,
    "start_time": "2023-03-02T18:41:16.110Z"
   },
   {
    "duration": 22,
    "start_time": "2023-03-02T18:41:16.129Z"
   },
   {
    "duration": 13,
    "start_time": "2023-03-02T18:41:16.153Z"
   },
   {
    "duration": 26,
    "start_time": "2023-03-02T18:41:16.167Z"
   },
   {
    "duration": 35,
    "start_time": "2023-03-02T18:41:16.195Z"
   },
   {
    "duration": 129,
    "start_time": "2023-03-02T18:41:16.231Z"
   },
   {
    "duration": 45,
    "start_time": "2023-03-02T18:41:16.364Z"
   },
   {
    "duration": 1557,
    "start_time": "2023-03-02T18:41:16.411Z"
   },
   {
    "duration": 12,
    "start_time": "2023-03-02T18:41:17.969Z"
   },
   {
    "duration": 12,
    "start_time": "2023-03-02T18:41:17.982Z"
   },
   {
    "duration": 62,
    "start_time": "2023-03-02T18:41:17.995Z"
   },
   {
    "duration": 62,
    "start_time": "2023-03-02T18:41:18.059Z"
   },
   {
    "duration": 59,
    "start_time": "2023-03-02T18:41:18.123Z"
   },
   {
    "duration": 47,
    "start_time": "2023-03-02T18:41:18.191Z"
   },
   {
    "duration": 8,
    "start_time": "2023-03-02T18:41:18.240Z"
   },
   {
    "duration": 16,
    "start_time": "2023-03-02T18:41:18.249Z"
   },
   {
    "duration": 31,
    "start_time": "2023-03-02T18:41:18.276Z"
   },
   {
    "duration": 10,
    "start_time": "2023-03-02T18:41:18.308Z"
   },
   {
    "duration": 6,
    "start_time": "2023-03-02T18:41:18.320Z"
   },
   {
    "duration": 22,
    "start_time": "2023-03-02T18:41:18.328Z"
   },
   {
    "duration": 6,
    "start_time": "2023-03-02T18:41:18.353Z"
   },
   {
    "duration": 31,
    "start_time": "2023-03-02T18:41:18.361Z"
   },
   {
    "duration": 20,
    "start_time": "2023-03-02T18:41:18.393Z"
   },
   {
    "duration": 7,
    "start_time": "2023-03-02T18:41:18.414Z"
   },
   {
    "duration": 70,
    "start_time": "2023-03-02T18:41:18.423Z"
   },
   {
    "duration": 1495,
    "start_time": "2023-03-02T18:41:18.495Z"
   },
   {
    "duration": 215,
    "start_time": "2023-03-02T18:41:19.992Z"
   },
   {
    "duration": 93,
    "start_time": "2023-03-02T18:41:20.209Z"
   },
   {
    "duration": 14,
    "start_time": "2023-03-02T18:41:20.304Z"
   },
   {
    "duration": 11,
    "start_time": "2023-03-02T18:41:20.320Z"
   },
   {
    "duration": 3,
    "start_time": "2023-03-02T18:41:20.333Z"
   },
   {
    "duration": 408,
    "start_time": "2023-03-02T18:41:20.337Z"
   },
   {
    "duration": 13,
    "start_time": "2023-03-02T18:41:20.747Z"
   },
   {
    "duration": 6,
    "start_time": "2023-03-02T18:41:20.761Z"
   },
   {
    "duration": 23,
    "start_time": "2023-03-02T18:41:20.768Z"
   },
   {
    "duration": 3,
    "start_time": "2023-03-02T18:41:20.793Z"
   },
   {
    "duration": 100,
    "start_time": "2023-03-02T18:41:20.797Z"
   },
   {
    "duration": 174,
    "start_time": "2023-03-02T18:41:20.899Z"
   },
   {
    "duration": 5,
    "start_time": "2023-03-02T18:41:21.075Z"
   },
   {
    "duration": 10,
    "start_time": "2023-03-02T18:41:21.091Z"
   },
   {
    "duration": 66,
    "start_time": "2023-03-02T18:41:21.102Z"
   },
   {
    "duration": 5,
    "start_time": "2023-03-02T18:41:21.170Z"
   },
   {
    "duration": 5,
    "start_time": "2023-03-02T18:41:21.177Z"
   },
   {
    "duration": 2,
    "start_time": "2023-03-02T18:41:21.192Z"
   },
   {
    "duration": 6,
    "start_time": "2023-03-02T18:41:21.196Z"
   },
   {
    "duration": 16,
    "start_time": "2023-03-02T18:41:21.204Z"
   },
   {
    "duration": 84,
    "start_time": "2023-03-02T18:41:21.221Z"
   },
   {
    "duration": 3,
    "start_time": "2023-03-02T18:41:21.307Z"
   },
   {
    "duration": 28,
    "start_time": "2023-03-02T18:41:21.312Z"
   },
   {
    "duration": 5,
    "start_time": "2023-03-02T18:41:21.342Z"
   },
   {
    "duration": 473,
    "start_time": "2023-03-02T18:41:21.349Z"
   },
   {
    "duration": 6,
    "start_time": "2023-03-02T18:41:21.824Z"
   },
   {
    "duration": 203,
    "start_time": "2023-03-02T18:41:21.832Z"
   },
   {
    "duration": 7,
    "start_time": "2023-03-02T18:44:06.298Z"
   },
   {
    "duration": 30,
    "start_time": "2023-03-02T18:44:08.550Z"
   },
   {
    "duration": 14,
    "start_time": "2023-03-02T18:46:47.586Z"
   },
   {
    "duration": 32,
    "start_time": "2023-03-02T18:46:59.094Z"
   },
   {
    "duration": 11,
    "start_time": "2023-03-02T18:48:31.513Z"
   },
   {
    "duration": 12,
    "start_time": "2023-03-02T18:48:32.419Z"
   },
   {
    "duration": 30,
    "start_time": "2023-03-02T18:48:37.688Z"
   },
   {
    "duration": 12,
    "start_time": "2023-03-02T18:52:34.419Z"
   },
   {
    "duration": 11,
    "start_time": "2023-03-02T18:58:53.698Z"
   },
   {
    "duration": 31,
    "start_time": "2023-03-02T18:59:23.168Z"
   },
   {
    "duration": 33,
    "start_time": "2023-03-02T19:06:33.188Z"
   },
   {
    "duration": 180,
    "start_time": "2023-03-02T19:07:31.671Z"
   },
   {
    "duration": 916,
    "start_time": "2023-03-02T19:07:50.093Z"
   },
   {
    "duration": 668,
    "start_time": "2023-03-02T19:08:33.119Z"
   },
   {
    "duration": 35,
    "start_time": "2023-03-02T19:09:51.320Z"
   },
   {
    "duration": 12916,
    "start_time": "2023-03-03T14:17:52.145Z"
   },
   {
    "duration": 4,
    "start_time": "2023-03-03T14:18:05.063Z"
   },
   {
    "duration": 497,
    "start_time": "2023-03-03T14:18:05.068Z"
   },
   {
    "duration": 5,
    "start_time": "2023-03-03T14:18:05.567Z"
   },
   {
    "duration": 19,
    "start_time": "2023-03-03T14:18:05.573Z"
   },
   {
    "duration": 34,
    "start_time": "2023-03-03T14:18:05.594Z"
   },
   {
    "duration": 128,
    "start_time": "2023-03-03T14:18:05.629Z"
   },
   {
    "duration": 19,
    "start_time": "2023-03-03T14:18:05.758Z"
   },
   {
    "duration": 30,
    "start_time": "2023-03-03T14:18:05.779Z"
   },
   {
    "duration": 15,
    "start_time": "2023-03-03T14:18:05.813Z"
   },
   {
    "duration": 18,
    "start_time": "2023-03-03T14:18:05.830Z"
   },
   {
    "duration": 47,
    "start_time": "2023-03-03T14:18:05.850Z"
   },
   {
    "duration": 108,
    "start_time": "2023-03-03T14:18:05.899Z"
   },
   {
    "duration": 56,
    "start_time": "2023-03-03T14:18:06.009Z"
   },
   {
    "duration": 1956,
    "start_time": "2023-03-03T14:18:06.068Z"
   },
   {
    "duration": 16,
    "start_time": "2023-03-03T14:18:08.027Z"
   },
   {
    "duration": 35,
    "start_time": "2023-03-03T14:18:08.046Z"
   },
   {
    "duration": 235,
    "start_time": "2023-03-03T14:18:08.083Z"
   },
   {
    "duration": 66,
    "start_time": "2023-03-03T14:18:08.319Z"
   },
   {
    "duration": 79,
    "start_time": "2023-03-03T14:18:08.387Z"
   },
   {
    "duration": 53,
    "start_time": "2023-03-03T14:18:08.468Z"
   },
   {
    "duration": 7,
    "start_time": "2023-03-03T14:18:08.523Z"
   },
   {
    "duration": 20,
    "start_time": "2023-03-03T14:18:08.545Z"
   },
   {
    "duration": 21,
    "start_time": "2023-03-03T14:18:08.567Z"
   },
   {
    "duration": 8,
    "start_time": "2023-03-03T14:18:08.590Z"
   },
   {
    "duration": 11,
    "start_time": "2023-03-03T14:18:08.600Z"
   },
   {
    "duration": 48,
    "start_time": "2023-03-03T14:18:08.612Z"
   },
   {
    "duration": 8,
    "start_time": "2023-03-03T14:18:08.665Z"
   },
   {
    "duration": 13,
    "start_time": "2023-03-03T14:18:08.675Z"
   },
   {
    "duration": 24,
    "start_time": "2023-03-03T14:18:08.690Z"
   },
   {
    "duration": 35,
    "start_time": "2023-03-03T14:18:08.716Z"
   },
   {
    "duration": 60,
    "start_time": "2023-03-03T14:18:08.753Z"
   },
   {
    "duration": 1854,
    "start_time": "2023-03-03T14:18:08.814Z"
   },
   {
    "duration": 250,
    "start_time": "2023-03-03T14:18:10.670Z"
   },
   {
    "duration": 110,
    "start_time": "2023-03-03T14:18:10.922Z"
   },
   {
    "duration": 18,
    "start_time": "2023-03-03T14:18:11.034Z"
   },
   {
    "duration": 13,
    "start_time": "2023-03-03T14:18:11.054Z"
   },
   {
    "duration": 25,
    "start_time": "2023-03-03T14:18:11.069Z"
   },
   {
    "duration": 460,
    "start_time": "2023-03-03T14:18:11.095Z"
   },
   {
    "duration": 17,
    "start_time": "2023-03-03T14:18:11.556Z"
   },
   {
    "duration": 5,
    "start_time": "2023-03-03T14:18:11.575Z"
   },
   {
    "duration": 12,
    "start_time": "2023-03-03T14:18:11.582Z"
   },
   {
    "duration": 4,
    "start_time": "2023-03-03T14:18:11.596Z"
   },
   {
    "duration": 144,
    "start_time": "2023-03-03T14:18:11.602Z"
   },
   {
    "duration": 190,
    "start_time": "2023-03-03T14:18:11.748Z"
   },
   {
    "duration": 8,
    "start_time": "2023-03-03T14:18:11.940Z"
   },
   {
    "duration": 9,
    "start_time": "2023-03-03T14:18:11.949Z"
   },
   {
    "duration": 71,
    "start_time": "2023-03-03T14:18:11.960Z"
   },
   {
    "duration": 16,
    "start_time": "2023-03-03T14:18:12.033Z"
   },
   {
    "duration": 3,
    "start_time": "2023-03-03T14:18:12.051Z"
   },
   {
    "duration": 9,
    "start_time": "2023-03-03T14:18:12.055Z"
   },
   {
    "duration": 8,
    "start_time": "2023-03-03T14:18:12.065Z"
   },
   {
    "duration": 15,
    "start_time": "2023-03-03T14:18:12.075Z"
   },
   {
    "duration": 92,
    "start_time": "2023-03-03T14:18:12.092Z"
   },
   {
    "duration": 4,
    "start_time": "2023-03-03T14:18:12.186Z"
   },
   {
    "duration": 19,
    "start_time": "2023-03-03T14:18:12.191Z"
   },
   {
    "duration": 5,
    "start_time": "2023-03-03T14:18:12.212Z"
   },
   {
    "duration": 498,
    "start_time": "2023-03-03T14:18:12.219Z"
   },
   {
    "duration": 5,
    "start_time": "2023-03-03T14:18:12.719Z"
   },
   {
    "duration": 209,
    "start_time": "2023-03-03T14:18:12.726Z"
   },
   {
    "duration": 12,
    "start_time": "2023-03-03T14:24:42.018Z"
   },
   {
    "duration": 164,
    "start_time": "2023-03-03T14:25:54.129Z"
   },
   {
    "duration": 699,
    "start_time": "2023-03-03T14:26:28.901Z"
   },
   {
    "duration": 16,
    "start_time": "2023-03-03T14:27:26.240Z"
   },
   {
    "duration": 12,
    "start_time": "2023-03-03T14:27:40.701Z"
   },
   {
    "duration": 12,
    "start_time": "2023-03-03T14:27:45.554Z"
   },
   {
    "duration": 748,
    "start_time": "2023-03-03T14:27:50.467Z"
   },
   {
    "duration": 25,
    "start_time": "2023-03-03T14:36:57.340Z"
   },
   {
    "duration": 689,
    "start_time": "2023-03-03T14:40:06.679Z"
   },
   {
    "duration": 34,
    "start_time": "2023-03-03T14:40:12.359Z"
   },
   {
    "duration": 579,
    "start_time": "2023-03-03T14:40:14.557Z"
   },
   {
    "duration": 27,
    "start_time": "2023-03-03T14:41:22.945Z"
   },
   {
    "duration": 20,
    "start_time": "2023-03-03T14:41:24.849Z"
   },
   {
    "duration": 5158,
    "start_time": "2023-03-03T14:54:37.118Z"
   },
   {
    "duration": 4,
    "start_time": "2023-03-03T14:54:43.660Z"
   },
   {
    "duration": 224,
    "start_time": "2023-03-03T14:54:45.624Z"
   },
   {
    "duration": 4,
    "start_time": "2023-03-03T14:54:48.308Z"
   },
   {
    "duration": 4,
    "start_time": "2023-03-03T14:54:53.716Z"
   },
   {
    "duration": 24,
    "start_time": "2023-03-03T14:54:57.433Z"
   },
   {
    "duration": 10,
    "start_time": "2023-03-03T14:55:09.613Z"
   },
   {
    "duration": 5,
    "start_time": "2023-03-03T14:55:12.571Z"
   },
   {
    "duration": 23,
    "start_time": "2023-03-03T14:55:15.150Z"
   },
   {
    "duration": 21,
    "start_time": "2023-03-03T14:57:04.555Z"
   },
   {
    "duration": 13,
    "start_time": "2023-03-03T14:57:30.261Z"
   },
   {
    "duration": 5,
    "start_time": "2023-03-03T14:57:34.204Z"
   },
   {
    "duration": 3,
    "start_time": "2023-03-03T14:57:43.980Z"
   },
   {
    "duration": 4,
    "start_time": "2023-03-03T14:57:46.355Z"
   },
   {
    "duration": 5,
    "start_time": "2023-03-03T14:59:12.538Z"
   },
   {
    "duration": 5,
    "start_time": "2023-03-03T14:59:33.631Z"
   },
   {
    "duration": 15,
    "start_time": "2023-03-03T15:00:54.705Z"
   },
   {
    "duration": 23,
    "start_time": "2023-03-03T15:06:02.163Z"
   },
   {
    "duration": 16,
    "start_time": "2023-03-03T15:06:19.633Z"
   },
   {
    "duration": 102,
    "start_time": "2023-03-03T15:07:15.207Z"
   },
   {
    "duration": 3131,
    "start_time": "2023-03-03T15:09:56.579Z"
   },
   {
    "duration": 351,
    "start_time": "2023-03-03T15:12:51.394Z"
   },
   {
    "duration": 2922,
    "start_time": "2023-03-03T15:12:59.933Z"
   },
   {
    "duration": 2944,
    "start_time": "2023-03-03T15:13:14.037Z"
   },
   {
    "duration": 3073,
    "start_time": "2023-03-03T15:14:00.086Z"
   },
   {
    "duration": 9,
    "start_time": "2023-03-03T15:34:43.008Z"
   },
   {
    "duration": 90,
    "start_time": "2023-03-03T15:34:45.083Z"
   },
   {
    "duration": 19,
    "start_time": "2023-03-03T15:36:55.287Z"
   },
   {
    "duration": 16,
    "start_time": "2023-03-03T15:37:15.725Z"
   },
   {
    "duration": 9,
    "start_time": "2023-03-03T15:37:39.688Z"
   },
   {
    "duration": 18,
    "start_time": "2023-03-03T15:38:28.131Z"
   },
   {
    "duration": 5137,
    "start_time": "2023-03-03T15:42:41.213Z"
   },
   {
    "duration": 5,
    "start_time": "2023-03-03T15:42:46.354Z"
   },
   {
    "duration": 264,
    "start_time": "2023-03-03T15:42:46.361Z"
   },
   {
    "duration": 4,
    "start_time": "2023-03-03T15:42:46.627Z"
   },
   {
    "duration": 9,
    "start_time": "2023-03-03T15:42:46.633Z"
   },
   {
    "duration": 25,
    "start_time": "2023-03-03T15:42:46.645Z"
   },
   {
    "duration": 32,
    "start_time": "2023-03-03T15:42:46.672Z"
   },
   {
    "duration": 39,
    "start_time": "2023-03-03T15:42:46.706Z"
   },
   {
    "duration": 25,
    "start_time": "2023-03-03T15:42:46.747Z"
   },
   {
    "duration": 10,
    "start_time": "2023-03-03T15:42:46.776Z"
   },
   {
    "duration": 6,
    "start_time": "2023-03-03T15:42:46.788Z"
   },
   {
    "duration": 59,
    "start_time": "2023-03-03T15:42:46.795Z"
   },
   {
    "duration": 3056,
    "start_time": "2023-03-03T15:42:46.856Z"
   },
   {
    "duration": 41,
    "start_time": "2023-03-03T15:42:49.914Z"
   },
   {
    "duration": 10,
    "start_time": "2023-03-03T15:42:49.957Z"
   },
   {
    "duration": 19,
    "start_time": "2023-03-03T15:42:49.969Z"
   },
   {
    "duration": 8,
    "start_time": "2023-03-03T15:42:49.990Z"
   },
   {
    "duration": 63,
    "start_time": "2023-03-03T15:42:50.000Z"
   },
   {
    "duration": 59,
    "start_time": "2023-03-03T15:42:50.064Z"
   },
   {
    "duration": 87,
    "start_time": "2023-03-03T15:42:50.125Z"
   },
   {
    "duration": 83,
    "start_time": "2023-03-03T15:42:50.213Z"
   },
   {
    "duration": 8,
    "start_time": "2023-03-03T15:42:50.298Z"
   },
   {
    "duration": 22,
    "start_time": "2023-03-03T15:42:50.308Z"
   },
   {
    "duration": 43,
    "start_time": "2023-03-03T15:42:50.344Z"
   },
   {
    "duration": 8,
    "start_time": "2023-03-03T15:42:50.389Z"
   },
   {
    "duration": 18,
    "start_time": "2023-03-03T15:42:50.399Z"
   },
   {
    "duration": 55,
    "start_time": "2023-03-03T15:42:50.419Z"
   },
   {
    "duration": 7,
    "start_time": "2023-03-03T15:42:50.480Z"
   },
   {
    "duration": 22,
    "start_time": "2023-03-03T15:42:50.489Z"
   },
   {
    "duration": 37,
    "start_time": "2023-03-03T15:42:50.513Z"
   },
   {
    "duration": 11,
    "start_time": "2023-03-03T15:42:50.553Z"
   },
   {
    "duration": 91,
    "start_time": "2023-03-03T15:42:50.566Z"
   },
   {
    "duration": 2137,
    "start_time": "2023-03-03T15:42:50.659Z"
   },
   {
    "duration": 120,
    "start_time": "2023-03-03T15:42:52.798Z"
   },
   {
    "duration": 114,
    "start_time": "2023-03-03T15:42:52.920Z"
   },
   {
    "duration": 22,
    "start_time": "2023-03-03T15:42:53.035Z"
   },
   {
    "duration": 15,
    "start_time": "2023-03-03T15:42:53.058Z"
   },
   {
    "duration": 4,
    "start_time": "2023-03-03T15:42:53.075Z"
   },
   {
    "duration": 489,
    "start_time": "2023-03-03T15:42:53.080Z"
   },
   {
    "duration": 14,
    "start_time": "2023-03-03T15:42:53.571Z"
   },
   {
    "duration": 4,
    "start_time": "2023-03-03T15:42:53.587Z"
   },
   {
    "duration": 24,
    "start_time": "2023-03-03T15:42:53.592Z"
   },
   {
    "duration": 0,
    "start_time": "2023-03-03T15:42:53.618Z"
   },
   {
    "duration": 0,
    "start_time": "2023-03-03T15:42:53.619Z"
   },
   {
    "duration": 0,
    "start_time": "2023-03-03T15:42:53.645Z"
   },
   {
    "duration": 0,
    "start_time": "2023-03-03T15:42:53.647Z"
   },
   {
    "duration": 0,
    "start_time": "2023-03-03T15:42:53.648Z"
   },
   {
    "duration": 0,
    "start_time": "2023-03-03T15:42:53.649Z"
   },
   {
    "duration": 0,
    "start_time": "2023-03-03T15:42:53.650Z"
   },
   {
    "duration": 0,
    "start_time": "2023-03-03T15:42:53.651Z"
   },
   {
    "duration": 0,
    "start_time": "2023-03-03T15:42:53.653Z"
   },
   {
    "duration": 0,
    "start_time": "2023-03-03T15:42:53.654Z"
   },
   {
    "duration": 0,
    "start_time": "2023-03-03T15:42:53.655Z"
   },
   {
    "duration": 0,
    "start_time": "2023-03-03T15:42:53.656Z"
   },
   {
    "duration": 0,
    "start_time": "2023-03-03T15:42:53.657Z"
   },
   {
    "duration": 0,
    "start_time": "2023-03-03T15:42:53.658Z"
   },
   {
    "duration": 0,
    "start_time": "2023-03-03T15:42:53.659Z"
   },
   {
    "duration": 0,
    "start_time": "2023-03-03T15:42:53.661Z"
   },
   {
    "duration": 0,
    "start_time": "2023-03-03T15:42:53.662Z"
   },
   {
    "duration": 0,
    "start_time": "2023-03-03T15:42:53.663Z"
   },
   {
    "duration": 0,
    "start_time": "2023-03-03T15:42:53.664Z"
   },
   {
    "duration": 0,
    "start_time": "2023-03-03T15:42:53.665Z"
   },
   {
    "duration": 0,
    "start_time": "2023-03-03T15:42:53.666Z"
   },
   {
    "duration": 28,
    "start_time": "2023-03-03T15:43:54.961Z"
   },
   {
    "duration": 80,
    "start_time": "2023-03-03T15:44:41.104Z"
   },
   {
    "duration": 10,
    "start_time": "2023-03-03T15:46:37.495Z"
   },
   {
    "duration": 5,
    "start_time": "2023-03-03T15:46:40.207Z"
   },
   {
    "duration": 16,
    "start_time": "2023-03-03T15:47:21.773Z"
   },
   {
    "duration": 13,
    "start_time": "2023-03-03T15:47:25.704Z"
   },
   {
    "duration": 123,
    "start_time": "2023-03-03T15:49:09.873Z"
   },
   {
    "duration": 10,
    "start_time": "2023-03-03T15:50:05.822Z"
   },
   {
    "duration": 12,
    "start_time": "2023-03-03T15:50:11.373Z"
   },
   {
    "duration": 126,
    "start_time": "2023-03-03T15:50:43.028Z"
   },
   {
    "duration": 7,
    "start_time": "2023-03-03T15:50:47.877Z"
   },
   {
    "duration": 3,
    "start_time": "2023-03-03T15:50:52.848Z"
   },
   {
    "duration": 43,
    "start_time": "2023-03-03T15:50:58.185Z"
   },
   {
    "duration": 6,
    "start_time": "2023-03-03T15:51:05.531Z"
   },
   {
    "duration": 5291,
    "start_time": "2023-03-03T15:52:45.781Z"
   },
   {
    "duration": 3,
    "start_time": "2023-03-03T15:52:51.074Z"
   },
   {
    "duration": 217,
    "start_time": "2023-03-03T15:52:51.079Z"
   },
   {
    "duration": 5,
    "start_time": "2023-03-03T15:52:51.298Z"
   },
   {
    "duration": 6,
    "start_time": "2023-03-03T15:52:51.307Z"
   },
   {
    "duration": 32,
    "start_time": "2023-03-03T15:52:51.315Z"
   },
   {
    "duration": 31,
    "start_time": "2023-03-03T15:52:51.349Z"
   },
   {
    "duration": 19,
    "start_time": "2023-03-03T15:52:51.382Z"
   },
   {
    "duration": 50,
    "start_time": "2023-03-03T15:52:51.403Z"
   },
   {
    "duration": 10,
    "start_time": "2023-03-03T15:52:51.455Z"
   },
   {
    "duration": 9,
    "start_time": "2023-03-03T15:52:51.467Z"
   },
   {
    "duration": 35,
    "start_time": "2023-03-03T15:52:51.478Z"
   },
   {
    "duration": 2981,
    "start_time": "2023-03-03T15:52:51.515Z"
   },
   {
    "duration": 22,
    "start_time": "2023-03-03T15:52:54.499Z"
   },
   {
    "duration": 26,
    "start_time": "2023-03-03T15:52:54.523Z"
   },
   {
    "duration": 21,
    "start_time": "2023-03-03T15:52:54.551Z"
   },
   {
    "duration": 10,
    "start_time": "2023-03-03T15:52:54.573Z"
   },
   {
    "duration": 61,
    "start_time": "2023-03-03T15:52:54.585Z"
   },
   {
    "duration": 63,
    "start_time": "2023-03-03T15:52:54.648Z"
   },
   {
    "duration": 78,
    "start_time": "2023-03-03T15:52:54.713Z"
   },
   {
    "duration": 64,
    "start_time": "2023-03-03T15:52:54.793Z"
   },
   {
    "duration": 7,
    "start_time": "2023-03-03T15:52:54.859Z"
   },
   {
    "duration": 13,
    "start_time": "2023-03-03T15:52:54.868Z"
   },
   {
    "duration": 18,
    "start_time": "2023-03-03T15:52:54.883Z"
   },
   {
    "duration": 7,
    "start_time": "2023-03-03T15:52:54.903Z"
   },
   {
    "duration": 37,
    "start_time": "2023-03-03T15:52:54.912Z"
   },
   {
    "duration": 28,
    "start_time": "2023-03-03T15:52:54.950Z"
   },
   {
    "duration": 7,
    "start_time": "2023-03-03T15:52:54.980Z"
   },
   {
    "duration": 13,
    "start_time": "2023-03-03T15:52:54.989Z"
   },
   {
    "duration": 44,
    "start_time": "2023-03-03T15:52:55.004Z"
   },
   {
    "duration": 8,
    "start_time": "2023-03-03T15:52:55.049Z"
   },
   {
    "duration": 39,
    "start_time": "2023-03-03T15:52:55.058Z"
   },
   {
    "duration": 66,
    "start_time": "2023-03-03T15:52:55.099Z"
   },
   {
    "duration": 1853,
    "start_time": "2023-03-03T15:52:55.166Z"
   },
   {
    "duration": 119,
    "start_time": "2023-03-03T15:52:57.021Z"
   },
   {
    "duration": 113,
    "start_time": "2023-03-03T15:52:57.146Z"
   },
   {
    "duration": 17,
    "start_time": "2023-03-03T15:52:57.261Z"
   },
   {
    "duration": 16,
    "start_time": "2023-03-03T15:52:57.280Z"
   },
   {
    "duration": 4,
    "start_time": "2023-03-03T15:52:57.298Z"
   },
   {
    "duration": 500,
    "start_time": "2023-03-03T15:52:57.304Z"
   },
   {
    "duration": 15,
    "start_time": "2023-03-03T15:52:57.809Z"
   },
   {
    "duration": 7,
    "start_time": "2023-03-03T15:52:57.826Z"
   },
   {
    "duration": 10,
    "start_time": "2023-03-03T15:52:57.846Z"
   },
   {
    "duration": 10,
    "start_time": "2023-03-03T15:52:57.858Z"
   },
   {
    "duration": 17,
    "start_time": "2023-03-03T15:52:57.871Z"
   },
   {
    "duration": 146,
    "start_time": "2023-03-03T15:52:57.890Z"
   },
   {
    "duration": 125,
    "start_time": "2023-03-03T15:52:58.038Z"
   },
   {
    "duration": 5,
    "start_time": "2023-03-03T15:52:58.165Z"
   },
   {
    "duration": 5,
    "start_time": "2023-03-03T15:52:58.172Z"
   },
   {
    "duration": 48,
    "start_time": "2023-03-03T15:52:58.179Z"
   },
   {
    "duration": 21,
    "start_time": "2023-03-03T15:52:58.229Z"
   },
   {
    "duration": 171510,
    "start_time": "2023-03-03T15:52:58.253Z"
   },
   {
    "duration": 4505048,
    "start_time": "2023-03-03T15:55:49.764Z"
   },
   {
    "duration": 20250,
    "start_time": "2023-03-03T17:10:54.814Z"
   },
   {
    "duration": 7,
    "start_time": "2023-03-03T17:11:15.066Z"
   },
   {
    "duration": 86,
    "start_time": "2023-03-03T17:11:15.075Z"
   },
   {
    "duration": 3,
    "start_time": "2023-03-03T17:11:15.163Z"
   },
   {
    "duration": 21,
    "start_time": "2023-03-03T17:11:15.167Z"
   },
   {
    "duration": 5,
    "start_time": "2023-03-03T17:11:15.190Z"
   },
   {
    "duration": 514,
    "start_time": "2023-03-03T17:11:15.196Z"
   },
   {
    "duration": 5,
    "start_time": "2023-03-03T17:11:15.712Z"
   },
   {
    "duration": 21,
    "start_time": "2023-03-03T17:11:15.719Z"
   },
   {
    "duration": 27,
    "start_time": "2023-03-03T17:11:15.745Z"
   },
   {
    "duration": 750,
    "start_time": "2023-03-03T17:11:15.774Z"
   },
   {
    "duration": 17,
    "start_time": "2023-03-03T17:20:29.637Z"
   },
   {
    "duration": 28,
    "start_time": "2023-03-03T17:20:55.903Z"
   },
   {
    "duration": 18723,
    "start_time": "2023-03-04T07:09:14.222Z"
   },
   {
    "duration": 10,
    "start_time": "2023-03-04T07:09:32.947Z"
   },
   {
    "duration": 823,
    "start_time": "2023-03-04T07:09:32.959Z"
   },
   {
    "duration": 38,
    "start_time": "2023-03-04T07:09:33.784Z"
   },
   {
    "duration": 171,
    "start_time": "2023-03-04T07:09:33.828Z"
   },
   {
    "duration": 19,
    "start_time": "2023-03-04T07:09:34.001Z"
   },
   {
    "duration": 77,
    "start_time": "2023-03-04T07:09:34.023Z"
   },
   {
    "duration": 16,
    "start_time": "2023-03-04T07:09:34.102Z"
   },
   {
    "duration": 49,
    "start_time": "2023-03-04T07:09:34.120Z"
   },
   {
    "duration": 45,
    "start_time": "2023-03-04T07:09:34.171Z"
   },
   {
    "duration": 3767,
    "start_time": "2023-03-04T07:09:34.218Z"
   },
   {
    "duration": 30,
    "start_time": "2023-03-04T07:09:37.987Z"
   },
   {
    "duration": 13,
    "start_time": "2023-03-04T07:09:38.019Z"
   },
   {
    "duration": 156,
    "start_time": "2023-03-04T07:09:38.038Z"
   },
   {
    "duration": 90,
    "start_time": "2023-03-04T07:09:38.195Z"
   },
   {
    "duration": 82,
    "start_time": "2023-03-04T07:09:38.287Z"
   },
   {
    "duration": 113,
    "start_time": "2023-03-04T07:09:38.371Z"
   },
   {
    "duration": 7,
    "start_time": "2023-03-04T07:09:38.486Z"
   },
   {
    "duration": 16,
    "start_time": "2023-03-04T07:09:38.495Z"
   },
   {
    "duration": 38,
    "start_time": "2023-03-04T07:09:38.513Z"
   },
   {
    "duration": 39,
    "start_time": "2023-03-04T07:09:38.553Z"
   },
   {
    "duration": 10,
    "start_time": "2023-03-04T07:09:38.593Z"
   },
   {
    "duration": 45,
    "start_time": "2023-03-04T07:09:38.605Z"
   },
   {
    "duration": 40,
    "start_time": "2023-03-04T07:09:38.652Z"
   },
   {
    "duration": 16,
    "start_time": "2023-03-04T07:09:38.693Z"
   },
   {
    "duration": 60,
    "start_time": "2023-03-04T07:09:38.711Z"
   },
   {
    "duration": 21,
    "start_time": "2023-03-04T07:09:38.778Z"
   },
   {
    "duration": 40,
    "start_time": "2023-03-04T07:09:38.800Z"
   },
   {
    "duration": 143,
    "start_time": "2023-03-04T07:09:38.842Z"
   },
   {
    "duration": 2711,
    "start_time": "2023-03-04T07:09:38.987Z"
   },
   {
    "duration": 188,
    "start_time": "2023-03-04T07:09:41.700Z"
   },
   {
    "duration": 145,
    "start_time": "2023-03-04T07:09:41.890Z"
   },
   {
    "duration": 24,
    "start_time": "2023-03-04T07:09:42.037Z"
   },
   {
    "duration": 46,
    "start_time": "2023-03-04T07:09:42.063Z"
   },
   {
    "duration": 6,
    "start_time": "2023-03-04T07:09:42.110Z"
   },
   {
    "duration": 687,
    "start_time": "2023-03-04T07:09:42.117Z"
   },
   {
    "duration": 15,
    "start_time": "2023-03-04T07:09:42.806Z"
   },
   {
    "duration": 64,
    "start_time": "2023-03-04T07:09:42.822Z"
   },
   {
    "duration": 10,
    "start_time": "2023-03-04T07:09:42.888Z"
   },
   {
    "duration": 4,
    "start_time": "2023-03-04T07:09:42.900Z"
   },
   {
    "duration": 194,
    "start_time": "2023-03-04T07:09:42.907Z"
   },
   {
    "duration": 200,
    "start_time": "2023-03-04T07:09:43.103Z"
   },
   {
    "duration": 6,
    "start_time": "2023-03-04T07:09:43.305Z"
   },
   {
    "duration": 69,
    "start_time": "2023-03-04T07:09:43.312Z"
   },
   {
    "duration": 63,
    "start_time": "2023-03-04T07:09:43.383Z"
   },
   {
    "duration": 12,
    "start_time": "2023-03-04T07:09:43.448Z"
   },
   {
    "duration": 31,
    "start_time": "2023-03-04T07:09:43.462Z"
   },
   {
    "duration": 8,
    "start_time": "2023-03-04T07:09:43.495Z"
   },
   {
    "duration": 10,
    "start_time": "2023-03-04T07:09:43.505Z"
   },
   {
    "duration": 67,
    "start_time": "2023-03-04T07:09:43.517Z"
   },
   {
    "duration": 92,
    "start_time": "2023-03-04T07:09:43.586Z"
   },
   {
    "duration": 5,
    "start_time": "2023-03-04T07:09:43.680Z"
   },
   {
    "duration": 20,
    "start_time": "2023-03-04T07:09:43.686Z"
   },
   {
    "duration": 4,
    "start_time": "2023-03-04T07:09:43.708Z"
   },
   {
    "duration": 719,
    "start_time": "2023-03-04T07:09:43.713Z"
   },
   {
    "duration": 5,
    "start_time": "2023-03-04T07:09:44.437Z"
   },
   {
    "duration": 102,
    "start_time": "2023-03-04T07:09:44.444Z"
   },
   {
    "duration": 700,
    "start_time": "2023-03-04T07:09:44.549Z"
   },
   {
    "duration": 101,
    "start_time": "2023-03-04T07:12:00.893Z"
   },
   {
    "duration": 7408,
    "start_time": "2023-03-04T07:12:29.539Z"
   },
   {
    "duration": 118,
    "start_time": "2023-03-04T07:12:57.697Z"
   },
   {
    "duration": 7511,
    "start_time": "2023-03-04T07:26:52.882Z"
   },
   {
    "duration": 5,
    "start_time": "2023-03-04T07:27:00.395Z"
   },
   {
    "duration": 438,
    "start_time": "2023-03-04T07:27:00.403Z"
   },
   {
    "duration": 40,
    "start_time": "2023-03-04T07:27:00.852Z"
   },
   {
    "duration": 112,
    "start_time": "2023-03-04T07:27:00.899Z"
   },
   {
    "duration": 84,
    "start_time": "2023-03-04T07:27:01.013Z"
   },
   {
    "duration": 55,
    "start_time": "2023-03-04T07:27:01.099Z"
   },
   {
    "duration": 115,
    "start_time": "2023-03-04T07:27:01.174Z"
   },
   {
    "duration": 54,
    "start_time": "2023-03-04T07:27:01.294Z"
   },
   {
    "duration": 146,
    "start_time": "2023-03-04T07:27:01.350Z"
   },
   {
    "duration": 4008,
    "start_time": "2023-03-04T07:27:01.499Z"
   },
   {
    "duration": 35,
    "start_time": "2023-03-04T07:27:05.510Z"
   },
   {
    "duration": 75,
    "start_time": "2023-03-04T07:27:05.547Z"
   },
   {
    "duration": 119,
    "start_time": "2023-03-04T07:27:05.626Z"
   },
   {
    "duration": 161,
    "start_time": "2023-03-04T07:27:05.757Z"
   },
   {
    "duration": 114,
    "start_time": "2023-03-04T07:27:05.920Z"
   },
   {
    "duration": 104,
    "start_time": "2023-03-04T07:27:06.036Z"
   },
   {
    "duration": 12,
    "start_time": "2023-03-04T07:27:06.142Z"
   },
   {
    "duration": 107,
    "start_time": "2023-03-04T07:27:06.164Z"
   },
   {
    "duration": 66,
    "start_time": "2023-03-04T07:27:06.273Z"
   },
   {
    "duration": 55,
    "start_time": "2023-03-04T07:27:06.345Z"
   },
   {
    "duration": 11,
    "start_time": "2023-03-04T07:27:06.403Z"
   },
   {
    "duration": 73,
    "start_time": "2023-03-04T07:27:06.416Z"
   },
   {
    "duration": 18,
    "start_time": "2023-03-04T07:27:06.491Z"
   },
   {
    "duration": 82,
    "start_time": "2023-03-04T07:27:06.512Z"
   },
   {
    "duration": 38,
    "start_time": "2023-03-04T07:27:06.596Z"
   },
   {
    "duration": 59,
    "start_time": "2023-03-04T07:27:06.646Z"
   },
   {
    "duration": 62,
    "start_time": "2023-03-04T07:27:06.707Z"
   },
   {
    "duration": 108,
    "start_time": "2023-03-04T07:27:06.771Z"
   },
   {
    "duration": 2660,
    "start_time": "2023-03-04T07:27:06.882Z"
   },
   {
    "duration": 193,
    "start_time": "2023-03-04T07:27:09.545Z"
   },
   {
    "duration": 240,
    "start_time": "2023-03-04T07:27:09.745Z"
   },
   {
    "duration": 23,
    "start_time": "2023-03-04T07:27:09.989Z"
   },
   {
    "duration": 20,
    "start_time": "2023-03-04T07:27:10.014Z"
   },
   {
    "duration": 63,
    "start_time": "2023-03-04T07:27:10.036Z"
   },
   {
    "duration": 670,
    "start_time": "2023-03-04T07:27:10.101Z"
   },
   {
    "duration": 22,
    "start_time": "2023-03-04T07:27:10.772Z"
   },
   {
    "duration": 60,
    "start_time": "2023-03-04T07:27:10.796Z"
   },
   {
    "duration": 49,
    "start_time": "2023-03-04T07:27:10.858Z"
   },
   {
    "duration": 21,
    "start_time": "2023-03-04T07:27:10.909Z"
   },
   {
    "duration": 270,
    "start_time": "2023-03-04T07:27:10.942Z"
   },
   {
    "duration": 241,
    "start_time": "2023-03-04T07:27:11.213Z"
   },
   {
    "duration": 11,
    "start_time": "2023-03-04T07:27:11.456Z"
   },
   {
    "duration": 47,
    "start_time": "2023-03-04T07:27:11.469Z"
   },
   {
    "duration": 113,
    "start_time": "2023-03-04T07:27:11.519Z"
   },
   {
    "duration": 15,
    "start_time": "2023-03-04T07:27:11.636Z"
   },
   {
    "duration": 57,
    "start_time": "2023-03-04T07:27:11.652Z"
   },
   {
    "duration": 0,
    "start_time": "2023-03-04T07:27:11.711Z"
   },
   {
    "duration": 0,
    "start_time": "2023-03-04T07:27:11.713Z"
   },
   {
    "duration": 0,
    "start_time": "2023-03-04T07:27:11.714Z"
   },
   {
    "duration": 0,
    "start_time": "2023-03-04T07:27:11.716Z"
   },
   {
    "duration": 0,
    "start_time": "2023-03-04T07:27:11.718Z"
   },
   {
    "duration": 0,
    "start_time": "2023-03-04T07:27:11.720Z"
   },
   {
    "duration": 0,
    "start_time": "2023-03-04T07:27:11.722Z"
   },
   {
    "duration": 0,
    "start_time": "2023-03-04T07:27:11.727Z"
   },
   {
    "duration": 0,
    "start_time": "2023-03-04T07:27:11.728Z"
   },
   {
    "duration": 0,
    "start_time": "2023-03-04T07:27:11.729Z"
   },
   {
    "duration": 0,
    "start_time": "2023-03-04T07:27:11.730Z"
   },
   {
    "duration": 0,
    "start_time": "2023-03-04T07:27:11.732Z"
   },
   {
    "duration": 6535,
    "start_time": "2023-03-04T07:28:30.796Z"
   },
   {
    "duration": 8,
    "start_time": "2023-03-04T07:28:37.333Z"
   },
   {
    "duration": 346,
    "start_time": "2023-03-04T07:28:37.342Z"
   },
   {
    "duration": 20,
    "start_time": "2023-03-04T07:28:37.694Z"
   },
   {
    "duration": 56,
    "start_time": "2023-03-04T07:28:37.716Z"
   },
   {
    "duration": 29,
    "start_time": "2023-03-04T07:28:37.782Z"
   },
   {
    "duration": 32,
    "start_time": "2023-03-04T07:28:37.813Z"
   },
   {
    "duration": 43,
    "start_time": "2023-03-04T07:28:37.847Z"
   },
   {
    "duration": 9,
    "start_time": "2023-03-04T07:28:37.891Z"
   },
   {
    "duration": 49,
    "start_time": "2023-03-04T07:28:37.903Z"
   },
   {
    "duration": 3742,
    "start_time": "2023-03-04T07:28:37.960Z"
   },
   {
    "duration": 44,
    "start_time": "2023-03-04T07:28:41.704Z"
   },
   {
    "duration": 11,
    "start_time": "2023-03-04T07:28:41.754Z"
   },
   {
    "duration": 68,
    "start_time": "2023-03-04T07:28:41.767Z"
   },
   {
    "duration": 142,
    "start_time": "2023-03-04T07:28:41.837Z"
   },
   {
    "duration": 87,
    "start_time": "2023-03-04T07:28:41.981Z"
   },
   {
    "duration": 80,
    "start_time": "2023-03-04T07:28:42.070Z"
   },
   {
    "duration": 32,
    "start_time": "2023-03-04T07:28:42.153Z"
   },
   {
    "duration": 14,
    "start_time": "2023-03-04T07:28:42.187Z"
   },
   {
    "duration": 33,
    "start_time": "2023-03-04T07:28:42.203Z"
   },
   {
    "duration": 45,
    "start_time": "2023-03-04T07:28:42.247Z"
   },
   {
    "duration": 8,
    "start_time": "2023-03-04T07:28:42.294Z"
   },
   {
    "duration": 55,
    "start_time": "2023-03-04T07:28:42.304Z"
   },
   {
    "duration": 45,
    "start_time": "2023-03-04T07:28:42.361Z"
   },
   {
    "duration": 23,
    "start_time": "2023-03-04T07:28:42.408Z"
   },
   {
    "duration": 84,
    "start_time": "2023-03-04T07:28:42.438Z"
   },
   {
    "duration": 20,
    "start_time": "2023-03-04T07:28:42.529Z"
   },
   {
    "duration": 61,
    "start_time": "2023-03-04T07:28:42.553Z"
   },
   {
    "duration": 89,
    "start_time": "2023-03-04T07:28:42.616Z"
   },
   {
    "duration": 2682,
    "start_time": "2023-03-04T07:28:42.707Z"
   },
   {
    "duration": 200,
    "start_time": "2023-03-04T07:28:45.398Z"
   },
   {
    "duration": 152,
    "start_time": "2023-03-04T07:28:45.600Z"
   },
   {
    "duration": 20,
    "start_time": "2023-03-04T07:28:45.761Z"
   },
   {
    "duration": 18,
    "start_time": "2023-03-04T07:28:45.784Z"
   },
   {
    "duration": 5,
    "start_time": "2023-03-04T07:28:45.804Z"
   },
   {
    "duration": 674,
    "start_time": "2023-03-04T07:28:45.811Z"
   },
   {
    "duration": 18,
    "start_time": "2023-03-04T07:28:46.487Z"
   },
   {
    "duration": 6,
    "start_time": "2023-03-04T07:28:46.507Z"
   },
   {
    "duration": 32,
    "start_time": "2023-03-04T07:28:46.515Z"
   },
   {
    "duration": 26,
    "start_time": "2023-03-04T07:28:46.556Z"
   },
   {
    "duration": 195,
    "start_time": "2023-03-04T07:28:46.584Z"
   },
   {
    "duration": 181,
    "start_time": "2023-03-04T07:28:46.783Z"
   },
   {
    "duration": 11,
    "start_time": "2023-03-04T07:28:46.966Z"
   },
   {
    "duration": 14,
    "start_time": "2023-03-04T07:28:46.978Z"
   },
   {
    "duration": 53,
    "start_time": "2023-03-04T07:28:46.995Z"
   },
   {
    "duration": 12,
    "start_time": "2023-03-04T07:28:47.050Z"
   },
   {
    "duration": 214408,
    "start_time": "2023-03-04T07:28:47.064Z"
   },
   {
    "duration": 5574536,
    "start_time": "2023-03-04T07:32:21.478Z"
   },
   {
    "duration": 27097,
    "start_time": "2023-03-04T09:05:16.022Z"
   },
   {
    "duration": 11,
    "start_time": "2023-03-04T09:05:43.131Z"
   },
   {
    "duration": 140,
    "start_time": "2023-03-04T09:05:43.155Z"
   },
   {
    "duration": 96,
    "start_time": "2023-03-04T09:05:43.298Z"
   },
   {
    "duration": 4,
    "start_time": "2023-03-04T09:05:43.397Z"
   },
   {
    "duration": 38,
    "start_time": "2023-03-04T09:05:43.403Z"
   },
   {
    "duration": 40,
    "start_time": "2023-03-04T09:05:43.449Z"
   },
   {
    "duration": 688,
    "start_time": "2023-03-04T09:05:43.495Z"
   },
   {
    "duration": 6,
    "start_time": "2023-03-04T09:05:44.189Z"
   },
   {
    "duration": 40,
    "start_time": "2023-03-04T09:05:44.196Z"
   },
   {
    "duration": 868,
    "start_time": "2023-03-04T09:05:44.238Z"
   },
   {
    "duration": 356,
    "start_time": "2023-03-04T09:17:20.177Z"
   },
   {
    "duration": 51,
    "start_time": "2023-03-04T10:54:25.715Z"
   },
   {
    "duration": 12948,
    "start_time": "2023-03-04T10:56:09.373Z"
   },
   {
    "duration": 3,
    "start_time": "2023-03-04T10:56:22.323Z"
   },
   {
    "duration": 901,
    "start_time": "2023-03-04T10:56:22.327Z"
   },
   {
    "duration": 28,
    "start_time": "2023-03-04T10:56:23.229Z"
   },
   {
    "duration": 133,
    "start_time": "2023-03-04T10:56:23.260Z"
   },
   {
    "duration": 19,
    "start_time": "2023-03-04T10:56:23.395Z"
   },
   {
    "duration": 31,
    "start_time": "2023-03-04T10:56:23.425Z"
   },
   {
    "duration": 14,
    "start_time": "2023-03-04T10:56:23.458Z"
   },
   {
    "duration": 5,
    "start_time": "2023-03-04T10:56:23.473Z"
   },
   {
    "duration": 49,
    "start_time": "2023-03-04T10:56:23.479Z"
   },
   {
    "duration": 2994,
    "start_time": "2023-03-04T10:56:23.530Z"
   },
   {
    "duration": 27,
    "start_time": "2023-03-04T10:56:26.526Z"
   },
   {
    "duration": 8,
    "start_time": "2023-03-04T10:56:26.555Z"
   },
   {
    "duration": 99,
    "start_time": "2023-03-04T10:56:26.566Z"
   },
   {
    "duration": 64,
    "start_time": "2023-03-04T10:56:26.667Z"
   },
   {
    "duration": 69,
    "start_time": "2023-03-04T10:56:26.733Z"
   },
   {
    "duration": 67,
    "start_time": "2023-03-04T10:56:26.804Z"
   },
   {
    "duration": 7,
    "start_time": "2023-03-04T10:56:26.872Z"
   },
   {
    "duration": 14,
    "start_time": "2023-03-04T10:56:26.881Z"
   },
   {
    "duration": 44,
    "start_time": "2023-03-04T10:56:26.897Z"
   },
   {
    "duration": 10,
    "start_time": "2023-03-04T10:56:26.943Z"
   },
   {
    "duration": 9,
    "start_time": "2023-03-04T10:56:26.955Z"
   },
   {
    "duration": 26,
    "start_time": "2023-03-04T10:56:26.966Z"
   },
   {
    "duration": 33,
    "start_time": "2023-03-04T10:56:26.994Z"
   },
   {
    "duration": 9,
    "start_time": "2023-03-04T10:56:27.029Z"
   },
   {
    "duration": 22,
    "start_time": "2023-03-04T10:56:27.040Z"
   },
   {
    "duration": 14,
    "start_time": "2023-03-04T10:56:27.064Z"
   },
   {
    "duration": 54,
    "start_time": "2023-03-04T10:56:27.080Z"
   },
   {
    "duration": 59,
    "start_time": "2023-03-04T10:56:27.135Z"
   },
   {
    "duration": 2057,
    "start_time": "2023-03-04T10:56:27.196Z"
   },
   {
    "duration": 132,
    "start_time": "2023-03-04T10:56:29.256Z"
   },
   {
    "duration": 116,
    "start_time": "2023-03-04T10:56:29.390Z"
   },
   {
    "duration": 25,
    "start_time": "2023-03-04T10:56:29.507Z"
   },
   {
    "duration": 15,
    "start_time": "2023-03-04T10:56:29.536Z"
   },
   {
    "duration": 4,
    "start_time": "2023-03-04T10:56:29.553Z"
   },
   {
    "duration": 454,
    "start_time": "2023-03-04T10:56:29.559Z"
   },
   {
    "duration": 18,
    "start_time": "2023-03-04T10:56:30.015Z"
   },
   {
    "duration": 5,
    "start_time": "2023-03-04T10:56:30.034Z"
   },
   {
    "duration": 16,
    "start_time": "2023-03-04T10:56:30.040Z"
   },
   {
    "duration": 23,
    "start_time": "2023-03-04T10:56:30.058Z"
   },
   {
    "duration": 145,
    "start_time": "2023-03-04T10:56:30.085Z"
   },
   {
    "duration": 149,
    "start_time": "2023-03-04T10:56:30.231Z"
   },
   {
    "duration": 6,
    "start_time": "2023-03-04T10:56:30.381Z"
   },
   {
    "duration": 23,
    "start_time": "2023-03-04T10:56:30.389Z"
   },
   {
    "duration": 94,
    "start_time": "2023-03-04T10:56:30.414Z"
   },
   {
    "duration": 6,
    "start_time": "2023-03-04T10:56:30.510Z"
   },
   {
    "duration": 48,
    "start_time": "2023-03-04T10:56:30.518Z"
   },
   {
    "duration": 35,
    "start_time": "2023-03-04T10:56:30.567Z"
   },
   {
    "duration": 34,
    "start_time": "2023-03-04T10:56:30.603Z"
   },
   {
    "duration": 35,
    "start_time": "2023-03-04T10:56:30.638Z"
   },
   {
    "duration": 287,
    "start_time": "2023-03-04T10:56:30.675Z"
   },
   {
    "duration": 3,
    "start_time": "2023-03-04T10:56:30.964Z"
   },
   {
    "duration": 40,
    "start_time": "2023-03-04T10:56:30.969Z"
   },
   {
    "duration": 4,
    "start_time": "2023-03-04T10:56:31.011Z"
   },
   {
    "duration": 500,
    "start_time": "2023-03-04T10:56:31.016Z"
   },
   {
    "duration": 7,
    "start_time": "2023-03-04T10:56:31.518Z"
   },
   {
    "duration": 39526,
    "start_time": "2023-03-04T10:56:31.527Z"
   },
   {
    "duration": 587,
    "start_time": "2023-03-04T10:57:11.055Z"
   },
   {
    "duration": 4,
    "start_time": "2023-03-04T11:12:42.368Z"
   },
   {
    "duration": 485,
    "start_time": "2023-03-04T11:12:46.444Z"
   },
   {
    "duration": 6,
    "start_time": "2023-03-04T11:12:48.412Z"
   },
   {
    "duration": 5,
    "start_time": "2023-03-04T11:14:04.486Z"
   },
   {
    "duration": 302,
    "start_time": "2023-03-04T11:19:08.878Z"
   },
   {
    "duration": 60,
    "start_time": "2023-03-04T11:19:16.340Z"
   },
   {
    "duration": 74,
    "start_time": "2023-03-04T11:19:31.304Z"
   },
   {
    "duration": 252,
    "start_time": "2023-03-04T11:19:47.210Z"
   },
   {
    "duration": 61,
    "start_time": "2023-03-04T11:19:53.970Z"
   },
   {
    "duration": 59,
    "start_time": "2023-03-04T11:20:02.930Z"
   },
   {
    "duration": 70,
    "start_time": "2023-03-04T11:20:17.480Z"
   },
   {
    "duration": 5,
    "start_time": "2023-03-04T11:21:50.130Z"
   },
   {
    "duration": 530,
    "start_time": "2023-03-04T11:21:52.276Z"
   },
   {
    "duration": 5,
    "start_time": "2023-03-04T11:21:54.086Z"
   },
   {
    "duration": 3,
    "start_time": "2023-03-04T11:22:02.110Z"
   },
   {
    "duration": 16,
    "start_time": "2023-03-04T11:22:04.024Z"
   },
   {
    "duration": 5,
    "start_time": "2023-03-04T11:22:08.041Z"
   },
   {
    "duration": 494,
    "start_time": "2023-03-04T11:22:09.771Z"
   },
   {
    "duration": 5,
    "start_time": "2023-03-04T11:22:11.788Z"
   },
   {
    "duration": 74,
    "start_time": "2023-03-04T11:30:16.702Z"
   },
   {
    "duration": 178,
    "start_time": "2023-03-04T11:30:29.516Z"
   },
   {
    "duration": 13757,
    "start_time": "2023-03-04T11:30:42.021Z"
   },
   {
    "duration": 24,
    "start_time": "2023-03-04T11:30:55.781Z"
   },
   {
    "duration": 14,
    "start_time": "2023-03-04T11:31:04.935Z"
   },
   {
    "duration": 19,
    "start_time": "2023-03-04T11:31:12.042Z"
   },
   {
    "duration": 1026,
    "start_time": "2023-03-04T11:31:21.399Z"
   },
   {
    "duration": 1019,
    "start_time": "2023-03-04T11:31:57.907Z"
   },
   {
    "duration": 767,
    "start_time": "2023-03-04T11:32:19.221Z"
   },
   {
    "duration": 1007,
    "start_time": "2023-03-04T11:32:51.319Z"
   },
   {
    "duration": 5827,
    "start_time": "2023-03-04T11:35:16.680Z"
   },
   {
    "duration": 26,
    "start_time": "2023-03-04T11:37:36.710Z"
   },
   {
    "duration": 5,
    "start_time": "2023-03-04T11:37:42.229Z"
   },
   {
    "duration": 16,
    "start_time": "2023-03-04T11:38:46.302Z"
   },
   {
    "duration": 1411,
    "start_time": "2023-03-04T11:43:45.441Z"
   },
   {
    "duration": 1485,
    "start_time": "2023-03-04T11:43:58.795Z"
   },
   {
    "duration": 2396,
    "start_time": "2023-03-04T11:44:51.199Z"
   },
   {
    "duration": 7822,
    "start_time": "2023-03-04T11:45:03.345Z"
   },
   {
    "duration": 1468,
    "start_time": "2023-03-04T11:45:19.918Z"
   },
   {
    "duration": 134,
    "start_time": "2023-03-04T12:00:55.842Z"
   },
   {
    "duration": 488,
    "start_time": "2023-03-04T12:02:59.714Z"
   },
   {
    "duration": 175,
    "start_time": "2023-03-04T12:05:46.637Z"
   },
   {
    "duration": 12,
    "start_time": "2023-03-04T12:07:31.286Z"
   },
   {
    "duration": 198,
    "start_time": "2023-03-04T12:07:35.207Z"
   },
   {
    "duration": 5530,
    "start_time": "2023-03-04T12:13:04.733Z"
   },
   {
    "duration": 699,
    "start_time": "2023-03-04T12:13:23.238Z"
   },
   {
    "duration": 658,
    "start_time": "2023-03-04T12:13:40.799Z"
   },
   {
    "duration": 5788,
    "start_time": "2023-03-04T12:13:49.009Z"
   },
   {
    "duration": 5524,
    "start_time": "2023-03-04T12:14:26.587Z"
   },
   {
    "duration": 807,
    "start_time": "2023-03-04T12:15:30.676Z"
   },
   {
    "duration": 5578,
    "start_time": "2023-03-04T12:15:52.401Z"
   },
   {
    "duration": 65,
    "start_time": "2023-03-04T12:16:39.608Z"
   },
   {
    "duration": 5907,
    "start_time": "2023-03-04T12:16:48.123Z"
   },
   {
    "duration": 5602,
    "start_time": "2023-03-04T12:23:58.192Z"
   },
   {
    "duration": 5527,
    "start_time": "2023-03-04T12:24:25.178Z"
   },
   {
    "duration": 11,
    "start_time": "2023-03-04T12:31:41.937Z"
   },
   {
    "duration": 13,
    "start_time": "2023-03-04T12:32:18.746Z"
   },
   {
    "duration": 12,
    "start_time": "2023-03-04T12:37:02.758Z"
   },
   {
    "duration": 9783,
    "start_time": "2023-03-04T12:45:07.390Z"
   },
   {
    "duration": 195,
    "start_time": "2023-03-04T12:47:32.821Z"
   },
   {
    "duration": 20,
    "start_time": "2023-03-04T12:48:40.988Z"
   },
   {
    "duration": 5622,
    "start_time": "2023-03-04T12:50:14.240Z"
   },
   {
    "duration": 35,
    "start_time": "2023-03-04T12:50:56.159Z"
   },
   {
    "duration": 27,
    "start_time": "2023-03-04T12:51:08.240Z"
   },
   {
    "duration": 20,
    "start_time": "2023-03-04T12:51:22.706Z"
   },
   {
    "duration": 23,
    "start_time": "2023-03-04T12:51:43.309Z"
   },
   {
    "duration": 21,
    "start_time": "2023-03-04T12:54:18.096Z"
   },
   {
    "duration": 19,
    "start_time": "2023-03-04T12:54:37.062Z"
   },
   {
    "duration": 2879,
    "start_time": "2023-03-04T13:05:51.957Z"
   },
   {
    "duration": 3,
    "start_time": "2023-03-04T13:05:54.838Z"
   },
   {
    "duration": 213,
    "start_time": "2023-03-04T13:05:54.843Z"
   },
   {
    "duration": 20,
    "start_time": "2023-03-04T13:05:55.058Z"
   },
   {
    "duration": 30,
    "start_time": "2023-03-04T13:05:55.080Z"
   },
   {
    "duration": 25,
    "start_time": "2023-03-04T13:05:55.112Z"
   },
   {
    "duration": 19,
    "start_time": "2023-03-04T13:05:55.139Z"
   },
   {
    "duration": 12,
    "start_time": "2023-03-04T13:05:55.160Z"
   },
   {
    "duration": 5,
    "start_time": "2023-03-04T13:05:55.173Z"
   },
   {
    "duration": 54,
    "start_time": "2023-03-04T13:05:55.181Z"
   },
   {
    "duration": 3112,
    "start_time": "2023-03-04T13:05:55.237Z"
   },
   {
    "duration": 21,
    "start_time": "2023-03-04T13:05:58.351Z"
   },
   {
    "duration": 8,
    "start_time": "2023-03-04T13:05:58.374Z"
   },
   {
    "duration": 61,
    "start_time": "2023-03-04T13:05:58.384Z"
   },
   {
    "duration": 55,
    "start_time": "2023-03-04T13:05:58.447Z"
   },
   {
    "duration": 84,
    "start_time": "2023-03-04T13:05:58.504Z"
   },
   {
    "duration": 69,
    "start_time": "2023-03-04T13:05:58.590Z"
   },
   {
    "duration": 8,
    "start_time": "2023-03-04T13:05:58.661Z"
   },
   {
    "duration": 16,
    "start_time": "2023-03-04T13:05:58.671Z"
   },
   {
    "duration": 39,
    "start_time": "2023-03-04T13:05:58.688Z"
   },
   {
    "duration": 8,
    "start_time": "2023-03-04T13:05:58.729Z"
   },
   {
    "duration": 8,
    "start_time": "2023-03-04T13:05:58.739Z"
   },
   {
    "duration": 25,
    "start_time": "2023-03-04T13:05:58.749Z"
   },
   {
    "duration": 7,
    "start_time": "2023-03-04T13:05:58.776Z"
   },
   {
    "duration": 39,
    "start_time": "2023-03-04T13:05:58.785Z"
   },
   {
    "duration": 22,
    "start_time": "2023-03-04T13:05:58.826Z"
   },
   {
    "duration": 8,
    "start_time": "2023-03-04T13:05:58.849Z"
   },
   {
    "duration": 31,
    "start_time": "2023-03-04T13:05:58.860Z"
   },
   {
    "duration": 93,
    "start_time": "2023-03-04T13:05:58.894Z"
   },
   {
    "duration": 1946,
    "start_time": "2023-03-04T13:05:58.989Z"
   },
   {
    "duration": 132,
    "start_time": "2023-03-04T13:06:00.937Z"
   },
   {
    "duration": 118,
    "start_time": "2023-03-04T13:06:01.071Z"
   },
   {
    "duration": 16,
    "start_time": "2023-03-04T13:06:01.191Z"
   },
   {
    "duration": 26,
    "start_time": "2023-03-04T13:06:01.209Z"
   },
   {
    "duration": 24,
    "start_time": "2023-03-04T13:06:01.237Z"
   },
   {
    "duration": 505,
    "start_time": "2023-03-04T13:06:01.263Z"
   },
   {
    "duration": 15,
    "start_time": "2023-03-04T13:06:01.770Z"
   },
   {
    "duration": 51,
    "start_time": "2023-03-04T13:06:01.787Z"
   },
   {
    "duration": 45,
    "start_time": "2023-03-04T13:06:01.840Z"
   },
   {
    "duration": 47,
    "start_time": "2023-03-04T13:06:01.887Z"
   },
   {
    "duration": 162,
    "start_time": "2023-03-04T13:06:01.936Z"
   },
   {
    "duration": 140,
    "start_time": "2023-03-04T13:06:02.099Z"
   },
   {
    "duration": 6,
    "start_time": "2023-03-04T13:06:02.240Z"
   },
   {
    "duration": 34,
    "start_time": "2023-03-04T13:06:02.248Z"
   },
   {
    "duration": 61,
    "start_time": "2023-03-04T13:06:02.284Z"
   },
   {
    "duration": 6,
    "start_time": "2023-03-04T13:06:02.347Z"
   },
   {
    "duration": 32,
    "start_time": "2023-03-04T13:06:02.355Z"
   },
   {
    "duration": 18,
    "start_time": "2023-03-04T13:06:02.389Z"
   },
   {
    "duration": 23,
    "start_time": "2023-03-04T13:06:02.409Z"
   },
   {
    "duration": 26,
    "start_time": "2023-03-04T13:06:02.434Z"
   },
   {
    "duration": 85,
    "start_time": "2023-03-04T13:06:02.462Z"
   },
   {
    "duration": 4,
    "start_time": "2023-03-04T13:06:02.549Z"
   },
   {
    "duration": 56,
    "start_time": "2023-03-04T13:06:02.554Z"
   },
   {
    "duration": 14,
    "start_time": "2023-03-04T13:06:02.612Z"
   },
   {
    "duration": 484,
    "start_time": "2023-03-04T13:06:02.628Z"
   },
   {
    "duration": 12,
    "start_time": "2023-03-04T13:06:03.114Z"
   },
   {
    "duration": 70,
    "start_time": "2023-03-04T13:07:57.032Z"
   },
   {
    "duration": 68,
    "start_time": "2023-03-04T13:09:20.897Z"
   },
   {
    "duration": 72,
    "start_time": "2023-03-04T13:10:37.026Z"
   },
   {
    "duration": 89,
    "start_time": "2023-03-04T13:11:37.955Z"
   },
   {
    "duration": 76,
    "start_time": "2023-03-04T13:12:05.766Z"
   },
   {
    "duration": 69,
    "start_time": "2023-03-04T13:12:12.182Z"
   },
   {
    "duration": 22,
    "start_time": "2023-03-04T13:13:42.859Z"
   },
   {
    "duration": 21,
    "start_time": "2023-03-04T13:16:07.536Z"
   },
   {
    "duration": 19,
    "start_time": "2023-03-04T13:16:41.891Z"
   },
   {
    "duration": 19,
    "start_time": "2023-03-04T13:16:53.360Z"
   },
   {
    "duration": 20,
    "start_time": "2023-03-04T13:17:24.937Z"
   },
   {
    "duration": 21,
    "start_time": "2023-03-04T13:18:36.111Z"
   },
   {
    "duration": 20,
    "start_time": "2023-03-04T13:18:54.985Z"
   },
   {
    "duration": 22,
    "start_time": "2023-03-04T13:21:52.402Z"
   },
   {
    "duration": 19,
    "start_time": "2023-03-04T13:21:57.181Z"
   },
   {
    "duration": 4,
    "start_time": "2023-03-04T13:25:49.431Z"
   },
   {
    "duration": 19,
    "start_time": "2023-03-04T13:27:42.554Z"
   },
   {
    "duration": 31,
    "start_time": "2023-03-04T13:29:21.645Z"
   },
   {
    "duration": 49,
    "start_time": "2023-03-04T17:12:33.785Z"
   },
   {
    "duration": 7249,
    "start_time": "2023-03-04T17:12:49.962Z"
   },
   {
    "duration": 2,
    "start_time": "2023-03-04T17:12:57.214Z"
   },
   {
    "duration": 444,
    "start_time": "2023-03-04T17:12:57.218Z"
   },
   {
    "duration": 22,
    "start_time": "2023-03-04T17:12:57.664Z"
   },
   {
    "duration": 31,
    "start_time": "2023-03-04T17:12:57.688Z"
   },
   {
    "duration": 16,
    "start_time": "2023-03-04T17:12:57.721Z"
   },
   {
    "duration": 21,
    "start_time": "2023-03-04T17:12:57.739Z"
   },
   {
    "duration": 13,
    "start_time": "2023-03-04T17:12:57.761Z"
   },
   {
    "duration": 4,
    "start_time": "2023-03-04T17:12:57.776Z"
   },
   {
    "duration": 31,
    "start_time": "2023-03-04T17:12:57.803Z"
   },
   {
    "duration": 2844,
    "start_time": "2023-03-04T17:12:57.836Z"
   },
   {
    "duration": 29,
    "start_time": "2023-03-04T17:13:00.682Z"
   },
   {
    "duration": 7,
    "start_time": "2023-03-04T17:13:00.713Z"
   },
   {
    "duration": 90,
    "start_time": "2023-03-04T17:13:00.722Z"
   },
   {
    "duration": 54,
    "start_time": "2023-03-04T17:13:00.814Z"
   },
   {
    "duration": 73,
    "start_time": "2023-03-04T17:13:00.870Z"
   },
   {
    "duration": 50,
    "start_time": "2023-03-04T17:13:00.944Z"
   },
   {
    "duration": 7,
    "start_time": "2023-03-04T17:13:01.004Z"
   },
   {
    "duration": 29,
    "start_time": "2023-03-04T17:13:01.012Z"
   },
   {
    "duration": 25,
    "start_time": "2023-03-04T17:13:01.043Z"
   },
   {
    "duration": 29,
    "start_time": "2023-03-04T17:13:01.070Z"
   },
   {
    "duration": 33,
    "start_time": "2023-03-04T17:13:01.102Z"
   },
   {
    "duration": 52,
    "start_time": "2023-03-04T17:13:01.137Z"
   },
   {
    "duration": 11,
    "start_time": "2023-03-04T17:13:01.191Z"
   },
   {
    "duration": 23,
    "start_time": "2023-03-04T17:13:01.204Z"
   },
   {
    "duration": 29,
    "start_time": "2023-03-04T17:13:01.229Z"
   },
   {
    "duration": 27,
    "start_time": "2023-03-04T17:13:01.259Z"
   },
   {
    "duration": 39,
    "start_time": "2023-03-04T17:13:01.287Z"
   },
   {
    "duration": 67,
    "start_time": "2023-03-04T17:13:01.328Z"
   },
   {
    "duration": 1887,
    "start_time": "2023-03-04T17:13:01.397Z"
   },
   {
    "duration": 112,
    "start_time": "2023-03-04T17:13:03.285Z"
   },
   {
    "duration": 97,
    "start_time": "2023-03-04T17:13:03.398Z"
   },
   {
    "duration": 16,
    "start_time": "2023-03-04T17:13:03.504Z"
   },
   {
    "duration": 12,
    "start_time": "2023-03-04T17:13:03.522Z"
   },
   {
    "duration": 3,
    "start_time": "2023-03-04T17:13:03.536Z"
   },
   {
    "duration": 424,
    "start_time": "2023-03-04T17:13:03.540Z"
   },
   {
    "duration": 17,
    "start_time": "2023-03-04T17:13:03.966Z"
   },
   {
    "duration": 4,
    "start_time": "2023-03-04T17:13:03.985Z"
   },
   {
    "duration": 19,
    "start_time": "2023-03-04T17:13:03.990Z"
   },
   {
    "duration": 5,
    "start_time": "2023-03-04T17:13:04.010Z"
   },
   {
    "duration": 141,
    "start_time": "2023-03-04T17:13:04.018Z"
   },
   {
    "duration": 151,
    "start_time": "2023-03-04T17:13:04.161Z"
   },
   {
    "duration": 6,
    "start_time": "2023-03-04T17:13:04.315Z"
   },
   {
    "duration": 10,
    "start_time": "2023-03-04T17:13:04.322Z"
   },
   {
    "duration": 60,
    "start_time": "2023-03-04T17:13:04.333Z"
   },
   {
    "duration": 13,
    "start_time": "2023-03-04T17:13:04.394Z"
   },
   {
    "duration": 6,
    "start_time": "2023-03-04T17:13:04.408Z"
   },
   {
    "duration": 7,
    "start_time": "2023-03-04T17:13:04.415Z"
   },
   {
    "duration": 9,
    "start_time": "2023-03-04T17:13:04.423Z"
   },
   {
    "duration": 14,
    "start_time": "2023-03-04T17:13:04.433Z"
   },
   {
    "duration": 68,
    "start_time": "2023-03-04T17:13:04.449Z"
   },
   {
    "duration": 3,
    "start_time": "2023-03-04T17:13:04.519Z"
   },
   {
    "duration": 20,
    "start_time": "2023-03-04T17:13:04.523Z"
   },
   {
    "duration": 3,
    "start_time": "2023-03-04T17:13:04.545Z"
   },
   {
    "duration": 488,
    "start_time": "2023-03-04T17:13:04.550Z"
   },
   {
    "duration": 5,
    "start_time": "2023-03-04T17:13:05.040Z"
   },
   {
    "duration": 92,
    "start_time": "2023-03-04T17:13:05.046Z"
   },
   {
    "duration": 14,
    "start_time": "2023-03-04T17:13:38.837Z"
   },
   {
    "duration": 259,
    "start_time": "2023-03-04T17:14:08.858Z"
   },
   {
    "duration": 8,
    "start_time": "2023-03-04T17:14:56.003Z"
   },
   {
    "duration": 24,
    "start_time": "2023-03-04T17:16:42.124Z"
   },
   {
    "duration": 20,
    "start_time": "2023-03-04T17:18:13.391Z"
   },
   {
    "duration": 13,
    "start_time": "2023-03-04T17:19:28.361Z"
   },
   {
    "duration": 16,
    "start_time": "2023-03-04T17:21:33.982Z"
   },
   {
    "duration": 34,
    "start_time": "2023-03-04T17:23:52.636Z"
   },
   {
    "duration": 2421,
    "start_time": "2023-03-04T17:26:16.934Z"
   },
   {
    "duration": 19,
    "start_time": "2023-03-04T17:26:46.803Z"
   },
   {
    "duration": 37,
    "start_time": "2023-03-04T17:27:13.380Z"
   },
   {
    "duration": 14,
    "start_time": "2023-03-04T17:28:00.110Z"
   },
   {
    "duration": 20,
    "start_time": "2023-03-04T17:28:17.480Z"
   },
   {
    "duration": 15,
    "start_time": "2023-03-04T17:28:36.967Z"
   },
   {
    "duration": 11,
    "start_time": "2023-03-04T17:29:11.197Z"
   },
   {
    "duration": 45,
    "start_time": "2023-03-04T17:30:45.422Z"
   },
   {
    "duration": 6,
    "start_time": "2023-03-04T17:33:37.589Z"
   },
   {
    "duration": 59,
    "start_time": "2023-03-04T17:34:15.575Z"
   },
   {
    "duration": 12,
    "start_time": "2023-03-04T17:35:59.358Z"
   },
   {
    "duration": 171,
    "start_time": "2023-03-04T17:39:09.759Z"
   },
   {
    "duration": 49,
    "start_time": "2023-03-04T17:40:27.575Z"
   },
   {
    "duration": 60,
    "start_time": "2023-03-04T17:41:15.512Z"
   },
   {
    "duration": 52,
    "start_time": "2023-03-04T17:41:59.177Z"
   },
   {
    "duration": 66,
    "start_time": "2023-03-04T17:42:16.956Z"
   },
   {
    "duration": 37,
    "start_time": "2023-03-04T17:43:48.413Z"
   },
   {
    "duration": 52,
    "start_time": "2023-03-04T17:47:29.187Z"
   },
   {
    "duration": 87,
    "start_time": "2023-03-04T17:53:52.529Z"
   },
   {
    "duration": 60,
    "start_time": "2023-03-04T17:54:45.476Z"
   },
   {
    "duration": 58,
    "start_time": "2023-03-04T17:55:31.971Z"
   },
   {
    "duration": 3883,
    "start_time": "2023-03-04T18:20:58.845Z"
   },
   {
    "duration": 3,
    "start_time": "2023-03-04T18:21:02.730Z"
   },
   {
    "duration": 239,
    "start_time": "2023-03-04T18:21:02.735Z"
   },
   {
    "duration": 25,
    "start_time": "2023-03-04T18:21:02.976Z"
   },
   {
    "duration": 30,
    "start_time": "2023-03-04T18:21:03.004Z"
   },
   {
    "duration": 19,
    "start_time": "2023-03-04T18:21:03.035Z"
   },
   {
    "duration": 20,
    "start_time": "2023-03-04T18:21:03.056Z"
   },
   {
    "duration": 38,
    "start_time": "2023-03-04T18:21:03.077Z"
   },
   {
    "duration": 7,
    "start_time": "2023-03-04T18:21:03.118Z"
   },
   {
    "duration": 41,
    "start_time": "2023-03-04T18:21:03.127Z"
   },
   {
    "duration": 2837,
    "start_time": "2023-03-04T18:21:03.170Z"
   },
   {
    "duration": 30,
    "start_time": "2023-03-04T18:21:06.009Z"
   },
   {
    "duration": 7,
    "start_time": "2023-03-04T18:21:06.040Z"
   },
   {
    "duration": 87,
    "start_time": "2023-03-04T18:21:06.048Z"
   },
   {
    "duration": 52,
    "start_time": "2023-03-04T18:21:06.136Z"
   },
   {
    "duration": 90,
    "start_time": "2023-03-04T18:21:06.190Z"
   },
   {
    "duration": 82,
    "start_time": "2023-03-04T18:21:06.282Z"
   },
   {
    "duration": 6,
    "start_time": "2023-03-04T18:21:06.366Z"
   },
   {
    "duration": 24,
    "start_time": "2023-03-04T18:21:06.373Z"
   },
   {
    "duration": 16,
    "start_time": "2023-03-04T18:21:06.404Z"
   },
   {
    "duration": 6,
    "start_time": "2023-03-04T18:21:06.421Z"
   },
   {
    "duration": 22,
    "start_time": "2023-03-04T18:21:06.428Z"
   },
   {
    "duration": 56,
    "start_time": "2023-03-04T18:21:06.451Z"
   },
   {
    "duration": 6,
    "start_time": "2023-03-04T18:21:06.509Z"
   },
   {
    "duration": 12,
    "start_time": "2023-03-04T18:21:06.516Z"
   },
   {
    "duration": 20,
    "start_time": "2023-03-04T18:21:06.530Z"
   },
   {
    "duration": 6,
    "start_time": "2023-03-04T18:21:06.552Z"
   },
   {
    "duration": 64,
    "start_time": "2023-03-04T18:21:06.562Z"
   },
   {
    "duration": 87,
    "start_time": "2023-03-04T18:21:06.628Z"
   },
   {
    "duration": 1836,
    "start_time": "2023-03-04T18:21:06.717Z"
   },
   {
    "duration": 109,
    "start_time": "2023-03-04T18:21:08.555Z"
   },
   {
    "duration": 106,
    "start_time": "2023-03-04T18:21:08.665Z"
   },
   {
    "duration": 16,
    "start_time": "2023-03-04T18:21:08.772Z"
   },
   {
    "duration": 22,
    "start_time": "2023-03-04T18:21:08.790Z"
   },
   {
    "duration": 4,
    "start_time": "2023-03-04T18:21:08.813Z"
   },
   {
    "duration": 437,
    "start_time": "2023-03-04T18:21:08.819Z"
   },
   {
    "duration": 14,
    "start_time": "2023-03-04T18:21:09.258Z"
   },
   {
    "duration": 4,
    "start_time": "2023-03-04T18:21:09.274Z"
   },
   {
    "duration": 27,
    "start_time": "2023-03-04T18:21:09.280Z"
   },
   {
    "duration": 7,
    "start_time": "2023-03-04T18:21:09.309Z"
   },
   {
    "duration": 139,
    "start_time": "2023-03-04T18:21:09.317Z"
   },
   {
    "duration": 151,
    "start_time": "2023-03-04T18:21:09.458Z"
   },
   {
    "duration": 7,
    "start_time": "2023-03-04T18:21:09.611Z"
   },
   {
    "duration": 3,
    "start_time": "2023-03-04T18:21:09.620Z"
   },
   {
    "duration": 57,
    "start_time": "2023-03-04T18:21:09.624Z"
   },
   {
    "duration": 23,
    "start_time": "2023-03-04T18:21:09.683Z"
   },
   {
    "duration": 2,
    "start_time": "2023-03-04T18:21:09.708Z"
   },
   {
    "duration": 6,
    "start_time": "2023-03-04T18:21:09.712Z"
   },
   {
    "duration": 6,
    "start_time": "2023-03-04T18:21:09.719Z"
   },
   {
    "duration": 7,
    "start_time": "2023-03-04T18:21:09.727Z"
   },
   {
    "duration": 73,
    "start_time": "2023-03-04T18:21:09.736Z"
   },
   {
    "duration": 4,
    "start_time": "2023-03-04T18:21:09.810Z"
   },
   {
    "duration": 21,
    "start_time": "2023-03-04T18:21:09.815Z"
   },
   {
    "duration": 4,
    "start_time": "2023-03-04T18:21:09.837Z"
   },
   {
    "duration": 468,
    "start_time": "2023-03-04T18:21:09.842Z"
   },
   {
    "duration": 5,
    "start_time": "2023-03-04T18:21:10.312Z"
   },
   {
    "duration": 44,
    "start_time": "2023-03-04T18:21:10.318Z"
   },
   {
    "duration": 4,
    "start_time": "2023-03-04T18:21:10.364Z"
   },
   {
    "duration": 62,
    "start_time": "2023-03-04T18:21:10.370Z"
   },
   {
    "duration": 74,
    "start_time": "2023-03-06T11:18:22.021Z"
   },
   {
    "duration": 87,
    "start_time": "2023-03-06T13:00:07.195Z"
   },
   {
    "duration": 9880,
    "start_time": "2023-03-06T13:18:53.473Z"
   },
   {
    "duration": 3,
    "start_time": "2023-03-06T13:19:03.356Z"
   },
   {
    "duration": 872,
    "start_time": "2023-03-06T13:19:03.360Z"
   },
   {
    "duration": 34,
    "start_time": "2023-03-06T13:19:04.234Z"
   },
   {
    "duration": 29,
    "start_time": "2023-03-06T13:19:04.271Z"
   },
   {
    "duration": 20,
    "start_time": "2023-03-06T13:19:04.302Z"
   },
   {
    "duration": 47,
    "start_time": "2023-03-06T13:19:04.324Z"
   },
   {
    "duration": 12,
    "start_time": "2023-03-06T13:19:04.373Z"
   },
   {
    "duration": 5,
    "start_time": "2023-03-06T13:19:04.387Z"
   },
   {
    "duration": 61,
    "start_time": "2023-03-06T13:19:04.394Z"
   },
   {
    "duration": 2641,
    "start_time": "2023-03-06T13:19:04.457Z"
   },
   {
    "duration": 144,
    "start_time": "2023-03-06T13:19:07.099Z"
   },
   {
    "duration": 0,
    "start_time": "2023-03-06T13:19:07.320Z"
   },
   {
    "duration": 0,
    "start_time": "2023-03-06T13:19:07.321Z"
   },
   {
    "duration": 0,
    "start_time": "2023-03-06T13:19:07.323Z"
   },
   {
    "duration": 0,
    "start_time": "2023-03-06T13:19:07.324Z"
   },
   {
    "duration": 0,
    "start_time": "2023-03-06T13:19:07.325Z"
   },
   {
    "duration": 0,
    "start_time": "2023-03-06T13:19:07.326Z"
   },
   {
    "duration": 0,
    "start_time": "2023-03-06T13:19:07.327Z"
   },
   {
    "duration": 0,
    "start_time": "2023-03-06T13:19:07.328Z"
   },
   {
    "duration": 0,
    "start_time": "2023-03-06T13:19:07.330Z"
   },
   {
    "duration": 0,
    "start_time": "2023-03-06T13:19:07.331Z"
   },
   {
    "duration": 0,
    "start_time": "2023-03-06T13:19:07.355Z"
   },
   {
    "duration": 0,
    "start_time": "2023-03-06T13:19:07.356Z"
   },
   {
    "duration": 0,
    "start_time": "2023-03-06T13:19:07.358Z"
   },
   {
    "duration": 0,
    "start_time": "2023-03-06T13:19:07.359Z"
   },
   {
    "duration": 0,
    "start_time": "2023-03-06T13:19:07.360Z"
   },
   {
    "duration": 0,
    "start_time": "2023-03-06T13:19:07.361Z"
   },
   {
    "duration": 0,
    "start_time": "2023-03-06T13:19:07.364Z"
   },
   {
    "duration": 0,
    "start_time": "2023-03-06T13:19:07.365Z"
   },
   {
    "duration": 0,
    "start_time": "2023-03-06T13:19:07.366Z"
   },
   {
    "duration": 0,
    "start_time": "2023-03-06T13:19:07.367Z"
   },
   {
    "duration": 0,
    "start_time": "2023-03-06T13:19:07.368Z"
   },
   {
    "duration": 0,
    "start_time": "2023-03-06T13:19:07.370Z"
   },
   {
    "duration": 0,
    "start_time": "2023-03-06T13:19:07.371Z"
   },
   {
    "duration": 0,
    "start_time": "2023-03-06T13:19:07.372Z"
   },
   {
    "duration": 0,
    "start_time": "2023-03-06T13:19:07.373Z"
   },
   {
    "duration": 0,
    "start_time": "2023-03-06T13:19:07.375Z"
   },
   {
    "duration": 0,
    "start_time": "2023-03-06T13:19:07.376Z"
   },
   {
    "duration": 0,
    "start_time": "2023-03-06T13:19:07.378Z"
   },
   {
    "duration": 0,
    "start_time": "2023-03-06T13:19:07.379Z"
   },
   {
    "duration": 0,
    "start_time": "2023-03-06T13:19:07.380Z"
   },
   {
    "duration": 0,
    "start_time": "2023-03-06T13:19:07.382Z"
   },
   {
    "duration": 0,
    "start_time": "2023-03-06T13:19:07.383Z"
   },
   {
    "duration": 0,
    "start_time": "2023-03-06T13:19:07.398Z"
   },
   {
    "duration": 0,
    "start_time": "2023-03-06T13:19:07.399Z"
   },
   {
    "duration": 0,
    "start_time": "2023-03-06T13:19:07.455Z"
   },
   {
    "duration": 0,
    "start_time": "2023-03-06T13:19:07.457Z"
   },
   {
    "duration": 0,
    "start_time": "2023-03-06T13:19:07.458Z"
   },
   {
    "duration": 0,
    "start_time": "2023-03-06T13:19:07.459Z"
   },
   {
    "duration": 0,
    "start_time": "2023-03-06T13:19:07.460Z"
   },
   {
    "duration": 0,
    "start_time": "2023-03-06T13:19:07.462Z"
   },
   {
    "duration": 0,
    "start_time": "2023-03-06T13:19:07.463Z"
   },
   {
    "duration": 0,
    "start_time": "2023-03-06T13:19:07.465Z"
   },
   {
    "duration": 0,
    "start_time": "2023-03-06T13:19:07.467Z"
   },
   {
    "duration": 0,
    "start_time": "2023-03-06T13:19:07.468Z"
   },
   {
    "duration": 0,
    "start_time": "2023-03-06T13:19:07.470Z"
   },
   {
    "duration": 0,
    "start_time": "2023-03-06T13:19:07.471Z"
   },
   {
    "duration": 0,
    "start_time": "2023-03-06T13:19:07.473Z"
   },
   {
    "duration": 0,
    "start_time": "2023-03-06T13:19:07.474Z"
   },
   {
    "duration": 71,
    "start_time": "2023-03-06T13:20:29.007Z"
   },
   {
    "duration": 13,
    "start_time": "2023-03-06T13:20:46.711Z"
   },
   {
    "duration": 8,
    "start_time": "2023-03-06T13:26:26.727Z"
   },
   {
    "duration": 4,
    "start_time": "2023-03-06T13:26:29.400Z"
   },
   {
    "duration": 3,
    "start_time": "2023-03-06T13:26:34.430Z"
   },
   {
    "duration": 1850,
    "start_time": "2023-03-06T13:26:36.667Z"
   },
   {
    "duration": 94,
    "start_time": "2023-03-06T13:27:55.419Z"
   },
   {
    "duration": 3,
    "start_time": "2023-03-06T13:28:09.612Z"
   },
   {
    "duration": 1911,
    "start_time": "2023-03-06T13:28:11.599Z"
   },
   {
    "duration": 3,
    "start_time": "2023-03-06T13:29:43.309Z"
   },
   {
    "duration": 1520,
    "start_time": "2023-03-06T13:29:45.465Z"
   },
   {
    "duration": 1248,
    "start_time": "2023-03-06T13:30:04.376Z"
   },
   {
    "duration": 2,
    "start_time": "2023-03-06T13:33:28.106Z"
   },
   {
    "duration": 1241,
    "start_time": "2023-03-06T13:33:29.582Z"
   },
   {
    "duration": 2,
    "start_time": "2023-03-06T13:33:48.169Z"
   },
   {
    "duration": 1191,
    "start_time": "2023-03-06T13:33:50.206Z"
   },
   {
    "duration": 3,
    "start_time": "2023-03-06T13:34:02.098Z"
   },
   {
    "duration": 7112,
    "start_time": "2023-03-06T13:34:05.289Z"
   },
   {
    "duration": 3,
    "start_time": "2023-03-06T13:34:32.174Z"
   },
   {
    "duration": 1258,
    "start_time": "2023-03-06T13:34:34.166Z"
   },
   {
    "duration": 4623,
    "start_time": "2023-03-06T13:34:44.406Z"
   },
   {
    "duration": 3,
    "start_time": "2023-03-06T13:34:49.031Z"
   },
   {
    "duration": 202,
    "start_time": "2023-03-06T13:34:49.036Z"
   },
   {
    "duration": 18,
    "start_time": "2023-03-06T13:34:49.240Z"
   },
   {
    "duration": 33,
    "start_time": "2023-03-06T13:34:49.260Z"
   },
   {
    "duration": 17,
    "start_time": "2023-03-06T13:34:49.294Z"
   },
   {
    "duration": 16,
    "start_time": "2023-03-06T13:34:49.313Z"
   },
   {
    "duration": 30,
    "start_time": "2023-03-06T13:34:49.330Z"
   },
   {
    "duration": 5,
    "start_time": "2023-03-06T13:34:49.362Z"
   },
   {
    "duration": 28,
    "start_time": "2023-03-06T13:34:49.369Z"
   },
   {
    "duration": 2491,
    "start_time": "2023-03-06T13:34:49.399Z"
   },
   {
    "duration": 3,
    "start_time": "2023-03-06T13:34:51.892Z"
   },
   {
    "duration": 1244,
    "start_time": "2023-03-06T13:34:51.896Z"
   },
   {
    "duration": 19,
    "start_time": "2023-03-06T13:34:53.142Z"
   },
   {
    "duration": 20,
    "start_time": "2023-03-06T13:34:53.163Z"
   },
   {
    "duration": 87,
    "start_time": "2023-03-06T13:34:53.185Z"
   },
   {
    "duration": 49,
    "start_time": "2023-03-06T13:34:53.274Z"
   },
   {
    "duration": 81,
    "start_time": "2023-03-06T13:34:53.325Z"
   },
   {
    "duration": 50,
    "start_time": "2023-03-06T13:34:53.408Z"
   },
   {
    "duration": 6,
    "start_time": "2023-03-06T13:34:53.460Z"
   },
   {
    "duration": 20,
    "start_time": "2023-03-06T13:34:53.467Z"
   },
   {
    "duration": 27,
    "start_time": "2023-03-06T13:34:53.489Z"
   },
   {
    "duration": 13,
    "start_time": "2023-03-06T13:34:53.517Z"
   },
   {
    "duration": 7,
    "start_time": "2023-03-06T13:34:53.531Z"
   },
   {
    "duration": 22,
    "start_time": "2023-03-06T13:34:53.554Z"
   },
   {
    "duration": 8,
    "start_time": "2023-03-06T13:34:53.578Z"
   },
   {
    "duration": 7,
    "start_time": "2023-03-06T13:34:53.588Z"
   },
   {
    "duration": 19,
    "start_time": "2023-03-06T13:34:53.599Z"
   },
   {
    "duration": 35,
    "start_time": "2023-03-06T13:34:53.620Z"
   },
   {
    "duration": 27,
    "start_time": "2023-03-06T13:34:53.657Z"
   },
   {
    "duration": 71,
    "start_time": "2023-03-06T13:34:53.685Z"
   },
   {
    "duration": 1776,
    "start_time": "2023-03-06T13:34:53.757Z"
   },
   {
    "duration": 102,
    "start_time": "2023-03-06T13:34:55.534Z"
   },
   {
    "duration": 110,
    "start_time": "2023-03-06T13:34:55.637Z"
   },
   {
    "duration": 21,
    "start_time": "2023-03-06T13:34:55.749Z"
   },
   {
    "duration": 15,
    "start_time": "2023-03-06T13:34:55.772Z"
   },
   {
    "duration": 15,
    "start_time": "2023-03-06T13:34:55.789Z"
   },
   {
    "duration": 441,
    "start_time": "2023-03-06T13:34:55.805Z"
   },
   {
    "duration": 17,
    "start_time": "2023-03-06T13:34:56.248Z"
   },
   {
    "duration": 4,
    "start_time": "2023-03-06T13:34:56.266Z"
   },
   {
    "duration": 10,
    "start_time": "2023-03-06T13:34:56.272Z"
   },
   {
    "duration": 4,
    "start_time": "2023-03-06T13:34:56.284Z"
   },
   {
    "duration": 131,
    "start_time": "2023-03-06T13:34:56.289Z"
   },
   {
    "duration": 130,
    "start_time": "2023-03-06T13:34:56.422Z"
   },
   {
    "duration": 6,
    "start_time": "2023-03-06T13:34:56.553Z"
   },
   {
    "duration": 5,
    "start_time": "2023-03-06T13:34:56.561Z"
   },
   {
    "duration": 73,
    "start_time": "2023-03-06T13:34:56.567Z"
   },
   {
    "duration": 0,
    "start_time": "2023-03-06T13:34:56.642Z"
   },
   {
    "duration": 0,
    "start_time": "2023-03-06T13:34:56.643Z"
   },
   {
    "duration": 0,
    "start_time": "2023-03-06T13:34:56.644Z"
   },
   {
    "duration": 0,
    "start_time": "2023-03-06T13:34:56.645Z"
   },
   {
    "duration": 0,
    "start_time": "2023-03-06T13:34:56.646Z"
   },
   {
    "duration": 0,
    "start_time": "2023-03-06T13:34:56.647Z"
   },
   {
    "duration": 0,
    "start_time": "2023-03-06T13:34:56.648Z"
   },
   {
    "duration": 0,
    "start_time": "2023-03-06T13:34:56.649Z"
   },
   {
    "duration": 0,
    "start_time": "2023-03-06T13:34:56.649Z"
   },
   {
    "duration": 0,
    "start_time": "2023-03-06T13:34:56.650Z"
   },
   {
    "duration": 0,
    "start_time": "2023-03-06T13:34:56.651Z"
   },
   {
    "duration": 0,
    "start_time": "2023-03-06T13:34:56.652Z"
   },
   {
    "duration": 0,
    "start_time": "2023-03-06T13:34:56.653Z"
   },
   {
    "duration": 0,
    "start_time": "2023-03-06T13:34:56.655Z"
   },
   {
    "duration": 0,
    "start_time": "2023-03-06T13:34:56.656Z"
   },
   {
    "duration": 0,
    "start_time": "2023-03-06T13:34:56.657Z"
   },
   {
    "duration": 4496,
    "start_time": "2023-03-06T13:41:00.611Z"
   },
   {
    "duration": 3,
    "start_time": "2023-03-06T13:41:05.110Z"
   },
   {
    "duration": 231,
    "start_time": "2023-03-06T13:41:05.115Z"
   },
   {
    "duration": 21,
    "start_time": "2023-03-06T13:41:05.347Z"
   },
   {
    "duration": 33,
    "start_time": "2023-03-06T13:41:05.371Z"
   },
   {
    "duration": 19,
    "start_time": "2023-03-06T13:41:05.405Z"
   },
   {
    "duration": 35,
    "start_time": "2023-03-06T13:41:05.426Z"
   },
   {
    "duration": 10,
    "start_time": "2023-03-06T13:41:05.463Z"
   },
   {
    "duration": 5,
    "start_time": "2023-03-06T13:41:05.475Z"
   },
   {
    "duration": 29,
    "start_time": "2023-03-06T13:41:05.481Z"
   },
   {
    "duration": 2608,
    "start_time": "2023-03-06T13:41:05.512Z"
   },
   {
    "duration": 3,
    "start_time": "2023-03-06T13:41:08.121Z"
   },
   {
    "duration": 1276,
    "start_time": "2023-03-06T13:41:08.126Z"
   },
   {
    "duration": 9,
    "start_time": "2023-03-06T13:41:09.405Z"
   },
   {
    "duration": 7,
    "start_time": "2023-03-06T13:41:09.416Z"
   },
   {
    "duration": 31,
    "start_time": "2023-03-06T13:41:09.456Z"
   },
   {
    "duration": 86,
    "start_time": "2023-03-06T13:41:09.488Z"
   },
   {
    "duration": 63,
    "start_time": "2023-03-06T13:41:09.576Z"
   },
   {
    "duration": 58,
    "start_time": "2023-03-06T13:41:09.641Z"
   },
   {
    "duration": 7,
    "start_time": "2023-03-06T13:41:09.700Z"
   },
   {
    "duration": 13,
    "start_time": "2023-03-06T13:41:09.708Z"
   },
   {
    "duration": 45,
    "start_time": "2023-03-06T13:41:09.722Z"
   },
   {
    "duration": 17,
    "start_time": "2023-03-06T13:41:09.768Z"
   },
   {
    "duration": 10,
    "start_time": "2023-03-06T13:41:09.786Z"
   },
   {
    "duration": 23,
    "start_time": "2023-03-06T13:41:09.797Z"
   },
   {
    "duration": 6,
    "start_time": "2023-03-06T13:41:09.822Z"
   },
   {
    "duration": 7,
    "start_time": "2023-03-06T13:41:09.830Z"
   },
   {
    "duration": 18,
    "start_time": "2023-03-06T13:41:09.856Z"
   },
   {
    "duration": 7,
    "start_time": "2023-03-06T13:41:09.875Z"
   },
   {
    "duration": 22,
    "start_time": "2023-03-06T13:41:09.883Z"
   },
   {
    "duration": 77,
    "start_time": "2023-03-06T13:41:09.907Z"
   },
   {
    "duration": 1753,
    "start_time": "2023-03-06T13:41:09.986Z"
   },
   {
    "duration": 94,
    "start_time": "2023-03-06T13:41:11.741Z"
   },
   {
    "duration": 102,
    "start_time": "2023-03-06T13:41:11.837Z"
   },
   {
    "duration": 24,
    "start_time": "2023-03-06T13:41:11.941Z"
   },
   {
    "duration": 12,
    "start_time": "2023-03-06T13:41:11.966Z"
   },
   {
    "duration": 11,
    "start_time": "2023-03-06T13:41:11.979Z"
   },
   {
    "duration": 406,
    "start_time": "2023-03-06T13:41:11.992Z"
   },
   {
    "duration": 13,
    "start_time": "2023-03-06T13:41:12.400Z"
   },
   {
    "duration": 4,
    "start_time": "2023-03-06T13:41:12.414Z"
   },
   {
    "duration": 16,
    "start_time": "2023-03-06T13:41:12.421Z"
   },
   {
    "duration": 17,
    "start_time": "2023-03-06T13:41:12.439Z"
   },
   {
    "duration": 109,
    "start_time": "2023-03-06T13:41:12.457Z"
   },
   {
    "duration": 122,
    "start_time": "2023-03-06T13:41:12.568Z"
   },
   {
    "duration": 5,
    "start_time": "2023-03-06T13:41:12.692Z"
   },
   {
    "duration": 37,
    "start_time": "2023-03-06T13:41:12.699Z"
   },
   {
    "duration": 44,
    "start_time": "2023-03-06T13:41:12.737Z"
   },
   {
    "duration": 0,
    "start_time": "2023-03-06T13:41:12.782Z"
   },
   {
    "duration": 0,
    "start_time": "2023-03-06T13:41:12.783Z"
   },
   {
    "duration": 0,
    "start_time": "2023-03-06T13:41:12.784Z"
   },
   {
    "duration": 0,
    "start_time": "2023-03-06T13:41:12.785Z"
   },
   {
    "duration": 0,
    "start_time": "2023-03-06T13:41:12.786Z"
   },
   {
    "duration": 0,
    "start_time": "2023-03-06T13:41:12.788Z"
   },
   {
    "duration": 1,
    "start_time": "2023-03-06T13:41:12.788Z"
   },
   {
    "duration": 0,
    "start_time": "2023-03-06T13:41:12.790Z"
   },
   {
    "duration": 0,
    "start_time": "2023-03-06T13:41:12.791Z"
   },
   {
    "duration": 0,
    "start_time": "2023-03-06T13:41:12.792Z"
   },
   {
    "duration": 0,
    "start_time": "2023-03-06T13:41:12.793Z"
   },
   {
    "duration": 0,
    "start_time": "2023-03-06T13:41:12.794Z"
   },
   {
    "duration": 0,
    "start_time": "2023-03-06T13:41:12.795Z"
   },
   {
    "duration": 0,
    "start_time": "2023-03-06T13:41:12.796Z"
   },
   {
    "duration": 0,
    "start_time": "2023-03-06T13:41:12.797Z"
   },
   {
    "duration": 0,
    "start_time": "2023-03-06T13:41:12.798Z"
   },
   {
    "duration": 4376,
    "start_time": "2023-03-06T13:42:02.535Z"
   },
   {
    "duration": 3,
    "start_time": "2023-03-06T13:42:06.913Z"
   },
   {
    "duration": 194,
    "start_time": "2023-03-06T13:42:06.917Z"
   },
   {
    "duration": 17,
    "start_time": "2023-03-06T13:42:07.113Z"
   },
   {
    "duration": 31,
    "start_time": "2023-03-06T13:42:07.131Z"
   },
   {
    "duration": 16,
    "start_time": "2023-03-06T13:42:07.164Z"
   },
   {
    "duration": 18,
    "start_time": "2023-03-06T13:42:07.182Z"
   },
   {
    "duration": 10,
    "start_time": "2023-03-06T13:42:07.202Z"
   },
   {
    "duration": 5,
    "start_time": "2023-03-06T13:42:07.214Z"
   },
   {
    "duration": 26,
    "start_time": "2023-03-06T13:42:07.254Z"
   },
   {
    "duration": 2544,
    "start_time": "2023-03-06T13:42:07.282Z"
   },
   {
    "duration": 3,
    "start_time": "2023-03-06T13:42:09.827Z"
   },
   {
    "duration": 1268,
    "start_time": "2023-03-06T13:42:09.831Z"
   },
   {
    "duration": 11,
    "start_time": "2023-03-06T13:42:11.101Z"
   },
   {
    "duration": 10,
    "start_time": "2023-03-06T13:42:11.114Z"
   },
   {
    "duration": 40,
    "start_time": "2023-03-06T13:42:11.156Z"
   },
   {
    "duration": 95,
    "start_time": "2023-03-06T13:42:11.197Z"
   },
   {
    "duration": 68,
    "start_time": "2023-03-06T13:42:11.294Z"
   },
   {
    "duration": 45,
    "start_time": "2023-03-06T13:42:11.363Z"
   },
   {
    "duration": 6,
    "start_time": "2023-03-06T13:42:11.410Z"
   },
   {
    "duration": 14,
    "start_time": "2023-03-06T13:42:11.417Z"
   },
   {
    "duration": 35,
    "start_time": "2023-03-06T13:42:11.433Z"
   },
   {
    "duration": 6,
    "start_time": "2023-03-06T13:42:11.470Z"
   },
   {
    "duration": 7,
    "start_time": "2023-03-06T13:42:11.477Z"
   },
   {
    "duration": 21,
    "start_time": "2023-03-06T13:42:11.485Z"
   },
   {
    "duration": 6,
    "start_time": "2023-03-06T13:42:11.508Z"
   },
   {
    "duration": 43,
    "start_time": "2023-03-06T13:42:11.515Z"
   },
   {
    "duration": 17,
    "start_time": "2023-03-06T13:42:11.562Z"
   },
   {
    "duration": 6,
    "start_time": "2023-03-06T13:42:11.581Z"
   },
   {
    "duration": 22,
    "start_time": "2023-03-06T13:42:11.588Z"
   },
   {
    "duration": 77,
    "start_time": "2023-03-06T13:42:11.612Z"
   },
   {
    "duration": 1748,
    "start_time": "2023-03-06T13:42:11.691Z"
   },
   {
    "duration": 97,
    "start_time": "2023-03-06T13:42:13.441Z"
   },
   {
    "duration": 103,
    "start_time": "2023-03-06T13:42:13.540Z"
   },
   {
    "duration": 22,
    "start_time": "2023-03-06T13:42:13.644Z"
   },
   {
    "duration": 11,
    "start_time": "2023-03-06T13:42:13.668Z"
   },
   {
    "duration": 23,
    "start_time": "2023-03-06T13:42:13.680Z"
   },
   {
    "duration": 409,
    "start_time": "2023-03-06T13:42:13.704Z"
   },
   {
    "duration": 13,
    "start_time": "2023-03-06T13:42:14.115Z"
   },
   {
    "duration": 6,
    "start_time": "2023-03-06T13:42:14.129Z"
   },
   {
    "duration": 25,
    "start_time": "2023-03-06T13:42:14.136Z"
   },
   {
    "duration": 3,
    "start_time": "2023-03-06T13:42:14.162Z"
   },
   {
    "duration": 111,
    "start_time": "2023-03-06T13:42:14.166Z"
   },
   {
    "duration": 113,
    "start_time": "2023-03-06T13:42:14.279Z"
   },
   {
    "duration": 6,
    "start_time": "2023-03-06T13:42:14.393Z"
   },
   {
    "duration": 11,
    "start_time": "2023-03-06T13:42:14.400Z"
   },
   {
    "duration": 26,
    "start_time": "2023-03-06T13:42:14.413Z"
   },
   {
    "duration": 0,
    "start_time": "2023-03-06T13:42:14.441Z"
   },
   {
    "duration": 0,
    "start_time": "2023-03-06T13:42:14.455Z"
   },
   {
    "duration": 0,
    "start_time": "2023-03-06T13:42:14.456Z"
   },
   {
    "duration": 0,
    "start_time": "2023-03-06T13:42:14.457Z"
   },
   {
    "duration": 0,
    "start_time": "2023-03-06T13:42:14.458Z"
   },
   {
    "duration": 0,
    "start_time": "2023-03-06T13:42:14.459Z"
   },
   {
    "duration": 0,
    "start_time": "2023-03-06T13:42:14.460Z"
   },
   {
    "duration": 0,
    "start_time": "2023-03-06T13:42:14.461Z"
   },
   {
    "duration": 0,
    "start_time": "2023-03-06T13:42:14.462Z"
   },
   {
    "duration": 0,
    "start_time": "2023-03-06T13:42:14.463Z"
   },
   {
    "duration": 0,
    "start_time": "2023-03-06T13:42:14.464Z"
   },
   {
    "duration": 0,
    "start_time": "2023-03-06T13:42:14.465Z"
   },
   {
    "duration": 0,
    "start_time": "2023-03-06T13:42:14.466Z"
   },
   {
    "duration": 0,
    "start_time": "2023-03-06T13:42:14.466Z"
   },
   {
    "duration": 0,
    "start_time": "2023-03-06T13:42:14.467Z"
   },
   {
    "duration": 0,
    "start_time": "2023-03-06T13:42:14.468Z"
   },
   {
    "duration": 11,
    "start_time": "2023-03-06T13:47:43.468Z"
   },
   {
    "duration": 90,
    "start_time": "2023-03-06T13:48:14.453Z"
   },
   {
    "duration": 9,
    "start_time": "2023-03-06T13:48:52.649Z"
   },
   {
    "duration": 10,
    "start_time": "2023-03-06T14:06:12.264Z"
   },
   {
    "duration": 26,
    "start_time": "2023-03-06T14:06:25.690Z"
   },
   {
    "duration": 27,
    "start_time": "2023-03-06T14:08:31.684Z"
   },
   {
    "duration": 11,
    "start_time": "2023-03-06T14:24:32.704Z"
   },
   {
    "duration": 75,
    "start_time": "2023-03-06T14:25:04.152Z"
   },
   {
    "duration": 12,
    "start_time": "2023-03-06T14:25:16.256Z"
   },
   {
    "duration": 11,
    "start_time": "2023-03-06T14:25:40.115Z"
   },
   {
    "duration": 11,
    "start_time": "2023-03-06T14:25:40.755Z"
   },
   {
    "duration": 12,
    "start_time": "2023-03-06T14:25:41.034Z"
   },
   {
    "duration": 235001,
    "start_time": "2023-03-06T14:27:03.309Z"
   },
   {
    "duration": 237087,
    "start_time": "2023-03-06T14:44:36.522Z"
   },
   {
    "duration": 5542,
    "start_time": "2023-03-06T14:55:05.529Z"
   },
   {
    "duration": 3,
    "start_time": "2023-03-06T14:55:11.073Z"
   },
   {
    "duration": 243,
    "start_time": "2023-03-06T14:55:11.077Z"
   },
   {
    "duration": 21,
    "start_time": "2023-03-06T14:55:11.322Z"
   },
   {
    "duration": 31,
    "start_time": "2023-03-06T14:55:11.345Z"
   },
   {
    "duration": 17,
    "start_time": "2023-03-06T14:55:11.378Z"
   },
   {
    "duration": 17,
    "start_time": "2023-03-06T14:55:11.396Z"
   },
   {
    "duration": 44,
    "start_time": "2023-03-06T14:55:11.415Z"
   },
   {
    "duration": 5,
    "start_time": "2023-03-06T14:55:11.460Z"
   },
   {
    "duration": 29,
    "start_time": "2023-03-06T14:55:11.469Z"
   },
   {
    "duration": 2451,
    "start_time": "2023-03-06T14:55:11.500Z"
   },
   {
    "duration": 3,
    "start_time": "2023-03-06T14:55:13.954Z"
   },
   {
    "duration": 1302,
    "start_time": "2023-03-06T14:55:13.959Z"
   },
   {
    "duration": 10,
    "start_time": "2023-03-06T14:55:15.263Z"
   },
   {
    "duration": 137,
    "start_time": "2023-03-06T14:55:15.274Z"
   },
   {
    "duration": 66,
    "start_time": "2023-03-06T14:55:15.413Z"
   },
   {
    "duration": 52,
    "start_time": "2023-03-06T14:55:15.480Z"
   },
   {
    "duration": 89,
    "start_time": "2023-03-06T14:55:15.533Z"
   },
   {
    "duration": 70,
    "start_time": "2023-03-06T14:55:15.625Z"
   },
   {
    "duration": 7,
    "start_time": "2023-03-06T14:55:15.697Z"
   },
   {
    "duration": 13,
    "start_time": "2023-03-06T14:55:15.706Z"
   },
   {
    "duration": 44,
    "start_time": "2023-03-06T14:55:15.721Z"
   },
   {
    "duration": 7,
    "start_time": "2023-03-06T14:55:15.766Z"
   },
   {
    "duration": 6,
    "start_time": "2023-03-06T14:55:15.775Z"
   },
   {
    "duration": 21,
    "start_time": "2023-03-06T14:55:15.783Z"
   },
   {
    "duration": 6,
    "start_time": "2023-03-06T14:55:15.806Z"
   },
   {
    "duration": 43,
    "start_time": "2023-03-06T14:55:15.814Z"
   },
   {
    "duration": 20,
    "start_time": "2023-03-06T14:55:15.860Z"
   },
   {
    "duration": 14,
    "start_time": "2023-03-06T14:55:15.882Z"
   },
   {
    "duration": 23,
    "start_time": "2023-03-06T14:55:15.897Z"
   },
   {
    "duration": 80,
    "start_time": "2023-03-06T14:55:15.922Z"
   },
   {
    "duration": 1680,
    "start_time": "2023-03-06T14:55:16.004Z"
   },
   {
    "duration": 114,
    "start_time": "2023-03-06T14:55:17.687Z"
   },
   {
    "duration": 101,
    "start_time": "2023-03-06T14:55:17.803Z"
   },
   {
    "duration": 15,
    "start_time": "2023-03-06T14:55:17.906Z"
   },
   {
    "duration": 32,
    "start_time": "2023-03-06T14:55:17.923Z"
   },
   {
    "duration": 4,
    "start_time": "2023-03-06T14:55:17.957Z"
   },
   {
    "duration": 407,
    "start_time": "2023-03-06T14:55:17.963Z"
   },
   {
    "duration": 12,
    "start_time": "2023-03-06T14:55:18.372Z"
   },
   {
    "duration": 4,
    "start_time": "2023-03-06T14:55:18.385Z"
   },
   {
    "duration": 25,
    "start_time": "2023-03-06T14:55:18.391Z"
   },
   {
    "duration": 3,
    "start_time": "2023-03-06T14:55:18.418Z"
   },
   {
    "duration": 108,
    "start_time": "2023-03-06T14:55:18.422Z"
   },
   {
    "duration": 126,
    "start_time": "2023-03-06T14:55:18.532Z"
   },
   {
    "duration": 7,
    "start_time": "2023-03-06T14:55:18.659Z"
   },
   {
    "duration": 27,
    "start_time": "2023-03-06T14:55:18.668Z"
   },
   {
    "duration": 237706,
    "start_time": "2023-03-06T14:55:18.697Z"
   },
   {
    "duration": 5577,
    "start_time": "2023-03-06T16:00:58.233Z"
   },
   {
    "duration": 2,
    "start_time": "2023-03-06T16:01:03.812Z"
   },
   {
    "duration": 211,
    "start_time": "2023-03-06T16:01:03.815Z"
   },
   {
    "duration": 25,
    "start_time": "2023-03-06T16:01:04.028Z"
   },
   {
    "duration": 23,
    "start_time": "2023-03-06T16:01:04.054Z"
   },
   {
    "duration": 18,
    "start_time": "2023-03-06T16:01:04.078Z"
   },
   {
    "duration": 45,
    "start_time": "2023-03-06T16:01:04.098Z"
   },
   {
    "duration": 14,
    "start_time": "2023-03-06T16:01:04.145Z"
   },
   {
    "duration": 4,
    "start_time": "2023-03-06T16:01:04.161Z"
   },
   {
    "duration": 29,
    "start_time": "2023-03-06T16:01:04.167Z"
   },
   {
    "duration": 2564,
    "start_time": "2023-03-06T16:01:04.198Z"
   },
   {
    "duration": 3,
    "start_time": "2023-03-06T16:01:06.764Z"
   },
   {
    "duration": 1268,
    "start_time": "2023-03-06T16:01:06.768Z"
   },
   {
    "duration": 17,
    "start_time": "2023-03-06T16:01:08.038Z"
   },
   {
    "duration": 100,
    "start_time": "2023-03-06T16:01:08.056Z"
   },
   {
    "duration": 64,
    "start_time": "2023-03-06T16:01:08.157Z"
   },
   {
    "duration": 59,
    "start_time": "2023-03-06T16:01:08.222Z"
   },
   {
    "duration": 59,
    "start_time": "2023-03-06T16:01:08.283Z"
   },
   {
    "duration": 54,
    "start_time": "2023-03-06T16:01:08.344Z"
   },
   {
    "duration": 7,
    "start_time": "2023-03-06T16:01:08.399Z"
   },
   {
    "duration": 21,
    "start_time": "2023-03-06T16:01:08.407Z"
   },
   {
    "duration": 26,
    "start_time": "2023-03-06T16:01:08.430Z"
   },
   {
    "duration": 23,
    "start_time": "2023-03-06T16:01:08.458Z"
   },
   {
    "duration": 11,
    "start_time": "2023-03-06T16:01:08.483Z"
   },
   {
    "duration": 21,
    "start_time": "2023-03-06T16:01:08.496Z"
   },
   {
    "duration": 9,
    "start_time": "2023-03-06T16:01:08.518Z"
   },
   {
    "duration": 8,
    "start_time": "2023-03-06T16:01:08.528Z"
   },
   {
    "duration": 24,
    "start_time": "2023-03-06T16:01:08.539Z"
   },
   {
    "duration": 6,
    "start_time": "2023-03-06T16:01:08.564Z"
   },
   {
    "duration": 21,
    "start_time": "2023-03-06T16:01:08.572Z"
   },
   {
    "duration": 66,
    "start_time": "2023-03-06T16:01:08.594Z"
   },
   {
    "duration": 1598,
    "start_time": "2023-03-06T16:01:08.661Z"
   },
   {
    "duration": 97,
    "start_time": "2023-03-06T16:01:10.261Z"
   },
   {
    "duration": 97,
    "start_time": "2023-03-06T16:01:10.360Z"
   },
   {
    "duration": 15,
    "start_time": "2023-03-06T16:01:10.458Z"
   },
   {
    "duration": 45,
    "start_time": "2023-03-06T16:01:10.474Z"
   },
   {
    "duration": 11,
    "start_time": "2023-03-06T16:01:10.521Z"
   },
   {
    "duration": 382,
    "start_time": "2023-03-06T16:01:10.534Z"
   },
   {
    "duration": 13,
    "start_time": "2023-03-06T16:01:10.917Z"
   },
   {
    "duration": 3,
    "start_time": "2023-03-06T16:01:10.931Z"
   },
   {
    "duration": 20,
    "start_time": "2023-03-06T16:01:10.935Z"
   },
   {
    "duration": 4,
    "start_time": "2023-03-06T16:01:10.956Z"
   },
   {
    "duration": 105,
    "start_time": "2023-03-06T16:01:10.961Z"
   },
   {
    "duration": 124,
    "start_time": "2023-03-06T16:01:11.067Z"
   },
   {
    "duration": 5,
    "start_time": "2023-03-06T16:01:11.193Z"
   },
   {
    "duration": 7,
    "start_time": "2023-03-06T16:01:11.199Z"
   },
   {
    "duration": 240718,
    "start_time": "2023-03-06T16:01:11.207Z"
   },
   {
    "duration": 7629,
    "start_time": "2023-03-06T18:03:08.682Z"
   },
   {
    "duration": 3,
    "start_time": "2023-03-06T18:03:16.314Z"
   },
   {
    "duration": 335,
    "start_time": "2023-03-06T18:03:16.319Z"
   },
   {
    "duration": 30,
    "start_time": "2023-03-06T18:03:16.656Z"
   },
   {
    "duration": 44,
    "start_time": "2023-03-06T18:03:16.689Z"
   },
   {
    "duration": 30,
    "start_time": "2023-03-06T18:03:16.735Z"
   },
   {
    "duration": 69,
    "start_time": "2023-03-06T18:03:16.766Z"
   },
   {
    "duration": 22,
    "start_time": "2023-03-06T18:03:16.837Z"
   },
   {
    "duration": 13,
    "start_time": "2023-03-06T18:03:16.867Z"
   },
   {
    "duration": 49,
    "start_time": "2023-03-06T18:03:16.885Z"
   },
   {
    "duration": 3341,
    "start_time": "2023-03-06T18:03:16.940Z"
   },
   {
    "duration": 8,
    "start_time": "2023-03-06T18:03:20.292Z"
   },
   {
    "duration": 1734,
    "start_time": "2023-03-06T18:03:20.306Z"
   },
   {
    "duration": 152,
    "start_time": "2023-03-06T18:03:22.045Z"
   },
   {
    "duration": 16,
    "start_time": "2023-03-06T18:03:22.204Z"
   },
   {
    "duration": 114,
    "start_time": "2023-03-06T18:03:22.222Z"
   },
   {
    "duration": 72,
    "start_time": "2023-03-06T18:03:22.338Z"
   },
   {
    "duration": 75,
    "start_time": "2023-03-06T18:03:22.411Z"
   },
   {
    "duration": 68,
    "start_time": "2023-03-06T18:03:22.488Z"
   },
   {
    "duration": 10,
    "start_time": "2023-03-06T18:03:22.558Z"
   },
   {
    "duration": 25,
    "start_time": "2023-03-06T18:03:22.570Z"
   },
   {
    "duration": 33,
    "start_time": "2023-03-06T18:03:22.597Z"
   },
   {
    "duration": 10,
    "start_time": "2023-03-06T18:03:22.632Z"
   },
   {
    "duration": 43,
    "start_time": "2023-03-06T18:03:22.643Z"
   },
   {
    "duration": 52,
    "start_time": "2023-03-06T18:03:22.688Z"
   },
   {
    "duration": 15,
    "start_time": "2023-03-06T18:03:22.745Z"
   },
   {
    "duration": 22,
    "start_time": "2023-03-06T18:03:22.763Z"
   },
   {
    "duration": 47,
    "start_time": "2023-03-06T18:03:22.789Z"
   },
   {
    "duration": 18,
    "start_time": "2023-03-06T18:03:22.842Z"
   },
   {
    "duration": 33,
    "start_time": "2023-03-06T18:03:22.862Z"
   },
   {
    "duration": 80,
    "start_time": "2023-03-06T18:03:22.901Z"
   },
   {
    "duration": 2544,
    "start_time": "2023-03-06T18:03:22.983Z"
   },
   {
    "duration": 166,
    "start_time": "2023-03-06T18:03:25.535Z"
   },
   {
    "duration": 161,
    "start_time": "2023-03-06T18:03:25.703Z"
   },
   {
    "duration": 29,
    "start_time": "2023-03-06T18:03:25.874Z"
   },
   {
    "duration": 27,
    "start_time": "2023-03-06T18:03:25.914Z"
   },
   {
    "duration": 4,
    "start_time": "2023-03-06T18:03:25.944Z"
   },
   {
    "duration": 687,
    "start_time": "2023-03-06T18:03:25.950Z"
   },
   {
    "duration": 32,
    "start_time": "2023-03-06T18:03:26.639Z"
   },
   {
    "duration": 6,
    "start_time": "2023-03-06T18:03:26.688Z"
   },
   {
    "duration": 13,
    "start_time": "2023-03-06T18:03:26.699Z"
   },
   {
    "duration": 5,
    "start_time": "2023-03-06T18:03:26.716Z"
   },
   {
    "duration": 159,
    "start_time": "2023-03-06T18:03:26.723Z"
   },
   {
    "duration": 178,
    "start_time": "2023-03-06T18:03:26.884Z"
   },
   {
    "duration": 8,
    "start_time": "2023-03-06T18:03:27.070Z"
   },
   {
    "duration": 4,
    "start_time": "2023-03-06T18:03:27.080Z"
   },
   {
    "duration": 332817,
    "start_time": "2023-03-06T18:03:27.086Z"
   },
   {
    "duration": 6203,
    "start_time": "2023-03-07T06:42:20.385Z"
   },
   {
    "duration": 2,
    "start_time": "2023-03-07T06:42:26.590Z"
   },
   {
    "duration": 854,
    "start_time": "2023-03-07T06:42:26.594Z"
   },
   {
    "duration": 21,
    "start_time": "2023-03-07T06:42:27.451Z"
   },
   {
    "duration": 22,
    "start_time": "2023-03-07T06:42:27.473Z"
   },
   {
    "duration": 15,
    "start_time": "2023-03-07T06:42:27.497Z"
   },
   {
    "duration": 21,
    "start_time": "2023-03-07T06:42:27.514Z"
   },
   {
    "duration": 31,
    "start_time": "2023-03-07T06:42:27.536Z"
   },
   {
    "duration": 4,
    "start_time": "2023-03-07T06:42:27.569Z"
   },
   {
    "duration": 33,
    "start_time": "2023-03-07T06:42:27.575Z"
   },
   {
    "duration": 2433,
    "start_time": "2023-03-07T06:42:27.609Z"
   },
   {
    "duration": 4,
    "start_time": "2023-03-07T06:42:30.044Z"
   },
   {
    "duration": 1226,
    "start_time": "2023-03-07T06:42:30.050Z"
   },
   {
    "duration": 10,
    "start_time": "2023-03-07T06:42:31.278Z"
   },
   {
    "duration": 121,
    "start_time": "2023-03-07T06:42:31.290Z"
   },
   {
    "duration": 73,
    "start_time": "2023-03-07T06:42:31.413Z"
   },
   {
    "duration": 49,
    "start_time": "2023-03-07T06:42:31.488Z"
   },
   {
    "duration": 73,
    "start_time": "2023-03-07T06:42:31.539Z"
   },
   {
    "duration": 54,
    "start_time": "2023-03-07T06:42:31.613Z"
   },
   {
    "duration": 8,
    "start_time": "2023-03-07T06:42:31.669Z"
   },
   {
    "duration": 31,
    "start_time": "2023-03-07T06:42:31.678Z"
   },
   {
    "duration": 28,
    "start_time": "2023-03-07T06:42:31.711Z"
   },
   {
    "duration": 30,
    "start_time": "2023-03-07T06:42:31.740Z"
   },
   {
    "duration": 14,
    "start_time": "2023-03-07T06:42:31.771Z"
   },
   {
    "duration": 36,
    "start_time": "2023-03-07T06:42:31.787Z"
   },
   {
    "duration": 9,
    "start_time": "2023-03-07T06:42:31.824Z"
   },
   {
    "duration": 15,
    "start_time": "2023-03-07T06:42:31.835Z"
   },
   {
    "duration": 21,
    "start_time": "2023-03-07T06:42:31.854Z"
   },
   {
    "duration": 10,
    "start_time": "2023-03-07T06:42:31.876Z"
   },
   {
    "duration": 42,
    "start_time": "2023-03-07T06:42:31.888Z"
   },
   {
    "duration": 52,
    "start_time": "2023-03-07T06:42:31.932Z"
   },
   {
    "duration": 1575,
    "start_time": "2023-03-07T06:42:31.986Z"
   },
   {
    "duration": 103,
    "start_time": "2023-03-07T06:42:33.563Z"
   },
   {
    "duration": 103,
    "start_time": "2023-03-07T06:42:33.667Z"
   },
   {
    "duration": 15,
    "start_time": "2023-03-07T06:42:33.772Z"
   },
   {
    "duration": 57,
    "start_time": "2023-03-07T06:42:33.789Z"
   },
   {
    "duration": 50,
    "start_time": "2023-03-07T06:42:33.847Z"
   },
   {
    "duration": 403,
    "start_time": "2023-03-07T06:42:33.898Z"
   },
   {
    "duration": 13,
    "start_time": "2023-03-07T06:42:34.303Z"
   },
   {
    "duration": 3,
    "start_time": "2023-03-07T06:42:34.318Z"
   },
   {
    "duration": 9,
    "start_time": "2023-03-07T06:42:34.323Z"
   },
   {
    "duration": 3,
    "start_time": "2023-03-07T06:42:34.334Z"
   },
   {
    "duration": 107,
    "start_time": "2023-03-07T06:42:34.354Z"
   },
   {
    "duration": 140,
    "start_time": "2023-03-07T06:42:34.463Z"
   },
   {
    "duration": 6,
    "start_time": "2023-03-07T06:42:34.605Z"
   },
   {
    "duration": 5,
    "start_time": "2023-03-07T06:42:34.612Z"
   },
   {
    "duration": 230156,
    "start_time": "2023-03-07T06:42:34.618Z"
   },
   {
    "duration": 6733127,
    "start_time": "2023-03-07T06:46:24.776Z"
   },
   {
    "duration": 104957,
    "start_time": "2023-03-07T08:38:37.905Z"
   },
   {
    "duration": 5,
    "start_time": "2023-03-07T08:40:22.864Z"
   },
   {
    "duration": 113,
    "start_time": "2023-03-07T08:40:22.871Z"
   },
   {
    "duration": 0,
    "start_time": "2023-03-07T08:40:22.987Z"
   },
   {
    "duration": 0,
    "start_time": "2023-03-07T08:40:22.988Z"
   },
   {
    "duration": 0,
    "start_time": "2023-03-07T08:40:22.989Z"
   },
   {
    "duration": 0,
    "start_time": "2023-03-07T08:40:22.991Z"
   },
   {
    "duration": 0,
    "start_time": "2023-03-07T08:40:22.992Z"
   },
   {
    "duration": 0,
    "start_time": "2023-03-07T08:40:22.993Z"
   },
   {
    "duration": 0,
    "start_time": "2023-03-07T08:40:22.995Z"
   },
   {
    "duration": 0,
    "start_time": "2023-03-07T08:40:22.996Z"
   },
   {
    "duration": 0,
    "start_time": "2023-03-07T08:40:22.997Z"
   },
   {
    "duration": 0,
    "start_time": "2023-03-07T08:40:22.999Z"
   },
   {
    "duration": 0,
    "start_time": "2023-03-07T08:40:23.000Z"
   },
   {
    "duration": 0,
    "start_time": "2023-03-07T08:40:23.002Z"
   },
   {
    "duration": 42,
    "start_time": "2023-03-07T08:51:20.085Z"
   },
   {
    "duration": 13,
    "start_time": "2023-03-07T08:56:15.621Z"
   },
   {
    "duration": 4273,
    "start_time": "2023-03-07T08:59:05.396Z"
   },
   {
    "duration": 3,
    "start_time": "2023-03-07T08:59:09.671Z"
   },
   {
    "duration": 188,
    "start_time": "2023-03-07T08:59:09.676Z"
   },
   {
    "duration": 16,
    "start_time": "2023-03-07T08:59:09.866Z"
   },
   {
    "duration": 36,
    "start_time": "2023-03-07T08:59:09.884Z"
   },
   {
    "duration": 15,
    "start_time": "2023-03-07T08:59:09.922Z"
   },
   {
    "duration": 27,
    "start_time": "2023-03-07T08:59:09.939Z"
   },
   {
    "duration": 9,
    "start_time": "2023-03-07T08:59:09.968Z"
   },
   {
    "duration": 21,
    "start_time": "2023-03-07T08:59:09.978Z"
   },
   {
    "duration": 31,
    "start_time": "2023-03-07T08:59:10.002Z"
   },
   {
    "duration": 2454,
    "start_time": "2023-03-07T08:59:10.034Z"
   },
   {
    "duration": 3,
    "start_time": "2023-03-07T08:59:12.490Z"
   },
   {
    "duration": 1253,
    "start_time": "2023-03-07T08:59:12.494Z"
   },
   {
    "duration": 15,
    "start_time": "2023-03-07T08:59:13.750Z"
   },
   {
    "duration": 9,
    "start_time": "2023-03-07T08:59:13.766Z"
   },
   {
    "duration": 86,
    "start_time": "2023-03-07T08:59:13.777Z"
   },
   {
    "duration": 51,
    "start_time": "2023-03-07T08:59:13.864Z"
   },
   {
    "duration": 82,
    "start_time": "2023-03-07T08:59:13.916Z"
   },
   {
    "duration": 45,
    "start_time": "2023-03-07T08:59:13.999Z"
   },
   {
    "duration": 6,
    "start_time": "2023-03-07T08:59:14.055Z"
   },
   {
    "duration": 11,
    "start_time": "2023-03-07T08:59:14.063Z"
   },
   {
    "duration": 17,
    "start_time": "2023-03-07T08:59:14.076Z"
   },
   {
    "duration": 13,
    "start_time": "2023-03-07T08:59:14.094Z"
   },
   {
    "duration": 7,
    "start_time": "2023-03-07T08:59:14.108Z"
   },
   {
    "duration": 42,
    "start_time": "2023-03-07T08:59:14.117Z"
   },
   {
    "duration": 6,
    "start_time": "2023-03-07T08:59:14.161Z"
   },
   {
    "duration": 9,
    "start_time": "2023-03-07T08:59:14.168Z"
   },
   {
    "duration": 19,
    "start_time": "2023-03-07T08:59:14.181Z"
   },
   {
    "duration": 6,
    "start_time": "2023-03-07T08:59:14.202Z"
   },
   {
    "duration": 48,
    "start_time": "2023-03-07T08:59:14.209Z"
   },
   {
    "duration": 55,
    "start_time": "2023-03-07T08:59:14.258Z"
   },
   {
    "duration": 1710,
    "start_time": "2023-03-07T08:59:14.314Z"
   },
   {
    "duration": 102,
    "start_time": "2023-03-07T08:59:16.026Z"
   },
   {
    "duration": 105,
    "start_time": "2023-03-07T08:59:16.129Z"
   },
   {
    "duration": 19,
    "start_time": "2023-03-07T08:59:16.236Z"
   },
   {
    "duration": 12,
    "start_time": "2023-03-07T08:59:16.257Z"
   },
   {
    "duration": 11,
    "start_time": "2023-03-07T08:59:16.271Z"
   },
   {
    "duration": 409,
    "start_time": "2023-03-07T08:59:16.284Z"
   },
   {
    "duration": 14,
    "start_time": "2023-03-07T08:59:16.695Z"
   },
   {
    "duration": 9,
    "start_time": "2023-03-07T08:59:16.710Z"
   },
   {
    "duration": 14,
    "start_time": "2023-03-07T08:59:16.721Z"
   },
   {
    "duration": 13,
    "start_time": "2023-03-07T08:59:16.736Z"
   },
   {
    "duration": 108,
    "start_time": "2023-03-07T08:59:16.750Z"
   },
   {
    "duration": 117,
    "start_time": "2023-03-07T08:59:16.860Z"
   },
   {
    "duration": 5,
    "start_time": "2023-03-07T08:59:16.978Z"
   },
   {
    "duration": 7,
    "start_time": "2023-03-07T08:59:16.985Z"
   },
   {
    "duration": 7,
    "start_time": "2023-03-07T08:59:16.993Z"
   },
   {
    "duration": 7,
    "start_time": "2023-03-07T08:59:17.002Z"
   },
   {
    "duration": 43277,
    "start_time": "2023-03-07T08:59:17.011Z"
   },
   {
    "duration": 5,
    "start_time": "2023-03-07T09:00:00.290Z"
   },
   {
    "duration": 37,
    "start_time": "2023-03-07T09:00:00.297Z"
   },
   {
    "duration": 17,
    "start_time": "2023-03-07T09:00:00.336Z"
   },
   {
    "duration": 43,
    "start_time": "2023-03-07T09:00:00.354Z"
   },
   {
    "duration": 25,
    "start_time": "2023-03-07T09:00:00.399Z"
   },
   {
    "duration": 27,
    "start_time": "2023-03-07T09:00:00.425Z"
   },
   {
    "duration": 455,
    "start_time": "2023-03-07T09:00:00.453Z"
   },
   {
    "duration": 459,
    "start_time": "2023-03-07T09:00:00.910Z"
   },
   {
    "duration": 4,
    "start_time": "2023-03-07T09:00:01.370Z"
   },
   {
    "duration": 32,
    "start_time": "2023-03-07T09:00:01.376Z"
   },
   {
    "duration": 91,
    "start_time": "2023-03-07T09:00:01.409Z"
   },
   {
    "duration": 6,
    "start_time": "2023-03-07T09:00:01.502Z"
   },
   {
    "duration": 100,
    "start_time": "2023-03-07T09:00:01.509Z"
   },
   {
    "duration": 26,
    "start_time": "2023-03-07T09:00:01.611Z"
   },
   {
    "duration": 4,
    "start_time": "2023-03-07T09:01:29.457Z"
   },
   {
    "duration": 4,
    "start_time": "2023-03-07T09:01:31.710Z"
   },
   {
    "duration": 4,
    "start_time": "2023-03-07T09:01:42.623Z"
   },
   {
    "duration": 5,
    "start_time": "2023-03-07T09:01:48.045Z"
   },
   {
    "duration": 10,
    "start_time": "2023-03-07T09:03:17.201Z"
   },
   {
    "duration": 10,
    "start_time": "2023-03-07T09:05:55.297Z"
   },
   {
    "duration": 10,
    "start_time": "2023-03-07T09:06:36.993Z"
   },
   {
    "duration": 9,
    "start_time": "2023-03-07T09:06:42.992Z"
   },
   {
    "duration": 19,
    "start_time": "2023-03-07T09:08:46.208Z"
   },
   {
    "duration": 12,
    "start_time": "2023-03-07T09:09:31.110Z"
   },
   {
    "duration": 69,
    "start_time": "2023-03-07T09:10:24.051Z"
   },
   {
    "duration": 12576,
    "start_time": "2023-03-08T06:33:06.223Z"
   },
   {
    "duration": 3,
    "start_time": "2023-03-08T06:33:18.801Z"
   },
   {
    "duration": 930,
    "start_time": "2023-03-08T06:33:18.806Z"
   },
   {
    "duration": 25,
    "start_time": "2023-03-08T06:33:19.738Z"
   },
   {
    "duration": 34,
    "start_time": "2023-03-08T06:33:19.765Z"
   },
   {
    "duration": 21,
    "start_time": "2023-03-08T06:33:19.804Z"
   },
   {
    "duration": 30,
    "start_time": "2023-03-08T06:33:19.842Z"
   },
   {
    "duration": 14,
    "start_time": "2023-03-08T06:33:19.874Z"
   },
   {
    "duration": 4,
    "start_time": "2023-03-08T06:33:19.890Z"
   },
   {
    "duration": 74,
    "start_time": "2023-03-08T06:33:19.897Z"
   },
   {
    "duration": 3149,
    "start_time": "2023-03-08T06:33:19.973Z"
   },
   {
    "duration": 4,
    "start_time": "2023-03-08T06:33:23.124Z"
   },
   {
    "duration": 1553,
    "start_time": "2023-03-08T06:33:23.130Z"
   },
   {
    "duration": 10,
    "start_time": "2023-03-08T06:33:24.685Z"
   },
   {
    "duration": 131,
    "start_time": "2023-03-08T06:33:24.698Z"
   },
   {
    "duration": 82,
    "start_time": "2023-03-08T06:33:24.831Z"
   },
   {
    "duration": 74,
    "start_time": "2023-03-08T06:33:24.914Z"
   },
   {
    "duration": 86,
    "start_time": "2023-03-08T06:33:24.990Z"
   },
   {
    "duration": 66,
    "start_time": "2023-03-08T06:33:25.078Z"
   },
   {
    "duration": 13,
    "start_time": "2023-03-08T06:33:25.147Z"
   },
   {
    "duration": 15,
    "start_time": "2023-03-08T06:33:25.162Z"
   },
   {
    "duration": 47,
    "start_time": "2023-03-08T06:33:25.179Z"
   },
   {
    "duration": 21,
    "start_time": "2023-03-08T06:33:25.228Z"
   },
   {
    "duration": 17,
    "start_time": "2023-03-08T06:33:25.251Z"
   },
   {
    "duration": 29,
    "start_time": "2023-03-08T06:33:25.270Z"
   },
   {
    "duration": 14,
    "start_time": "2023-03-08T06:33:25.300Z"
   },
   {
    "duration": 11,
    "start_time": "2023-03-08T06:33:25.316Z"
   },
   {
    "duration": 24,
    "start_time": "2023-03-08T06:33:25.343Z"
   },
   {
    "duration": 16,
    "start_time": "2023-03-08T06:33:25.369Z"
   },
   {
    "duration": 54,
    "start_time": "2023-03-08T06:33:25.387Z"
   },
   {
    "duration": 63,
    "start_time": "2023-03-08T06:33:25.443Z"
   },
   {
    "duration": 2167,
    "start_time": "2023-03-08T06:33:25.509Z"
   },
   {
    "duration": 185,
    "start_time": "2023-03-08T06:33:27.678Z"
   },
   {
    "duration": 118,
    "start_time": "2023-03-08T06:33:27.865Z"
   },
   {
    "duration": 18,
    "start_time": "2023-03-08T06:33:27.985Z"
   },
   {
    "duration": 14,
    "start_time": "2023-03-08T06:33:28.005Z"
   },
   {
    "duration": 4,
    "start_time": "2023-03-08T06:33:28.042Z"
   },
   {
    "duration": 516,
    "start_time": "2023-03-08T06:33:28.047Z"
   },
   {
    "duration": 14,
    "start_time": "2023-03-08T06:33:28.565Z"
   },
   {
    "duration": 5,
    "start_time": "2023-03-08T06:33:28.580Z"
   },
   {
    "duration": 10,
    "start_time": "2023-03-08T06:33:28.586Z"
   },
   {
    "duration": 10,
    "start_time": "2023-03-08T06:33:28.598Z"
   },
   {
    "duration": 162,
    "start_time": "2023-03-08T06:33:28.610Z"
   },
   {
    "duration": 164,
    "start_time": "2023-03-08T06:33:28.773Z"
   },
   {
    "duration": 6,
    "start_time": "2023-03-08T06:33:28.939Z"
   },
   {
    "duration": 5,
    "start_time": "2023-03-08T06:33:28.946Z"
   },
   {
    "duration": 15,
    "start_time": "2023-03-08T06:33:28.953Z"
   },
   {
    "duration": 5,
    "start_time": "2023-03-08T06:33:28.969Z"
   },
   {
    "duration": 5366,
    "start_time": "2023-03-08T06:38:10.562Z"
   },
   {
    "duration": 4,
    "start_time": "2023-03-08T06:38:17.098Z"
   },
   {
    "duration": 255,
    "start_time": "2023-03-08T06:38:19.359Z"
   },
   {
    "duration": 27,
    "start_time": "2023-03-08T06:38:22.512Z"
   },
   {
    "duration": 34,
    "start_time": "2023-03-08T06:38:39.615Z"
   },
   {
    "duration": 8,
    "start_time": "2023-03-08T06:39:01.983Z"
   },
   {
    "duration": 25,
    "start_time": "2023-03-08T06:39:17.158Z"
   },
   {
    "duration": 8,
    "start_time": "2023-03-08T06:39:24.304Z"
   },
   {
    "duration": 71,
    "start_time": "2023-03-08T06:39:38.574Z"
   },
   {
    "duration": 15,
    "start_time": "2023-03-08T06:39:48.478Z"
   },
   {
    "duration": 24,
    "start_time": "2023-03-08T06:39:56.119Z"
   },
   {
    "duration": 42,
    "start_time": "2023-03-08T06:40:29.444Z"
   },
   {
    "duration": 8,
    "start_time": "2023-03-08T06:40:40.860Z"
   },
   {
    "duration": 33,
    "start_time": "2023-03-08T06:40:44.538Z"
   },
   {
    "duration": 19,
    "start_time": "2023-03-08T06:41:58.402Z"
   },
   {
    "duration": 24,
    "start_time": "2023-03-08T06:43:29.448Z"
   },
   {
    "duration": 5,
    "start_time": "2023-03-08T06:43:43.777Z"
   },
   {
    "duration": 498,
    "start_time": "2023-03-08T06:44:02.865Z"
   },
   {
    "duration": 6,
    "start_time": "2023-03-08T06:44:08.779Z"
   },
   {
    "duration": 10,
    "start_time": "2023-03-08T06:44:20.528Z"
   },
   {
    "duration": 166,
    "start_time": "2023-03-08T06:44:28.108Z"
   },
   {
    "duration": 155,
    "start_time": "2023-03-08T06:44:36.001Z"
   },
   {
    "duration": 6672,
    "start_time": "2023-03-08T06:54:13.346Z"
   },
   {
    "duration": 2,
    "start_time": "2023-03-08T06:54:20.020Z"
   },
   {
    "duration": 258,
    "start_time": "2023-03-08T06:54:20.024Z"
   },
   {
    "duration": 25,
    "start_time": "2023-03-08T06:54:20.284Z"
   },
   {
    "duration": 36,
    "start_time": "2023-03-08T06:54:20.310Z"
   },
   {
    "duration": 18,
    "start_time": "2023-03-08T06:54:20.347Z"
   },
   {
    "duration": 34,
    "start_time": "2023-03-08T06:54:20.366Z"
   },
   {
    "duration": 15,
    "start_time": "2023-03-08T06:54:20.402Z"
   },
   {
    "duration": 4,
    "start_time": "2023-03-08T06:54:20.419Z"
   },
   {
    "duration": 49,
    "start_time": "2023-03-08T06:54:20.425Z"
   },
   {
    "duration": 2846,
    "start_time": "2023-03-08T06:54:20.476Z"
   },
   {
    "duration": 3,
    "start_time": "2023-03-08T06:54:23.324Z"
   },
   {
    "duration": 1354,
    "start_time": "2023-03-08T06:54:23.329Z"
   },
   {
    "duration": 9,
    "start_time": "2023-03-08T06:54:24.685Z"
   },
   {
    "duration": 113,
    "start_time": "2023-03-08T06:54:24.696Z"
   },
   {
    "duration": 90,
    "start_time": "2023-03-08T06:54:24.811Z"
   },
   {
    "duration": 66,
    "start_time": "2023-03-08T06:54:24.903Z"
   },
   {
    "duration": 70,
    "start_time": "2023-03-08T06:54:24.971Z"
   },
   {
    "duration": 52,
    "start_time": "2023-03-08T06:54:25.043Z"
   },
   {
    "duration": 7,
    "start_time": "2023-03-08T06:54:25.096Z"
   },
   {
    "duration": 17,
    "start_time": "2023-03-08T06:54:25.105Z"
   },
   {
    "duration": 18,
    "start_time": "2023-03-08T06:54:25.142Z"
   },
   {
    "duration": 9,
    "start_time": "2023-03-08T06:54:25.162Z"
   },
   {
    "duration": 9,
    "start_time": "2023-03-08T06:54:25.173Z"
   },
   {
    "duration": 49,
    "start_time": "2023-03-08T06:54:25.183Z"
   },
   {
    "duration": 10,
    "start_time": "2023-03-08T06:54:25.233Z"
   },
   {
    "duration": 9,
    "start_time": "2023-03-08T06:54:25.245Z"
   },
   {
    "duration": 21,
    "start_time": "2023-03-08T06:54:25.258Z"
   },
   {
    "duration": 7,
    "start_time": "2023-03-08T06:54:25.281Z"
   },
   {
    "duration": 81,
    "start_time": "2023-03-08T06:54:25.290Z"
   },
   {
    "duration": 1783,
    "start_time": "2023-03-08T06:54:25.373Z"
   },
   {
    "duration": 132,
    "start_time": "2023-03-08T06:54:27.158Z"
   },
   {
    "duration": 142,
    "start_time": "2023-03-08T06:54:27.292Z"
   },
   {
    "duration": 23,
    "start_time": "2023-03-08T06:54:27.442Z"
   },
   {
    "duration": 19,
    "start_time": "2023-03-08T06:54:27.467Z"
   },
   {
    "duration": 5,
    "start_time": "2023-03-08T06:54:27.488Z"
   },
   {
    "duration": 491,
    "start_time": "2023-03-08T06:54:27.495Z"
   },
   {
    "duration": 17,
    "start_time": "2023-03-08T06:54:27.987Z"
   },
   {
    "duration": 5,
    "start_time": "2023-03-08T06:54:28.006Z"
   },
   {
    "duration": 34,
    "start_time": "2023-03-08T06:54:28.013Z"
   },
   {
    "duration": 6,
    "start_time": "2023-03-08T06:54:28.049Z"
   },
   {
    "duration": 146,
    "start_time": "2023-03-08T06:54:28.056Z"
   },
   {
    "duration": 156,
    "start_time": "2023-03-08T06:54:28.204Z"
   },
   {
    "duration": 7,
    "start_time": "2023-03-08T06:54:28.362Z"
   },
   {
    "duration": 4,
    "start_time": "2023-03-08T06:54:28.371Z"
   },
   {
    "duration": 6,
    "start_time": "2023-03-08T06:54:28.376Z"
   },
   {
    "duration": 4,
    "start_time": "2023-03-08T06:54:28.384Z"
   },
   {
    "duration": 50403,
    "start_time": "2023-03-08T06:54:28.390Z"
   },
   {
    "duration": 7,
    "start_time": "2023-03-08T06:55:18.794Z"
   },
   {
    "duration": 21,
    "start_time": "2023-03-08T06:55:18.802Z"
   },
   {
    "duration": 17,
    "start_time": "2023-03-08T06:55:18.824Z"
   },
   {
    "duration": 19,
    "start_time": "2023-03-08T06:55:18.843Z"
   },
   {
    "duration": 3,
    "start_time": "2023-03-08T06:55:18.864Z"
   },
   {
    "duration": 8,
    "start_time": "2023-03-08T06:55:18.869Z"
   },
   {
    "duration": 473,
    "start_time": "2023-03-08T06:55:18.878Z"
   },
   {
    "duration": 530,
    "start_time": "2023-03-08T06:55:19.353Z"
   },
   {
    "duration": 5,
    "start_time": "2023-03-08T06:55:19.885Z"
   },
   {
    "duration": 6,
    "start_time": "2023-03-08T06:55:19.891Z"
   },
   {
    "duration": 69,
    "start_time": "2023-03-08T06:55:19.899Z"
   },
   {
    "duration": 5,
    "start_time": "2023-03-08T06:55:19.969Z"
   },
   {
    "duration": 40,
    "start_time": "2023-03-08T06:55:19.975Z"
   }
  ],
  "kernelspec": {
   "display_name": "Python 3 (ipykernel)",
   "language": "python",
   "name": "python3"
  },
  "language_info": {
   "codemirror_mode": {
    "name": "ipython",
    "version": 3
   },
   "file_extension": ".py",
   "mimetype": "text/x-python",
   "name": "python",
   "nbconvert_exporter": "python",
   "pygments_lexer": "ipython3",
   "version": "3.9.12"
  },
  "toc": {
   "base_numbering": 1,
   "nav_menu": {},
   "number_sections": true,
   "sideBar": true,
   "skip_h1_title": true,
   "title_cell": "Table of Contents",
   "title_sidebar": "Contents",
   "toc_cell": false,
   "toc_position": {},
   "toc_section_display": true,
   "toc_window_display": false
  }
 },
 "nbformat": 4,
 "nbformat_minor": 2
}
